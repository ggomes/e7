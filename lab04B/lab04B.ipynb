{
 "cells": [
  {
   "cell_type": "code",
   "execution_count": null,
   "metadata": {
    "deletable": false,
    "editable": false
   },
   "outputs": [],
   "source": [
    "# Initialize Otter\n",
    "import otter\n",
    "grader = otter.Notebook(\"lab04B.ipynb\")"
   ]
  },
  {
   "cell_type": "markdown",
   "metadata": {},
   "source": [
    "---\n",
    "\n",
    "<h3><center>E7 -  Introduction to Programming for Scientists and Engineers</center></h3>\n",
    "\n",
    "<h2><center>Lab session #04-B <br></center></h2>\n",
    "\n",
    "<h1><center>Reading from and writing to files<br></center></h1>\n",
    "\n",
    "---"
   ]
  },
  {
   "cell_type": "code",
   "execution_count": null,
   "metadata": {
    "execution": {
     "iopub.execute_input": "2024-02-14T04:28:05.618541Z",
     "iopub.status.busy": "2024-02-14T04:28:05.618013Z",
     "iopub.status.idle": "2024-02-14T04:28:05.690178Z",
     "shell.execute_reply": "2024-02-14T04:28:05.689693Z"
    },
    "id": "PmQ0-tpz9u7g",
    "tags": []
   },
   "outputs": [],
   "source": [
    "from resources.hashutils import *\n",
    "from pathlib import Path\n",
    "import numpy as np\n",
    "import csv"
   ]
  },
  {
   "cell_type": "markdown",
   "metadata": {},
   "source": [
    "## Question 1: The `pathlib` module\n"
   ]
  },
  {
   "cell_type": "markdown",
   "metadata": {
    "deletable": false,
    "editable": false,
    "id": "m1IUkyzN9u7h"
   },
   "source": [
    "## Question 1.1\n",
    "\n",
    "Use the `pathlib` module to create the folder structure shown below. \n",
    "\n",
    "<img src=\"resources/dir_tree.png\" width=\"150\" />\n",
    "\n",
    "Here \"cwd\" refers to the current working directory, returned by `Path.cwd()`. `d1` and `d2` are directories. `f1.txt`, `f1.csv`, and `f2.csv` are empty files. \n",
    "\n",
    "**Hints**:\n",
    "+ Create a directory with [`Path.mkdir()`](https://docs.python.org/3/library/pathlib.html#pathlib.Path.mkdir)\n",
    "+ Create a file with [`Path.touch()`](https://docs.python.org/3/library/pathlib.html#pathlib.Path.touch)\n",
    "+ Make sure that a Path does not exist (using [`Path.exists()`](https://docs.python.org/3/library/pathlib.html#pathlib.Path.exists)) before calling `mkdir()` or `touch()`."
   ]
  },
  {
   "cell_type": "code",
   "execution_count": null,
   "metadata": {
    "execution": {
     "iopub.execute_input": "2024-02-14T04:28:05.693280Z",
     "iopub.status.busy": "2024-02-14T04:28:05.692895Z",
     "iopub.status.idle": "2024-02-14T04:28:05.700174Z",
     "shell.execute_reply": "2024-02-14T04:28:05.699817Z"
    },
    "tags": []
   },
   "outputs": [],
   "source": [
    "..."
   ]
  },
  {
   "cell_type": "code",
   "execution_count": null,
   "metadata": {
    "deletable": false,
    "editable": false
   },
   "outputs": [],
   "source": [
    "grader.check(\"q1p1\")"
   ]
  },
  {
   "cell_type": "markdown",
   "metadata": {
    "deletable": false,
    "editable": false
   },
   "source": [
    "## Question 1.2\n",
    "\n",
    "Write a function called `count_file_types` that takes as input a folder (a `Path` object), and returns a dictionary with the number of files of each type in the folder. That is, if the folder contains 2 txt files and 3 pdf files, then the returned dictionary will be\n",
    "```python\n",
    "{'.txt':2, '.pdf':3}\n",
    "```\n",
    "**Hints**:\n",
    "+ Use `for p in folder.iterdir()` to iterate through the items in the folder. \n",
    "+ Use `is_file()` to check that an item is a file (and not a subdirectory).\n",
    "+ Get a file's extension with `p.suffix`.\n",
    "+ Check whether a string `a` is a key in a dictionary `A` with `a in A.keys()`."
   ]
  },
  {
   "cell_type": "code",
   "execution_count": null,
   "metadata": {
    "execution": {
     "iopub.execute_input": "2024-02-14T04:28:05.746493Z",
     "iopub.status.busy": "2024-02-14T04:28:05.746295Z",
     "iopub.status.idle": "2024-02-14T04:28:05.750294Z",
     "shell.execute_reply": "2024-02-14T04:28:05.749963Z"
    },
    "tags": []
   },
   "outputs": [],
   "source": [
    "def count_file_types(directory):\n",
    "    pass"
   ]
  },
  {
   "cell_type": "code",
   "execution_count": null,
   "metadata": {
    "execution": {
     "iopub.execute_input": "2024-02-14T04:28:05.752086Z",
     "iopub.status.busy": "2024-02-14T04:28:05.751831Z",
     "iopub.status.idle": "2024-02-14T04:28:05.754954Z",
     "shell.execute_reply": "2024-02-14T04:28:05.754620Z"
    },
    "tags": []
   },
   "outputs": [],
   "source": [
    "# Test your code on the resources folder for this lab.\n",
    "# This folder contains 1 .py file, 2 .csv files, and 3 .png files.\n",
    "count_file_types(Path.cwd()/'resources')"
   ]
  },
  {
   "cell_type": "code",
   "execution_count": null,
   "metadata": {
    "deletable": false,
    "editable": false
   },
   "outputs": [],
   "source": [
    "grader.check(\"q1p2\")"
   ]
  },
  {
   "cell_type": "markdown",
   "metadata": {},
   "source": [
    "## Question 2: The `csv` module\n",
    "\n",
    "In this problem we will use the `csv` module to extract information from a file containing a list of the 1,000 largest cities in the world. Loading the file into a spreadsheet program (like Excel) we can see the first few rows of the table:\n",
    "\n",
    "<img src=\"resources/cities.png\" width=\"600\" />\n",
    "\n",
    "The first line of the file is the header line -- we will skip that line when processing the file. The columns of the table are the city's name, its lat/lng coordinates, its country, and population.\n",
    "\n",
    "Our task is a little bit strange. We are given an integer `x` and we must find the number of cities whose population is a multiple of `x`. That is, for whom the poulation mod `x` equals zero. With `x=8` (spoiler alert!) the result turns out to be 315. That is, 315 out of the 1,000 largest cities have a population that is a multiple of 8. Tokyo is one of them, since 37,732,000 / 8 is a whole number. \n",
    "\n",
    "Implement this in a function called `population_is_multiple_of` that takes `x` as input, and returns an integer.\n",
    "\n",
    "**Hint**\n",
    "+ Use `next(csv_reader)` to skip the header line. "
   ]
  },
  {
   "cell_type": "code",
   "execution_count": null,
   "metadata": {
    "execution": {
     "iopub.execute_input": "2024-02-14T04:28:05.767892Z",
     "iopub.status.busy": "2024-02-14T04:28:05.767635Z",
     "iopub.status.idle": "2024-02-14T04:28:05.771860Z",
     "shell.execute_reply": "2024-02-14T04:28:05.771523Z"
    },
    "tags": []
   },
   "outputs": [],
   "source": [
    "def population_is_multiple_of(x):\n",
    "    inputfile = Path.cwd()/'resources'/'1000cities.csv' \n",
    "    num_cities = 0    # counter for cities with population that is multiple of x\n",
    "    with open(inputfile,...) as f:\n",
    "        ...  # write code to iterate through the file, \n",
    "             # counting up num_cities\n",
    "    return num_cities"
   ]
  },
  {
   "cell_type": "code",
   "execution_count": null,
   "metadata": {
    "execution": {
     "iopub.execute_input": "2024-02-14T04:28:05.773672Z",
     "iopub.status.busy": "2024-02-14T04:28:05.773416Z",
     "iopub.status.idle": "2024-02-14T04:28:05.785853Z",
     "shell.execute_reply": "2024-02-14T04:28:05.785499Z"
    },
    "tags": []
   },
   "outputs": [],
   "source": [
    "# Use this to check your result. You should get 315\n",
    "population_is_multiple_of(8)"
   ]
  },
  {
   "cell_type": "code",
   "execution_count": null,
   "metadata": {
    "deletable": false,
    "editable": false
   },
   "outputs": [],
   "source": [
    "grader.check(\"q2\")"
   ]
  },
  {
   "cell_type": "markdown",
   "metadata": {},
   "source": [
    "# Question 3: Reading and writing files with NumPy\n",
    "\n",
    "In Question 2 we used the `csv` package because the data that we were loading contained both strings (cities and countries) and numbers (lat, lng, population). We can use the simpler method provided by NumPy when the data is purely numerical. This is what we do in this part."
   ]
  },
  {
   "cell_type": "markdown",
   "metadata": {
    "deletable": false,
    "editable": false
   },
   "source": [
    "## Question 3.1: Read a dataset using NumPy\n",
    "\n",
    "The dataset concerns [smoke detection using ambient air sensors](https://www.kaggle.com/datasets/gauravduttakiit/sensorfusion-smoke-detection-classification), and it consists of measurements of temperature, humidity, pressure, and the presence of various gases and compounds. The data file is called `air_data.csv`; it is in the `resources` folder.  Here is a snapshot of the first few rows:\n",
    "\n",
    "<img src=\"resources/air.png\" width=\"1400\" />\n",
    "\n",
    "Notice that all of the columns are numerical, and hence this is a good candidate for NumPy. Notice also that the first row is a header. \n",
    "\n",
    "Your first task is simply to load the data (ignoring the header) into a single two-dimensional NumPy array called `air_data`. This can be accomplished with a single-line call to [`np.loadtxt`](https://numpy.org/doc/stable/reference/generated/numpy.loadtxt.html), by using the input parameters to a) set the delimiter to a comma, and b) skip the first row. Please consult the documentation for [`np.loadtxt`](https://numpy.org/doc/stable/reference/generated/numpy.loadtxt.html) on how to do this.\n",
    "\n",
    "\n"
   ]
  },
  {
   "cell_type": "code",
   "execution_count": null,
   "metadata": {
    "execution": {
     "iopub.execute_input": "2024-02-14T04:28:05.805032Z",
     "iopub.status.busy": "2024-02-14T04:28:05.804800Z",
     "iopub.status.idle": "2024-02-14T04:28:05.810986Z",
     "shell.execute_reply": "2024-02-14T04:28:05.810680Z"
    },
    "tags": []
   },
   "outputs": [],
   "source": [
    "inputfile = Path.cwd()/'resources'/'air_data.csv'\n",
    "air_data = ..."
   ]
  },
  {
   "cell_type": "code",
   "execution_count": null,
   "metadata": {
    "deletable": false,
    "editable": false
   },
   "outputs": [],
   "source": [
    "grader.check(\"q3p1\")"
   ]
  },
  {
   "cell_type": "markdown",
   "metadata": {
    "deletable": false,
    "editable": false
   },
   "source": [
    "## Question 3.2\n",
    "\n",
    "Next, we might want to make a calculation using the data, and then write the result to a NumPy binary file (.npy). Compute the average, a.k.a. the arithmetic mean, or simple the [mean](https://numpy.org/doc/stable/reference/generated/numpy.mean.html) of each column in the `air_data`. Call this `air_data_mean`. `air_data_mean` should have 15 numbers -- one for each column of `air_data` -- and its shape should be `(15,)`. Then use [`np.save`](https://numpy.org/doc/stable/reference/generated/numpy.save.html) to save `air_data_mean` to a NumPy binary file in your current working directory. Call this file `air_data_mean.npy`."
   ]
  },
  {
   "cell_type": "code",
   "execution_count": null,
   "metadata": {
    "execution": {
     "iopub.execute_input": "2024-02-14T04:28:05.822270Z",
     "iopub.status.busy": "2024-02-14T04:28:05.822126Z",
     "iopub.status.idle": "2024-02-14T04:28:05.825301Z",
     "shell.execute_reply": "2024-02-14T04:28:05.824959Z"
    },
    "tags": []
   },
   "outputs": [],
   "source": [
    "air_data_mean = ...\n",
    "outfile = ...\n",
    "np.save(...)"
   ]
  },
  {
   "cell_type": "code",
   "execution_count": null,
   "metadata": {
    "deletable": false,
    "editable": false
   },
   "outputs": [],
   "source": [
    "grader.check(\"q3p2\")"
   ]
  },
  {
   "cell_type": "markdown",
   "metadata": {
    "deletable": false,
    "editable": false
   },
   "source": [
    "---\n",
    "\n",
    "To double-check your work, the cell below will rerun all of the autograder tests."
   ]
  },
  {
   "cell_type": "code",
   "execution_count": null,
   "metadata": {
    "deletable": false,
    "editable": false
   },
   "outputs": [],
   "source": [
    "grader.check_all()"
   ]
  },
  {
   "cell_type": "markdown",
   "metadata": {
    "deletable": false,
    "editable": false
   },
   "source": [
    "## Submission\n",
    "\n",
    "Make sure you have run all cells in your notebook in order before running the cell below, so that all images/graphs appear in the output. The cell below will generate a zip file for you to submit. **Please save before exporting!**\n",
    "\n",
    "Make sure you submit the .zip file to Gradescope."
   ]
  },
  {
   "cell_type": "code",
   "execution_count": null,
   "metadata": {
    "deletable": false,
    "editable": false
   },
   "outputs": [],
   "source": [
    "# Save your notebook first, then run this cell to export your submission.\n",
    "grader.export(pdf=False)"
   ]
  },
  {
   "cell_type": "markdown",
   "metadata": {},
   "source": [
    " "
   ]
  }
 ],
 "metadata": {
  "anaconda-cloud": {},
  "colab": {
   "provenance": []
  },
  "kernelspec": {
   "display_name": "Python 3 (ipykernel)",
   "language": "python",
   "name": "python3"
  },
  "language_info": {
   "codemirror_mode": {
    "name": "ipython",
    "version": 3
   },
   "file_extension": ".py",
   "mimetype": "text/x-python",
   "name": "python",
   "nbconvert_exporter": "python",
   "pygments_lexer": "ipython3",
   "version": "3.10.12"
  },
  "otter": {
   "OK_FORMAT": true,
   "assignment_name": "lab04B",
   "tests": {
    "q1p1": {
     "name": "q1p1",
     "points": null,
     "suites": [
      {
       "cases": [
        {
         "code": ">>> (Path.cwd() / 'd1').exists() and (Path.cwd() / 'd2').exists()\nTrue",
         "hidden": false,
         "locked": false,
         "points": 1
        },
        {
         "code": ">>> (Path.cwd() / 'f1.txt').exists() and (Path.cwd() / 'd1' / 'f1.csv').exists() and (Path.cwd() / 'd1' / 'f2.csv').exists()\nTrue",
         "hidden": false,
         "locked": false,
         "points": 1
        }
       ],
       "scored": true,
       "setup": "",
       "teardown": "",
       "type": "doctest"
      }
     ]
    },
    "q1p2": {
     "name": "q1p2",
     "points": null,
     "suites": [
      {
       "cases": [
        {
         "code": ">>> isinstance(count_file_types(Path.cwd()), dict)\nTrue",
         "hidden": false,
         "locked": false,
         "points": 0
        },
        {
         "code": ">>> A = count_file_types(Path.cwd() / 'resources_test')\n>>> get_hash(A['.txt'], 2) == '4d4670b3c218e9bf35df4f1a5c418160' and get_hash(A['.csv'], 2) == '93360a389c8af78b575d020687b92a38'\nTrue",
         "hidden": false,
         "locked": false,
         "points": 1
        }
       ],
       "scored": true,
       "setup": "",
       "teardown": "",
       "type": "doctest"
      }
     ]
    },
    "q2": {
     "name": "q2",
     "points": null,
     "suites": [
      {
       "cases": [
        {
         "code": ">>> population_is_multiple_of(8) == 315\nTrue",
         "hidden": false,
         "locked": false,
         "points": 0
        },
        {
         "code": ">>> get_hash([population_is_multiple_of(r) for r in range(3, 100, 13)], 3) == 'c6a6d40a6d8fc3eb897bf542d8beea66'\nTrue",
         "hidden": false,
         "locked": false,
         "points": 1
        }
       ],
       "scored": true,
       "setup": "",
       "teardown": "",
       "type": "doctest"
      }
     ]
    },
    "q3p1": {
     "name": "q3p1",
     "points": null,
     "suites": [
      {
       "cases": [
        {
         "code": ">>> isinstance(air_data, np.ndarray) and air_data.shape == (5000, 15)\nTrue",
         "hidden": false,
         "locked": false,
         "points": 0
        },
        {
         "code": ">>> get_hash(air_data, 4) == '3dad73cfba2dafc8a609e64b84f03df4'\nTrue",
         "hidden": false,
         "locked": false,
         "points": 1
        }
       ],
       "scored": true,
       "setup": "",
       "teardown": "",
       "type": "doctest"
      }
     ]
    },
    "q3p2": {
     "name": "q3p2",
     "points": null,
     "suites": [
      {
       "cases": [
        {
         "code": ">>> isinstance(air_data_mean, np.ndarray) and air_data_mean.shape == (15,)\nTrue",
         "hidden": false,
         "locked": false,
         "points": 0
        }
       ],
       "scored": true,
       "setup": "",
       "teardown": "",
       "type": "doctest"
      }
     ]
    }
   }
  }
 },
 "nbformat": 4,
 "nbformat_minor": 0
}
