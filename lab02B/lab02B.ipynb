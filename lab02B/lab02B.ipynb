{
 "cells": [
  {
   "cell_type": "code",
   "execution_count": null,
   "metadata": {
    "deletable": false,
    "editable": false
   },
   "outputs": [],
   "source": [
    "# Initialize Otter\n",
    "import otter\n",
    "grader = otter.Notebook(\"lab02B.ipynb\")"
   ]
  },
  {
   "cell_type": "markdown",
   "metadata": {},
   "source": [
    "---\n",
    "\n",
    "<h3><center>E7 -  Introduction to Programming for Scientists and Engineers</center></h3>\n",
    "\n",
    "<h2><center>Lab session #02-B <br></center></h2>\n",
    "\n",
    "<h1><center>Iterating over collections with for loops<br></center></h1>\n",
    "\n",
    "---"
   ]
  },
  {
   "cell_type": "code",
   "execution_count": null,
   "metadata": {
    "execution": {
     "iopub.execute_input": "2024-01-31T14:34:24.960194Z",
     "iopub.status.busy": "2024-01-31T14:34:24.959576Z",
     "iopub.status.idle": "2024-01-31T14:34:25.021791Z",
     "shell.execute_reply": "2024-01-31T14:34:25.021320Z"
    },
    "id": "PmQ0-tpz9u7g",
    "tags": []
   },
   "outputs": [],
   "source": [
    "from resources.hashutils import *\n",
    "import csv"
   ]
  },
  {
   "cell_type": "markdown",
   "metadata": {},
   "source": [
    "# Question 1: Counting votes (contd.)"
   ]
  },
  {
   "cell_type": "markdown",
   "metadata": {},
   "source": [
    "In lab 02A we found that the number of unique names of voters was less than the total number of votes collected. If we assume that no two voters have the same name (which we will), this means that at least one voter must have voted twice (by the [pigeonhole principle](https://en.wikipedia.org/wiki/Pigeonhole_principle)). Here we will use a `for` loop to find the offender(s).\n",
    "\n",
    "The next cell loads the data."
   ]
  },
  {
   "cell_type": "code",
   "execution_count": null,
   "metadata": {
    "execution": {
     "iopub.execute_input": "2024-01-31T14:34:25.025151Z",
     "iopub.status.busy": "2024-01-31T14:34:25.024195Z",
     "iopub.status.idle": "2024-01-31T14:34:25.029623Z",
     "shell.execute_reply": "2024-01-31T14:34:25.029256Z"
    }
   },
   "outputs": [],
   "source": [
    "with open('voters.csv', 'r') as file:\n",
    "   voters = list(csv.reader(file))\n",
    "voters = voters[0]     \n",
    "with open('preferred_candidates.csv', 'r') as file:\n",
    "   preferred_candidates = list(csv.reader(file))\n",
    "preferred_candidates = preferred_candidates[0] "
   ]
  },
  {
   "cell_type": "markdown",
   "metadata": {
    "deletable": false,
    "editable": false
   },
   "source": [
    "## Question 1.1\n",
    "\n",
    "The first task is to count the number of votes cast by each individual voter. This data is best kept in a dictionary that maps each voter's name (the key, a string) to their number of votes (the value, an integer).\n",
    "\n",
    "Complete the code in the cell below by,\n",
    "1. setting `unique_voters` to the set of unique voter names. \n",
    "2. initializing the dictionary `voter2numvotes` using the [`dict.fromkeys(k,value)`](https://docs.python.org/2/library/stdtypes.html#dict.fromkeys) method. This method creates a dictionary with keys taken from the set `k` and sets the corresponding values to the scalar `value`. In our case we want to pass `unique_voters` in the `k` position, and `0` for `value`.\n",
    "3. Write a `for` loop that counts the number of times that each voter appears in the list of `voters`. Once the loop completes, each key in `voter2numvotes` should map to the number of votes for that voter. \n",
    "\n",
    "For example, you should have:\n",
    "\n",
    "`voter2numvotes['Melotti Devletsah'] == 1`"
   ]
  },
  {
   "cell_type": "code",
   "execution_count": null,
   "metadata": {
    "execution": {
     "iopub.execute_input": "2024-01-31T14:34:25.032753Z",
     "iopub.status.busy": "2024-01-31T14:34:25.031935Z",
     "iopub.status.idle": "2024-01-31T14:34:25.074391Z",
     "shell.execute_reply": "2024-01-31T14:34:25.073774Z"
    },
    "tags": []
   },
   "outputs": [],
   "source": [
    "unique_voters = ...\n",
    "voter2numvotes = dict.fromkeys(...,...)\n",
    "# Iterate through voters\n",
    "for ... \t\n",
    "\t# Increase the count for that voter by 1.\n",
    "\tvoter2numvotes[...] ..."
   ]
  },
  {
   "cell_type": "code",
   "execution_count": null,
   "metadata": {
    "deletable": false,
    "editable": false
   },
   "outputs": [],
   "source": [
    "grader.check(\"q1p1\")"
   ]
  },
  {
   "cell_type": "markdown",
   "metadata": {
    "deletable": false,
    "editable": false
   },
   "source": [
    "## Question 1.2\n",
    "\n",
    "Create a set called `multivote_voters` that collects the names of all voters who voted more than once. For this, you should iterate over the key-value pairs in `voter2numvotes`. Recall from lecture that the syntax for iterating through the key-value pairs of a dictionary `D` is:\n",
    "``` python\n",
    "for key, value in D.items():\n",
    "    ...\n",
    "```"
   ]
  },
  {
   "cell_type": "code",
   "execution_count": null,
   "metadata": {
    "execution": {
     "iopub.execute_input": "2024-01-31T14:34:25.095259Z",
     "iopub.status.busy": "2024-01-31T14:34:25.094879Z",
     "iopub.status.idle": "2024-01-31T14:34:25.098725Z",
     "shell.execute_reply": "2024-01-31T14:34:25.098350Z"
    },
    "tags": []
   },
   "outputs": [],
   "source": [
    "multivote_voters = set()\n",
    "# Iterate  over the key-value pairs in voter2numvotes\n",
    "for ...\n",
    "\t# If the voter has more than one vote in voter2numvotes, add them to multivote_voters.\n",
    "    ..."
   ]
  },
  {
   "cell_type": "code",
   "execution_count": null,
   "metadata": {
    "deletable": false,
    "editable": false
   },
   "outputs": [],
   "source": [
    "grader.check(\"q1p2\")"
   ]
  },
  {
   "cell_type": "markdown",
   "metadata": {
    "deletable": false,
    "editable": false
   },
   "source": [
    "## Question 1.3\n",
    "\n",
    "It turns out that there was only one person who engaged in fraudulent voting. Store their name to `repeat_voter` and the number of times they voted to `num_votes`. "
   ]
  },
  {
   "cell_type": "code",
   "execution_count": null,
   "metadata": {
    "execution": {
     "iopub.execute_input": "2024-01-31T14:34:25.111189Z",
     "iopub.status.busy": "2024-01-31T14:34:25.110977Z",
     "iopub.status.idle": "2024-01-31T14:34:25.114176Z",
     "shell.execute_reply": "2024-01-31T14:34:25.113864Z"
    },
    "tags": []
   },
   "outputs": [],
   "source": [
    "repeat_voter = ...\n",
    "num_votes = ..."
   ]
  },
  {
   "cell_type": "code",
   "execution_count": null,
   "metadata": {
    "deletable": false,
    "editable": false
   },
   "outputs": [],
   "source": [
    "grader.check(\"q1p3\")"
   ]
  },
  {
   "cell_type": "markdown",
   "metadata": {},
   "source": [
    "## Question 1.4\n",
    "\n",
    "Next we'll determine the winner or winners (in case of a tie) of the election by counting up the votes for each of the candidates. We'll do this in three steps:\n",
    "\n",
    "1. Create the set of unique candidates (`unique_candidates`)\n",
    "2. Count the votes for each candidate and store it in a dictionary (`candidate2votes`)\n",
    "3. Determine the winner(s) by searching for the candidate(s) with the most votes in `candidate2votes`.\n",
    "\n",
    "**Step 1.** Find the set of unique names of candidates.\n"
   ]
  },
  {
   "cell_type": "code",
   "execution_count": null,
   "metadata": {
    "execution": {
     "iopub.execute_input": "2024-01-31T14:34:25.126465Z",
     "iopub.status.busy": "2024-01-31T14:34:25.126252Z",
     "iopub.status.idle": "2024-01-31T14:34:25.129163Z",
     "shell.execute_reply": "2024-01-31T14:34:25.128808Z"
    },
    "tags": []
   },
   "outputs": [],
   "source": [
    "unique_candidates = ..."
   ]
  },
  {
   "cell_type": "code",
   "execution_count": null,
   "metadata": {
    "deletable": false,
    "editable": false
   },
   "outputs": [],
   "source": [
    "grader.check(\"q1p4p1\")"
   ]
  },
  {
   "cell_type": "markdown",
   "metadata": {
    "deletable": false,
    "editable": false
   },
   "source": [
    "**Step 2**. Make a dictionary (candidate2votes) that maps each candidate's name to the number of votes that they got."
   ]
  },
  {
   "cell_type": "code",
   "execution_count": null,
   "metadata": {
    "execution": {
     "iopub.execute_input": "2024-01-31T14:34:25.140569Z",
     "iopub.status.busy": "2024-01-31T14:34:25.140437Z",
     "iopub.status.idle": "2024-01-31T14:34:25.143877Z",
     "shell.execute_reply": "2024-01-31T14:34:25.143575Z"
    },
    "tags": []
   },
   "outputs": [],
   "source": [
    "# 2.1 Initialize the dictionary using dict.fromkeys and setting all values to zero.\n",
    "candidate2votes = dict.fromkeys(...,...)\n",
    "\n",
    "# 2.2 Iterate simultaneously through `voters` and `preferred_candidates`\n",
    "for voter, preferred_candidate in zip(...,...):\n",
    "\n",
    "    # Skip any voter that voted more than once (ie is present in multivote_voters)\n",
    "    if ...:\n",
    "        continue\n",
    "\n",
    "    # Otherwise, increase the votes for their preferred_candidate by 1.\n",
    "    candidate2votes[...] ..."
   ]
  },
  {
   "cell_type": "code",
   "execution_count": null,
   "metadata": {
    "deletable": false,
    "editable": false
   },
   "outputs": [],
   "source": [
    "grader.check(\"q1p4p2\")"
   ]
  },
  {
   "cell_type": "markdown",
   "metadata": {
    "deletable": false,
    "editable": false
   },
   "source": [
    "**Step 3**. Determine the winner(s) by searching for the candidate(s) with the most votes in `candidate2votes`."
   ]
  },
  {
   "cell_type": "code",
   "execution_count": null,
   "metadata": {
    "execution": {
     "iopub.execute_input": "2024-01-31T14:34:25.154599Z",
     "iopub.status.busy": "2024-01-31T14:34:25.154440Z",
     "iopub.status.idle": "2024-01-31T14:34:25.158072Z",
     "shell.execute_reply": "2024-01-31T14:34:25.157771Z"
    },
    "tags": []
   },
   "outputs": [],
   "source": [
    "# 3.1 Create and empty set called `winners` for storing the winners\n",
    "winners = ...\n",
    "\n",
    "# 3.2 The variable `maxvotes` will track the maximum number of votes obtained.\n",
    "#     Initialize it to 0.\n",
    "maxvotes = ...\n",
    "\n",
    "# 3.3 Iterate throught the items in `candidate2votes`\n",
    "#     Each key is a candidate, and the corresponding value is their votes\n",
    "for candidate, votes in ...:\n",
    "\n",
    "    # If this candidate obtained *more* than maxvotes, then it is the winner so far.\n",
    "    # In this case a) set maxvotes to the new maximum, and b) reset the `winners` set to \n",
    "    # a set containing only this candidate\n",
    "    if ...:\n",
    "        maxvotes = ...\n",
    "        winners = ...\n",
    "\n",
    "    # If the candidate obtained exactly maxvotes, then they should be added to the set of winners. \n",
    "    elif ...:\n",
    "        ..."
   ]
  },
  {
   "cell_type": "code",
   "execution_count": null,
   "metadata": {
    "deletable": false,
    "editable": false
   },
   "outputs": [],
   "source": [
    "grader.check(\"q1p4p3\")"
   ]
  },
  {
   "cell_type": "markdown",
   "metadata": {},
   "source": [
    "# Question 2: Calculate the bill"
   ]
  },
  {
   "cell_type": "markdown",
   "metadata": {},
   "source": [
    "In this question you will write a code that calculates the amount owed by each guest at a Vietnamese restaurant. The menu is given below in the form of a dictionary that maps the name of each item to its price in dollars. "
   ]
  },
  {
   "cell_type": "code",
   "execution_count": null,
   "metadata": {
    "execution": {
     "iopub.execute_input": "2024-01-31T14:34:25.168590Z",
     "iopub.status.busy": "2024-01-31T14:34:25.168425Z",
     "iopub.status.idle": "2024-01-31T14:34:25.171267Z",
     "shell.execute_reply": "2024-01-31T14:34:25.170896Z"
    }
   },
   "outputs": [],
   "source": [
    "menu = {\n",
    "    'Crispy Pancake':               11.50,\n",
    "    'Fresh Spring Rolls':            6.00,\n",
    "    'Grilled Pork Sausage':          9.00,\n",
    "    'Lychee Smoothie':               4.50,\n",
    "    'Shrimp Summer Rolls':           7.00,\n",
    "    'Turmeric Noodle Soup':          8.00,\n",
    "    'Chicken Noodle Soup':          10.00,\n",
    "    'Chicken Rice':                 11.50,\n",
    "    'Crab Noodle Soup':             13.50,\n",
    "    'Grilled Pork Vermicelli Bowl': 12.50,\n",
    "    'Pho Bo':                       10.00,\n",
    "    'Caramelized Clay Pot Fish':    14.00,\n",
    "    'Beer':                          8.50,\n",
    "    'Fresh Coconut Water':           5.00,\n",
    "    'Jasmine Tea':                   3.50,\n",
    "    'Vietnamese Iced Tea':           4.50,\n",
    "    'Vietnamese Iced Coffee':        4.50,\n",
    "    'Sugarcane Juice':               3.50\n",
    "}"
   ]
  },
  {
   "cell_type": "markdown",
   "metadata": {},
   "source": [
    "The names of the guests are provided in a list called `guests`. The orders of each of the guests are collected in `orders`, which is a list of lists. The i'th entry of `orders` is the order of the i'th guest. So, for example, Li Wei had fresh spring rolls as an appetizer, pho bo as the main dish, and a Vietnamese iced tea to drink,"
   ]
  },
  {
   "cell_type": "code",
   "execution_count": null,
   "metadata": {
    "execution": {
     "iopub.execute_input": "2024-01-31T14:34:25.172790Z",
     "iopub.status.busy": "2024-01-31T14:34:25.172577Z",
     "iopub.status.idle": "2024-01-31T14:34:25.174964Z",
     "shell.execute_reply": "2024-01-31T14:34:25.174660Z"
    }
   },
   "outputs": [],
   "source": [
    "guests = [ 'Li Wei',\n",
    "           'Brian Thompson',\n",
    "           'Priya Sharma',\n",
    "           'Sophie Müller',\n",
    "           'Xiao Mei',\n",
    "           'Geronimo Marquez' ]\n",
    "\n",
    "orders = [\n",
    "    ['Fresh Spring Rolls','Pho Bo','Vietnamese Iced Tea'],\n",
    "    ['Crispy Pancake','Grilled Pork Vermicelli Bowl','Beer'],\n",
    "    ['Shrimp Summer Rolls','Chicken Rice','Vietnamese Iced Tea'],\n",
    "    ['Grilled Pork Sausage','Chicken Noodle Soup','Fresh Coconut Water'],\n",
    "    ['Crispy Pancake','Crab Noodle Soup','Lychee Smoothie'],\n",
    "    ['Turmeric Noodle Soup','Chicken Rice','Jasmine Tea']\n",
    "]"
   ]
  },
  {
   "cell_type": "markdown",
   "metadata": {
    "deletable": false,
    "editable": false
   },
   "source": [
    "The task is to write a code that calculates how much each person owes. The result should be stored as a dictionary called `guest_owes` that maps each name to the amount owed in dollars, and rounded to the nearest cent. Every guest leaves an 18\\% tip. \n",
    "\n",
    "The next cell contains some starter code. You can change it to a code cell (Esc then Y in Jupyter), and use it to develop your solution. When you are done, copy the solution in to `compute_bill`  function of the autograded cell.\n",
    "\n",
    "**Hint** You can use either `enumerate` or `zip` to iterate simultaneously through `guests` and `orders`."
   ]
  },
  {
   "cell_type": "markdown",
   "metadata": {
    "deletable": false,
    "editable": false
   },
   "source": [
    "### Autograded cell:"
   ]
  },
  {
   "cell_type": "code",
   "execution_count": null,
   "metadata": {
    "execution": {
     "iopub.execute_input": "2024-01-31T14:34:25.176648Z",
     "iopub.status.busy": "2024-01-31T14:34:25.176402Z",
     "iopub.status.idle": "2024-01-31T14:34:25.179845Z",
     "shell.execute_reply": "2024-01-31T14:34:25.179487Z"
    },
    "tags": []
   },
   "outputs": [],
   "source": [
    "def compute_bill(menu, guests, orders):\n",
    "    ######### PASTE AND INDENT YOUR CODE HERE #########\n",
    "    tip = 0.18\n",
    "\n",
    "    guest_owes = dict.fromkeys(...,...)\n",
    "\n",
    "    for ...\n",
    "    ######### DO NOT MODIFY BELOW THIS LINE ###########\n",
    "    return guest_owes"
   ]
  },
  {
   "cell_type": "code",
   "execution_count": null,
   "metadata": {
    "deletable": false,
    "editable": false
   },
   "outputs": [],
   "source": [
    "grader.check(\"q2p1\")"
   ]
  },
  {
   "cell_type": "markdown",
   "metadata": {
    "deletable": false,
    "editable": false
   },
   "source": [
    "## Submission\n",
    "\n",
    "Make sure you have run all cells in your notebook in order before running the cell below, so that all images/graphs appear in the output. The cell below will generate a zip file for you to submit. **Please save before exporting!**\n",
    "\n",
    "Make sure you submit the .zip file to Gradescope."
   ]
  },
  {
   "cell_type": "code",
   "execution_count": null,
   "metadata": {
    "deletable": false,
    "editable": false
   },
   "outputs": [],
   "source": [
    "# Save your notebook first, then run this cell to export your submission.\n",
    "grader.export(pdf=False)"
   ]
  },
  {
   "cell_type": "markdown",
   "metadata": {},
   "source": [
    " "
   ]
  }
 ],
 "metadata": {
  "anaconda-cloud": {},
  "colab": {
   "provenance": []
  },
  "kernelspec": {
   "display_name": "Python 3 (ipykernel)",
   "language": "python",
   "name": "python3"
  },
  "language_info": {
   "codemirror_mode": {
    "name": "ipython",
    "version": 3
   },
   "file_extension": ".py",
   "mimetype": "text/x-python",
   "name": "python",
   "nbconvert_exporter": "python",
   "pygments_lexer": "ipython3",
   "version": "3.10.12"
  },
  "otter": {
   "OK_FORMAT": true,
   "assignment_name": "lab02B",
   "tests": {
    "q1p1": {
     "name": "q1p1",
     "points": null,
     "suites": [
      {
       "cases": [
        {
         "code": ">>> len(voter2numvotes) == len(unique_voters) and sum(voter2numvotes.values()) == len(voters)\nTrue",
         "hidden": false,
         "locked": false,
         "points": 0
        },
        {
         "code": ">>> isgood = True\n>>> for (name, numvotes) in voter2numvotes.items():\n...     isgood &= numvotes == 1 or name == 'Dr Votalot'\n>>> isgood and get_hash(voter2numvotes['Dr Votalot']) == '33e75ff09dd601bbe69f351039152189'\nTrue",
         "hidden": false,
         "locked": false,
         "points": 1
        }
       ],
       "scored": true,
       "setup": "",
       "teardown": "",
       "type": "doctest"
      }
     ]
    },
    "q1p2": {
     "name": "q1p2",
     "points": null,
     "suites": [
      {
       "cases": [
        {
         "code": ">>> len(multivote_voters) == 1\nTrue",
         "hidden": false,
         "locked": false,
         "points": 0
        },
        {
         "code": ">>> get_hash(len(multivote_voters)) == 'c4ca4238a0b923820dcc509a6f75849b' and get_hash(list(multivote_voters)[0]) == 'b39c6fbe3b1da1f06ee7250178fda15e'\nTrue",
         "hidden": false,
         "locked": false,
         "points": 1
        }
       ],
       "scored": true,
       "setup": "",
       "teardown": "",
       "type": "doctest"
      }
     ]
    },
    "q1p3": {
     "name": "q1p3",
     "points": null,
     "suites": [
      {
       "cases": [
        {
         "code": ">>> len(repeat_voter) == 10 and num_votes > 10\nTrue",
         "hidden": false,
         "locked": false,
         "points": 0
        },
        {
         "code": ">>> get_hash(num_votes) == '33e75ff09dd601bbe69f351039152189' and get_hash(repeat_voter) == 'b39c6fbe3b1da1f06ee7250178fda15e'\nTrue",
         "hidden": false,
         "locked": false,
         "points": 1
        }
       ],
       "scored": true,
       "setup": "",
       "teardown": "",
       "type": "doctest"
      }
     ]
    },
    "q1p4p1": {
     "name": "q1p4p1",
     "points": null,
     "suites": [
      {
       "cases": [
        {
         "code": ">>> len(unique_candidates) == 7\nTrue",
         "hidden": false,
         "locked": false,
         "points": 0
        },
        {
         "code": ">>> {get_hash(c) for c in unique_candidates} == {'2bf6c1cbe365029fbd420515acb5d365', '3f158468c312b7d27314c43ba5f54da3', '616ee7ab6ea0db71b0571f690410f674', '7054f8890aa9e7895e5ff73cf3191b3e', '952792a342e27272667f89dd35573b6f', '97a7a1d4b74bf4c5a2ed8ebb2071259b', 'bd0b65b2350f60cfdf6545cf7ecdfeb6'}\nTrue",
         "hidden": false,
         "locked": false,
         "points": 1
        }
       ],
       "scored": true,
       "setup": "",
       "teardown": "",
       "type": "doctest"
      }
     ]
    },
    "q1p4p2": {
     "name": "q1p4p2",
     "points": null,
     "suites": [
      {
       "cases": [
        {
         "code": ">>> len(candidate2votes) == 7 and sum(candidate2votes.values()) == 3196\nTrue",
         "hidden": false,
         "locked": false,
         "points": 0
        },
        {
         "code": ">>> get_hash(candidate2votes['Phaedra Jaka']) == 'a8e864d04c95572d1aece099af852d0a' and get_hash(candidate2votes['Joanne Williem']) == '73278a4a86960eeb576a8fd4c9ec6997' and (get_hash(candidate2votes['Anthony Liebl']) == 'b4288d9c0ec0a1841b3b3728321e7088') and (get_hash(candidate2votes['Rodney Linkoln']) == '115f89503138416a242f40fb7d7f338e') and (get_hash(candidate2votes['Pepe Heydt']) == '310dcbbf4cce62f762a2aaa148d556bd') and (get_hash(candidate2votes['Butler Cardona']) == 'dc6a6489640ca02b0d42dabeb8e46bb7') and (get_hash(candidate2votes['Adriann Cespedes']) == '85fc37b18c57097425b52fc7afbb6969')\nTrue",
         "hidden": false,
         "locked": false,
         "points": 1
        }
       ],
       "scored": true,
       "setup": "",
       "teardown": "",
       "type": "doctest"
      }
     ]
    },
    "q1p4p3": {
     "name": "q1p4p3",
     "points": null,
     "suites": [
      {
       "cases": [
        {
         "code": ">>> len(winners) == 1 and maxvotes > 700 and (maxvotes < 800)\nTrue",
         "hidden": false,
         "locked": false,
         "points": 0
        },
        {
         "code": ">>> {get_hash(c) for c in winners} == {'97a7a1d4b74bf4c5a2ed8ebb2071259b'} and get_hash(maxvotes) == 'a8e864d04c95572d1aece099af852d0a'\nTrue",
         "hidden": false,
         "locked": false,
         "points": 1
        }
       ],
       "scored": true,
       "setup": "",
       "teardown": "",
       "type": "doctest"
      }
     ]
    },
    "q2p1": {
     "name": "q2p1",
     "points": null,
     "suites": [
      {
       "cases": [
        {
         "code": ">>> g = compute_bill(menu, guests, orders)\n>>> isinstance(g, dict) and len(g) == 6\nTrue",
         "hidden": false,
         "locked": false,
         "points": 0
        },
        {
         "code": ">>> g = compute_bill(menu, guests, orders)\n>>> all([v > 20 and v < 40 for v in g.values()])\nTrue",
         "hidden": false,
         "locked": false,
         "points": 0
        },
        {
         "code": ">>> g = compute_bill(menu, guests, orders)\n>>> get_hash(g['Li Wei'], 4) == 'cc53ac578dfb6679a36d00a74e6dac24' and get_hash(g['Brian Thompson'], 4) == '450ac0b261f6b208993e1d8464c57923' and (get_hash(g['Priya Sharma'], 4) == '6e9440c9948ac76d80b739249f9d518d') and (get_hash(g['Sophie Müller'], 4) == '2178f2c3a1286045cd325f29a0137495') and (get_hash(g['Xiao Mei'], 4) == '049487599dfc3da3e35377701157667c') and (get_hash(g['Geronimo Marquez'], 4) == '6e9440c9948ac76d80b739249f9d518d')\nTrue",
         "hidden": false,
         "locked": false,
         "points": 1
        },
        {
         "code": ">>> g = compute_bill(menu, guests, [['Beer', 'Beer'], ['Fresh Spring Rolls'], ['Shrimp Summer Rolls'], ['Grilled Pork Sausage'], ['Crispy Pancake'], ['Chicken Rice']])\n>>> get_hash(g['Li Wei'], 4) == '4daec680d761c4b9b682081edad35fde' and get_hash(g['Brian Thompson'], 4) == 'b5b121f802a17c5b7a2e643530ef561e' and (get_hash(g['Priya Sharma'], 4) == '034b764ea2e856b58be98206f324c49b') and (get_hash(g['Sophie Müller'], 4) == '4ebc9eec7720d57b742c90115c3ee49f') and (get_hash(g['Xiao Mei'], 4) == '8c76ad596d3a0af9b9cba97d57d5c779') and (get_hash(g['Geronimo Marquez'], 4) == '8c76ad596d3a0af9b9cba97d57d5c779')\nTrue",
         "hidden": false,
         "locked": false,
         "points": 1
        }
       ],
       "scored": true,
       "setup": "",
       "teardown": "",
       "type": "doctest"
      }
     ]
    }
   }
  }
 },
 "nbformat": 4,
 "nbformat_minor": 0
}
