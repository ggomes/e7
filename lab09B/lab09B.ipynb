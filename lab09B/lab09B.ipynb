{
 "cells": [
  {
   "cell_type": "code",
   "execution_count": null,
   "metadata": {
    "deletable": false,
    "editable": false
   },
   "outputs": [],
   "source": [
    "# Initialize Otter\n",
    "import otter\n",
    "grader = otter.Notebook(\"lab09B.ipynb\")"
   ]
  },
  {
   "cell_type": "markdown",
   "metadata": {},
   "source": [
    "---\n",
    "\n",
    "<h3><center>E7 -  Introduction to Programming for Scientists and Engineers</center></h3>\n",
    "\n",
    "<h2><center>Lab session #09-B <br></center></h2>\n",
    "\n",
    "<h1><center>Fixed-point iteration<br></center></h1>\n",
    "\n",
    "---"
   ]
  },
  {
   "cell_type": "code",
   "execution_count": null,
   "metadata": {
    "execution": {
     "iopub.execute_input": "2024-04-03T15:40:22.498182Z",
     "iopub.status.busy": "2024-04-03T15:40:22.497043Z",
     "iopub.status.idle": "2024-04-03T15:40:23.199235Z",
     "shell.execute_reply": "2024-04-03T15:40:23.197876Z"
    }
   },
   "outputs": [],
   "source": [
    "from resources.hashutils import *\n",
    "import numpy as np\n",
    "import matplotlib.pyplot as plt"
   ]
  },
  {
   "cell_type": "markdown",
   "metadata": {},
   "source": [
    "# Question 1: The Colebrook equation\n",
    "\n",
    "The Colebrook equation is a formula used in fluid mechanics to calculate the *friction factor* $f$, which is an important parameter involved in the calculation of pressure loss in pipes. You will learn more about the friction factor and the Colebrook equation if you take a course in fluid mechanics. Here we will use it only to demonstrate the *fixed point iteration* method for solving nonlinear equations. \n",
    "\n",
    "The Colebrook equation is as follows:\n",
    "\\begin{equation*}\n",
    "\\frac{1}{\\sqrt{f}} = -2 \\log_{10} \\left(  \\frac{2.51}{Re} \\frac{1}{\\sqrt{f}} + \\frac{\\epsilon/D}{3.71} \\right) \n",
    "\\end{equation*}\n",
    "\n",
    "Here $f$ is the unknown friction factor. $\\epsilon$ is the roughness of the pipe (measured in meters), $D$ is the diameter of the pipe (measured in meters), and $Re$ is the Reynolds number. These last three are known. \n",
    "\n",
    "Notice that $f$ appears on both sides of the equation in a way that cannot be disentangled using standard algebraic operations. Hence, we must use an *numerical* procedure, such as the fixed point iteration. \n",
    "\n",
    "### Global constants"
   ]
  },
  {
   "cell_type": "code",
   "execution_count": null,
   "metadata": {
    "execution": {
     "iopub.execute_input": "2024-04-03T15:40:23.204444Z",
     "iopub.status.busy": "2024-04-03T15:40:23.204027Z",
     "iopub.status.idle": "2024-04-03T15:40:23.209235Z",
     "shell.execute_reply": "2024-04-03T15:40:23.208166Z"
    }
   },
   "outputs": [],
   "source": [
    "Re = 2.3e5          # Reynolds number [-]\n",
    "epsilon = 1e-6      # Pipe roughness [m]\n",
    "D = 1e-2            # Pipe diameter [m]"
   ]
  },
  {
   "cell_type": "markdown",
   "metadata": {
    "deletable": false,
    "editable": false,
    "id": "m1IUkyzN9u7h"
   },
   "source": [
    "## Part 1.1: Compute $\\alpha$ and $\\beta$\n",
    "\n",
    "To simplify the formula, we introduce two new symbols, $\\alpha$ and $\\beta$:\n",
    "\\begin{equation*}\n",
    "\\alpha = \\frac{2.51}{Re} \\quad , \\quad \\beta = \\frac{\\epsilon/D}{3.71} \n",
    "\\end{equation*}\n",
    "\n",
    "\n",
    "The Colebrook equation now becomes:\n",
    "\n",
    "\\begin{equation*}\n",
    "\\frac{1}{\\sqrt{f}} = -2 \\log_{10} \\left( \\alpha\\frac{1}{\\sqrt{f}} + \\beta \\right) \n",
    "\\end{equation*}\n",
    "\n",
    "Compute `alpha` and `beta` for the given values of $Re$, $\\epsilon$, and $D$. "
   ]
  },
  {
   "cell_type": "code",
   "execution_count": null,
   "metadata": {
    "execution": {
     "iopub.execute_input": "2024-04-03T15:40:23.214479Z",
     "iopub.status.busy": "2024-04-03T15:40:23.213431Z",
     "iopub.status.idle": "2024-04-03T15:40:23.223889Z",
     "shell.execute_reply": "2024-04-03T15:40:23.223099Z"
    },
    "tags": []
   },
   "outputs": [],
   "source": [
    "alpha = ...\n",
    "beta = ..."
   ]
  },
  {
   "cell_type": "code",
   "execution_count": null,
   "metadata": {
    "deletable": false,
    "editable": false
   },
   "outputs": [],
   "source": [
    "grader.check(\"q1p1\")"
   ]
  },
  {
   "cell_type": "markdown",
   "metadata": {
    "deletable": false,
    "editable": false
   },
   "source": [
    "## Part 1.2: Function $F(f)$\n",
    "\n",
    "Bringing all terms to the left-hand side, we obtain a function $F(f)$, whose roots are the values of $f$ that satisfy the Colebrook equation:\n",
    "\n",
    "\\begin{equation*}\n",
    "F(f) = \\frac{1}{\\sqrt{f}} + 2 \\log_{10} \\left(  \\frac{\\alpha}{\\sqrt{f}} + \\beta\\right) \n",
    "\\end{equation*}\n",
    "\n",
    "Implement the function `eval_F(f)` that computes $F(f)$ for a given value or NumPy array `f`."
   ]
  },
  {
   "cell_type": "code",
   "execution_count": null,
   "metadata": {
    "execution": {
     "iopub.execute_input": "2024-04-03T15:40:23.297823Z",
     "iopub.status.busy": "2024-04-03T15:40:23.297172Z",
     "iopub.status.idle": "2024-04-03T15:40:23.304421Z",
     "shell.execute_reply": "2024-04-03T15:40:23.303550Z"
    },
    "tags": []
   },
   "outputs": [],
   "source": [
    "def eval_F(f):\n",
    "    return ..."
   ]
  },
  {
   "cell_type": "code",
   "execution_count": null,
   "metadata": {
    "deletable": false,
    "editable": false
   },
   "outputs": [],
   "source": [
    "grader.check(\"q1p2\")"
   ]
  },
  {
   "cell_type": "markdown",
   "metadata": {
    "deletable": false,
    "editable": false
   },
   "source": [
    "## Part 1.3: Function $\\bar{F}(x)$\n",
    "\n",
    "As explained in lecture, to find a root of the function $F(f)$ using FPI, we must first propose an auxiliary function $g$ that satisfies\n",
    "\n",
    "\\begin{equation*}\n",
    "g(f)=f \\quad \\Rightarrow \\quad F(f)=0\n",
    "\\end{equation*}\n",
    "That is, a function $g$ whose fixed points are roots of $F$. In the next part we will propose such a function. But first we will make a change of variables that seems intuitively reasonable, and in fact turns out to be very helpful. Define the symbol $x$ with\n",
    "\\begin{equation}\n",
    "x=\\frac{1}{\\sqrt{f}}\n",
    "\\end{equation}\n",
    "\n",
    "Replacing $\\frac{1}{\\sqrt{f}}$ with $x$ in $F$ we obtain a new and equivalent function $\\bar{F}(x)$.\n",
    "\n",
    "\\begin{equation*}\n",
    "\\bar{F}(x) = x + 2 \\log_{10} \\left(  \\alpha\\: x + \\beta\\right)\n",
    "\\end{equation*}\n",
    "\n",
    "The non-zero roots of $\\bar{F}(x)$ relate to the non-zero roots of $F(f)$ through $x=\\frac{1}{\\sqrt{f}}$. We can therefore find a root $f_r$ of $F$ by first finding a root $x_r$ of $\\bar{F}$, and then translating it with $f_r=1/x_r^2$.\n",
    "\n",
    "Implement the function `eval_Fbar(x)` that computes $\\bar{F}(x)$ for a given value or NumPy array `x`."
   ]
  },
  {
   "cell_type": "code",
   "execution_count": null,
   "metadata": {
    "execution": {
     "iopub.execute_input": "2024-04-03T15:40:23.330886Z",
     "iopub.status.busy": "2024-04-03T15:40:23.330169Z",
     "iopub.status.idle": "2024-04-03T15:40:23.337947Z",
     "shell.execute_reply": "2024-04-03T15:40:23.337015Z"
    },
    "tags": []
   },
   "outputs": [],
   "source": [
    "def eval_Fbar(x):\n",
    "    return ..."
   ]
  },
  {
   "cell_type": "code",
   "execution_count": null,
   "metadata": {
    "deletable": false,
    "editable": false
   },
   "outputs": [],
   "source": [
    "grader.check(\"q1p3\")"
   ]
  },
  {
   "cell_type": "markdown",
   "metadata": {
    "deletable": false,
    "editable": false
   },
   "source": [
    "## Part 1.4: Function $g(x)$\n",
    "\n",
    "We now propose a function $g(x)$ on which to perform FPI to obtain a root of $\\bar{F}(x)$. An obvious choice (but not necessarily a good one) would be:\n",
    "\n",
    "\\begin{equation*}\n",
    "g(x) = -2 \\log_{10} \\left(  \\alpha\\: x + \\beta\\right)\n",
    "\\end{equation*}\n",
    "\n",
    "With this definition it is easy to confirm that $g(x)\\!=\\!x \\Rightarrow \\bar{F}(x)\\!=\\!0$, as required. \n",
    "\n",
    "Implement the function `eval_g(x)` that computes $g(x)$ for a given value or NumPy array `x`.\n"
   ]
  },
  {
   "cell_type": "code",
   "execution_count": null,
   "metadata": {
    "execution": {
     "iopub.execute_input": "2024-04-03T15:40:23.364592Z",
     "iopub.status.busy": "2024-04-03T15:40:23.363918Z",
     "iopub.status.idle": "2024-04-03T15:40:23.371303Z",
     "shell.execute_reply": "2024-04-03T15:40:23.370463Z"
    },
    "tags": []
   },
   "outputs": [],
   "source": [
    "def eval_g(x):\n",
    "    return ..."
   ]
  },
  {
   "cell_type": "code",
   "execution_count": null,
   "metadata": {
    "deletable": false,
    "editable": false
   },
   "outputs": [],
   "source": [
    "grader.check(\"q1p4\")"
   ]
  },
  {
   "cell_type": "markdown",
   "metadata": {
    "deletable": false,
    "editable": false
   },
   "source": [
    "## Part 1.5: Eyeball the solution\n",
    "\n",
    "It's always a good idea to use a plot to get a better understanding of a problem. Here, for example, we'd like to know whether $g$ has any fixed points, how many, and approximately where they are located. With a plot we can also get a sense of whether FPI will converge to a fixed point by observing the slope of $g$. \n",
    "\n",
    "Make a plot of $g(x)$ on the interval $[5,10]$, along with the function $h(x)=x$ (the 45 degree line). The fixed point(s) are wherever these two lines intersect. Note the following:\n",
    "\n",
    "1. Are there any fixed points? How many?\n",
    "2. Approximately what values do they have?\n",
    "3. Is $|g'(x)|<1$ in the vicinity of the fixed point(s)? How big is it?\n",
    "4. How big is the region with $|g'(x)|<1$?\n",
    "\n",
    "Related to 2, what are the two integers that come immediately before and after the fixed point? That is, if $x_{fp}$ is the fixed point, what is $\\text{floor}(x_{fp})$ and $\\text{ceil}(x_{fp})$?"
   ]
  },
  {
   "cell_type": "code",
   "execution_count": null,
   "metadata": {
    "execution": {
     "iopub.execute_input": "2024-04-03T15:40:23.397150Z",
     "iopub.status.busy": "2024-04-03T15:40:23.396833Z",
     "iopub.status.idle": "2024-04-03T15:40:23.621945Z",
     "shell.execute_reply": "2024-04-03T15:40:23.620519Z"
    },
    "tags": []
   },
   "outputs": [],
   "source": [
    "...\n",
    "floor_xfp = ...\n",
    "ceil_xfp = ..."
   ]
  },
  {
   "cell_type": "code",
   "execution_count": null,
   "metadata": {
    "execution": {
     "iopub.execute_input": "2024-04-03T15:40:23.626239Z",
     "iopub.status.busy": "2024-04-03T15:40:23.625876Z",
     "iopub.status.idle": "2024-04-03T15:40:23.630733Z",
     "shell.execute_reply": "2024-04-03T15:40:23.629381Z"
    },
    "tags": []
   },
   "outputs": [],
   "source": [
    "# Plotting cell\n",
    "\n"
   ]
  },
  {
   "cell_type": "code",
   "execution_count": null,
   "metadata": {
    "deletable": false,
    "editable": false
   },
   "outputs": [],
   "source": [
    "grader.check(\"q1p5\")"
   ]
  },
  {
   "cell_type": "markdown",
   "metadata": {
    "deletable": false,
    "editable": false
   },
   "source": [
    "## Part 1.6: Check $|g'(x)|<1$\n",
    "\n",
    "Looking at the plot, it is pretty clear that $|g'(x)|$ is small everywhere. Let's use numerical differentiation to ``confirm'' this. (Confirm is in quotes because we would also have to check that the error in the numerical derivative is not too large. We could do that by bounding the second derivative.)\n",
    "\n",
    "Implement a function called `check_gprime(g,xmin,xmax,dx)` that receives:\n",
    "+ `g`: a *function* (in this case `eval_g`)\n",
    "+ `xmin`, `xmax`, `dx`: the minimum, maximum and step size of a grid on which to evaluate `g`\n",
    "and then does the following:\n",
    "1. Estimates $g'(x)$ using forward differencing on the grid just described.\n",
    "2. Computes and returns the maximum value attained by the magnitude of that estimate. \n",
    "\n",
    "In other words it estimates \n",
    "$$\\underset{x\\in[x_{min},x_{max}]}{\\text{max}}\\; |g'(x)|$$ \n",
    "using forward differencing. \n",
    "\n",
    "Apply the function to the interval $[5,10]$ with $dx=0.01$. Does this agree with the result from part 1.5?\n",
    "\n",
    "**Note**: Here we are, for the first time in this course, passing a *function* as an argument to another function. Python allows this and its no big deal. The syntax is as follows. We can define a function `z` that receives a function `f` and returns `f(2)`:\n",
    "\n",
    "```python\n",
    "def z(f):\n",
    "    return f(2)\n",
    "```\n",
    "\n",
    "Then, we might call `z` with the exponential function and the absolute value function.\n",
    "\n",
    "```python\n",
    "print( z(np.exp) )    # prints 7.389\n",
    "print( z(np.abs) )    # prints 2\n",
    "```\n",
    "Notice that `np.exp` and `np.abs` are written without parentheses when passed into `z`."
   ]
  },
  {
   "cell_type": "code",
   "execution_count": null,
   "metadata": {
    "execution": {
     "iopub.execute_input": "2024-04-03T15:40:23.647064Z",
     "iopub.status.busy": "2024-04-03T15:40:23.646716Z",
     "iopub.status.idle": "2024-04-03T15:40:23.655212Z",
     "shell.execute_reply": "2024-04-03T15:40:23.653886Z"
    },
    "tags": []
   },
   "outputs": [],
   "source": [
    "def check_gprime(g,xmin,xmax,dx):\n",
    "    ...\n",
    "    ...\n",
    "    return ..."
   ]
  },
  {
   "cell_type": "code",
   "execution_count": null,
   "metadata": {
    "execution": {
     "iopub.execute_input": "2024-04-03T15:40:23.659576Z",
     "iopub.status.busy": "2024-04-03T15:40:23.659232Z",
     "iopub.status.idle": "2024-04-03T15:40:23.666377Z",
     "shell.execute_reply": "2024-04-03T15:40:23.665060Z"
    },
    "tags": []
   },
   "outputs": [],
   "source": [
    "max_gprime = check_gprime(eval_g,5,10,0.01)\n",
    "max_gprime"
   ]
  },
  {
   "cell_type": "code",
   "execution_count": null,
   "metadata": {
    "deletable": false,
    "editable": false
   },
   "outputs": [],
   "source": [
    "grader.check(\"q1p6\")"
   ]
  },
  {
   "cell_type": "markdown",
   "metadata": {
    "deletable": false,
    "editable": false
   },
   "source": [
    "## Part 1.7: Implement FPI\n",
    "\n",
    "The fixed point iteration of a function $g(x)$ is a sequence $x_0, x_1, x_2 ... $ in which $x_0$ is prescribed and the rest are computed with \n",
    "\\begin{equation*}\n",
    "x_{k+1} = g(x_{k})\n",
    "\\end{equation*}\n",
    "The iteration stops if $|x_{k+1}-x_{k}|$ becomes smaller than a tolerance value, or if a maximum sequnce length is reached. \n",
    "\n",
    "Implement the function `FPI` that takes as inputs:\n",
    "+ `g`: The function $g$. \n",
    "+ `x0`: The initial value of the sequence\n",
    "+ `tol`: The tolerance\n",
    "+ `maxsteps`: The maximum length of the sequence. \n",
    "\n",
    "**Notes**:\n",
    "+ The function should return the FPI sequence as a 1D NumPy array.\n",
    "+ In the case that the iteration converges, the returned array should include the final evaluation of $g$.  That is, if you coded the stopping criterion as `abs(x[k+1]-x[k])<tol`, then include `x[k+1]` in the output. If you coded the stopping criterion as `abs(x[k]-x[k-1])<tol`, then include `x[k]` in the output.\n"
   ]
  },
  {
   "cell_type": "code",
   "execution_count": null,
   "metadata": {
    "execution": {
     "iopub.execute_input": "2024-04-03T15:40:23.692854Z",
     "iopub.status.busy": "2024-04-03T15:40:23.692544Z",
     "iopub.status.idle": "2024-04-03T15:40:23.702327Z",
     "shell.execute_reply": "2024-04-03T15:40:23.701253Z"
    },
    "tags": []
   },
   "outputs": [],
   "source": [
    "def FPI(g,x0,tol,maxsteps):\n",
    "\n",
    "    # Allocate an array of size maxsteps filled with np.nan values\n",
    "    x = ...\n",
    "\n",
    "    # Set the initial value of the sequence to x0\n",
    "    ...\n",
    "\n",
    "    # Run the iteration until the tolerance \n",
    "    # criterion is met or maxsteps are reached. \n",
    "    ...\n",
    "\n",
    "    # Remove trailing np.nans if there are any.\n",
    "    ...\n",
    "\n",
    "    return x"
   ]
  },
  {
   "cell_type": "code",
   "execution_count": null,
   "metadata": {
    "execution": {
     "iopub.execute_input": "2024-04-03T15:40:23.706619Z",
     "iopub.status.busy": "2024-04-03T15:40:23.706273Z",
     "iopub.status.idle": "2024-04-03T15:40:23.713442Z",
     "shell.execute_reply": "2024-04-03T15:40:23.712456Z"
    },
    "tags": []
   },
   "outputs": [],
   "source": [
    "# Use this cell to test your function\n",
    "x_fpi = FPI(g=eval_g,x0=7,tol=1e-5,maxsteps=20)\n",
    "x_fpi"
   ]
  },
  {
   "cell_type": "code",
   "execution_count": null,
   "metadata": {
    "deletable": false,
    "editable": false
   },
   "outputs": [],
   "source": [
    "grader.check(\"q1p7\")"
   ]
  },
  {
   "cell_type": "markdown",
   "metadata": {},
   "source": [
    "## Cobweb plot\n",
    "Execute the cell below to view a \"cobweb plot\" of the fixed point iteration. This part is not evaluated.   "
   ]
  },
  {
   "cell_type": "code",
   "execution_count": null,
   "metadata": {
    "execution": {
     "iopub.execute_input": "2024-04-03T15:40:23.764264Z",
     "iopub.status.busy": "2024-04-03T15:40:23.763799Z",
     "iopub.status.idle": "2024-04-03T15:40:24.043310Z",
     "shell.execute_reply": "2024-04-03T15:40:24.042065Z"
    }
   },
   "outputs": [],
   "source": [
    "xx = np.arange(5,10,0.01)\n",
    "\n",
    "fig, ax = plt.subplots(figsize=(4,4))\n",
    "ax.plot(xx,eval_g(xx),color='m',linewidth=2,label='g(x)')\n",
    "ax.plot(xx,xx,linestyle='--',color='k',linewidth=1,label='45 degree line')\n",
    "\n",
    "N = x_fpi.shape[0]\n",
    "g_fpi = eval_g(x_fpi)\n",
    "\n",
    "for n in range(N):\n",
    "    ax.plot([x_fpi[n], x_fpi[n]], [x_fpi[n], g_fpi[n]], 'b',linewidth=1)\n",
    "    ax.plot([x_fpi[n], g_fpi[n]], [g_fpi[n], g_fpi[n]], 'b',linewidth=1)\n",
    "\n",
    "ax.plot(x_fpi[-1],g_fpi[-1],'o',label='fixed point')\n",
    "\n",
    "ax.set_ylim(7.5,8.2)\n",
    "ax.set_xlim(6.5,9)\n",
    "ax.legend()"
   ]
  },
  {
   "cell_type": "markdown",
   "metadata": {
    "deletable": false,
    "editable": false
   },
   "source": [
    "## Part 1.8: Compute the friction factor\n",
    "\n",
    "Use the result of fixed point iteration to compute $f$, the solution of the Colebrook equation. Recall that \n",
    "$$x=\\frac{1}{\\sqrt{f}}$$"
   ]
  },
  {
   "cell_type": "code",
   "execution_count": null,
   "metadata": {
    "execution": {
     "iopub.execute_input": "2024-04-03T15:40:24.048332Z",
     "iopub.status.busy": "2024-04-03T15:40:24.047833Z",
     "iopub.status.idle": "2024-04-03T15:40:24.056005Z",
     "shell.execute_reply": "2024-04-03T15:40:24.054611Z"
    },
    "tags": []
   },
   "outputs": [],
   "source": [
    "f = ..."
   ]
  },
  {
   "cell_type": "code",
   "execution_count": null,
   "metadata": {
    "deletable": false,
    "editable": false
   },
   "outputs": [],
   "source": [
    "grader.check(\"q1p8\")"
   ]
  },
  {
   "cell_type": "markdown",
   "metadata": {},
   "source": [
    "# Question 2: A system of nonlinear equations\n",
    "\n",
    "We will now use fixed point iteration to solve the following system of two non-linear equations with two unknowns $\\xi_1$ and $\\xi_2$. \n",
    "\n",
    "\\begin{align*}\n",
    "10 \\xi_1 + \\xi_2  &= 1- \\sin(\\xi_1+\\xi_2) \\\\\n",
    "-\\xi_1 +10 \\xi_2 &= 2+ \\cos(\\xi_1-\\xi_2)\n",
    "\\end{align*}"
   ]
  },
  {
   "cell_type": "markdown",
   "metadata": {
    "deletable": false,
    "editable": false
   },
   "source": [
    "## Part 2.1: Function $f(\\xi_1,\\xi_2)$\n",
    "\n",
    "Bringing all of the terms to the left-hand side, we obtain two functions $f_1(\\xi_1,\\xi_2)$ and $f_2(\\xi_1,\\xi_2)$ whose roots are the desired solutions.\n",
    "\n",
    "\\begin{align*}\n",
    "f_1(\\xi_1,\\xi_2) &= 10 \\xi_1 + \\xi_2 -1+ \\sin(\\xi_1+\\xi_2)  \\\\\n",
    "f_2(\\xi_1,\\xi_2) &= -\\xi_1 +10 \\xi_2 -2- \\cos(\\xi_1-\\xi_2)\n",
    "\\end{align*}\n",
    "\n",
    "Implement `eval_f(xi)`. This function takes as input a 1D NumPy array `xi` which has length 2 and contains $\\xi_1$ and $\\xi_2$ (in that order). It returns $[f_1(\\xi_1,\\xi_2),f_2(\\xi_1,\\xi_2)]$ as a 1D NumPy array with two values."
   ]
  },
  {
   "cell_type": "code",
   "execution_count": null,
   "metadata": {
    "execution": {
     "iopub.execute_input": "2024-04-03T15:40:24.083756Z",
     "iopub.status.busy": "2024-04-03T15:40:24.083296Z",
     "iopub.status.idle": "2024-04-03T15:40:24.092242Z",
     "shell.execute_reply": "2024-04-03T15:40:24.091036Z"
    },
    "tags": []
   },
   "outputs": [],
   "source": [
    "def eval_f(xi):\n",
    "    ...\n",
    "    return ..."
   ]
  },
  {
   "cell_type": "code",
   "execution_count": null,
   "metadata": {
    "deletable": false,
    "editable": false
   },
   "outputs": [],
   "source": [
    "grader.check(\"q2p1\")"
   ]
  },
  {
   "cell_type": "markdown",
   "metadata": {
    "deletable": false,
    "editable": false
   },
   "source": [
    "## Part 2.2: Candidate function for FPI\n",
    "\n",
    "Perhaps the most obvious way to create an auxiliary \"$g$\" function for FPI in this case is to isolate $\\xi_1$ in the formula for $f_2$ and $\\xi_2$ in the formula for $f_1$. This gives us the following two formulas:\n",
    "\n",
    "\\begin{align*}\n",
    "\\xi_1 &= 10 \\xi_2 - 2 -\\cos(\\xi_1-\\xi_2)    \\\\\n",
    "\\xi_2 &= -10 \\xi_1 + 1 -  \\sin(\\xi_1+\\xi_2)  \n",
    "\\end{align*}\n",
    "\n",
    "In this week's discussion session we analyze this option and find that it does not work. Hence we will not pursue it further. \n",
    "\n",
    "Instead we now turn to a second possibility for the $g$ function.\n",
    "\\begin{align*}\n",
    "\\xi_1 &= 0.1(1-\\xi_2-\\sin(\\xi_1+\\xi_2)) &= g_{A1}(\\xi_1,\\xi_2) \\\\\n",
    "\\xi_2 &= 0.1(2 + \\xi_1 + \\cos(\\xi_1-\\xi_2)) &= g_{A2}(\\xi_1,\\xi_2) \n",
    "\\end{align*}\n",
    "\n",
    "Don't worry about where this came from. From our perspective it is simply provided to us. To know whether it is a valid candidate, we must verify that it satisfies the basic requirement: that all of its fixed points are roots of $(f_1,f_2)$. That is, \n",
    "\n",
    "<center><img src=\"resources/eqn.png\" width=\"520\"/></center>\n",
    "\n",
    "\n",
    "Implement the function `eval_gA(xi)`. This function takes as input a 1D NumPy array `xi` which has length 2 and contains $\\xi_1$ and $\\xi_2$ (in that order). It returns $[g_{A1}(\\xi_1,\\xi_2),g_{A2}(\\xi_1,\\xi_2)]$ as a 1D NumPy array with two values."
   ]
  },
  {
   "cell_type": "code",
   "execution_count": null,
   "metadata": {
    "execution": {
     "iopub.execute_input": "2024-04-03T15:40:24.124963Z",
     "iopub.status.busy": "2024-04-03T15:40:24.124572Z",
     "iopub.status.idle": "2024-04-03T15:40:24.133743Z",
     "shell.execute_reply": "2024-04-03T15:40:24.132601Z"
    },
    "tags": []
   },
   "outputs": [],
   "source": [
    "def eval_gA(xi):\n",
    "    ...\n",
    "    return ..."
   ]
  },
  {
   "cell_type": "code",
   "execution_count": null,
   "metadata": {
    "deletable": false,
    "editable": false
   },
   "outputs": [],
   "source": [
    "grader.check(\"q2p2\")"
   ]
  },
  {
   "cell_type": "markdown",
   "metadata": {
    "deletable": false,
    "editable": false
   },
   "source": [
    "## Part 2.3: Multivariable FPI\n",
    "\n",
    "Next we willl implement the multi-variable version of the fixed-point iteration. \n",
    "\n",
    "The function `multiFPI` will be very similar to the single-variable version (`FPI`). Here are the main differences.\n",
    "\n",
    "+ The variable name `x` is changed to `xi`, and `x0` to `xi0`, in keeping with the mathematical notation.\n",
    "+ The input parameter `g` is a function from $n$ inputs to $n$ outputs (instead of one input to one output as in `FPI`).\n",
    "+ The input parameter `xi0` is a 1D NumPy array of length $n$. \n",
    "+ The stopping criterion is that the *maximum* of $|\\xi_{i,k}-\\xi_{i,k-1}|$ over all components $\\xi_i$ is less than the tolerance. \n",
    "+ The output is a 2D Numpy array. It's first dimension are the iterations and it has two columns for the two unknowns. \n",
    "+ We replace `[k]` with `[k,:]` and `[k-1]` with `[k-1,:]` everywhere. \n",
    "\n",
    "**Notes**:\n",
    "+ Same as in part 1.7: In the case that the iteration converges, the returned array should include the final evaluation of $g$. \n"
   ]
  },
  {
   "cell_type": "code",
   "execution_count": null,
   "metadata": {
    "execution": {
     "iopub.execute_input": "2024-04-03T15:40:24.163571Z",
     "iopub.status.busy": "2024-04-03T15:40:24.163245Z",
     "iopub.status.idle": "2024-04-03T15:40:24.174821Z",
     "shell.execute_reply": "2024-04-03T15:40:24.173668Z"
    },
    "tags": []
   },
   "outputs": [],
   "source": [
    "def multiFPI(g,xi0,tol,maxsteps):\n",
    "\n",
    "    # Obtain n, the problem dimension, from the shape of xi0\n",
    "    n = ...\n",
    "\n",
    "    # Allocate an array of shape (maxsteps,n) filled with np.nan values\n",
    "    xi = ...\n",
    "\n",
    "    # Set the initial value of the sequence to xi0\n",
    "    ...\n",
    "\n",
    "    # Run the iteration until the tolerance \n",
    "    # criterion is met or maxsteps are reached. \n",
    "    ...\n",
    "\n",
    "    # Remove trailing np.nans if there are any.\n",
    "    ...\n",
    "\n",
    "    return xi"
   ]
  },
  {
   "cell_type": "code",
   "execution_count": null,
   "metadata": {
    "execution": {
     "iopub.execute_input": "2024-04-03T15:40:24.178750Z",
     "iopub.status.busy": "2024-04-03T15:40:24.178418Z",
     "iopub.status.idle": "2024-04-03T15:40:24.183870Z",
     "shell.execute_reply": "2024-04-03T15:40:24.182905Z"
    },
    "tags": []
   },
   "outputs": [],
   "source": [
    "xi_fpiA = multiFPI(g=eval_gA, xi0=np.zeros(2),tol=0.001,maxsteps=20)"
   ]
  },
  {
   "cell_type": "code",
   "execution_count": null,
   "metadata": {
    "deletable": false,
    "editable": false
   },
   "outputs": [],
   "source": [
    "grader.check(\"q2p3\")"
   ]
  },
  {
   "cell_type": "markdown",
   "metadata": {
    "deletable": false,
    "editable": false
   },
   "source": [
    "## Part 2.4: Solution with $g_A$\n",
    "\n",
    "Run `FPI` with these parameters:\n",
    "+ `g=eval_gA`\n",
    "+ `xi0=np.zeros(2)`\n",
    "+ `tol=1e-5`\n",
    "+ `maxsteps=20`\n",
    "\n",
    "Keep the last values in the FPI sequence. Save them as `xi1_A` and `xi2_A` (these are scalars). \n",
    "\n",
    "You should verify that this is indeed a root of $f(\\xi_1,\\xi_2)$ by passing (`xi1_A,xi2_A`) into `eval_f` and observing that the return value is close to (0,0). "
   ]
  },
  {
   "cell_type": "code",
   "execution_count": null,
   "metadata": {
    "execution": {
     "iopub.execute_input": "2024-04-03T15:40:24.233904Z",
     "iopub.status.busy": "2024-04-03T15:40:24.233593Z",
     "iopub.status.idle": "2024-04-03T15:40:24.241974Z",
     "shell.execute_reply": "2024-04-03T15:40:24.240744Z"
    },
    "tags": []
   },
   "outputs": [],
   "source": [
    "xi_fpiA = multiFPI(g=eval_gA, xi0=np.zeros(2),tol=1e-5,maxsteps=20)\n",
    "xi1_A = ...\n",
    "xi2_A = ..."
   ]
  },
  {
   "cell_type": "code",
   "execution_count": null,
   "metadata": {
    "deletable": false,
    "editable": false
   },
   "outputs": [],
   "source": [
    "grader.check(\"q2p4\")"
   ]
  },
  {
   "cell_type": "markdown",
   "metadata": {
    "deletable": false,
    "editable": false
   },
   "source": [
    "## Part 2.5: Try it with a different $g$ function\n",
    "\n",
    "In part 2.4 we successfully applied FPI to solve the system of nonlinear equations. In that sense, we have already completed the task.  Next we will try a different candidate $g$ function, simply to demonstrate that it is possible. \n",
    "\n",
    "To find this new function, we first define a transformation from $(\\xi_1,\\xi_2)$ to a new pair of variables $(\\eta_1,\\eta_2)$:\n",
    "\\begin{align*}\n",
    "\\eta_1 &= \\xi_1+\\xi_2 \\\\\n",
    "\\eta_2 &= \\xi_1-\\xi_2 \n",
    "\\end{align*}\n",
    "\n",
    "This is an invertible transformation, in the sense that we can return from $(\\eta_1,\\eta_2)$ to the original $(\\xi_1,\\xi_2)$ with\n",
    "\\begin{align*}\n",
    "\\xi_1 &= (\\eta_1+\\eta_2)/2 \\\\\n",
    "\\xi_2 &= (\\eta_1-\\eta_2)/2 \n",
    "\\end{align*}\n",
    "\n",
    "You should confirm that this is true. Applying this change of variables to the original system of equations, we can obtain a new pair of $g$ functions for FPI in terms of $\\eta_1$ and $\\eta_2$. We'll call them $g_{B1}(\\eta_1,\\eta_2)$ and $g_{B2}(\\eta_1,\\eta_2)$.\n",
    "\n",
    "\\begin{align*}\n",
    "\\eta_1 &= (1/11)\\Bigl(-9\\eta_2 + 2 -2\\sin(\\eta_1)\\Bigr) &= g_{B1}(\\eta_1,\\eta_2) \\\\\n",
    "\\eta_2 &= (1/11)\\Bigl(9\\eta_1 -4- 2\\cos(\\eta_2)\\Bigr) &= g_{B2}(\\eta_1,\\eta_2) \n",
    "\\end{align*}\n",
    "\n",
    "These formulas are derived in this week's discussion session. We will now apply FPI to $g_{B}$, just as we did with $g_A$. \n",
    "\n",
    "Implement the function `eval_gB(eta)`. This function takes as input a 1D NumPy array `eta` which has length 2 and contains $\\eta_1$ and $\\eta_2$ (in that order). It returns $[g_{B1}(\\eta_1,\\eta_2),g_{B2}(\\eta_1,\\eta_2)]$ as a 1D NumPy array with two values."
   ]
  },
  {
   "cell_type": "code",
   "execution_count": null,
   "metadata": {
    "execution": {
     "iopub.execute_input": "2024-04-03T15:40:24.268561Z",
     "iopub.status.busy": "2024-04-03T15:40:24.268227Z",
     "iopub.status.idle": "2024-04-03T15:40:24.276287Z",
     "shell.execute_reply": "2024-04-03T15:40:24.275526Z"
    },
    "tags": []
   },
   "outputs": [],
   "source": [
    "def eval_gB(eta):\n",
    "    ...\n",
    "    return ..."
   ]
  },
  {
   "cell_type": "code",
   "execution_count": null,
   "metadata": {
    "deletable": false,
    "editable": false
   },
   "outputs": [],
   "source": [
    "grader.check(\"q2p5\")"
   ]
  },
  {
   "cell_type": "markdown",
   "metadata": {
    "deletable": false,
    "editable": false
   },
   "source": [
    "## Part 2.6: FPI on $g_B$\n",
    "\n",
    "Run `FPI` with these parameters:\n",
    "+ `g=eval_gB`\n",
    "+ `xi0=np.zeros(2)`\n",
    "+ `tol=1e-5`\n",
    "+ `maxsteps=100`\n",
    "\n",
    "Keep the last values in the FPI sequence. Save them as `eta1_B` and `eta2_B` (these are scalars). "
   ]
  },
  {
   "cell_type": "code",
   "execution_count": null,
   "metadata": {
    "execution": {
     "iopub.execute_input": "2024-04-03T15:40:24.303174Z",
     "iopub.status.busy": "2024-04-03T15:40:24.302506Z",
     "iopub.status.idle": "2024-04-03T15:40:24.310899Z",
     "shell.execute_reply": "2024-04-03T15:40:24.310128Z"
    },
    "tags": []
   },
   "outputs": [],
   "source": [
    "eta_fpiB = multiFPI(g=eval_gB,xi0=np.zeros(2),tol=1e-5,maxsteps=100)\n",
    "eta1_B = ...\n",
    "eta2_B = ..."
   ]
  },
  {
   "cell_type": "code",
   "execution_count": null,
   "metadata": {
    "deletable": false,
    "editable": false
   },
   "outputs": [],
   "source": [
    "grader.check(\"q2p6\")"
   ]
  },
  {
   "cell_type": "markdown",
   "metadata": {
    "deletable": false,
    "editable": false
   },
   "source": [
    "## Part 2.7: From $(\\eta_1,\\eta_2)$ to $(\\xi_1,\\xi_2)$\n",
    "\n",
    "Apply the reverse transformation to obtain the root $(\\xi_1,\\xi_2)$ from the fixed-point $(\\eta_1,\\eta_2)$ found in part 2.6. \n",
    "\n",
    "Store these values as variable names `xi1_B` and `xi2_B`.\n",
    "\n",
    "**Note**: Notice that we have obtained the same root as in part 2.4."
   ]
  },
  {
   "cell_type": "code",
   "execution_count": null,
   "metadata": {
    "execution": {
     "iopub.execute_input": "2024-04-03T15:40:24.333540Z",
     "iopub.status.busy": "2024-04-03T15:40:24.332893Z",
     "iopub.status.idle": "2024-04-03T15:40:24.339063Z",
     "shell.execute_reply": "2024-04-03T15:40:24.338303Z"
    },
    "tags": []
   },
   "outputs": [],
   "source": [
    "xi1_B = ...\n",
    "xi2_B = ..."
   ]
  },
  {
   "cell_type": "markdown",
   "metadata": {
    "deletable": false,
    "editable": false
   },
   "source": [
    "---\n",
    "\n",
    "To double-check your work, the cell below will rerun all of the autograder tests."
   ]
  },
  {
   "cell_type": "code",
   "execution_count": null,
   "metadata": {
    "deletable": false,
    "editable": false
   },
   "outputs": [],
   "source": [
    "grader.check_all()"
   ]
  },
  {
   "cell_type": "markdown",
   "metadata": {
    "deletable": false,
    "editable": false
   },
   "source": [
    "## Submission\n",
    "\n",
    "Make sure you have run all cells in your notebook in order before running the cell below, so that all images/graphs appear in the output. The cell below will generate a zip file for you to submit. **Please save before exporting!**\n",
    "\n",
    "Make sure you submit the .zip file to Gradescope."
   ]
  },
  {
   "cell_type": "code",
   "execution_count": null,
   "metadata": {
    "deletable": false,
    "editable": false
   },
   "outputs": [],
   "source": [
    "# Save your notebook first, then run this cell to export your submission.\n",
    "grader.export(pdf=False)"
   ]
  },
  {
   "cell_type": "markdown",
   "metadata": {},
   "source": [
    " "
   ]
  }
 ],
 "metadata": {
  "anaconda-cloud": {},
  "colab": {
   "provenance": []
  },
  "kernelspec": {
   "display_name": "Python 3 (ipykernel)",
   "language": "python",
   "name": "python3"
  },
  "language_info": {
   "codemirror_mode": {
    "name": "ipython",
    "version": 3
   },
   "file_extension": ".py",
   "mimetype": "text/x-python",
   "name": "python",
   "nbconvert_exporter": "python",
   "pygments_lexer": "ipython3",
   "version": "3.10.12"
  },
  "otter": {
   "OK_FORMAT": true,
   "assignment_name": "lab09B",
   "tests": {
    "q1p1": {
     "name": "q1p1",
     "points": null,
     "suites": [
      {
       "cases": [
        {
         "code": ">>> get_hash(alpha, 4) == '37dc0499b812845bab37de5aed3df0c6' and get_hash(beta, 4) == '9e4cf227f138a47a13fc677c9c8c2524'\nTrue",
         "hidden": false,
         "locked": false,
         "points": 1
        }
       ],
       "scored": true,
       "setup": "",
       "teardown": "",
       "type": "doctest"
      }
     ]
    },
    "q1p2": {
     "name": "q1p2",
     "points": null,
     "suites": [
      {
       "cases": [
        {
         "code": ">>> np.isclose(eval_F(0.001), 24.76399, atol=0.0001)\nTrue",
         "hidden": false,
         "locked": false,
         "points": 0
        },
        {
         "code": ">>> get_hash(eval_F(np.arange(0.1, 0.2, 0.02)), 4) == 'c25417d69748df1345b22debfdf04722'\nTrue",
         "hidden": false,
         "locked": false,
         "points": 1
        }
       ],
       "scored": true,
       "setup": "",
       "teardown": "",
       "type": "doctest"
      }
     ]
    },
    "q1p3": {
     "name": "q1p3",
     "points": null,
     "suites": [
      {
       "cases": [
        {
         "code": ">>> np.isclose(eval_Fbar(0.001), -9.1373962, atol=0.0001)\nTrue",
         "hidden": false,
         "locked": false,
         "points": 0
        },
        {
         "code": ">>> get_hash(eval_Fbar(np.arange(0.1, 0.2, 0.02)), 3) == 'f500c5ca1ed77981cfefd0815a2c0b6d'\nTrue",
         "hidden": false,
         "locked": false,
         "points": 1
        }
       ],
       "scored": true,
       "setup": "",
       "teardown": "",
       "type": "doctest"
      }
     ]
    },
    "q1p4": {
     "name": "q1p4",
     "points": null,
     "suites": [
      {
       "cases": [
        {
         "code": ">>> np.isclose(eval_g(0.001), 9.1383962213, atol=0.0001)\nTrue",
         "hidden": false,
         "locked": false,
         "points": 0
        },
        {
         "code": ">>> get_hash(eval_g(np.array([1, 5, 14])), 4) == 'bb042d6f7ce4365ee3349dc894ca9ba1'\nTrue",
         "hidden": false,
         "locked": false,
         "points": 1
        }
       ],
       "scored": true,
       "setup": "",
       "teardown": "",
       "type": "doctest"
      }
     ]
    },
    "q1p5": {
     "name": "q1p5",
     "points": null,
     "suites": [
      {
       "cases": [
        {
         "code": ">>> get_hash(ceil_xfp, 1) == '585375c1448bfa3494298bdd79408081' and get_hash(floor_xfp, 1) == '01deebfa87b938c89ecb3dcb4effcbe2'\nTrue",
         "hidden": false,
         "locked": false,
         "points": 1
        }
       ],
       "scored": true,
       "setup": "",
       "teardown": "",
       "type": "doctest"
      }
     ]
    },
    "q1p6": {
     "name": "q1p6",
     "points": null,
     "suites": [
      {
       "cases": [
        {
         "code": ">>> max_gprime = check_gprime(eval_g, 5, 10, 0.01)\n>>> max_gprime > 0 and max_gprime < 1\nTrue",
         "hidden": false,
         "locked": false,
         "points": 0
        },
        {
         "code": ">>> max_gprime = check_gprime(eval_g, 5, 10, 0.01)\n>>> get_hash(max_gprime, 4) == 'f6afb7b7742d22726af236c2ff2339f6'\nTrue",
         "hidden": false,
         "locked": false,
         "points": 1
        }
       ],
       "scored": true,
       "setup": "",
       "teardown": "",
       "type": "doctest"
      }
     ]
    },
    "q1p7": {
     "name": "q1p7",
     "points": null,
     "suites": [
      {
       "cases": [
        {
         "code": ">>> x_fpi = FPI(g=eval_g, x0=7, tol=1e-05, maxsteps=2)\n>>> x_fpi.shape == (2,)\nTrue",
         "hidden": false,
         "locked": false,
         "points": 0
        },
        {
         "code": ">>> x_fpi = FPI(g=eval_g, x0=7, tol=0.1, maxsteps=20)\n>>> x_fpi.shape == (3,)\nTrue",
         "hidden": false,
         "locked": false,
         "points": 0
        },
        {
         "code": ">>> x_fpi = FPI(g=eval_g, x0=7, tol=1e-05, maxsteps=20)\n>>> x_fpi.shape == (7,)\nTrue",
         "hidden": false,
         "locked": false,
         "points": 0
        },
        {
         "code": ">>> x_fpi = FPI(g=eval_g, x0=7, tol=1e-05, maxsteps=20)\n>>> get_hash(x_fpi, 4) == '570036c8d482cb40c6bf147d97bbf077'\nTrue",
         "hidden": false,
         "locked": false,
         "points": 3
        }
       ],
       "scored": true,
       "setup": "",
       "teardown": "",
       "type": "doctest"
      }
     ]
    },
    "q1p8": {
     "name": "q1p8",
     "points": null,
     "suites": [
      {
       "cases": [
        {
         "code": ">>> f > 0 and f < 0.1\nTrue",
         "hidden": false,
         "locked": false,
         "points": 0
        },
        {
         "code": ">>> get_hash(f, 4) == '5ae6169e3fc6f198bbaa2f9ad2d9e1df'\nTrue",
         "hidden": false,
         "locked": false,
         "points": 1
        }
       ],
       "scored": true,
       "setup": "",
       "teardown": "",
       "type": "doctest"
      }
     ]
    },
    "q2p1": {
     "name": "q2p1",
     "points": null,
     "suites": [
      {
       "cases": [
        {
         "code": ">>> np.all(np.isclose(eval_f(np.array([0, 0])), np.array([-1.0, -3.0])))\nTrue",
         "hidden": false,
         "locked": false,
         "points": 0
        },
        {
         "code": ">>> x = np.empty((8, 2))\n>>> for (i, z) in enumerate(zip(np.arange(-2, 2, 0.5), np.arange(1, -1, -0.25))):\n...     x[i, :] = eval_f(np.array(z))\n>>> get_hash(x, 5) == 'f009cb0782452830326144c6dbdb40c5'\nTrue",
         "hidden": false,
         "locked": false,
         "points": 1
        }
       ],
       "scored": true,
       "setup": "",
       "teardown": "",
       "type": "doctest"
      }
     ]
    },
    "q2p2": {
     "name": "q2p2",
     "points": null,
     "suites": [
      {
       "cases": [
        {
         "code": ">>> np.all(np.isclose(eval_gA(np.array([0, 0])), np.array([0.1, 0.3])))\nTrue",
         "hidden": false,
         "locked": false,
         "points": 0
        },
        {
         "code": ">>> x = np.empty((8, 2))\n>>> for (i, z) in enumerate(zip(np.arange(-2, 2, 0.5), np.arange(1, -1, -0.25))):\n...     x[i, :] = eval_gA(np.array(z))\n>>> get_hash(x, 5) == '48f3a1be30caaf67af214a819912303e'\nTrue",
         "hidden": false,
         "locked": false,
         "points": 1
        }
       ],
       "scored": true,
       "setup": "",
       "teardown": "",
       "type": "doctest"
      }
     ]
    },
    "q2p3": {
     "name": "q2p3",
     "points": null,
     "suites": [
      {
       "cases": [
        {
         "code": ">>> xi_fpiA = multiFPI(g=eval_gA, xi0=np.zeros(2), tol=0.001, maxsteps=2)\n>>> xi_fpiA.shape == (2, 2)\nTrue",
         "hidden": false,
         "locked": false,
         "points": 0
        },
        {
         "code": ">>> xi_fpiA = multiFPI(g=eval_gA, xi0=np.zeros(2), tol=0.5, maxsteps=20)\n>>> xi_fpiA.shape == (2, 2)\nTrue",
         "hidden": false,
         "locked": false,
         "points": 0
        },
        {
         "code": ">>> xi_fpiA = multiFPI(g=eval_gA, xi0=np.zeros(2), tol=1e-05, maxsteps=20)\n>>> xi_fpiA.shape == (8, 2)\nTrue",
         "hidden": false,
         "locked": false,
         "points": 0
        },
        {
         "code": ">>> xi_fpiA = multiFPI(g=eval_gA, xi0=np.zeros(2), tol=1e-05, maxsteps=20)\n>>> get_hash(xi_fpiA, 4) == '17d1677389d5275b0761fbe4116fd235'\nTrue",
         "hidden": false,
         "locked": false,
         "points": 3
        }
       ],
       "scored": true,
       "setup": "",
       "teardown": "",
       "type": "doctest"
      }
     ]
    },
    "q2p4": {
     "name": "q2p4",
     "points": null,
     "suites": [
      {
       "cases": [
        {
         "code": ">>> xi1_A > 0 and xi2_A > 0\nTrue",
         "hidden": false,
         "locked": false,
         "points": 0
        },
        {
         "code": ">>> get_hash(xi1_A, 4) == '996e596b040e8e7b939a064de756647b' and get_hash(xi2_A, 4) == '18208569c107ee547f9c6f1cf78391b4'\nTrue",
         "hidden": false,
         "locked": false,
         "points": 1
        }
       ],
       "scored": true,
       "setup": "",
       "teardown": "",
       "type": "doctest"
      }
     ]
    },
    "q2p5": {
     "name": "q2p5",
     "points": null,
     "suites": [
      {
       "cases": [
        {
         "code": ">>> np.all(np.isclose(eval_gB(np.array([0, 0])), np.array([0.18181818, -0.54545455])))\nTrue",
         "hidden": false,
         "locked": false,
         "points": 0
        },
        {
         "code": ">>> x = np.empty((8, 2))\n>>> for (i, z) in enumerate(zip(np.arange(-2, 2, 0.5), np.arange(1, -1, -0.25))):\n...     x[i, :] = eval_gB(np.array(z))\n>>> get_hash(x, 5) == '0b6010147c78e78140769d8be150aca0'\nTrue",
         "hidden": false,
         "locked": false,
         "points": 1
        }
       ],
       "scored": true,
       "setup": "",
       "teardown": "",
       "type": "doctest"
      }
     ]
    },
    "q2p6": {
     "name": "q2p6",
     "points": null,
     "suites": [
      {
       "cases": [
        {
         "code": ">>> eta1_B > 0 and eta2_B < 0\nTrue",
         "hidden": false,
         "locked": false,
         "points": 0
        },
        {
         "code": ">>> get_hash(eta1_B, 4) == '6b019624ee4249c88f606dab41a21fdd' and get_hash(eta2_B, 4) == '354192369d76ffe55f6dde0d26525103'\nTrue",
         "hidden": false,
         "locked": false,
         "points": 1
        }
       ],
       "scored": true,
       "setup": "",
       "teardown": "",
       "type": "doctest"
      }
     ]
    },
    "q2p7": {
     "name": "q2p7",
     "points": null,
     "suites": [
      {
       "cases": [
        {
         "code": ">>> eta1_B > 0 and eta2_B < 0\nTrue",
         "hidden": false,
         "locked": false,
         "points": 0
        },
        {
         "code": ">>> get_hash(eta1_B, 4) == '6b019624ee4249c88f606dab41a21fdd' and get_hash(eta2_B, 4) == '354192369d76ffe55f6dde0d26525103'\nTrue",
         "hidden": false,
         "locked": false,
         "points": 1
        }
       ],
       "scored": true,
       "setup": "",
       "teardown": "",
       "type": "doctest"
      }
     ]
    }
   }
  }
 },
 "nbformat": 4,
 "nbformat_minor": 0
}
