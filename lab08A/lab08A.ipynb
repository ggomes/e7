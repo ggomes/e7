{
 "cells": [
  {
   "cell_type": "code",
   "execution_count": null,
   "metadata": {
    "deletable": false,
    "editable": false
   },
   "outputs": [],
   "source": [
    "# Initialize Otter\n",
    "import otter\n",
    "grader = otter.Notebook(\"lab08A.ipynb\")"
   ]
  },
  {
   "cell_type": "markdown",
   "metadata": {},
   "source": [
    "---\n",
    "\n",
    "<h3><center>E7 -  Introduction to Programming for Scientists and Engineers</center></h3>\n",
    "\n",
    "<h2><center>Lab session #08-A <br></center></h2>\n",
    "\n",
    "<h1><center>Numerical differentiation<br></center></h1>\n",
    "\n",
    "---"
   ]
  },
  {
   "cell_type": "code",
   "execution_count": null,
   "metadata": {
    "execution": {
     "iopub.execute_input": "2024-03-18T04:46:42.931272Z",
     "iopub.status.busy": "2024-03-18T04:46:42.930770Z",
     "iopub.status.idle": "2024-03-18T04:46:43.202885Z",
     "shell.execute_reply": "2024-03-18T04:46:43.202422Z"
    },
    "id": "PmQ0-tpz9u7g",
    "tags": []
   },
   "outputs": [],
   "source": [
    "from resources.hashutils import *\n",
    "import numpy as np\n",
    "import matplotlib.pyplot as plt"
   ]
  },
  {
   "cell_type": "markdown",
   "metadata": {},
   "source": [
    "# Question 1: Ant on a wire\n",
    "\n",
    "A camera records the position of an ant as it walks on a wire. The ant generally moves forward (direction of increasing $x$ in the figure), but sometimes briefly turns around when it bumps into an oncoming ant. A researcher has processed the video and extracted a sequence of positions with their respective time stamps. In this exercise we will analyze this data to estimate the speed of the ant and count the number of times that it moves backwards. \n",
    "\n",
    "\n",
    "<img src=\"resources/ants.png\" width=\"900\"/>"
   ]
  },
  {
   "cell_type": "markdown",
   "metadata": {
    "deletable": false,
    "editable": false
   },
   "source": [
    "## Question 1.1: Load the data\n",
    "\n",
    "The data is stored in two files called `times.npy` and `positions.npy`. Load these two files into NumPy arrays called `time` and `xpos` respectively. "
   ]
  },
  {
   "cell_type": "code",
   "execution_count": null,
   "metadata": {
    "execution": {
     "iopub.execute_input": "2024-03-18T04:46:43.205155Z",
     "iopub.status.busy": "2024-03-18T04:46:43.204912Z",
     "iopub.status.idle": "2024-03-18T04:46:43.209360Z",
     "shell.execute_reply": "2024-03-18T04:46:43.209016Z"
    },
    "tags": []
   },
   "outputs": [],
   "source": [
    "time = ...\n",
    "xpos = ..."
   ]
  },
  {
   "cell_type": "code",
   "execution_count": null,
   "metadata": {
    "deletable": false,
    "editable": false
   },
   "outputs": [],
   "source": [
    "grader.check(\"q1p1\")"
   ]
  },
  {
   "cell_type": "markdown",
   "metadata": {
    "deletable": false,
    "editable": false
   },
   "source": [
    "## Question 1.2: Plot the data\n",
    "\n",
    "Plot the measured positions versus time. The plot should have these characteristics:\n",
    "\n",
    "+ `figsize=(10,4)`\n",
    "+ Use the `ax1.plot` function.\n",
    "+ Use a `.` marker for the plot.\n",
    "+ Add a grid.\n",
    "+ Label the x-axis with `'time [sec]'`\n",
    "+ Label the y-axis with `'position [mm]'`\n",
    "+ Both x-axis and y-axis labels should have a font size of 16.\n",
    "+ Remove the top and right-hand spines with  \n",
    "```python \n",
    "ax1.spines[['top','right']].set_visible(False)\n",
    "```"
   ]
  },
  {
   "cell_type": "code",
   "execution_count": null,
   "metadata": {
    "execution": {
     "iopub.execute_input": "2024-03-18T04:46:43.239639Z",
     "iopub.status.busy": "2024-03-18T04:46:43.239467Z",
     "iopub.status.idle": "2024-03-18T04:46:43.322686Z",
     "shell.execute_reply": "2024-03-18T04:46:43.322321Z"
    },
    "tags": []
   },
   "outputs": [],
   "source": [
    "fig1, ax1 = plt.subplots(...)\n",
    "...\n",
    "...\n",
    "...\n",
    "..."
   ]
  },
  {
   "cell_type": "code",
   "execution_count": null,
   "metadata": {
    "deletable": false,
    "editable": false
   },
   "outputs": [],
   "source": [
    "grader.check(\"q1p2\")"
   ]
  },
  {
   "cell_type": "markdown",
   "metadata": {
    "deletable": false,
    "editable": false
   },
   "source": [
    "## Question 1.3: Estimate the time step $h$\n",
    "\n",
    "The time step $h$ is the interval of time between time stamps in `time` array. These time stamps are uniformly spaced. "
   ]
  },
  {
   "cell_type": "code",
   "execution_count": null,
   "metadata": {
    "execution": {
     "iopub.execute_input": "2024-03-18T04:46:43.365237Z",
     "iopub.status.busy": "2024-03-18T04:46:43.365106Z",
     "iopub.status.idle": "2024-03-18T04:46:43.367793Z",
     "shell.execute_reply": "2024-03-18T04:46:43.367481Z"
    },
    "tags": []
   },
   "outputs": [],
   "source": [
    "h = ..."
   ]
  },
  {
   "cell_type": "code",
   "execution_count": null,
   "metadata": {
    "deletable": false,
    "editable": false
   },
   "outputs": [],
   "source": [
    "grader.check(\"q1p3\")"
   ]
  },
  {
   "cell_type": "markdown",
   "metadata": {
    "deletable": false,
    "editable": false
   },
   "source": [
    "## Question 1.4 Forward differencing\n",
    "\n",
    "Write a function `diff_forward(f,h)` that computes the forward difference estimate of the derivative of a function $f(t)$ from uniformly spaced evaluations of the function. \n",
    "\n",
    "$$f'_F(t) = \\frac{f(t+h)-f(t)}{h}$$\n",
    "\n",
    "The function `diff_forward(f,h)` takes as inputs:\n",
    "+ `f`: a 1D NumPy array of function evaluations, and \n",
    "+ `h`: the step size. \n",
    "\n",
    "The function should return a NumPy array whose shape is the same as that of `f`, and whose last entry is `np.nan`. "
   ]
  },
  {
   "cell_type": "code",
   "execution_count": null,
   "metadata": {
    "execution": {
     "iopub.execute_input": "2024-03-18T04:46:43.380138Z",
     "iopub.status.busy": "2024-03-18T04:46:43.379842Z",
     "iopub.status.idle": "2024-03-18T04:46:43.383646Z",
     "shell.execute_reply": "2024-03-18T04:46:43.383280Z"
    },
    "tags": []
   },
   "outputs": [],
   "source": [
    "def diff_forward(f,h):\n",
    "    ...\n",
    "    ...\n",
    "    ...\n",
    "    return ..."
   ]
  },
  {
   "cell_type": "code",
   "execution_count": null,
   "metadata": {
    "deletable": false,
    "editable": false
   },
   "outputs": [],
   "source": [
    "grader.check(\"q1p4\")"
   ]
  },
  {
   "cell_type": "markdown",
   "metadata": {
    "deletable": false,
    "editable": false,
    "id": "m1IUkyzN9u7h"
   },
   "source": [
    "## Question 1.5: Backward differencing\n",
    "\n",
    "Write a function `diff_backward(f,h)` that computes the backward difference estimate of the derivative of a function $f(t)$ from uniformly spaced evaluations of the function. \n",
    "\n",
    "$$f'_B(t) = \\frac{f(t)-f(t-h)}{h}$$\n",
    "\n",
    "The input to this function is the same as to `diff_backward(f,h)`. The output is also similar, except that here the first (as opposed to the last) entry of the output array should be `np.nan`. "
   ]
  },
  {
   "cell_type": "code",
   "execution_count": null,
   "metadata": {
    "execution": {
     "iopub.execute_input": "2024-03-18T04:46:43.400923Z",
     "iopub.status.busy": "2024-03-18T04:46:43.400781Z",
     "iopub.status.idle": "2024-03-18T04:46:43.404910Z",
     "shell.execute_reply": "2024-03-18T04:46:43.404539Z"
    },
    "tags": []
   },
   "outputs": [],
   "source": [
    "def diff_backward(f,h):\n",
    "    ...\n",
    "    ...\n",
    "    ...\n",
    "    return ..."
   ]
  },
  {
   "cell_type": "code",
   "execution_count": null,
   "metadata": {
    "deletable": false,
    "editable": false
   },
   "outputs": [],
   "source": [
    "grader.check(\"q1p5\")"
   ]
  },
  {
   "cell_type": "markdown",
   "metadata": {
    "deletable": false,
    "editable": false
   },
   "source": [
    "## Question 1.6: Central differencing\n",
    "\n",
    "Write a function `diff_central(f,h)` that computes the central difference estimate of the derivative of a function $f(t)$ from uniformly spaced evaluations of the function. \n",
    "\n",
    "$$f'_C(t) = \\frac{f(t+h)-f(t-h)}{2h}$$\n",
    "\n",
    "The input to this function is the same as the previous two questions. The output is an array of the same shape as `f`, whose first and last entries are `np.nan`. "
   ]
  },
  {
   "cell_type": "code",
   "execution_count": null,
   "metadata": {
    "execution": {
     "iopub.execute_input": "2024-03-18T04:46:43.420906Z",
     "iopub.status.busy": "2024-03-18T04:46:43.420770Z",
     "iopub.status.idle": "2024-03-18T04:46:43.423997Z",
     "shell.execute_reply": "2024-03-18T04:46:43.423680Z"
    },
    "tags": []
   },
   "outputs": [],
   "source": [
    "def diff_central(f,h):\n",
    "    ...\n",
    "    ...\n",
    "    ...\n",
    "    ...\n",
    "    return ..."
   ]
  },
  {
   "cell_type": "code",
   "execution_count": null,
   "metadata": {
    "deletable": false,
    "editable": false
   },
   "outputs": [],
   "source": [
    "grader.check(\"q1p6\")"
   ]
  },
  {
   "cell_type": "markdown",
   "metadata": {
    "deletable": false,
    "editable": false
   },
   "source": [
    "## Question 1.7:  Plot the three speed estimates\n",
    "\n",
    "Plot the three estimates of the ant's speed (forward, backward, and central differencing) versus time on a single plot. \n",
    "The characteristics of the plot are as follows:\n",
    "\n",
    "+ `figsize=(8,4)`\n",
    "+ Use a boolean mask to select the portions of `vB`, `vF`, and `vC` between time `time>=10` and `time<=20`, and plot only those portions of the velocity estimates. \n",
    "+ Label the x-axis with `'time [sec]'`\n",
    "+ Label the y-axis with `'speed [mm/sec]'`\n",
    "+ Both x-axis and y-axis labels should have a font size of 16.\n",
    "+ Label the plots as `'Forward'`, `'Backward'`, or `'Central'`, and add a legend. \n",
    "+ Add grid lines to the plot. "
   ]
  },
  {
   "cell_type": "code",
   "execution_count": null,
   "metadata": {
    "deletable": false,
    "editable": false,
    "execution": {
     "iopub.execute_input": "2024-03-18T04:46:43.439653Z",
     "iopub.status.busy": "2024-03-18T04:46:43.439368Z",
     "iopub.status.idle": "2024-03-18T04:46:43.441602Z",
     "shell.execute_reply": "2024-03-18T04:46:43.441280Z"
    }
   },
   "outputs": [],
   "source": [
    "# ****** Don't modify this cell *******\n",
    "vF = diff_forward(xpos,h)\n",
    "vB = diff_backward(xpos,h)\n",
    "vC = diff_central(xpos,h)\n",
    "# *************************************"
   ]
  },
  {
   "cell_type": "code",
   "execution_count": null,
   "metadata": {
    "execution": {
     "iopub.execute_input": "2024-03-18T04:46:43.443036Z",
     "iopub.status.busy": "2024-03-18T04:46:43.442892Z",
     "iopub.status.idle": "2024-03-18T04:46:43.549183Z",
     "shell.execute_reply": "2024-03-18T04:46:43.548841Z"
    },
    "tags": []
   },
   "outputs": [],
   "source": [
    "fig2, ax2 = plt.subplots(...)\n",
    "...\n",
    "...  # etc.\n",
    "..."
   ]
  },
  {
   "cell_type": "code",
   "execution_count": null,
   "metadata": {
    "deletable": false,
    "editable": false
   },
   "outputs": [],
   "source": [
    "grader.check(\"q1p7\")"
   ]
  },
  {
   "cell_type": "markdown",
   "metadata": {
    "deletable": false,
    "editable": false
   },
   "source": [
    "## Question 1.8: Count the number of times that the ant goes from moving forward to moving backward. \n",
    "\n",
    "Write a function called `count_turn_back` that takes the estimated speed profile as input and returns the number of times that it goes from a positive value to a negative value. "
   ]
  },
  {
   "cell_type": "code",
   "execution_count": null,
   "metadata": {
    "execution": {
     "iopub.execute_input": "2024-03-18T04:46:43.599542Z",
     "iopub.status.busy": "2024-03-18T04:46:43.599351Z",
     "iopub.status.idle": "2024-03-18T04:46:43.602168Z",
     "shell.execute_reply": "2024-03-18T04:46:43.601827Z"
    },
    "tags": []
   },
   "outputs": [],
   "source": [
    "def count_turn_backs(v):\n",
    "    ...\n",
    "    return ..."
   ]
  },
  {
   "cell_type": "code",
   "execution_count": null,
   "metadata": {
    "deletable": false,
    "editable": false
   },
   "outputs": [],
   "source": [
    "grader.check(\"q1p8\")"
   ]
  },
  {
   "cell_type": "markdown",
   "metadata": {
    "deletable": false,
    "editable": false
   },
   "source": [
    "---\n",
    "\n",
    "To double-check your work, the cell below will rerun all of the autograder tests."
   ]
  },
  {
   "cell_type": "code",
   "execution_count": null,
   "metadata": {
    "deletable": false,
    "editable": false
   },
   "outputs": [],
   "source": [
    "grader.check_all()"
   ]
  },
  {
   "cell_type": "markdown",
   "metadata": {
    "deletable": false,
    "editable": false
   },
   "source": [
    "## Submission\n",
    "\n",
    "Make sure you have run all cells in your notebook in order before running the cell below, so that all images/graphs appear in the output. The cell below will generate a zip file for you to submit. **Please save before exporting!**\n",
    "\n",
    "Make sure you submit the .zip file to Gradescope."
   ]
  },
  {
   "cell_type": "code",
   "execution_count": null,
   "metadata": {
    "deletable": false,
    "editable": false
   },
   "outputs": [],
   "source": [
    "# Save your notebook first, then run this cell to export your submission.\n",
    "grader.export(pdf=False)"
   ]
  },
  {
   "cell_type": "markdown",
   "metadata": {},
   "source": [
    " "
   ]
  }
 ],
 "metadata": {
  "anaconda-cloud": {},
  "colab": {
   "provenance": []
  },
  "kernelspec": {
   "display_name": "Python 3 (ipykernel)",
   "language": "python",
   "name": "python3"
  },
  "language_info": {
   "codemirror_mode": {
    "name": "ipython",
    "version": 3
   },
   "file_extension": ".py",
   "mimetype": "text/x-python",
   "name": "python",
   "nbconvert_exporter": "python",
   "pygments_lexer": "ipython3",
   "version": "3.10.12"
  },
  "otter": {
   "OK_FORMAT": true,
   "assignment_name": "lab08A",
   "tests": {
    "q1p1": {
     "name": "q1p1",
     "points": null,
     "suites": [
      {
       "cases": [
        {
         "code": ">>> time.shape == (200,) and xpos.shape == (200,)\nTrue",
         "hidden": false,
         "locked": false,
         "points": 0
        },
        {
         "code": ">>> get_hash(xpos, 5) == 'd9bfc888ddb40e739b397985b8de72c4' and get_hash(time, 3) == 'c954b33fbb825fd2f12fba9ec9174092'\nTrue",
         "hidden": false,
         "locked": false,
         "points": 2
        }
       ],
       "scored": true,
       "setup": "",
       "teardown": "",
       "type": "doctest"
      }
     ]
    },
    "q1p2": {
     "name": "q1p2",
     "points": null,
     "suites": [
      {
       "cases": [
        {
         "code": ">>> import matplotlib\n>>> isinstance(ax1, matplotlib.axes._axes.Axes)\nTrue",
         "hidden": false,
         "locked": false,
         "points": 0
        },
        {
         "code": ">>> len(ax1.get_lines()) == 1\nTrue",
         "hidden": false,
         "locked": false,
         "points": 0
        },
        {
         "code": ">>> line = ax1.get_lines()[0]\n>>> line.get_marker() == '.' and np.all(np.isclose(line.get_data()[0], time, atol=0.01)) and np.all(np.isclose(line.get_data()[1], xpos, atol=0.01))\nTrue",
         "hidden": false,
         "locked": false,
         "points": 0.5
        },
        {
         "code": ">>> line = ax1.get_lines()[0]\n>>> xdata = line.get_data()[0]\n>>> ydata = line.get_data()[1]\n>>> np.all(np.isclose(xdata, time, atol=0.01)) and np.all(np.isclose(ydata, xpos, atol=0.01))\nTrue",
         "hidden": false,
         "locked": false,
         "points": 0.5
        },
        {
         "code": ">>> ax1.get_xlabel() == 'time [sec]' and ax1.get_ylabel() == 'position [mm]'\nTrue",
         "hidden": false,
         "locked": false,
         "points": 0.5
        },
        {
         "code": ">>> np.all(np.isclose(fig1.get_size_inches(), (10, 4), atol=0.01))\nTrue",
         "hidden": false,
         "locked": false,
         "points": 0.5
        },
        {
         "code": ">>> ax1.get_ygridlines()[1].get_visible() and ax1.get_xgridlines()[1].get_visible()\nTrue",
         "hidden": false,
         "locked": false,
         "points": 0.5
        },
        {
         "code": ">>> not ax1.spines['top'].get_visible() and (not ax1.spines['right'].get_visible())\nTrue",
         "hidden": false,
         "locked": false,
         "points": 0.5
        }
       ],
       "scored": true,
       "setup": "",
       "teardown": "",
       "type": "doctest"
      }
     ]
    },
    "q1p3": {
     "name": "q1p3",
     "points": null,
     "suites": [
      {
       "cases": [
        {
         "code": ">>> isinstance(h, float) and h > 0 and (h < 3)\nTrue",
         "hidden": false,
         "locked": false,
         "points": 0
        },
        {
         "code": ">>> get_hash(h, 3) == 'a7473b0d7fc57e553ee66811867c7c5a'\nTrue",
         "hidden": false,
         "locked": false,
         "points": 1
        }
       ],
       "scored": true,
       "setup": "",
       "teardown": "",
       "type": "doctest"
      }
     ]
    },
    "q1p4": {
     "name": "q1p4",
     "points": null,
     "suites": [
      {
       "cases": [
        {
         "code": ">>> f = np.linspace(0, 2, 10)\n>>> fprime = diff_forward(f, 2)\n>>> fprime.shape == (10,)\nTrue",
         "hidden": false,
         "locked": false,
         "points": 0
        },
        {
         "code": ">>> f = np.linspace(0, 2, 10)\n>>> fprime = diff_forward(f, 2)\n>>> np.all(np.isclose(fprime[:-1], 1 / 9, atol=0.001)) and np.isnan(fprime[-1])\nTrue",
         "hidden": false,
         "locked": false,
         "points": 0
        },
        {
         "code": ">>> vF = diff_forward(xpos, h)\n>>> get_hash(vF, 4) == '8041c66b986bd4671a64e3b15fab9e8b'\nTrue",
         "hidden": false,
         "locked": false,
         "points": 3
        }
       ],
       "scored": true,
       "setup": "",
       "teardown": "",
       "type": "doctest"
      }
     ]
    },
    "q1p5": {
     "name": "q1p5",
     "points": null,
     "suites": [
      {
       "cases": [
        {
         "code": ">>> f = np.linspace(0, 2, 10)\n>>> fprime = diff_backward(f, 2)\n>>> fprime.shape == (10,)\nTrue",
         "hidden": false,
         "locked": false,
         "points": 0
        },
        {
         "code": ">>> f = np.linspace(0, 2, 10)\n>>> fprime = diff_backward(f, 2)\n>>> np.all(np.isclose(fprime[1:], 1 / 9, atol=0.001)) and np.isnan(fprime[0])\nTrue",
         "hidden": false,
         "locked": false,
         "points": 0
        },
        {
         "code": ">>> vB = diff_backward(xpos, h)\n>>> get_hash(vB, 4) == 'e1d589bae5aab6f68a35ebb14bdcbc01'\nTrue",
         "hidden": false,
         "locked": false,
         "points": 3
        }
       ],
       "scored": true,
       "setup": "",
       "teardown": "",
       "type": "doctest"
      }
     ]
    },
    "q1p6": {
     "name": "q1p6",
     "points": null,
     "suites": [
      {
       "cases": [
        {
         "code": ">>> f = np.linspace(0, 2, 10)\n>>> fprime = diff_central(f, 2)\n>>> fprime.shape == (10,)\nTrue",
         "hidden": false,
         "locked": false,
         "points": 0
        },
        {
         "code": ">>> f = np.linspace(0, 2, 10)\n>>> fprime = diff_central(f, 2)\n>>> np.all(np.isclose(fprime[1:-1], 1 / 9, atol=0.001)) and np.isnan(fprime[0]) and np.isnan(fprime[0])\nTrue",
         "hidden": false,
         "locked": false,
         "points": 0
        },
        {
         "code": ">>> vC = diff_central(xpos, h)\n>>> get_hash(vC, 4) == '1bc29467455489116427c47d520222d9'\nTrue",
         "hidden": false,
         "locked": false,
         "points": 3
        }
       ],
       "scored": true,
       "setup": "",
       "teardown": "",
       "type": "doctest"
      }
     ]
    },
    "q1p7": {
     "name": "q1p7",
     "points": null,
     "suites": [
      {
       "cases": [
        {
         "code": ">>> import matplotlib\n>>> isinstance(ax2, matplotlib.axes._axes.Axes)\nTrue",
         "hidden": false,
         "locked": false,
         "points": 0
        },
        {
         "code": ">>> len(ax2.get_lines()) == 3\nTrue",
         "hidden": false,
         "locked": false,
         "points": 0
        },
        {
         "code": ">>> np.all([np.all(np.isclose(line.get_xdata(), time[(time >= 10) & (time <= 20)], atol=0.01)) for line in ax2.get_lines()])\nTrue",
         "hidden": false,
         "locked": false,
         "points": 0
        },
        {
         "code": ">>> {line.get_label() for line in ax2.get_lines()} == {'Backward', 'Central', 'Forward'}\nTrue",
         "hidden": false,
         "locked": false,
         "points": 0.5
        },
        {
         "code": ">>> plotdata = {line.get_label(): line.get_ydata() for line in ax2.get_lines()}\n>>> v = diff_backward(xpos, h)\n>>> ind = (time >= 10) & (time <= 20)\n>>> np.all(np.isclose(plotdata['Backward'], v[ind], atol=0.01))\nTrue",
         "hidden": false,
         "locked": false,
         "points": 0.5
        },
        {
         "code": ">>> plotdata = {line.get_label(): line.get_ydata() for line in ax2.get_lines()}\n>>> v = diff_forward(xpos, h)\n>>> ind = (time >= 10) & (time <= 20)\n>>> np.all(np.isclose(plotdata['Forward'], v[ind], atol=0.01))\nTrue",
         "hidden": false,
         "locked": false,
         "points": 0.5
        },
        {
         "code": ">>> plotdata = {line.get_label(): line.get_ydata() for line in ax2.get_lines()}\n>>> v = diff_central(xpos, h)\n>>> ind = (time >= 10) & (time <= 20)\n>>> np.all(np.isclose(plotdata['Central'], v[ind], atol=0.01))\nTrue",
         "hidden": false,
         "locked": false,
         "points": 0.5
        },
        {
         "code": ">>> ax2.get_xlabel() == 'time [sec]' and ax2.get_ylabel() == 'speed [mm/sec]'\nTrue",
         "hidden": false,
         "locked": false,
         "points": 0.5
        },
        {
         "code": ">>> np.all(np.isclose(fig2.get_size_inches(), (8, 4), atol=0.01))\nTrue",
         "hidden": false,
         "locked": false,
         "points": 0.5
        },
        {
         "code": ">>> ax2.get_ygridlines()[1].get_visible() and ax2.get_xgridlines()[1].get_visible()\nTrue",
         "hidden": false,
         "locked": false,
         "points": 0.5
        },
        {
         "code": ">>> leg = ax2.get_legend()\n>>> leg.get_visible() and {t.get_text() for t in leg.get_texts()} == {'Backward', 'Central', 'Forward'}\nTrue",
         "hidden": false,
         "locked": false,
         "points": 0.5
        }
       ],
       "scored": true,
       "setup": "",
       "teardown": "",
       "type": "doctest"
      }
     ]
    },
    "q1p8": {
     "name": "q1p8",
     "points": null,
     "suites": [
      {
       "cases": [
        {
         "code": ">>> count_turn_backs(np.array([1, 1, -1, -0.5, 1])) == 1\nTrue",
         "hidden": false,
         "locked": false,
         "points": 1
        },
        {
         "code": ">>> count_turn_backs(vF) == count_turn_backs(vB) == count_turn_backs(vC)\nTrue",
         "hidden": false,
         "locked": false,
         "points": 0
        },
        {
         "code": ">>> count_turn_backs(vF) >= 0 and count_turn_backs(vF) < 20\nTrue",
         "hidden": false,
         "locked": false,
         "points": 0
        },
        {
         "code": ">>> get_hash(count_turn_backs(np.array([1, -1, 1, -1, 1, -1, 1, -1, 1])), 2) == '07078a97d66756f213dbca3e379bf084'\nTrue",
         "hidden": false,
         "locked": false,
         "points": 2
        }
       ],
       "scored": true,
       "setup": "",
       "teardown": "",
       "type": "doctest"
      }
     ]
    }
   }
  }
 },
 "nbformat": 4,
 "nbformat_minor": 0
}
