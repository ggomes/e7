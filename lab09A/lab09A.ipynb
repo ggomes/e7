{
 "cells": [
  {
   "cell_type": "code",
   "execution_count": null,
   "metadata": {
    "deletable": false,
    "editable": false
   },
   "outputs": [],
   "source": [
    "# Initialize Otter\n",
    "import otter\n",
    "grader = otter.Notebook(\"lab09A.ipynb\")"
   ]
  },
  {
   "cell_type": "markdown",
   "metadata": {},
   "source": [
    "---\n",
    "\n",
    "<h3><center>E7 -  Introduction to Programming for Scientists and Engineers</center></h3>\n",
    "\n",
    "<h2><center>Lab session #09-A <br></center></h2>\n",
    "\n",
    "<h1><center>Bisection and Newton-Raphson for solving nonlinear equations<br></center></h1>\n",
    "\n",
    "---"
   ]
  },
  {
   "cell_type": "code",
   "execution_count": null,
   "metadata": {
    "execution": {
     "iopub.execute_input": "2024-04-01T04:13:47.491428Z",
     "iopub.status.busy": "2024-04-01T04:13:47.490981Z",
     "iopub.status.idle": "2024-04-01T04:13:47.765826Z",
     "shell.execute_reply": "2024-04-01T04:13:47.765334Z"
    }
   },
   "outputs": [],
   "source": [
    "import numpy as np\n",
    "import matplotlib.pyplot as plt\n",
    "from resources.hashutils import *"
   ]
  },
  {
   "cell_type": "markdown",
   "metadata": {},
   "source": [
    "# Question 1: Spherical container\n",
    "\n",
    "<center><img src=\"resources/sphere.png\" width=300/></center>\n",
    "\n",
    "The figure above shows a spherical glass container used to mix liquids. The container has a hole through which the liquids are poured, and a small propeller to do the mixing. Unfortunately the container is old and the tick marks indicating the volume of liquid are no longer legible. The only way to know the amount of liquid in the container is to measure the height $h$ of the fluid's surface, and then to use the formula for the volume of a partially filled sphere:\n",
    "\n",
    "$$ V = \\frac{\\pi h^2}{3} \\left(3r - h \\right) $$\n",
    "\n",
    "Here $r=10$ cm is the radius of the sphere and $V$ is the volume in cubic centimeters (i.e. milliliters)"
   ]
  },
  {
   "cell_type": "code",
   "execution_count": null,
   "metadata": {
    "execution": {
     "iopub.execute_input": "2024-04-01T04:13:47.768045Z",
     "iopub.status.busy": "2024-04-01T04:13:47.767875Z",
     "iopub.status.idle": "2024-04-01T04:13:47.770326Z",
     "shell.execute_reply": "2024-04-01T04:13:47.769918Z"
    }
   },
   "outputs": [],
   "source": [
    "r = 10   # radius in centimeters"
   ]
  },
  {
   "cell_type": "markdown",
   "metadata": {
    "deletable": false,
    "editable": false
   },
   "source": [
    "## Question 1.1: Volume evaluation\n",
    "\n",
    "Write a function called `evalV` that takes the fluid level `h` (in centimeters), and returns to volume of fluid in milliliters, according to the formula just given. \n",
    "\n",
    "**Note**\n",
    "+ `r` is considered a global constant and therefore not passed through the arguments. "
   ]
  },
  {
   "cell_type": "code",
   "execution_count": null,
   "metadata": {
    "execution": {
     "iopub.execute_input": "2024-04-01T04:13:47.771878Z",
     "iopub.status.busy": "2024-04-01T04:13:47.771754Z",
     "iopub.status.idle": "2024-04-01T04:13:47.776045Z",
     "shell.execute_reply": "2024-04-01T04:13:47.775730Z"
    },
    "tags": []
   },
   "outputs": [],
   "source": [
    "def evalV(h):\n",
    "    return ..."
   ]
  },
  {
   "cell_type": "code",
   "execution_count": null,
   "metadata": {
    "deletable": false,
    "editable": false
   },
   "outputs": [],
   "source": [
    "grader.check(\"q1p1\")"
   ]
  },
  {
   "cell_type": "markdown",
   "metadata": {
    "deletable": false,
    "editable": false
   },
   "source": [
    "## Question 1.2: Total volume\n",
    "\n",
    "What is the total volume of the sphere in liters?"
   ]
  },
  {
   "cell_type": "code",
   "execution_count": null,
   "metadata": {
    "execution": {
     "iopub.execute_input": "2024-04-01T04:13:47.805732Z",
     "iopub.status.busy": "2024-04-01T04:13:47.805446Z",
     "iopub.status.idle": "2024-04-01T04:13:47.807997Z",
     "shell.execute_reply": "2024-04-01T04:13:47.807697Z"
    },
    "tags": []
   },
   "outputs": [],
   "source": [
    "total_volume = ..."
   ]
  },
  {
   "cell_type": "code",
   "execution_count": null,
   "metadata": {
    "deletable": false,
    "editable": false
   },
   "outputs": [],
   "source": [
    "grader.check(\"q1p2\")"
   ]
  },
  {
   "cell_type": "markdown",
   "metadata": {
    "deletable": false,
    "editable": false
   },
   "source": [
    "\n",
    "A chemical recipe requires that you mix 3 liters of a liquid using the glass sphere. You decide to use the root-finding methods learned in class to find the level $h$ corresponding to this volume of liquid. You begin by plotting the function $V(h)$ in order to get a sense of the answer."
   ]
  },
  {
   "cell_type": "markdown",
   "metadata": {
    "deletable": false,
    "editable": false
   },
   "source": [
    "## Question 1.3: Plot volume versus height\n",
    "\n",
    "Make the plot shown in the figure. The plot shows\n",
    "+ the volume of liquid as a function of height $h$ (magenta line), and\n",
    "+ the desired volume (dotted blue line)\n",
    "\n",
    "Other specifications:\n",
    "\n",
    "+ The x-axis grid for the magenta line should consist of fifty values ranging from 0 to $2r$ (inclusive).\n",
    "+ `figsize=(8,4)`\n",
    "+ The grid and legend as shown in the plot.\n",
    "\n",
    "<img src=\"resources/volvsheight.png\" width=400 />\n",
    "\n",
    "**Note**\n",
    "+ Plot the horizontal line using `plot` or [`axhline`](https://matplotlib.org/stable/api/_as_gen/matplotlib.pyplot.axhline.html), but **not hlines**, otherwise the autograder will fail. \n"
   ]
  },
  {
   "cell_type": "code",
   "execution_count": null,
   "metadata": {
    "execution": {
     "iopub.execute_input": "2024-04-01T04:13:47.817013Z",
     "iopub.status.busy": "2024-04-01T04:13:47.816787Z",
     "iopub.status.idle": "2024-04-01T04:13:47.923481Z",
     "shell.execute_reply": "2024-04-01T04:13:47.923093Z"
    },
    "tags": []
   },
   "outputs": [],
   "source": [
    "fig1, ax1 = plt.subplots(...)\n",
    "..."
   ]
  },
  {
   "cell_type": "code",
   "execution_count": null,
   "metadata": {
    "deletable": false,
    "editable": false
   },
   "outputs": [],
   "source": [
    "grader.check(\"q1p3\")"
   ]
  },
  {
   "cell_type": "markdown",
   "metadata": {
    "deletable": false,
    "editable": false
   },
   "source": [
    "## Question 1.4: Equation to solve\n",
    "\n",
    "We can see in the figure above that 3 liters of fluid corresponds to a height of a little more than 12.5 centimeters. To solve this more precisely, we must find the exact point at which the function $V(h)$ crosses the horizontal line at 3000 milliliters. In other words, we must find the roots of the function $f(h)$:\n",
    "\n",
    "$$ f(h)=V(h)-3000$$\n",
    "\n",
    "Define the function `evalf(h)` that evaluates $f(h)$."
   ]
  },
  {
   "cell_type": "code",
   "execution_count": null,
   "metadata": {
    "execution": {
     "iopub.execute_input": "2024-04-01T04:13:47.957987Z",
     "iopub.status.busy": "2024-04-01T04:13:47.957802Z",
     "iopub.status.idle": "2024-04-01T04:13:47.960428Z",
     "shell.execute_reply": "2024-04-01T04:13:47.960118Z"
    },
    "tags": []
   },
   "outputs": [],
   "source": [
    "def evalf(h):\n",
    "    return ..."
   ]
  },
  {
   "cell_type": "code",
   "execution_count": null,
   "metadata": {
    "deletable": false,
    "editable": false
   },
   "outputs": [],
   "source": [
    "grader.check(\"q1p4\")"
   ]
  },
  {
   "cell_type": "markdown",
   "metadata": {
    "deletable": false,
    "editable": false
   },
   "source": [
    "## Question 1.5: Number of bisection steps\n",
    "\n",
    "Write a function called `compute_bisection_steps(N0,P0,maxwidth)` that computes the number of bisection steps needed to reduce the interval width from `|P0-N0|` to less or equal than `maxwidth`. The formula for doing this was derived in lecture and is reproduced below.\n",
    "\n",
    "$$ k = \\text{ceil} \\left( \\log_2 \\left( \\frac{ |P_0-N_0| }{ \\bar{w}} \\right)  \\right) $$\n",
    "\n",
    "**Hint**:\n",
    "+ NumPy's [ceil](https://numpy.org/doc/stable/reference/generated/numpy.ceil.html) method returns a float. You should cast this to an integer in order to avoid problems in later parts.\n",
    "+ Return `0` whenever $|P_0-N_0|<\\bar{w}$. "
   ]
  },
  {
   "cell_type": "code",
   "execution_count": null,
   "metadata": {
    "execution": {
     "iopub.execute_input": "2024-04-01T04:13:47.970038Z",
     "iopub.status.busy": "2024-04-01T04:13:47.969810Z",
     "iopub.status.idle": "2024-04-01T04:13:47.972713Z",
     "shell.execute_reply": "2024-04-01T04:13:47.972396Z"
    },
    "tags": []
   },
   "outputs": [],
   "source": [
    "def compute_bisection_steps(N0,P0,maxwidth):\n",
    "    ..."
   ]
  },
  {
   "cell_type": "code",
   "execution_count": null,
   "metadata": {
    "execution": {
     "iopub.execute_input": "2024-04-01T04:13:47.974045Z",
     "iopub.status.busy": "2024-04-01T04:13:47.973862Z",
     "iopub.status.idle": "2024-04-01T04:13:47.976570Z",
     "shell.execute_reply": "2024-04-01T04:13:47.976279Z"
    },
    "tags": []
   },
   "outputs": [],
   "source": [
    "# You can use this cell to test your code\n",
    "maxwidth = 1\n",
    "N0 = 0\n",
    "P0 = 0.6\n",
    "numsteps =  compute_bisection_steps(N0,P0,maxwidth)\n",
    "numsteps"
   ]
  },
  {
   "cell_type": "code",
   "execution_count": null,
   "metadata": {
    "deletable": false,
    "editable": false
   },
   "outputs": [],
   "source": [
    "grader.check(\"q1p5\")"
   ]
  },
  {
   "cell_type": "markdown",
   "metadata": {
    "deletable": false,
    "editable": false
   },
   "source": [
    "## Question 1.6: Bisection\n",
    "\n",
    "Implement the bisection algorithm as it was described in lecture. \n",
    "\n",
    "Carefully follow the comments in the template. \n",
    "\n",
    "The `bisection` method takes as inputs the initial interval values `N0` and `P0`, and the desired `maxwidth`. Here, `N0` is the value of $h$ corresponding to a *negative* evaluation of $f(h)$, and `P0` is the value of $h$ corresponding to a *positive* evaluation of $f(h)$. The `bisection` method should return two NumPy arrays, `N` and `P`, corresponding to the the *negative* and *positive* sequences.\n",
    "\n",
    "**Note**\n",
    "+ In the case where $|P_0-N_0|<\\bar{w}$, the code should return `(np.array(N0), np.array(P0))`.\n",
    "\n"
   ]
  },
  {
   "cell_type": "code",
   "execution_count": null,
   "metadata": {
    "execution": {
     "iopub.execute_input": "2024-04-01T04:13:47.994319Z",
     "iopub.status.busy": "2024-04-01T04:13:47.994195Z",
     "iopub.status.idle": "2024-04-01T04:13:47.999129Z",
     "shell.execute_reply": "2024-04-01T04:13:47.998829Z"
    },
    "tags": []
   },
   "outputs": [],
   "source": [
    "def bisection(N0,P0,maxwidth):\n",
    "\n",
    "    # Use the method defined in a previous part to compute \n",
    "    # the number of bisection steps to execute.\n",
    "    numsteps =  ...\n",
    "\n",
    "    # If no steps are taken, return the initial guesses\n",
    "    if numsteps==0:\n",
    "        return ..., ...\n",
    "\n",
    "    # Initialize the negative and positive sequences\n",
    "    # These are 1D NumPy arrays of length numsteps\n",
    "    # They will be filled completely, so you can use np.empty\n",
    "    # Put N0 and P0 in the first position of N and P respectively\n",
    "    N = ...\n",
    "    P = ...\n",
    "    N[0] = ...\n",
    "    P[0] = ...\n",
    "\n",
    "    # k iterates from 1 to numsteps-1\n",
    "    for k in range(1,numsteps):\n",
    "\n",
    "        # Find midpoint of the negative and positive sequences\n",
    "        C = ...\n",
    "        \n",
    "        # evaluate f(C)\n",
    "        fC = ...\n",
    "\n",
    "        # compute N[k] and P[k]\n",
    "        ...\n",
    "        ...\n",
    "\n",
    "    return N, P"
   ]
  },
  {
   "cell_type": "code",
   "execution_count": null,
   "metadata": {
    "execution": {
     "iopub.execute_input": "2024-04-01T04:13:48.000608Z",
     "iopub.status.busy": "2024-04-01T04:13:48.000473Z",
     "iopub.status.idle": "2024-04-01T04:13:48.002560Z",
     "shell.execute_reply": "2024-04-01T04:13:48.002251Z"
    },
    "tags": []
   },
   "outputs": [],
   "source": [
    "# You can use this cell to test your code\n",
    "maxwidth = 0.1\n",
    "N0 = 0\n",
    "P0 = 20\n",
    "N, P = bisection(N0,P0,maxwidth)"
   ]
  },
  {
   "cell_type": "code",
   "execution_count": null,
   "metadata": {
    "deletable": false,
    "editable": false
   },
   "outputs": [],
   "source": [
    "grader.check(\"q1p6\")"
   ]
  },
  {
   "cell_type": "markdown",
   "metadata": {
    "deletable": false,
    "editable": false
   },
   "source": [
    "## Question 1.7: Plot\n",
    "\n",
    "Plot the sequences `N` and `P` computed by the bisection method with parameters `N0=0`, `P0=20`, and `maxwidth=0.1`.\n",
    "Define `hsol` as the midpoint of the last interval returned by the bisection iteration. \n",
    "\n",
    "Other specifications:\n",
    "\n",
    "+ The `N` and `P` lines have `linewidth=2` and `marker='o'`.  \n",
    "+ Draw a horizontal line at the level of `hsol`. Again, use `axhline` or `plot`.\n",
    "+ Include the grid and legend as shown in the plot. \n",
    "\n",
    "<center><img src=\"resources/bisection.png\" width=600/></center>\n",
    "\n"
   ]
  },
  {
   "cell_type": "code",
   "execution_count": null,
   "metadata": {
    "execution": {
     "iopub.execute_input": "2024-04-01T04:13:48.017283Z",
     "iopub.status.busy": "2024-04-01T04:13:48.017132Z",
     "iopub.status.idle": "2024-04-01T04:13:48.125323Z",
     "shell.execute_reply": "2024-04-01T04:13:48.124903Z"
    },
    "tags": []
   },
   "outputs": [],
   "source": [
    "N, P = ...\n",
    "hsol = ...\n",
    "\n",
    "fig2, ax2 = plt.subplots(figsize=(8,4))\n",
    "..."
   ]
  },
  {
   "cell_type": "code",
   "execution_count": null,
   "metadata": {
    "deletable": false,
    "editable": false
   },
   "outputs": [],
   "source": [
    "grader.check(\"q1p7\")"
   ]
  },
  {
   "cell_type": "markdown",
   "metadata": {
    "deletable": false,
    "editable": false
   },
   "source": [
    "## Question 1.8: Derivative of $f(h)$\n",
    "\n",
    "\n",
    "Next we will apply the Newton-Raphson algorithm to the same problem. This is possible since the function that we are solving is differentiable, and the derivative can be easily evaluated in code. Implement the function `evalfprime` that returns $f'(h)$: the derivative of $f$ for a given value of $h$. \n",
    "\n",
    "Recall:\n",
    "\n",
    "\\begin{align*} \n",
    "&V(h) = \\frac{\\pi h^2}{3} \\left(3r - h \\right) \\\\\n",
    "&f(h)=V(h)-3000\n",
    "\\end{align*}\n",
    "\n"
   ]
  },
  {
   "cell_type": "code",
   "execution_count": null,
   "metadata": {
    "execution": {
     "iopub.execute_input": "2024-04-01T04:13:48.154592Z",
     "iopub.status.busy": "2024-04-01T04:13:48.154378Z",
     "iopub.status.idle": "2024-04-01T04:13:48.156967Z",
     "shell.execute_reply": "2024-04-01T04:13:48.156651Z"
    },
    "tags": []
   },
   "outputs": [],
   "source": [
    "def evalfprime(h):\n",
    "    return ..."
   ]
  },
  {
   "cell_type": "code",
   "execution_count": null,
   "metadata": {
    "deletable": false,
    "editable": false
   },
   "outputs": [],
   "source": [
    "grader.check(\"q1p8\")"
   ]
  },
  {
   "cell_type": "markdown",
   "metadata": {
    "deletable": false,
    "editable": false
   },
   "source": [
    "## Question 1.9: Newton-Raphson\n",
    "\n",
    "Implement the Newton-Raphson algorithm that was described in lecture.\n",
    "\n",
    "The function `newton_raphson(x0,taux,tauf,maxsteps)` takes an initial guess `x0`, tolerances `taux` and `tauf`, and the maximum number of steps `maxsteps`. It returns a NumPy array with the sequence of values, beginning with `x0`.\n",
    "\n",
    "**Note**. \n",
    "\n",
    "1. You will notice that the steps do not exactly follow the pseudo-code. The psuedo-code involves a \"repeat-until\", which in Python could be implemented with a \"while\" loop. However we do it here with a \"for\" loop. The reason for this is that, when using NumPy it is better to pre-allocate the entire array (with np.full, np.empty, np.zeros, etc.) than to extend the array in each iteration. But once we allocated a fixed-size array, it is more natural (more explicit, more clear) to iterate through it with a \"for\" loop than with a \"while\" loop.\n",
    "\n",
    "2. Note also that the function is cubic and therefore may have up to three real roots. In fact, this function *does* have three real roots, but only one of them is in the acceptable range of heights, between 0 and 20 cm. This is ok. You should allow the Newton-Raphson method to return these \"unphysical\" solutions if it finds them."
   ]
  },
  {
   "cell_type": "code",
   "execution_count": null,
   "metadata": {
    "execution": {
     "iopub.execute_input": "2024-04-01T04:13:48.167219Z",
     "iopub.status.busy": "2024-04-01T04:13:48.166942Z",
     "iopub.status.idle": "2024-04-01T04:13:48.171248Z",
     "shell.execute_reply": "2024-04-01T04:13:48.170937Z"
    },
    "tags": []
   },
   "outputs": [],
   "source": [
    "def newton_raphson(x0,taux,tauf,maxsteps):\n",
    "\n",
    "    # Allocate x by creating an array of np.nan values of length maxsteps\n",
    "    x = ...\n",
    "\n",
    "    # Put the initial guess in the first position of x\n",
    "    ...\n",
    "\n",
    "    # Iterate through the un-assigned values in x.\n",
    "    for k in ...:\n",
    "\n",
    "        # Find the next value in the sequence according to the Newton-Raphson update formula\n",
    "        ...\n",
    "                \n",
    "        # Break if the difference between the latest two values in the sequence is less than taux\n",
    "        if ...:\n",
    "            break\n",
    "\n",
    "        # Break if the function evaluation is within tauf of zero.\n",
    "        if ...:\n",
    "            break\n",
    "\n",
    "    # If either of the two break conditions were hit, then there will be trailing NaNs in x. \n",
    "    # Remove any trailing NaNs. \n",
    "    ...\n",
    "\n",
    "    return x"
   ]
  },
  {
   "cell_type": "code",
   "execution_count": null,
   "metadata": {
    "execution": {
     "iopub.execute_input": "2024-04-01T04:13:48.172705Z",
     "iopub.status.busy": "2024-04-01T04:13:48.172495Z",
     "iopub.status.idle": "2024-04-01T04:13:48.175242Z",
     "shell.execute_reply": "2024-04-01T04:13:48.174939Z"
    },
    "tags": []
   },
   "outputs": [],
   "source": [
    "# Use this cell to test your code\n",
    "x = newton_raphson(x0=20.5,taux=.01,tauf=2,maxsteps=100)\n",
    "x"
   ]
  },
  {
   "cell_type": "code",
   "execution_count": null,
   "metadata": {
    "deletable": false,
    "editable": false
   },
   "outputs": [],
   "source": [
    "grader.check(\"q1p9\")"
   ]
  },
  {
   "cell_type": "markdown",
   "metadata": {
    "deletable": false,
    "editable": false
   },
   "source": [
    "## Question 1.10: Compare Bisection and Newton-Raphson\n",
    "\n",
    "We can now test both methods to see which converges in fewer steps. Note that this does not imply that it takes less *time*, since the steps of one algorithm may be more computationally expensive (and therefore *slower*) than the steps of another algorithm. Between bisection and Newton-Raphson, it would seem that a Newton-Raphson step is more expensive, since it involves evaluations of both $f(h)$ and $f'(h)$, whereas bisection only evaluates $f(h)$.\n",
    "\n",
    "Make the plot shown below that overlays the progression of both algorithms. Here is the specification. \n",
    "\n",
    "For bisection:\n",
    "+ Run the algorithm with `N0=0`, `P0=20`, and `maxwidth=0.1`.\n",
    "+ Plot the upper and lower limits of the interval with solid lines and 'o' markers. \n",
    "+ Use the [ax.fill_between](https://matplotlib.org/stable/api/_as_gen/matplotlib.axes.Axes.fill_between.html) method to shade in the space between the two limits (I like to use a transparency value of `alpha=0.2` for this). \n",
    "+ Label the \"fill_between\" element (not the upper and lower lines) as \"Bisection\".\n",
    "\n",
    "For Newton-Raphson:\n",
    "+ Run the algorithm with `x0=5`, `taux=0.1`, `tauf=0`, `maxsteps=10`.\n",
    "+ Plot the sequence with a solid line and 'o' markers. \n",
    "+ Label it as \"Newton-Raphson\".\n",
    "\n",
    "For the solution.\n",
    "+ Consider the last value of the Newton-Raphson sequence to be the solution. \n",
    "+ Plot a horizontal dashed line that goes through the solution. \n",
    "+ Label it as \"solution\"."
   ]
  },
  {
   "cell_type": "code",
   "execution_count": null,
   "metadata": {
    "execution": {
     "iopub.execute_input": "2024-04-01T04:13:48.196711Z",
     "iopub.status.busy": "2024-04-01T04:13:48.196509Z",
     "iopub.status.idle": "2024-04-01T04:13:48.315590Z",
     "shell.execute_reply": "2024-04-01T04:13:48.315231Z"
    },
    "tags": []
   },
   "outputs": [],
   "source": [
    "...\n",
    "fig3, ax3 = plt.subplots(figsize=(8,4))\n",
    "..."
   ]
  },
  {
   "cell_type": "code",
   "execution_count": null,
   "metadata": {
    "deletable": false,
    "editable": false
   },
   "outputs": [],
   "source": [
    "grader.check(\"q1p10\")"
   ]
  },
  {
   "cell_type": "markdown",
   "metadata": {
    "deletable": false,
    "editable": false
   },
   "source": [
    "---\n",
    "\n",
    "To double-check your work, the cell below will rerun all of the autograder tests."
   ]
  },
  {
   "cell_type": "code",
   "execution_count": null,
   "metadata": {
    "deletable": false,
    "editable": false
   },
   "outputs": [],
   "source": [
    "grader.check_all()"
   ]
  },
  {
   "cell_type": "markdown",
   "metadata": {
    "deletable": false,
    "editable": false
   },
   "source": [
    "## Submission\n",
    "\n",
    "Make sure you have run all cells in your notebook in order before running the cell below, so that all images/graphs appear in the output. The cell below will generate a zip file for you to submit. **Please save before exporting!**\n",
    "\n",
    "Make sure you submit the .zip file to Gradescope."
   ]
  },
  {
   "cell_type": "code",
   "execution_count": null,
   "metadata": {
    "deletable": false,
    "editable": false
   },
   "outputs": [],
   "source": [
    "# Save your notebook first, then run this cell to export your submission.\n",
    "grader.export(pdf=False)"
   ]
  },
  {
   "cell_type": "markdown",
   "metadata": {},
   "source": [
    " "
   ]
  }
 ],
 "metadata": {
  "anaconda-cloud": {},
  "colab": {
   "provenance": []
  },
  "kernelspec": {
   "display_name": "Python 3 (ipykernel)",
   "language": "python",
   "name": "python3"
  },
  "language_info": {
   "codemirror_mode": {
    "name": "ipython",
    "version": 3
   },
   "file_extension": ".py",
   "mimetype": "text/x-python",
   "name": "python",
   "nbconvert_exporter": "python",
   "pygments_lexer": "ipython3",
   "version": "3.10.12"
  },
  "otter": {
   "OK_FORMAT": true,
   "assignment_name": "lab09A",
   "tests": {
    "q1p1": {
     "name": "q1p1",
     "points": null,
     "suites": [
      {
       "cases": [
        {
         "code": ">>> np.isclose(evalV(1), 30.36872, atol=0.01)\nTrue",
         "hidden": false,
         "locked": false,
         "points": 0
        },
        {
         "code": ">>> get_hash([evalV(h) for h in np.arange(1, 6)], 5) == 'cab0173151fc8d51e6d2fb7b2c16962f'\nTrue",
         "hidden": false,
         "locked": false,
         "points": 1
        }
       ],
       "scored": true,
       "setup": "",
       "teardown": "",
       "type": "doctest"
      }
     ]
    },
    "q1p10": {
     "name": "q1p10",
     "points": null,
     "suites": [
      {
       "cases": [
        {
         "code": ">>> z = ax3.get_legend_handles_labels()\n>>> fb = z[0][z[1].index('Bisection')]\n>>> path = fb.get_paths()[0]\n>>> get_hash(np.sort(np.unique(path.vertices[:, 1])), 4) == '469c30ad3f9150bd76272e5cc09b6616'\nTrue",
         "hidden": false,
         "locked": false,
         "points": 0.5
        },
        {
         "code": ">>> plotdata = {line.get_label(): line.get_ydata() for line in ax3.get_lines()}\n>>> get_hash(plotdata['solution'][0], 4) == 'e5f53791e854c3b33cf13e30406312a2'\nTrue",
         "hidden": false,
         "locked": false,
         "points": 0.5
        },
        {
         "code": ">>> plotdata = {line.get_label(): line.get_ydata() for line in ax3.get_lines()}\n>>> get_hash(plotdata['Newton-Raphson'], 4) == 'a619bcae08752f158de2e2d07ea47d24'\nTrue",
         "hidden": false,
         "locked": false,
         "points": 0.5
        },
        {
         "code": ">>> {line.get_marker() for line in ax3.get_lines() if line.get_label() != 'solution'} == {'o'} and {line.get_linestyle() for line in ax3.get_lines() if line.get_label() != 'solution'} == {'-'}\nTrue",
         "hidden": false,
         "locked": false,
         "points": 0.5
        }
       ],
       "scored": true,
       "setup": "",
       "teardown": "",
       "type": "doctest"
      }
     ]
    },
    "q1p2": {
     "name": "q1p2",
     "points": null,
     "suites": [
      {
       "cases": [
        {
         "code": ">>> total_volume > 0 and total_volume < 10\nTrue",
         "hidden": false,
         "locked": false,
         "points": 0
        },
        {
         "code": ">>> get_hash(total_volume, 4) == 'fd4c55c738a8e8c110920d67f21e93b9'\nTrue",
         "hidden": false,
         "locked": false,
         "points": 1
        }
       ],
       "scored": true,
       "setup": "",
       "teardown": "",
       "type": "doctest"
      }
     ]
    },
    "q1p3": {
     "name": "q1p3",
     "points": null,
     "suites": [
      {
       "cases": [
        {
         "code": ">>> import matplotlib\n>>> isinstance(ax1, matplotlib.axes._axes.Axes)\nTrue",
         "hidden": false,
         "locked": false,
         "points": 0.25
        },
        {
         "code": ">>> np.all(fig1.get_size_inches() == [8.0, 4.0])\nTrue",
         "hidden": false,
         "locked": false,
         "points": 0.25
        },
        {
         "code": ">>> {line.get_label().lower() for line in ax1.get_lines()} == {'desired volume', 'volume vs. height'}\nTrue",
         "hidden": false,
         "locked": false,
         "points": 0.25
        },
        {
         "code": ">>> line1 = list(filter(lambda x: x.get_label() == 'volume vs. height', ax1.get_lines()))[0]\n>>> xdata = line1.get_xdata()\n>>> xdata.shape == (50,)\nTrue",
         "hidden": false,
         "locked": false,
         "points": 0.25
        },
        {
         "code": ">>> line1 = list(filter(lambda x: x.get_label() == 'volume vs. height', ax1.get_lines()))[0]\n>>> xdata = line1.get_xdata()\n>>> get_hash(xdata, 3) == 'c97958d82c12e4f109e317f1667e1757'\nTrue",
         "hidden": false,
         "locked": false,
         "points": 0.25
        },
        {
         "code": ">>> line2 = list(filter(lambda x: x.get_label() == 'desired volume', ax1.get_lines()))[0]\n>>> ydata = np.array(line2.get_ydata())\n>>> np.all(ydata == 3000)\nTrue",
         "hidden": false,
         "locked": false,
         "points": 0.25
        },
        {
         "code": ">>> ax1.get_xgridlines()[0].get_visible()\nTrue",
         "hidden": false,
         "locked": false,
         "points": 0.25
        },
        {
         "code": ">>> ax1.get_legend().get_visible()\nTrue",
         "hidden": false,
         "locked": false,
         "points": 0.25
        }
       ],
       "scored": true,
       "setup": "",
       "teardown": "",
       "type": "doctest"
      }
     ]
    },
    "q1p4": {
     "name": "q1p4",
     "points": null,
     "suites": [
      {
       "cases": [
        {
         "code": ">>> evalf(0) == -3000 and evalf(20) > 1000\nTrue",
         "hidden": false,
         "locked": false,
         "points": 0
        },
        {
         "code": ">>> get_hash([evalf(h) for h in range(10, 16)], 4) == '94436faad921ede2ea6ec58b2e554f4b'\nTrue",
         "hidden": false,
         "locked": false,
         "points": 1
        }
       ],
       "scored": true,
       "setup": "",
       "teardown": "",
       "type": "doctest"
      }
     ]
    },
    "q1p5": {
     "name": "q1p5",
     "points": null,
     "suites": [
      {
       "cases": [
        {
         "code": ">>> type(compute_bisection_steps(0, 20, 1)) == int\nTrue",
         "hidden": false,
         "locked": false,
         "points": 0
        },
        {
         "code": ">>> compute_bisection_steps(0, 0.4, 1) == 0\nTrue",
         "hidden": false,
         "locked": false,
         "points": 0
        },
        {
         "code": ">>> [compute_bisection_steps(0, p, 1) for p in np.arange(20, 60, 4)] == [5, 5, 5, 5, 6, 6, 6, 6, 6, 6]\nTrue",
         "hidden": false,
         "locked": false,
         "points": 1
        },
        {
         "code": ">>> np.all([compute_bisection_steps(0, p, 1) for p in np.arange(20, 100, 7)] == [5, 5, 6, 6, 6, 6, 6, 7, 7, 7, 7, 7])\nTrue",
         "hidden": false,
         "locked": false,
         "points": 1
        }
       ],
       "scored": true,
       "setup": "",
       "teardown": "",
       "type": "doctest"
      }
     ]
    },
    "q1p6": {
     "name": "q1p6",
     "points": null,
     "suites": [
      {
       "cases": [
        {
         "code": ">>> (N, P) = bisection(0, 10, 3)\n>>> np.all(N == np.array([0.0, 5.0])) and np.all(P == np.array([10.0, 10.0]))\nTrue",
         "hidden": false,
         "locked": false,
         "points": 1
        },
        {
         "code": ">>> (N, P) = bisection(0, 0.3, 0.5)\n>>> N == np.array(0) and P == np.array(0.3)\nTrue",
         "hidden": false,
         "locked": false,
         "points": 1
        },
        {
         "code": ">>> (N, P) = bisection(0, 20, 0.7)\n>>> get_hash(N, 3) == '594dbad242cd23ad0a41a496054c9865' and get_hash(P, 3) == '5ea9d08c67c6e7d5d30c2da286174253'\nTrue",
         "hidden": false,
         "locked": false,
         "points": 2
        }
       ],
       "scored": true,
       "setup": "",
       "teardown": "",
       "type": "doctest"
      }
     ]
    },
    "q1p7": {
     "name": "q1p7",
     "points": null,
     "suites": [
      {
       "cases": [
        {
         "code": ">>> len(ax2.get_lines()) == 3\nTrue",
         "hidden": false,
         "locked": false,
         "points": 0
        },
        {
         "code": ">>> {line.get_label() for line in ax2.get_lines()} == {'N', 'P', 'hsol'}\nTrue",
         "hidden": false,
         "locked": false,
         "points": 0
        },
        {
         "code": ">>> xdata = [line.get_xdata() for line in ax2.get_lines() if line.get_label() == 'N'][0]\n>>> np.all(xdata == np.arange(8))\nTrue",
         "hidden": false,
         "locked": false,
         "points": 0.5
        },
        {
         "code": ">>> plotdata = {line.get_label(): line.get_ydata() for line in ax2.get_lines()}\n>>> get_hash(plotdata['hsol'][0], 4) == '9ff0e5612f7da2741e689c26b276a8c2'\nTrue",
         "hidden": false,
         "locked": false,
         "points": 0.5
        },
        {
         "code": ">>> plotdata = {line.get_label(): line.get_ydata() for line in ax2.get_lines()}\n>>> get_hash(plotdata['N'][0], 4) == '30565a8911a6bb487e3745c0ea3c8224' and get_hash(plotdata['P'][0], 4) == '75cf3ac5e70c76583be3efb5012bd44e'\nTrue",
         "hidden": false,
         "locked": false,
         "points": 0.5
        },
        {
         "code": ">>> plotdata = {line.get_label(): line for line in ax2.get_lines()}\n>>> plotdata['N'].get_linewidth() == 2.0 and plotdata['N'].get_marker() == 'o' and (plotdata['P'].get_linewidth() == 2.0) and (plotdata['P'].get_marker() == 'o')\nTrue",
         "hidden": false,
         "locked": false,
         "points": 0.5
        }
       ],
       "scored": true,
       "setup": "",
       "teardown": "",
       "type": "doctest"
      }
     ]
    },
    "q1p8": {
     "name": "q1p8",
     "points": null,
     "suites": [
      {
       "cases": [
        {
         "code": ">>> evalfprime(10) > 300 and evalfprime(10) < 320\nTrue",
         "hidden": false,
         "locked": false,
         "points": 0
        },
        {
         "code": ">>> get_hash([evalfprime(h) for h in np.linspace(10, 20, 5)], 5) == '9e45fa83f5b94d7392168566c0fd34cb'\nTrue",
         "hidden": false,
         "locked": false,
         "points": 1
        }
       ],
       "scored": true,
       "setup": "",
       "teardown": "",
       "type": "doctest"
      }
     ]
    },
    "q1p9": {
     "name": "q1p9",
     "points": null,
     "suites": [
      {
       "cases": [
        {
         "code": ">>> x = newton_raphson(x0=10, taux=1, tauf=1, maxsteps=10)\n>>> x[0] == 10\nTrue",
         "hidden": false,
         "locked": false,
         "points": 0.5
        },
        {
         "code": ">>> x = newton_raphson(x0=10, taux=1, tauf=1, maxsteps=10)\n>>> len(x) == 3\nTrue",
         "hidden": false,
         "locked": false,
         "points": 0.5
        },
        {
         "code": ">>> x = newton_raphson(x0=1, taux=1, tauf=1, maxsteps=5)\n>>> len(x) == 5\nTrue",
         "hidden": false,
         "locked": false,
         "points": 1
        },
        {
         "code": ">>> x = newton_raphson(x0=1, taux=0.1, tauf=0.1, maxsteps=100)\n>>> get_hash(x, 4) == 'cc67c66000938d314e4801d7ab53358e'\nTrue",
         "hidden": false,
         "locked": false
        },
        {
         "code": ">>> x = newton_raphson(x0=-10, taux=0.1, tauf=1, maxsteps=10)\n>>> get_hash(x, 4) == 'dcc0ecf5a677a9fe6a8bfbe0332ec63f'\nTrue",
         "hidden": false,
         "locked": false,
         "points": 1
        }
       ],
       "scored": true,
       "setup": "",
       "teardown": "",
       "type": "doctest"
      }
     ]
    }
   }
  }
 },
 "nbformat": 4,
 "nbformat_minor": 0
}
