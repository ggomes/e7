{
 "cells": [
  {
   "cell_type": "code",
   "execution_count": 1,
   "metadata": {
    "deletable": false,
    "editable": false
   },
   "outputs": [],
   "source": [
    "# Initialize Otter\n",
    "import otter\n",
    "grader = otter.Notebook(\"lab04A.ipynb\")"
   ]
  },
  {
   "cell_type": "code",
   "execution_count": 2,
   "metadata": {
    "execution": {
     "iopub.execute_input": "2024-02-12T18:08:06.449824Z",
     "iopub.status.busy": "2024-02-12T18:08:06.448894Z",
     "iopub.status.idle": "2024-02-12T18:08:06.518166Z",
     "shell.execute_reply": "2024-02-12T18:08:06.517614Z"
    }
   },
   "outputs": [],
   "source": [
    "from resources.hashutils import *"
   ]
  },
  {
   "cell_type": "markdown",
   "metadata": {},
   "source": [
    "---\n",
    "\n",
    "<h3><center>E7 -  Introduction to Programming for Scientists and Engineers</center></h3>\n",
    "\n",
    "<h2><center>Lab session #04-A <br></center></h2>\n",
    "\n",
    "<h1><center>Strings<br></center></h1>\n",
    "\n",
    "---"
   ]
  },
  {
   "cell_type": "markdown",
   "metadata": {},
   "source": [
    "# Question 1: Bank statement\n",
    "\n",
    "In this problem we will create a bank statement from a list of transactions. The list is provided to us in the form of a string:"
   ]
  },
  {
   "cell_type": "code",
   "execution_count": 3,
   "metadata": {
    "execution": {
     "iopub.execute_input": "2024-02-12T18:08:06.522412Z",
     "iopub.status.busy": "2024-02-12T18:08:06.520777Z",
     "iopub.status.idle": "2024-02-12T18:08:06.525465Z",
     "shell.execute_reply": "2024-02-12T18:08:06.525051Z"
    }
   },
   "outputs": [],
   "source": [
    "flat_string='1,5,2024,ATM Withdrawal,w,50;1,10,2024,paycheck,d,2500;1,15,2024,groceries,w,93.85;1,20,2024,clothes,w,75;1,25,2024,entertainment,w,25.50'"
   ]
  },
  {
   "cell_type": "markdown",
   "metadata": {},
   "source": [
    "The next few questions will guide you through the process of transforming the flat string into a nicely formatted bank statement. "
   ]
  },
  {
   "cell_type": "markdown",
   "metadata": {
    "deletable": false,
    "editable": false,
    "id": "m1IUkyzN9u7h"
   },
   "source": [
    "## Question 1.1: Split the string at semicolons (';') to obtain a list of transactions."
   ]
  },
  {
   "cell_type": "code",
   "execution_count": 4,
   "metadata": {
    "execution": {
     "iopub.execute_input": "2024-02-12T18:08:06.530305Z",
     "iopub.status.busy": "2024-02-12T18:08:06.529241Z",
     "iopub.status.idle": "2024-02-12T18:08:06.562209Z",
     "shell.execute_reply": "2024-02-12T18:08:06.561221Z"
    },
    "tags": [
     "otter_assign_solution_cell"
    ]
   },
   "outputs": [
    {
     "data": {
      "text/plain": [
       "['1,5,2024,ATM Withdrawal,w,50',\n",
       " '1,10,2024,paycheck,d,2500',\n",
       " '1,15,2024,groceries,w,93.85',\n",
       " '1,20,2024,clothes,w,75',\n",
       " '1,25,2024,entertainment,w,25.50']"
      ]
     },
     "execution_count": 4,
     "metadata": {},
     "output_type": "execute_result"
    }
   ],
   "source": [
    "transactions = flat_string.split(';')\n",
    "transactions"
   ]
  },
  {
   "cell_type": "code",
   "execution_count": 5,
   "metadata": {
    "deletable": false,
    "editable": false
   },
   "outputs": [
    {
     "data": {
      "text/html": [
       "<p><strong><pre style='display: inline;'>q1p1</pre></strong> passed! 🎉</p>"
      ],
      "text/plain": [
       "q1p1 results: All test cases passed!"
      ]
     },
     "execution_count": 5,
     "metadata": {},
     "output_type": "execute_result"
    }
   ],
   "source": [
    "grader.check(\"q1p1\")"
   ]
  },
  {
   "cell_type": "markdown",
   "metadata": {
    "deletable": false,
    "editable": false
   },
   "source": [
    "## Question 1.2: Split the first transaction into its parts.\n",
    "\n",
    "Again use the string's [`split`](https://docs.python.org/3.3/library/stdtypes.html#str.split) method to split the first entry in `transactions` into 6 separate strings. Call these `month`, `day`, `year`, `itemtype`, `w_or_d`, and `amount`."
   ]
  },
  {
   "cell_type": "code",
   "execution_count": 6,
   "metadata": {
    "execution": {
     "iopub.execute_input": "2024-02-12T18:08:06.603775Z",
     "iopub.status.busy": "2024-02-12T18:08:06.602956Z",
     "iopub.status.idle": "2024-02-12T18:08:06.609246Z",
     "shell.execute_reply": "2024-02-12T18:08:06.608856Z"
    },
    "tags": [
     "otter_assign_solution_cell"
    ]
   },
   "outputs": [],
   "source": [
    "month, day, year, itemtype, w_or_d, amount = transactions[0].split(',')"
   ]
  },
  {
   "cell_type": "code",
   "execution_count": 7,
   "metadata": {
    "deletable": false,
    "editable": false
   },
   "outputs": [
    {
     "data": {
      "text/html": [
       "<p><strong><pre style='display: inline;'>q1p2</pre></strong> passed! 🎉</p>"
      ],
      "text/plain": [
       "q1p2 results: All test cases passed!"
      ]
     },
     "execution_count": 7,
     "metadata": {},
     "output_type": "execute_result"
    }
   ],
   "source": [
    "grader.check(\"q1p2\")"
   ]
  },
  {
   "cell_type": "markdown",
   "metadata": {
    "deletable": false,
    "editable": false
   },
   "source": [
    "## Question 1.3: Convert the day, month, and year to integers\n",
    "\n",
    "Create new names `day_int`, `month_int`, and `year_int` for the numerical versions of these three strings."
   ]
  },
  {
   "cell_type": "code",
   "execution_count": 8,
   "metadata": {
    "execution": {
     "iopub.execute_input": "2024-02-12T18:08:06.626302Z",
     "iopub.status.busy": "2024-02-12T18:08:06.626159Z",
     "iopub.status.idle": "2024-02-12T18:08:06.629736Z",
     "shell.execute_reply": "2024-02-12T18:08:06.629333Z"
    },
    "tags": [
     "otter_assign_solution_cell"
    ]
   },
   "outputs": [],
   "source": [
    "day_int = int(day)\n",
    "month_int = int(month)\n",
    "year_int = int(year)"
   ]
  },
  {
   "cell_type": "code",
   "execution_count": 9,
   "metadata": {
    "deletable": false,
    "editable": false
   },
   "outputs": [
    {
     "data": {
      "text/html": [
       "<p><strong><pre style='display: inline;'>q1p3</pre></strong> passed! 🌟</p>"
      ],
      "text/plain": [
       "q1p3 results: All test cases passed!"
      ]
     },
     "execution_count": 9,
     "metadata": {},
     "output_type": "execute_result"
    }
   ],
   "source": [
    "grader.check(\"q1p3\")"
   ]
  },
  {
   "cell_type": "markdown",
   "metadata": {
    "deletable": false,
    "editable": false
   },
   "source": [
    "## Question 1.4: Convert w_or_d to a boolean,\n",
    "\n",
    "Call this boolean `is_withdrawal`. Its value should be `True` if the transaction was a withdrawal and `False` if it was deposit."
   ]
  },
  {
   "cell_type": "code",
   "execution_count": 10,
   "metadata": {
    "execution": {
     "iopub.execute_input": "2024-02-12T18:08:06.641060Z",
     "iopub.status.busy": "2024-02-12T18:08:06.640912Z",
     "iopub.status.idle": "2024-02-12T18:08:06.643905Z",
     "shell.execute_reply": "2024-02-12T18:08:06.643516Z"
    },
    "tags": [
     "otter_assign_solution_cell"
    ]
   },
   "outputs": [],
   "source": [
    "is_withdrawal = w_or_d=='w'"
   ]
  },
  {
   "cell_type": "code",
   "execution_count": 11,
   "metadata": {
    "deletable": false,
    "editable": false
   },
   "outputs": [
    {
     "data": {
      "text/html": [
       "<p><strong><pre style='display: inline;'>q1p4</pre></strong> passed! 🌟</p>"
      ],
      "text/plain": [
       "q1p4 results: All test cases passed!"
      ]
     },
     "execution_count": 11,
     "metadata": {},
     "output_type": "execute_result"
    }
   ],
   "source": [
    "grader.check(\"q1p4\")"
   ]
  },
  {
   "cell_type": "markdown",
   "metadata": {
    "deletable": false,
    "editable": false
   },
   "source": [
    "## Question 1.5: Convert the amount to a float.\n",
    "\n",
    "Name it `amount_float`."
   ]
  },
  {
   "cell_type": "code",
   "execution_count": 12,
   "metadata": {
    "execution": {
     "iopub.execute_input": "2024-02-12T18:08:06.655649Z",
     "iopub.status.busy": "2024-02-12T18:08:06.655480Z",
     "iopub.status.idle": "2024-02-12T18:08:06.658088Z",
     "shell.execute_reply": "2024-02-12T18:08:06.657733Z"
    },
    "tags": [
     "otter_assign_solution_cell"
    ]
   },
   "outputs": [],
   "source": [
    "amount_float = float(amount)"
   ]
  },
  {
   "cell_type": "code",
   "execution_count": 13,
   "metadata": {
    "deletable": false,
    "editable": false
   },
   "outputs": [
    {
     "data": {
      "text/html": [
       "<p><strong><pre style='display: inline;'>q1p5</pre></strong> passed! 🍀</p>"
      ],
      "text/plain": [
       "q1p5 results: All test cases passed!"
      ]
     },
     "execution_count": 13,
     "metadata": {},
     "output_type": "execute_result"
    }
   ],
   "source": [
    "grader.check(\"q1p5\")"
   ]
  },
  {
   "cell_type": "markdown",
   "metadata": {
    "deletable": false,
    "editable": false
   },
   "source": [
    "## Question 1.6: Process all transactions. Track the balance.\n",
    "\n",
    "Write a function that applies steps 1.2 through 1.5 to each of the transactions in the list. This function takes two inputs: the raw transactions string (`flat_string` in part 1.1), and an initial balance. The output of this function is a list of tuples. Each tuple gathers information for a particular transaction. The tuple consists of:\n",
    "```python\n",
    "(day_int,month_int,year_int,is_withdrawal,amount_float,balance)\n",
    "```"
   ]
  },
  {
   "cell_type": "code",
   "execution_count": 14,
   "metadata": {
    "execution": {
     "iopub.execute_input": "2024-02-12T18:08:06.664793Z",
     "iopub.status.busy": "2024-02-12T18:08:06.664565Z",
     "iopub.status.idle": "2024-02-12T18:08:06.669180Z",
     "shell.execute_reply": "2024-02-12T18:08:06.668791Z"
    },
    "tags": [
     "otter_assign_solution_cell"
    ]
   },
   "outputs": [],
   "source": [
    "def build_transactions_list(flat_string,initial_balance):\n",
    "\n",
    "    # initialize the balance\n",
    "    balance = initial_balance\n",
    "\n",
    "    # split the input string\n",
    "    transactions = flat_string.split(';')\n",
    "\n",
    "    # create an empty list\n",
    "    transactions_list = list()\n",
    "\n",
    "    for transaction in transactions:\n",
    "\n",
    "        # split the transaction string\n",
    "        month, day, year, itemtype, w_or_d, amount = transaction.split(',')\n",
    "\n",
    "        # type conversions\n",
    "        day_int = int(day)\n",
    "        month_int = int(month)\n",
    "        year_int = int(year)\n",
    "        is_withdrawal = w_or_d=='w'\n",
    "        amount_float = float(amount)\n",
    "        \n",
    "        # update the balance\n",
    "        if is_withdrawal:\n",
    "            balance -= amount_float\n",
    "        else:\n",
    "            balance += amount_float\n",
    "\n",
    "        # append this information to transactions_list\n",
    "        transaction_tuple = (day_int,month_int,year_int,is_withdrawal,amount_float,balance)\n",
    "        transactions_list.append(transaction_tuple)\n",
    "\n",
    "    return transactions_list"
   ]
  },
  {
   "cell_type": "code",
   "execution_count": 15,
   "metadata": {
    "deletable": false,
    "editable": false
   },
   "outputs": [
    {
     "data": {
      "text/html": [
       "<p><strong><pre style='display: inline;'>q1p6</pre></strong> passed! 🌟</p>"
      ],
      "text/plain": [
       "q1p6 results: All test cases passed!"
      ]
     },
     "execution_count": 15,
     "metadata": {},
     "output_type": "execute_result"
    }
   ],
   "source": [
    "grader.check(\"q1p6\")"
   ]
  },
  {
   "cell_type": "markdown",
   "metadata": {
    "deletable": false,
    "editable": false
   },
   "source": [
    "## Question 1.7: Format the bank statement. \n",
    "\n",
    "The final task is to create a nicely formatted statement to present to the customer. Your job is to write a function that transforms a list of transactions built with the `build_transactions_list` function into a list of strings as shown below. \n",
    "\n",
    "<img src=\"resources/bank_statement.png\" width=\"800\" />\n",
    "\n",
    "The statment has these lines:\n",
    "\n",
    "1. The name line has the string \"Name:\" followed by a space and the name of the customer. \n",
    "2. An empty string.\n",
    "3. A separator line consisting of 53 dashes `-`.\n",
    "4. A header. The parts of the header are:\n",
    "    + The word `Date`, right justified in a string of width 12.\n",
    "    + The word `Deposit`, right justified in a string of width 12.\n",
    "    + The word `Withdrawal`, right justified in a string of width 12.\n",
    "    + The word `Balance`, right justified in a string of width 12.\n",
    "    + Each of these are separated by a `|` character.\n",
    "5. Another separator line.\n",
    "6. The list of transactions. Notice the formatting of each column. Notice also that the formatting is different for deposits and withdrawals. \n",
    "7. A final separator line.\n",
    "\n",
    "You can check your solution against the image using the `pprint` function in the cell following the next one. "
   ]
  },
  {
   "cell_type": "code",
   "execution_count": 16,
   "metadata": {
    "execution": {
     "iopub.execute_input": "2024-02-12T18:08:06.682409Z",
     "iopub.status.busy": "2024-02-12T18:08:06.682253Z",
     "iopub.status.idle": "2024-02-12T18:08:06.687198Z",
     "shell.execute_reply": "2024-02-12T18:08:06.686813Z"
    },
    "tags": [
     "otter_assign_solution_cell"
    ]
   },
   "outputs": [],
   "source": [
    "def format_statement(customer_name,transactions_list):\n",
    "\n",
    "    WIDTH = 53 # This is the total width of the statement. \n",
    "               # and the number of dashes in the separator line.\n",
    "\n",
    "    # Initialize and empty list of lines\n",
    "    lines = []\n",
    "\n",
    "    # line 1: customer name\n",
    "    lines.append(f'Name: {customer_name}')\n",
    "\n",
    "    # line 2: empty\n",
    "    lines.append('')\n",
    "\n",
    "    # line 3: separator (Hint: multiply a string by an integer)\n",
    "    lines.append('-'*WIDTH)\n",
    "\n",
    "    # line 4: header\n",
    "    lines.append('|{:>12s}|{:>12s}|{:>12s}|{:>12s}|'.format('Date','Deposit','Withdrawal','Balance'))\n",
    "    \n",
    "    # line 5: another separator\n",
    "    lines.append('-'*WIDTH)\n",
    "\n",
    "    # transaction lines\n",
    "    for transaction in transactions_list:\n",
    "\n",
    "        # unpack the transaction\n",
    "        day,month,year,is_withdrawal,amount,balance = transaction\n",
    "\n",
    "        # format the date string\n",
    "        datestr = \"{:2d}/{:2d}/{:2d}\".format(month,day,year)\n",
    "\n",
    "        # create a transaction line depending on withdrawal or deposit\n",
    "        if is_withdrawal:\n",
    "            transaction_line = '|{:>12s}|{:>12s}|{:>12.2f}|{:>12.2f}|'.format(datestr,'',amount,balance)\n",
    "        else:\n",
    "            transaction_line = '|{:>12s}|{:>12.2f}|{:>12s}|{:>12.2f}|'.format(datestr,amount,'',balance)\n",
    "\n",
    "        # append it to lines\n",
    "        lines.append(transaction_line)\n",
    "\n",
    "    # final separator\n",
    "    lines.append('-'*WIDTH)\n",
    "\n",
    "    return lines"
   ]
  },
  {
   "cell_type": "code",
   "execution_count": 17,
   "metadata": {
    "execution": {
     "iopub.execute_input": "2024-02-12T18:08:06.688698Z",
     "iopub.status.busy": "2024-02-12T18:08:06.688556Z",
     "iopub.status.idle": "2024-02-12T18:08:06.691387Z",
     "shell.execute_reply": "2024-02-12T18:08:06.691042Z"
    },
    "tags": [
     "otter_assign_solution_cell"
    ]
   },
   "outputs": [
    {
     "name": "stdout",
     "output_type": "stream",
     "text": [
      "['Name: Ismat Vandale',\n",
      " '',\n",
      " '-----------------------------------------------------',\n",
      " '|        Date|     Deposit|  Withdrawal|     Balance|',\n",
      " '-----------------------------------------------------',\n",
      " '|   1/ 5/2024|            |       50.00|      950.00|',\n",
      " '|   1/10/2024|     2500.00|            |     3450.00|',\n",
      " '|   1/15/2024|            |       93.85|     3356.15|',\n",
      " '|   1/20/2024|            |       75.00|     3281.15|',\n",
      " '|   1/25/2024|            |       25.50|     3255.65|',\n",
      " '-----------------------------------------------------']\n"
     ]
    }
   ],
   "source": [
    "from pprint import pprint\n",
    "\n",
    "customer_name = 'Ismat Vandale'\n",
    "transactions_list = build_transactions_list(flat_string,1000)\n",
    "lines = format_statement(customer_name,transactions_list)\n",
    "pprint(lines)"
   ]
  },
  {
   "cell_type": "code",
   "execution_count": 18,
   "metadata": {
    "deletable": false,
    "editable": false
   },
   "outputs": [
    {
     "data": {
      "text/html": [
       "<p><strong><pre style='display: inline;'>q1p7</pre></strong> passed! 🍀</p>"
      ],
      "text/plain": [
       "q1p7 results: All test cases passed!"
      ]
     },
     "execution_count": 18,
     "metadata": {},
     "output_type": "execute_result"
    }
   ],
   "source": [
    "grader.check(\"q1p7\")"
   ]
  },
  {
   "cell_type": "markdown",
   "metadata": {
    "deletable": false,
    "editable": false
   },
   "source": [
    "---\n",
    "\n",
    "To double-check your work, the cell below will rerun all of the autograder tests."
   ]
  },
  {
   "cell_type": "code",
   "execution_count": 19,
   "metadata": {
    "deletable": false,
    "editable": false
   },
   "outputs": [
    {
     "data": {
      "text/plain": [
       "q1p1 results: All test cases passed!\n",
       "\n",
       "q1p2 results: All test cases passed!\n",
       "\n",
       "q1p3 results: All test cases passed!\n",
       "\n",
       "q1p4 results: All test cases passed!\n",
       "\n",
       "q1p5 results: All test cases passed!\n",
       "\n",
       "q1p6 results: All test cases passed!\n",
       "\n",
       "q1p7 results: All test cases passed!"
      ]
     },
     "execution_count": 19,
     "metadata": {},
     "output_type": "execute_result"
    }
   ],
   "source": [
    "grader.check_all()"
   ]
  },
  {
   "cell_type": "markdown",
   "metadata": {
    "deletable": false,
    "editable": false
   },
   "source": [
    "## Submission\n",
    "\n",
    "Make sure you have run all cells in your notebook in order before running the cell below, so that all images/graphs appear in the output. The cell below will generate a zip file for you to submit. **Please save before exporting!**\n",
    "\n",
    "Make sure you submit the .zip file to Gradescope."
   ]
  },
  {
   "cell_type": "code",
   "execution_count": 20,
   "metadata": {
    "deletable": false,
    "editable": false
   },
   "outputs": [
    {
     "data": {
      "text/html": [
       "\n",
       "                    <p>\n",
       "                        Your submission has been exported. Click\n",
       "                        <a href=\"lab04A_2024_04_19T14_28_12_339824.zip\" download=\"lab04A_2024_04_19T14_28_12_339824.zip\" target=\"_blank\">here</a> to download\n",
       "                        the zip file.\n",
       "                    </p>\n",
       "                "
      ],
      "text/plain": [
       "<IPython.core.display.HTML object>"
      ]
     },
     "metadata": {},
     "output_type": "display_data"
    }
   ],
   "source": [
    "# Save your notebook first, then run this cell to export your submission.\n",
    "grader.export(pdf=False)"
   ]
  },
  {
   "cell_type": "markdown",
   "metadata": {},
   "source": [
    " "
   ]
  }
 ],
 "metadata": {
  "anaconda-cloud": {},
  "colab": {
   "provenance": []
  },
  "kernelspec": {
   "display_name": "Python 3 (ipykernel)",
   "language": "python",
   "name": "python3"
  },
  "language_info": {
   "codemirror_mode": {
    "name": "ipython",
    "version": 3
   },
   "file_extension": ".py",
   "mimetype": "text/x-python",
   "name": "python",
   "nbconvert_exporter": "python",
   "pygments_lexer": "ipython3",
   "version": "3.10.12"
  },
  "otter": {
   "OK_FORMAT": true,
   "assignment_name": "lab04A",
   "tests": {
    "q1p1": {
     "name": "q1p1",
     "points": null,
     "suites": [
      {
       "cases": [
        {
         "code": ">>> isinstance(transactions, list) and len(transactions) == 5\nTrue",
         "hidden": false,
         "locked": false,
         "points": 0
        },
        {
         "code": ">>> get_hash(transactions[0]) == '4011a5fbceb3001e334b4f3ea142e590' and get_hash(transactions[1]) == 'c88ca52d57ff7ef3f932c16fb9d3ce9f'\nTrue",
         "hidden": false,
         "locked": false,
         "points": 1
        }
       ],
       "scored": true,
       "setup": "",
       "teardown": "",
       "type": "doctest"
      }
     ]
    },
    "q1p2": {
     "name": "q1p2",
     "points": null,
     "suites": [
      {
       "cases": [
        {
         "code": ">>> isinstance(month, str) and isinstance(day, str) and isinstance(year, str) and isinstance(itemtype, str) and isinstance(w_or_d, str) and isinstance(amount, str)\nTrue",
         "hidden": false,
         "locked": false,
         "points": 0
        },
        {
         "code": ">>> get_hash(month) == 'c4ca4238a0b923820dcc509a6f75849b' and get_hash(day) == 'e4da3b7fbbce2345d7772b0674a318d5' and (get_hash(year) == '07811dc6c422334ce36a09ff5cd6fe71') and (get_hash(itemtype) == '49defd0f3fdc923db244fb898145e311') and (get_hash(w_or_d) == 'f1290186a5d0b1ceab27f4e77c0c5d68') and (get_hash(amount) == 'c0c7c76d30bd3dcaefc96f40275bdc0a')\nTrue",
         "hidden": false,
         "locked": false,
         "points": 1
        }
       ],
       "scored": true,
       "setup": "",
       "teardown": "",
       "type": "doctest"
      }
     ]
    },
    "q1p3": {
     "name": "q1p3",
     "points": null,
     "suites": [
      {
       "cases": [
        {
         "code": ">>> isinstance(day_int, int) and isinstance(month_int, int) and isinstance(year_int, int)\nTrue",
         "hidden": false,
         "locked": false,
         "points": 0
        },
        {
         "code": ">>> get_hash(day_int, 1) == '336669dbe720233ed5577ddf81b653d3' and get_hash(month_int, 1) == 'e4c2e8edac362acab7123654b9e73432' and (get_hash(year_int, 4) == '48325466001978e098c8d0cb216d7cef')\nTrue",
         "hidden": false,
         "locked": false,
         "points": 1
        }
       ],
       "scored": true,
       "setup": "",
       "teardown": "",
       "type": "doctest"
      }
     ]
    },
    "q1p4": {
     "name": "q1p4",
     "points": null,
     "suites": [
      {
       "cases": [
        {
         "code": ">>> isinstance(is_withdrawal, bool)\nTrue",
         "hidden": false,
         "locked": false,
         "points": 0
        },
        {
         "code": ">>> get_hash(is_withdrawal) == 'e4c2e8edac362acab7123654b9e73432'\nTrue",
         "hidden": false,
         "locked": false,
         "points": 1
        }
       ],
       "scored": true,
       "setup": "",
       "teardown": "",
       "type": "doctest"
      }
     ]
    },
    "q1p5": {
     "name": "q1p5",
     "points": null,
     "suites": [
      {
       "cases": [
        {
         "code": ">>> isinstance(amount_float, float) and np.isclose(amount_float, 50.0)\nTrue",
         "hidden": false,
         "locked": false,
         "points": 1
        }
       ],
       "scored": true,
       "setup": "",
       "teardown": "",
       "type": "doctest"
      }
     ]
    },
    "q1p6": {
     "name": "q1p6",
     "points": null,
     "suites": [
      {
       "cases": [
        {
         "code": ">>> A = build_transactions_list(flat_string, 1000)\n>>> np.all(np.isclose(A[0], (5, 1, 2024, True, 50.0, 950.0))) and np.all(np.isclose(A[1], (10, 1, 2024, False, 2500, 3450.0))) and np.all(np.isclose(A[2], (15, 1, 2024, True, 93.85, 3356.15))) and np.all(np.isclose(A[3], (20, 1, 2024, True, 75, 3281.15))) and np.all(np.isclose(A[4], (25, 1, 2024, True, 25.5, 3255.65)))\nTrue",
         "hidden": false,
         "locked": false,
         "points": 0
        },
        {
         "code": ">>> flat_string = '2,9,2022,ATM Withdrawal,w,50;2,13,2024,paycheck,d,540.45;3,19,2024,groceries,w,54.82;5,03,2024,clothes,w,75.45;7,25,2024,entertainment,w,125.50'\n>>> get_hash(signif(build_transactions_list(flat_string, 1000), 6)) == '3b641790d00bbbbd9198532255073756'\nTrue",
         "hidden": false,
         "locked": false,
         "points": 1
        }
       ],
       "scored": true,
       "setup": "",
       "teardown": "",
       "type": "doctest"
      }
     ]
    },
    "q1p7": {
     "name": "q1p7",
     "points": null,
     "suites": [
      {
       "cases": [
        {
         "code": ">>> lines = format_statement('Ismat Vandale', build_transactions_list(flat_string, 1000))\n>>> len(lines) == 11\nTrue",
         "hidden": false,
         "locked": false,
         "points": 0
        },
        {
         "code": ">>> lines = format_statement('Ismat Vandale', build_transactions_list(flat_string, 1000))\n>>> [len(line) for line in lines] == [19, 0, 53, 53, 53, 53, 53, 53, 53, 53, 53]\nTrue",
         "hidden": false,
         "locked": false,
         "points": 0
        },
        {
         "code": ">>> lines = format_statement('Ismat Vandale', build_transactions_list(flat_string, 1000))\n>>> lines[0] == 'Name: Ismat Vandale'\nTrue",
         "hidden": false,
         "locked": false,
         "points": 0
        },
        {
         "code": ">>> stmt = format_statement('ONWRBOIWER', build_transactions_list('2,9,2022,ATM Withdrawal,w,50;2,13,2024,paycheck,d,540.45;3,19,2024,groceries,w,54.82;5,03,2024,clothes,w,75.45;7,25,2024,entertainment,w,125.50', 3243))\n>>> get_hash(stmt[0]) == '31967d1cf0bfa31a78960075d65ea84d' and len(stmt[1]) == 0 and (get_hash(stmt[2]) == get_hash(stmt[4]) == get_hash(stmt[-1]) == 'd856d631339828ebc2bde0f037fdaafe') and (get_hash(stmt[-2]) == '26cc06bd62dacaa34f0a37297f9fcc37')\nTrue",
         "hidden": false,
         "locked": false,
         "points": 1
        },
        {
         "code": ">>> stmt = format_statement('ONWRBOIWER', build_transactions_list('2,9,2022,ATM Withdrawal,w,50;2,13,2024,paycheck,d,540.45;3,19,2024,groceries,w,54.82;5,03,2024,clothes,w,75.45;7,25,2024,entertainment,w,125.50', 3243))\n>>> get_hash(stmt[0]) == '31967d1cf0bfa31a78960075d65ea84d' and get_hash(stmt[-2]) == '26cc06bd62dacaa34f0a37297f9fcc37'\nTrue",
         "hidden": false,
         "locked": false,
         "points": 1
        }
       ],
       "scored": true,
       "setup": "",
       "teardown": "",
       "type": "doctest"
      }
     ]
    }
   }
  }
 },
 "nbformat": 4,
 "nbformat_minor": 0
}
