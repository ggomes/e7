{
 "cells": [
  {
   "cell_type": "code",
   "execution_count": null,
   "metadata": {
    "deletable": false,
    "editable": false
   },
   "outputs": [],
   "source": [
    "# Initialize Otter\n",
    "import otter\n",
    "grader = otter.Notebook(\"lab05A.ipynb\")"
   ]
  },
  {
   "cell_type": "markdown",
   "metadata": {},
   "source": [
    "---\n",
    "\n",
    "<h3><center>E7 -  Introduction to Programming for Scientists and Engineers</center></h3>\n",
    "\n",
    "<h2><center>Lab session #05-A <br></center></h2>\n",
    "\n",
    "<h1><center>Functions and Modules<br></center></h1>\n",
    "\n",
    "---\n",
    "\n",
    "In this lab exercise we will practice making our own modules and running them on our laptops. The submission for this lab is a `.py` file. **You should not submit this notebook, nor does it generate a zip file**. This notebook is meant only as an aid for you to build the `.py` file that you will submit to Gradescope (`mymodule.py`). Once you get through the steps and tests below, you can follow the instructions at the end to assemble `mymodule.py` for final testing and submission to Gradescope.\n",
    "\n",
    "There are two main reasons to put code into a module, as opposed to a Jupyter notebook. First, a module can be imported and thus reused within other modules or Jupyter notebooks. This is the key to building large and complex programs. Second, again in contrast to Jupyter notebooks, modules can be run as *scripts* from a terminal.\n",
    "\n",
    "The module that we will build here is very simple (and not very useful). It contains a function called `do_operation(csv,op)` that takes two arguments:\n",
    "\n",
    "+ `csv`: a comma-separated string of numbers, for example `'1.2,0.5,3.6'`. \n",
    "+ `op`: a string that indicates one of three operations to perform on these numbers:`'sum'`, `'prod'`, or `'sort'`. These stand for \"summation\", \"product\", and \"sort\".\n",
    "\n",
    "`do_operation` returns the result of performing operation on the numbers."
   ]
  },
  {
   "cell_type": "code",
   "execution_count": null,
   "metadata": {
    "execution": {
     "iopub.execute_input": "2024-02-21T04:13:23.984384Z",
     "iopub.status.busy": "2024-02-21T04:13:23.984237Z",
     "iopub.status.idle": "2024-02-21T04:13:24.054602Z",
     "shell.execute_reply": "2024-02-21T04:13:24.054105Z"
    },
    "id": "PmQ0-tpz9u7g",
    "tags": []
   },
   "outputs": [],
   "source": [
    "from resources.hashutils import *\n",
    "import numpy as np"
   ]
  },
  {
   "cell_type": "markdown",
   "metadata": {
    "deletable": false,
    "editable": false
   },
   "source": [
    "# Part 1: Convert the csv string to a NumPy array.\n",
    "\n",
    "Before implementing `do_operation`, we must first write an auxiliary function called `csv2array(csv)` that takes the csv string as input and returns a NumPy array with the numerical values.  For example, with input `'1.2,0.5,3.6'`, `csv2array` should return the array `np.array([1.2,0.5,3.6])`.\n",
    "\n",
    "**Notes**: \n",
    "+ The dtype of the returned array should be `float64`.\n",
    "+ Don't worry about checking that the csv string contains only numbers -- the autograder will not test the case that the csv has non-numerical values.\n",
    "+ Also don't worry about the case that the input is an empty string.\n",
    "+ A neat challenge is to try to do this in one line of code, using a list comprehension.\n"
   ]
  },
  {
   "cell_type": "code",
   "execution_count": null,
   "metadata": {
    "execution": {
     "iopub.execute_input": "2024-02-21T04:13:24.057544Z",
     "iopub.status.busy": "2024-02-21T04:13:24.057294Z",
     "iopub.status.idle": "2024-02-21T04:13:24.067495Z",
     "shell.execute_reply": "2024-02-21T04:13:24.067039Z"
    },
    "tags": []
   },
   "outputs": [],
   "source": [
    "def csv2array(csv):\n",
    "    ..."
   ]
  },
  {
   "cell_type": "code",
   "execution_count": null,
   "metadata": {
    "deletable": false,
    "editable": false
   },
   "outputs": [],
   "source": [
    "grader.check(\"q1\")"
   ]
  },
  {
   "cell_type": "markdown",
   "metadata": {},
   "source": [
    "# Part 2: Write the `do_operation(csv,op)` function.\n",
    "\n",
    "As described earlier, this function takes a csv string as input, along with an operation to perform on the numbers in the string. The operation can be either to add them up (`'sum'`), to take their product (`'prod'`), or to sort them (`'sort'`).\n",
    "\n",
    "Here are additional specifications for `do_operation`:\n",
    "1. The `'sum'` and `'prod'` operations return a float. The `'sort'` operation returns a NumPy array.\n",
    "2. If omitted in the input, the operation should default to `'sum'`."
   ]
  },
  {
   "cell_type": "code",
   "execution_count": null,
   "metadata": {
    "execution": {
     "iopub.execute_input": "2024-02-21T04:13:24.121048Z",
     "iopub.status.busy": "2024-02-21T04:13:24.120741Z",
     "iopub.status.idle": "2024-02-21T04:13:24.130973Z",
     "shell.execute_reply": "2024-02-21T04:13:24.130487Z"
    },
    "tags": []
   },
   "outputs": [],
   "source": [
    "..."
   ]
  },
  {
   "cell_type": "code",
   "execution_count": null,
   "metadata": {
    "deletable": false,
    "editable": false
   },
   "outputs": [],
   "source": [
    "grader.check(\"q2\")"
   ]
  },
  {
   "cell_type": "markdown",
   "metadata": {},
   "source": [
    "# Part 3: From notebook to module\n",
    "\n",
    "If you passed the previous tests, you are now ready to convert your code into a Python module that you can run on your laptop. Follow these steps:\n",
    "\n",
    "1. First make sure that you have Python installed on your computer. You can find instructions for doing this in the document titled \"Installing Python\", which is stored in bCourses->Files.  \n",
    "\n",
    "2. Open any text editor.\n",
    "\n",
    "3. Copy-paste your two functions (`csv2array` and `do_operation`) into the editor. Be sure to put `csv2array` first, since it is used by `do_operation`. Remember to import NumPy at the top of the file.\n",
    "\n",
    "4. Save this file as `mymodule.py`.\n",
    "\n",
    "That's it! You can now import and use these two functions into other modules or notebooks. "
   ]
  },
  {
   "cell_type": "markdown",
   "metadata": {},
   "source": [
    "# Part 4: Try it out.\n",
    "\n",
    "This part is optional, but important. We will import `mymodule.py` into a new Jupyter notebook. You may not have a way of running Jupyter notebooks locally on your laptop yet. We will learn how to do that when we learn about VSCode. But you *can* create a new notebook in JupyterHub. \n",
    "\n",
    "1. Log in to the UC Berkeley DataHub at [https://data.berkeley.edu/datahub](https://data.berkeley.edu/datahub). Then click on \"DATAHUB LOGIN\". This will take you to your JupyterHub Home Page. \n",
    "\n",
    "2. Upload your `mymodule.py` file with the \"Upload\" button. Drag-and-drop also works.\n",
    "\n",
    "3. Create a new notebook by clicking on New->Python 3 (ipykernel).\n",
    "\n",
    "4. Import the module and use it. Type the following into the first cell of the notebook. Then run it and see that it performs as expected.\n",
    "\n",
    "\n",
    "<img src=\"resources/moduletest.png\" width=\"500\" />\n"
   ]
  },
  {
   "cell_type": "markdown",
   "metadata": {},
   "source": [
    "# Part 5: From module to script\n",
    "\n",
    "It can sometimes be useful to run python scripts from the terminal (a.k.a. the shell, command prompt, or command line). For example we'd like to be able to type:\n",
    "```\n",
    "python mymodule.py prod 4.3,5.4,3.07\n",
    "```\n",
    "into the terminal and obtain 71.2854 (the product of 4.3, 5.4, and 3.07). Such a runnable module is called a *script*.\n",
    "\n",
    "To convert a module into a script that can receive input parameters (the \"prod\" and \"4.3,5.4,3.07\" in the example above) from the command line, we need to add a special 'if' clause. \n",
    "```python \n",
    "if __name__==\"__main__\":\n",
    "    ...\n",
    "```\n",
    "This should be added to the end of the file, replacing the ellipsis (...) with code to be executed when running the module as a script (as opposed to importing it into another module or notebook). \n",
    "\n",
    "In our case we want to pass *two* input arguments from the command line into the script, then pass those along to the `do_operation` function, and print the result. This is accomplished with the following 'if' clause:\n",
    "```python \n",
    "if __name__==\"__main__\":\n",
    "\n",
    "    op=sys.argv[1]   # first input argument, e.g. 'prod'\n",
    "    csv=sys.argv[2]  # second input argument, e.g. '4.3,5.4,3.07'\n",
    "\n",
    "    value=do_operation(csv,op)\n",
    "    print(value)\n",
    "```\n",
    "Go ahead and add this snippet to the end of `mymodule.py` (the version on your laptop). You will also have to import the `sys` package at the top of `mymodule.py` for this to work. Then test the script in a command prompt (Mac users), PowerShell (Windows users), or terminal (Linux users). Once you are satisfied that it works correctly, you can submit the `mymodule.py` file to Gradescope, where it will be evaluated by the autograder. You can resubmit as many times as you like before the deadline. "
   ]
  },
  {
   "cell_type": "markdown",
   "metadata": {
    "deletable": false,
    "editable": false
   },
   "source": [
    "---\n",
    "\n",
    "To double-check your work, the cell below will rerun all of the autograder tests."
   ]
  },
  {
   "cell_type": "code",
   "execution_count": null,
   "metadata": {
    "deletable": false,
    "editable": false
   },
   "outputs": [],
   "source": [
    "grader.check_all()"
   ]
  },
  {
   "cell_type": "markdown",
   "metadata": {
    "deletable": false,
    "editable": false
   },
   "source": [
    "## Submission\n",
    "\n",
    "Make sure you have run all cells in your notebook in order before running the cell below, so that all images/graphs appear in the output. The cell below will generate a zip file for you to submit. **Please save before exporting!**\n",
    "\n",
    "Make sure you submit the .zip file to Gradescope."
   ]
  },
  {
   "cell_type": "code",
   "execution_count": null,
   "metadata": {
    "deletable": false,
    "editable": false
   },
   "outputs": [],
   "source": [
    "# Save your notebook first, then run this cell to export your submission.\n",
    "grader.export(pdf=False)"
   ]
  },
  {
   "cell_type": "markdown",
   "metadata": {},
   "source": [
    " "
   ]
  }
 ],
 "metadata": {
  "anaconda-cloud": {},
  "colab": {
   "provenance": []
  },
  "kernelspec": {
   "display_name": "Python 3 (ipykernel)",
   "language": "python",
   "name": "python3"
  },
  "language_info": {
   "codemirror_mode": {
    "name": "ipython",
    "version": 3
   },
   "file_extension": ".py",
   "mimetype": "text/x-python",
   "name": "python",
   "nbconvert_exporter": "python",
   "pygments_lexer": "ipython3",
   "version": "3.10.12"
  },
  "otter": {
   "OK_FORMAT": true,
   "assignment_name": "lab05A",
   "tests": {
    "q1": {
     "name": "q1",
     "points": null,
     "suites": [
      {
       "cases": [
        {
         "code": ">>> A = csv2array('1.1')\n>>> isinstance(A, np.ndarray) and A.dtype == 'float64' and (csv2array('1.1,2').shape == (2,))\nTrue",
         "hidden": false,
         "locked": false,
         "points": 0
        },
        {
         "code": ">>> z = np.random.rand(5)\n>>> np.all(np.isclose(csv2array(','.join([str(x) for x in z])), z, rtol=0.0001))\nTrue",
         "hidden": false,
         "locked": false,
         "points": 1
        }
       ],
       "scored": true,
       "setup": "",
       "teardown": "",
       "type": "doctest"
      }
     ]
    },
    "q2": {
     "name": "q2",
     "points": null,
     "suites": [
      {
       "cases": [
        {
         "code": ">>> do_operation('12,2,5', 'invalid command') is None\nTrue",
         "hidden": false,
         "locked": false,
         "points": 0
        },
        {
         "code": ">>> np.isclose(do_operation('12,2,5', 'sum'), 19) and np.isclose(do_operation('12,2,5', 'prod'), 120)\nTrue",
         "hidden": false,
         "locked": false,
         "points": 0
        },
        {
         "code": ">>> np.all(np.isclose(do_operation('12,2,5', 'sort'), np.array([2, 5, 12])))\nTrue",
         "hidden": false,
         "locked": false,
         "points": 1
        },
        {
         "code": ">>> z = np.random.randint(1000, size=5)\n>>> randstring = ','.join([str(x) for x in z])\n>>> np.isclose(do_operation(randstring), z.sum()).all() and np.isclose(do_operation(randstring, 'prod'), z.prod()).all() and np.isclose(do_operation(randstring, 'sort'), np.sort(z)).all()\nTrue",
         "hidden": false,
         "locked": false,
         "points": 1
        }
       ],
       "scored": true,
       "setup": "",
       "teardown": "",
       "type": "doctest"
      }
     ]
    }
   }
  }
 },
 "nbformat": 4,
 "nbformat_minor": 0
}
