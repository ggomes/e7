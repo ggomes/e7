{
 "cells": [
  {
   "cell_type": "code",
   "execution_count": 1,
   "metadata": {
    "deletable": false,
    "editable": false
   },
   "outputs": [],
   "source": [
    "# Initialize Otter\n",
    "import otter\n",
    "grader = otter.Notebook(\"lab01A.ipynb\")"
   ]
  },
  {
   "cell_type": "markdown",
   "metadata": {},
   "source": [
    "---\n",
    "\n",
    "<h3><center>E7 -  Introduction to Programming for Scientists and Engineers</center></h3>\n",
    "\n",
    "<h2><center>Lab session #01-A <br></center></h2>\n",
    "\n",
    "<h1><center>Numerical operations<br></center></h1>\n",
    "\n",
    "---"
   ]
  },
  {
   "cell_type": "code",
   "execution_count": 2,
   "metadata": {
    "execution": {
     "iopub.execute_input": "2024-01-22T05:29:45.126614Z",
     "iopub.status.busy": "2024-01-22T05:29:45.126029Z",
     "iopub.status.idle": "2024-01-22T05:29:45.139066Z",
     "shell.execute_reply": "2024-01-22T05:29:45.138022Z"
    },
    "id": "PmQ0-tpz9u7g",
    "tags": []
   },
   "outputs": [],
   "source": [
    "import math"
   ]
  },
  {
   "cell_type": "markdown",
   "metadata": {},
   "source": [
    "# Question 1: Broken phone?"
   ]
  },
  {
   "cell_type": "markdown",
   "metadata": {
    "id": "rAnqOxcr9u7h"
   },
   "source": [
    "A phone weighing $m=150$ grams is resting on the edge of a table whose surface is $h=75$ centimeters above the floor. The formula for the potential energy of the phone with respect to the floor is:\n",
    "\n",
    "$$ P  = mgh $$\n",
    "\n",
    "where $g=9.81\\; m/s^2$ is the acceleration due to gravity. \n"
   ]
  },
  {
   "cell_type": "markdown",
   "metadata": {
    "deletable": false,
    "editable": false,
    "id": "m1IUkyzN9u7h"
   },
   "source": [
    "## Question 1.1\n",
    "\n",
    "Define variables `m`, `h` and `g` for the mass, gravity, and height respectively. Assign their values in SI units (kilograms, meters, and meters-per-second-squared)."
   ]
  },
  {
   "cell_type": "code",
   "execution_count": 3,
   "metadata": {
    "execution": {
     "iopub.execute_input": "2024-01-22T05:29:45.143944Z",
     "iopub.status.busy": "2024-01-22T05:29:45.143583Z",
     "iopub.status.idle": "2024-01-22T05:29:45.152554Z",
     "shell.execute_reply": "2024-01-22T05:29:45.152049Z"
    },
    "tags": [
     "otter_assign_solution_cell"
    ]
   },
   "outputs": [],
   "source": [
    "m = 0.15\n",
    "h = 0.75\n",
    "g = 9.81"
   ]
  },
  {
   "cell_type": "code",
   "execution_count": 4,
   "metadata": {
    "deletable": false,
    "editable": false
   },
   "outputs": [
    {
     "data": {
      "text/html": [
       "<p><strong><pre style='display: inline;'>q1p1</pre></strong> passed! 💯</p>"
      ],
      "text/plain": [
       "q1p1 results: All test cases passed!"
      ]
     },
     "execution_count": 4,
     "metadata": {},
     "output_type": "execute_result"
    }
   ],
   "source": [
    "grader.check(\"q1p1\")"
   ]
  },
  {
   "cell_type": "markdown",
   "metadata": {
    "deletable": false,
    "editable": false
   },
   "source": [
    "### Question 1.2\n",
    "\n",
    "Compute the potential energy using the formula above. Assign the result to variable `P`."
   ]
  },
  {
   "cell_type": "code",
   "execution_count": 5,
   "metadata": {
    "execution": {
     "iopub.execute_input": "2024-01-22T05:29:45.188396Z",
     "iopub.status.busy": "2024-01-22T05:29:45.188160Z",
     "iopub.status.idle": "2024-01-22T05:29:45.190526Z",
     "shell.execute_reply": "2024-01-22T05:29:45.190223Z"
    },
    "tags": [
     "otter_assign_solution_cell"
    ]
   },
   "outputs": [],
   "source": [
    "P = m*g*h"
   ]
  },
  {
   "cell_type": "code",
   "execution_count": 6,
   "metadata": {
    "deletable": false,
    "editable": false
   },
   "outputs": [
    {
     "data": {
      "text/html": [
       "<p><strong><pre style='display: inline;'>q1p2</pre></strong> passed! 🍀</p>"
      ],
      "text/plain": [
       "q1p2 results: All test cases passed!"
      ]
     },
     "execution_count": 6,
     "metadata": {},
     "output_type": "execute_result"
    }
   ],
   "source": [
    "grader.check(\"q1p2\")"
   ]
  },
  {
   "cell_type": "markdown",
   "metadata": {
    "deletable": false,
    "editable": false
   },
   "source": [
    "### Question 1.3\n",
    "\n",
    "Suddenly the phone falls from the table. Its initial velocity is zero. Let's assume that 2\\% of its initial potential energy is lost to friction during the fall, and the remaining 98\\% is converted to kinetic energy $K$:\n",
    "\n",
    "$$ K = 0.98 \\times P$$\n",
    "\n",
    "The kinetic energy is a function of the velocity of the phone as it hits the floor ($v$):\n",
    "\n",
    "$$ K = \\frac{1}{2} m v^2$$\n",
    "\n",
    "Compute $K$ and $v$.\n",
    "\n",
    "**Hint**: [`math.sqrt`](https://docs.python.org/3/library/math.html#math.sqrt)"
   ]
  },
  {
   "cell_type": "code",
   "execution_count": 7,
   "metadata": {
    "execution": {
     "iopub.execute_input": "2024-01-22T05:29:45.195729Z",
     "iopub.status.busy": "2024-01-22T05:29:45.195597Z",
     "iopub.status.idle": "2024-01-22T05:29:45.198165Z",
     "shell.execute_reply": "2024-01-22T05:29:45.197873Z"
    },
    "tags": [
     "otter_assign_solution_cell"
    ]
   },
   "outputs": [],
   "source": [
    "K = 0.98*P\n",
    "v = math.sqrt(2*K/m)"
   ]
  },
  {
   "cell_type": "code",
   "execution_count": 8,
   "metadata": {
    "deletable": false,
    "editable": false
   },
   "outputs": [
    {
     "data": {
      "text/html": [
       "<p><strong><pre style='display: inline;'>q1p3</pre></strong> passed! ✨</p>"
      ],
      "text/plain": [
       "q1p3 results: All test cases passed!"
      ]
     },
     "execution_count": 8,
     "metadata": {},
     "output_type": "execute_result"
    }
   ],
   "source": [
    "grader.check(\"q1p3\")"
   ]
  },
  {
   "cell_type": "markdown",
   "metadata": {
    "deletable": false,
    "editable": false
   },
   "source": [
    "### Question 1.4\n",
    "\n",
    "The phone's screen will break whenever it suffers an impact speed of $4 \\;m/s$ or greater. Write a logical expression (involving `v`) that evaluates to `True` if the screen breaks and to `False` if it does not. "
   ]
  },
  {
   "cell_type": "code",
   "execution_count": 9,
   "metadata": {
    "execution": {
     "iopub.execute_input": "2024-01-22T05:29:45.207026Z",
     "iopub.status.busy": "2024-01-22T05:29:45.206886Z",
     "iopub.status.idle": "2024-01-22T05:29:45.209257Z",
     "shell.execute_reply": "2024-01-22T05:29:45.208956Z"
    },
    "tags": [
     "otter_assign_solution_cell"
    ]
   },
   "outputs": [],
   "source": [
    "screen_breaks = v>=4"
   ]
  },
  {
   "cell_type": "code",
   "execution_count": 10,
   "metadata": {
    "deletable": false,
    "editable": false
   },
   "outputs": [
    {
     "data": {
      "text/html": [
       "<p><strong><pre style='display: inline;'>q1p4</pre></strong> passed! 🌟</p>"
      ],
      "text/plain": [
       "q1p4 results: All test cases passed!"
      ]
     },
     "execution_count": 10,
     "metadata": {},
     "output_type": "execute_result"
    }
   ],
   "source": [
    "grader.check(\"q1p4\")"
   ]
  },
  {
   "cell_type": "markdown",
   "metadata": {},
   "source": [
    "# Question 2: The Great Pyramid of Giza\n"
   ]
  },
  {
   "cell_type": "markdown",
   "metadata": {},
   "source": [
    "The Great Pyramid of Giza is located at the base of the Nile delta and is the only of the Wonders of the Ancient World that remains standing. Its height ($h$ in the diagram below) is 146.6 meters, and its base ($b$ in the diagram) is 230.33 meters.\n",
    "\n",
    "<img src=\"resources/giza.png\" width=\"800\" />"
   ]
  },
  {
   "cell_type": "markdown",
   "metadata": {
    "deletable": false,
    "editable": false
   },
   "source": [
    "## Question 2.1\n",
    "\n",
    "Define `h` and `b` as the height and base length of the Great Pyramid in SI units. "
   ]
  },
  {
   "cell_type": "code",
   "execution_count": 11,
   "metadata": {
    "execution": {
     "iopub.execute_input": "2024-01-22T05:29:45.214266Z",
     "iopub.status.busy": "2024-01-22T05:29:45.214130Z",
     "iopub.status.idle": "2024-01-22T05:29:45.216438Z",
     "shell.execute_reply": "2024-01-22T05:29:45.216144Z"
    },
    "tags": [
     "otter_assign_solution_cell"
    ]
   },
   "outputs": [],
   "source": [
    "h = 146.6\n",
    "b = 230"
   ]
  },
  {
   "cell_type": "code",
   "execution_count": 12,
   "metadata": {
    "deletable": false,
    "editable": false
   },
   "outputs": [
    {
     "data": {
      "text/html": [
       "<p><strong><pre style='display: inline;'>q2p1</pre></strong> passed! ✨</p>"
      ],
      "text/plain": [
       "q2p1 results: All test cases passed!"
      ]
     },
     "execution_count": 12,
     "metadata": {},
     "output_type": "execute_result"
    }
   ],
   "source": [
    "grader.check(\"q2p1\")"
   ]
  },
  {
   "cell_type": "markdown",
   "metadata": {
    "deletable": false,
    "editable": false
   },
   "source": [
    "### Question 2.2\n",
    "\n",
    "Define `alpha_rad` and `alpha_deg` as the slope of the pyramid ($\\alpha$ in the figure) in radians and degrees respectively. \n",
    "\n",
    "**Hint**: [math.atan](https://docs.python.org/3/library/math.html#math.atan), [math.degrees](https://docs.python.org/3/library/math.html#math.degrees)"
   ]
  },
  {
   "cell_type": "code",
   "execution_count": 13,
   "metadata": {
    "execution": {
     "iopub.execute_input": "2024-01-22T05:29:45.221658Z",
     "iopub.status.busy": "2024-01-22T05:29:45.221527Z",
     "iopub.status.idle": "2024-01-22T05:29:45.224020Z",
     "shell.execute_reply": "2024-01-22T05:29:45.223723Z"
    },
    "tags": [
     "otter_assign_solution_cell"
    ]
   },
   "outputs": [],
   "source": [
    "alpha_rad = math.atan(h/(b/2))\n",
    "alpha_deg = math.degrees(alpha_rad)"
   ]
  },
  {
   "cell_type": "code",
   "execution_count": 14,
   "metadata": {
    "deletable": false,
    "editable": false
   },
   "outputs": [
    {
     "data": {
      "text/html": [
       "<p><strong><pre style='display: inline;'>q2p2</pre></strong> passed! 🙌</p>"
      ],
      "text/plain": [
       "q2p2 results: All test cases passed!"
      ]
     },
     "execution_count": 14,
     "metadata": {},
     "output_type": "execute_result"
    }
   ],
   "source": [
    "grader.check(\"q2p2\")"
   ]
  },
  {
   "cell_type": "markdown",
   "metadata": {
    "deletable": false,
    "editable": false
   },
   "source": [
    "### Question 2.3\n",
    "\n",
    "The volume of a square-based pyramid is given by the formula,\n",
    "$$ V = \\frac{b^2 h}{3} $$\n",
    "Estimate the volume of the Great Pyramid using this formula, and assign the result to the variable `V`. "
   ]
  },
  {
   "cell_type": "code",
   "execution_count": 15,
   "metadata": {
    "execution": {
     "iopub.execute_input": "2024-01-22T05:29:45.232692Z",
     "iopub.status.busy": "2024-01-22T05:29:45.232561Z",
     "iopub.status.idle": "2024-01-22T05:29:45.234896Z",
     "shell.execute_reply": "2024-01-22T05:29:45.234604Z"
    },
    "tags": [
     "otter_assign_solution_cell"
    ]
   },
   "outputs": [],
   "source": [
    "V = b**2*h/3"
   ]
  },
  {
   "cell_type": "code",
   "execution_count": 16,
   "metadata": {
    "deletable": false,
    "editable": false
   },
   "outputs": [
    {
     "data": {
      "text/html": [
       "<p><strong><pre style='display: inline;'>q2p3</pre></strong> passed! 🌟</p>"
      ],
      "text/plain": [
       "q2p3 results: All test cases passed!"
      ]
     },
     "execution_count": 16,
     "metadata": {},
     "output_type": "execute_result"
    }
   ],
   "source": [
    "grader.check(\"q2p3\")"
   ]
  },
  {
   "cell_type": "markdown",
   "metadata": {
    "deletable": false,
    "editable": false
   },
   "source": [
    "### Question 2.4\n",
    "\n",
    "A friend wishes to build a scale model of the pyramid using a gypsum plaster with a density of $2320\\; kg/m^3$. The total weight of the model should be $20\\;kg$.\n",
    "\n",
    "Find the total volume `Vm` of the scale model in $m^3$."
   ]
  },
  {
   "cell_type": "code",
   "execution_count": 17,
   "metadata": {
    "execution": {
     "iopub.execute_input": "2024-01-22T05:29:45.240785Z",
     "iopub.status.busy": "2024-01-22T05:29:45.240630Z",
     "iopub.status.idle": "2024-01-22T05:29:45.243651Z",
     "shell.execute_reply": "2024-01-22T05:29:45.243347Z"
    },
    "tags": [
     "otter_assign_solution_cell"
    ]
   },
   "outputs": [],
   "source": [
    "Vm = 20/2320"
   ]
  },
  {
   "cell_type": "code",
   "execution_count": 18,
   "metadata": {
    "deletable": false,
    "editable": false
   },
   "outputs": [
    {
     "data": {
      "text/html": [
       "<p><strong><pre style='display: inline;'>q2p4</pre></strong> passed! ✨</p>"
      ],
      "text/plain": [
       "q2p4 results: All test cases passed!"
      ]
     },
     "execution_count": 18,
     "metadata": {},
     "output_type": "execute_result"
    }
   ],
   "source": [
    "grader.check(\"q2p4\")"
   ]
  },
  {
   "cell_type": "markdown",
   "metadata": {
    "deletable": false,
    "editable": false
   },
   "source": [
    "### Question 2.5\n",
    "\n",
    "Compute the model's linear scaling factor $s$ as the cube-root of the ratio of `Vm` to `V`:\n",
    "\n",
    "$$ s = \\sqrt[3]{\\frac{V_m}{V}}$$ \n",
    "\n",
    "**Hint** [math.pow](https://docs.python.org/3/library/math.html#math.pow)"
   ]
  },
  {
   "cell_type": "code",
   "execution_count": 19,
   "metadata": {
    "execution": {
     "iopub.execute_input": "2024-01-22T05:29:45.249062Z",
     "iopub.status.busy": "2024-01-22T05:29:45.248841Z",
     "iopub.status.idle": "2024-01-22T05:29:45.251216Z",
     "shell.execute_reply": "2024-01-22T05:29:45.250916Z"
    },
    "tags": [
     "otter_assign_solution_cell"
    ]
   },
   "outputs": [],
   "source": [
    "s = math.pow(Vm/V,1/3)"
   ]
  },
  {
   "cell_type": "code",
   "execution_count": 20,
   "metadata": {
    "deletable": false,
    "editable": false
   },
   "outputs": [
    {
     "data": {
      "text/html": [
       "<p><strong><pre style='display: inline;'>q2p5</pre></strong> passed! 🍀</p>"
      ],
      "text/plain": [
       "q2p5 results: All test cases passed!"
      ]
     },
     "execution_count": 20,
     "metadata": {},
     "output_type": "execute_result"
    }
   ],
   "source": [
    "grader.check(\"q2p5\")"
   ]
  },
  {
   "cell_type": "markdown",
   "metadata": {
    "deletable": false,
    "editable": false
   },
   "source": [
    "### Question 2.6\n",
    "\n",
    "Find the height `hm` of the model (in meters), as well as its base dimension `bm`."
   ]
  },
  {
   "cell_type": "code",
   "execution_count": 21,
   "metadata": {
    "execution": {
     "iopub.execute_input": "2024-01-22T05:29:45.256495Z",
     "iopub.status.busy": "2024-01-22T05:29:45.256353Z",
     "iopub.status.idle": "2024-01-22T05:29:45.258996Z",
     "shell.execute_reply": "2024-01-22T05:29:45.258701Z"
    },
    "tags": [
     "otter_assign_solution_cell"
    ]
   },
   "outputs": [],
   "source": [
    "hm = h*s\n",
    "bm = b*s"
   ]
  },
  {
   "cell_type": "code",
   "execution_count": 22,
   "metadata": {
    "deletable": false,
    "editable": false
   },
   "outputs": [
    {
     "data": {
      "text/html": [
       "<p><strong><pre style='display: inline;'>q2p6</pre></strong> passed! 🙌</p>"
      ],
      "text/plain": [
       "q2p6 results: All test cases passed!"
      ]
     },
     "execution_count": 22,
     "metadata": {},
     "output_type": "execute_result"
    }
   ],
   "source": [
    "grader.check(\"q2p6\")"
   ]
  },
  {
   "cell_type": "markdown",
   "metadata": {},
   "source": [
    "# Question 3: Vibrating rod"
   ]
  },
  {
   "cell_type": "markdown",
   "metadata": {},
   "source": [
    "A flexible metal rod is rigidly attached to a wall on one side. The other side is struck with a hammer, causing it to vibrate. The displacement of the tip of the rod is measured in meters and denoted with $x(t)$ ($t$ is time in seconds). \n",
    "\n",
    "<img src=\"resources/rod.png\" width=\"700\" />\n",
    "\n",
    "The figure below shows the evolution of $x(t)$ over time. The clock starts at $t=0$ when the rod has reached its maximum positive displacement following the hammer blow ($x_0$). \n",
    "\n",
    "<img src=\"resources/xvt.png\" width=\"1000\" />\n",
    "\n",
    "The formula for $x(t)$ is:\n",
    "\n",
    "$$x(t)=x_0 \\: e^{-at}\\cos(\\omega t)$$\n",
    "\n",
    "where $\\omega$ is the frequency of oscillations of the rod and $a$ is its damping factor. Their Python variable names and associated numerical values are given in the table below.\n",
    "\n",
    "| Description    | Math symbol | Python variable     | Value |\n",
    "| -------- | :-------: | :-------: | ------- |\n",
    "| initial displacement  | $x_0$    | `x0` | 0.01 meters |\n",
    "| frequency of oscillations | $\\omega$ | `omega` |  200 rad/sec |\n",
    "| damping factor    | $a$     | `a` | 1 sec $\\!{}^{-1}$|"
   ]
  },
  {
   "cell_type": "markdown",
   "metadata": {
    "deletable": false,
    "editable": false
   },
   "source": [
    "## Question 3.1\n",
    "\n",
    "Define `x0`, `omega`, and `a`."
   ]
  },
  {
   "cell_type": "code",
   "execution_count": 23,
   "metadata": {
    "execution": {
     "iopub.execute_input": "2024-01-22T05:29:45.268792Z",
     "iopub.status.busy": "2024-01-22T05:29:45.268566Z",
     "iopub.status.idle": "2024-01-22T05:29:45.271168Z",
     "shell.execute_reply": "2024-01-22T05:29:45.270882Z"
    },
    "tags": [
     "otter_assign_solution_cell"
    ]
   },
   "outputs": [],
   "source": [
    "x0 = 0.01\n",
    "omega = 200\n",
    "a = 1"
   ]
  },
  {
   "cell_type": "code",
   "execution_count": 24,
   "metadata": {
    "deletable": false,
    "editable": false
   },
   "outputs": [
    {
     "data": {
      "text/html": [
       "<p><strong><pre style='display: inline;'>q3p1</pre></strong> passed! 🌈</p>"
      ],
      "text/plain": [
       "q3p1 results: All test cases passed!"
      ]
     },
     "execution_count": 24,
     "metadata": {},
     "output_type": "execute_result"
    }
   ],
   "source": [
    "grader.check(\"q3p1\")"
   ]
  },
  {
   "cell_type": "markdown",
   "metadata": {
    "deletable": false,
    "editable": false
   },
   "source": [
    "## Question 3.2\n",
    "\n",
    "Compute the value of $x(t)$ after $t=0.07$ seconds. Assign this value to the variable `xA`.\n",
    "\n",
    "**Hint**: [math.exp](https://docs.python.org/3/library/math.html#math.exp) and [math.cos](https://docs.python.org/3/library/math.html#math.cos)"
   ]
  },
  {
   "cell_type": "code",
   "execution_count": 25,
   "metadata": {
    "execution": {
     "iopub.execute_input": "2024-01-22T05:29:45.276962Z",
     "iopub.status.busy": "2024-01-22T05:29:45.276803Z",
     "iopub.status.idle": "2024-01-22T05:29:45.279484Z",
     "shell.execute_reply": "2024-01-22T05:29:45.279208Z"
    },
    "tags": [
     "otter_assign_solution_cell"
    ]
   },
   "outputs": [],
   "source": [
    "t = 0.07\n",
    "xA = x0 * math.exp(-a*t)*math.cos(omega*t)"
   ]
  },
  {
   "cell_type": "code",
   "execution_count": 26,
   "metadata": {
    "deletable": false,
    "editable": false
   },
   "outputs": [
    {
     "data": {
      "text/html": [
       "<p><strong><pre style='display: inline;'>q3p2</pre></strong> passed! 🌈</p>"
      ],
      "text/plain": [
       "q3p2 results: All test cases passed!"
      ]
     },
     "execution_count": 26,
     "metadata": {},
     "output_type": "execute_result"
    }
   ],
   "source": [
    "grader.check(\"q3p2\")"
   ]
  },
  {
   "cell_type": "markdown",
   "metadata": {
    "deletable": false,
    "editable": false
   },
   "source": [
    "## Question 3.3\n",
    "\n",
    "Using [Euler's formula](https://en.wikipedia.org/wiki/Euler%27s_formula), one can show that the displacement of the rod can also be expressed using complex variables, as follows:\n",
    "\n",
    "$$x(t) = \\text{Re}\\left[ \\:x_0 \\: \\exp\\left((-a+\\omega j)t\\right)\\: \\right]$$\n",
    "\n",
    "Here \"$\\text{Re}[z]$\" is the real part of a complex variable $z$, and \"exp\" is the exponential function (ie. powers of Euler's number $e$). \n",
    "\n",
    "$j$ is the imaginary unit: $j=\\sqrt{-1}$.\n",
    "\n",
    "Use this formula to compute $x(t)$ at time $t=0.04$. Assign this value to the variable `xB`. \n",
    "\n",
    "**Hints**: \n",
    "+ [cmath.exp](https://docs.python.org/3/library/cmath.html#cmath.exp)\n",
    "+ We suggest to compute `xB` in two parts. First define a complex variable `z` as $z =  x_0 \\: \\exp\\left((-a+\\omega j)t\\right) $, and then obtain its real part using `z.real`."
   ]
  },
  {
   "cell_type": "code",
   "execution_count": 27,
   "metadata": {
    "execution": {
     "iopub.execute_input": "2024-01-22T05:29:45.285073Z",
     "iopub.status.busy": "2024-01-22T05:29:45.284966Z",
     "iopub.status.idle": "2024-01-22T05:29:45.287883Z",
     "shell.execute_reply": "2024-01-22T05:29:45.287593Z"
    },
    "tags": [
     "otter_assign_solution_cell"
    ]
   },
   "outputs": [],
   "source": [
    "import cmath\n",
    "t = 0.04\n",
    "z  = cmath.exp(-a*t + omega*t*1j)\n",
    "xB = x0 * z.real"
   ]
  },
  {
   "cell_type": "code",
   "execution_count": 28,
   "metadata": {
    "deletable": false,
    "editable": false
   },
   "outputs": [
    {
     "data": {
      "text/html": [
       "<p><strong><pre style='display: inline;'>q3p3</pre></strong> passed! 🌟</p>"
      ],
      "text/plain": [
       "q3p3 results: All test cases passed!"
      ]
     },
     "execution_count": 28,
     "metadata": {},
     "output_type": "execute_result"
    }
   ],
   "source": [
    "grader.check(\"q3p3\")"
   ]
  },
  {
   "cell_type": "markdown",
   "metadata": {
    "deletable": false,
    "editable": false
   },
   "source": [
    "## Submission\n",
    "\n",
    "Make sure you have run all cells in your notebook in order before running the cell below, so that all images/graphs appear in the output. The cell below will generate a zip file for you to submit. **Please save before exporting!**\n",
    "\n",
    "Make sure you submit the .zip file to Gradescope."
   ]
  },
  {
   "cell_type": "code",
   "execution_count": 29,
   "metadata": {
    "deletable": false,
    "editable": false
   },
   "outputs": [
    {
     "data": {
      "text/html": [
       "\n",
       "                    <p>\n",
       "                        Your submission has been exported. Click\n",
       "                        <a href=\"lab01A_2024_04_19T14_10_01_719720.zip\" download=\"lab01A_2024_04_19T14_10_01_719720.zip\" target=\"_blank\">here</a> to download\n",
       "                        the zip file.\n",
       "                    </p>\n",
       "                "
      ],
      "text/plain": [
       "<IPython.core.display.HTML object>"
      ]
     },
     "metadata": {},
     "output_type": "display_data"
    }
   ],
   "source": [
    "# Save your notebook first, then run this cell to export your submission.\n",
    "grader.export(pdf=False)"
   ]
  },
  {
   "cell_type": "markdown",
   "metadata": {},
   "source": [
    " "
   ]
  }
 ],
 "metadata": {
  "anaconda-cloud": {},
  "colab": {
   "provenance": []
  },
  "kernelspec": {
   "display_name": "Python 3 (ipykernel)",
   "language": "python",
   "name": "python3"
  },
  "language_info": {
   "codemirror_mode": {
    "name": "ipython",
    "version": 3
   },
   "file_extension": ".py",
   "mimetype": "text/x-python",
   "name": "python",
   "nbconvert_exporter": "python",
   "pygments_lexer": "ipython3",
   "version": "3.10.12"
  },
  "otter": {
   "OK_FORMAT": true,
   "assignment_name": "lab01A",
   "tests": {
    "q1p1": {
     "name": "q1p1",
     "points": null,
     "suites": [
      {
       "cases": [
        {
         "code": ">>> math.isclose(m, 0.15)\nTrue",
         "hidden": false,
         "locked": false,
         "points": 1
        },
        {
         "code": ">>> math.isclose(h, 0.75)\nTrue",
         "hidden": false,
         "locked": false,
         "points": 1
        },
        {
         "code": ">>> math.isclose(g, 9.81)\nTrue",
         "hidden": false,
         "locked": false,
         "points": 1
        }
       ],
       "scored": true,
       "setup": "",
       "teardown": "",
       "type": "doctest"
      }
     ]
    },
    "q1p2": {
     "name": "q1p2",
     "points": null,
     "suites": [
      {
       "cases": [
        {
         "code": ">>> math.isclose(P, 1.103625, rel_tol=0.01)\nTrue",
         "hidden": false,
         "locked": false,
         "points": 1
        }
       ],
       "scored": true,
       "setup": "",
       "teardown": "",
       "type": "doctest"
      }
     ]
    },
    "q1p3": {
     "name": "q1p3",
     "points": null,
     "suites": [
      {
       "cases": [
        {
         "code": ">>> math.isclose(K, 1.0815525, rel_tol=0.01)\nTrue",
         "hidden": false,
         "locked": false,
         "points": 1
        },
        {
         "code": ">>> math.isclose(v, 3.7974, rel_tol=0.01)\nTrue",
         "hidden": false,
         "locked": false,
         "points": 1
        }
       ],
       "scored": true,
       "setup": "",
       "teardown": "",
       "type": "doctest"
      }
     ]
    },
    "q1p4": {
     "name": "q1p4",
     "points": null,
     "suites": [
      {
       "cases": [
        {
         "code": ">>> screen_breaks == False\nTrue",
         "hidden": false,
         "locked": false,
         "points": 1
        }
       ],
       "scored": true,
       "setup": "",
       "teardown": "",
       "type": "doctest"
      }
     ]
    },
    "q2p1": {
     "name": "q2p1",
     "points": null,
     "suites": [
      {
       "cases": [
        {
         "code": ">>> math.isclose(h, 146.6, rel_tol=0.01) and math.isclose(b, 230.0, rel_tol=0.01)\nTrue",
         "hidden": false,
         "locked": false,
         "points": 1
        }
       ],
       "scored": true,
       "setup": "",
       "teardown": "",
       "type": "doctest"
      }
     ]
    },
    "q2p2": {
     "name": "q2p2",
     "points": null,
     "suites": [
      {
       "cases": [
        {
         "code": ">>> math.isclose(alpha_rad, 0.9056108355626618, rel_tol=0.01)\nTrue",
         "hidden": false,
         "locked": false,
         "points": 1
        },
        {
         "code": ">>> math.isclose(alpha_deg, 51.88767875905652, rel_tol=0.01)\nTrue",
         "hidden": true,
         "locked": false,
         "points": 1
        }
       ],
       "scored": true,
       "setup": "",
       "teardown": "",
       "type": "doctest"
      }
     ]
    },
    "q2p3": {
     "name": "q2p3",
     "points": null,
     "suites": [
      {
       "cases": [
        {
         "code": ">>> math.isclose(V, 2585046.66, rel_tol=0.01)\nTrue",
         "hidden": false,
         "locked": false,
         "points": 1
        }
       ],
       "scored": true,
       "setup": "",
       "teardown": "",
       "type": "doctest"
      }
     ]
    },
    "q2p4": {
     "name": "q2p4",
     "points": null,
     "suites": [
      {
       "cases": [
        {
         "code": ">>> math.isclose(Vm, 0.008620689655172414, rel_tol=0.01)\nTrue",
         "hidden": false,
         "locked": false,
         "points": 1
        }
       ],
       "scored": true,
       "setup": "",
       "teardown": "",
       "type": "doctest"
      }
     ]
    },
    "q2p5": {
     "name": "q2p5",
     "points": null,
     "suites": [
      {
       "cases": [
        {
         "code": ">>> math.isclose(s, 0.0014940250332142386, rel_tol=0.01)\nTrue",
         "hidden": false,
         "locked": false,
         "points": 1
        }
       ],
       "scored": true,
       "setup": "",
       "teardown": "",
       "type": "doctest"
      }
     ]
    },
    "q2p6": {
     "name": "q2p6",
     "points": null,
     "suites": [
      {
       "cases": [
        {
         "code": ">>> math.isclose(hm, 0.21902406986920736, rel_tol=0.01)\nTrue",
         "hidden": false,
         "locked": false,
         "points": 1
        },
        {
         "code": ">>> math.isclose(bm, 0.3436257576392749, rel_tol=0.01)\nTrue",
         "hidden": false,
         "locked": false,
         "points": 1
        }
       ],
       "scored": true,
       "setup": "",
       "teardown": "",
       "type": "doctest"
      }
     ]
    },
    "q3p1": {
     "name": "q3p1",
     "points": null,
     "suites": [
      {
       "cases": [
        {
         "code": ">>> math.isclose(x0, 0.01) and math.isclose(omega, 200) and math.isclose(a, 1)\nTrue",
         "hidden": false,
         "locked": false,
         "points": 1
        }
       ],
       "scored": true,
       "setup": "",
       "teardown": "",
       "type": "doctest"
      }
     ]
    },
    "q3p2": {
     "name": "q3p2",
     "points": null,
     "suites": [
      {
       "cases": [
        {
         "code": ">>> math.isclose(xA, 0.001274929372081135, rel_tol=1e-06)\nTrue",
         "hidden": false,
         "locked": false,
         "points": 1
        }
       ],
       "scored": true,
       "setup": "",
       "teardown": "",
       "type": "doctest"
      }
     ]
    },
    "q3p3": {
     "name": "q3p3",
     "points": null,
     "suites": [
      {
       "cases": [
        {
         "code": ">>> math.isclose(xB, -0.0013979489587962186, rel_tol=0.01)\nTrue",
         "hidden": false,
         "locked": false,
         "points": 1
        }
       ],
       "scored": true,
       "setup": "",
       "teardown": "",
       "type": "doctest"
      }
     ]
    }
   }
  }
 },
 "nbformat": 4,
 "nbformat_minor": 0
}
