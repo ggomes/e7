{
 "cells": [
  {
   "cell_type": "code",
   "execution_count": 1,
   "metadata": {
    "deletable": false,
    "editable": false
   },
   "outputs": [],
   "source": [
    "# Initialize Otter\n",
    "import otter\n",
    "grader = otter.Notebook(\"lab08B.ipynb\")"
   ]
  },
  {
   "cell_type": "markdown",
   "metadata": {},
   "source": [
    "---\n",
    "\n",
    "<h3><center>E7 -  Introduction to Programming for Scientists and Engineers</center></h3>\n",
    "\n",
    "<h2><center>Lab session #08-B <br></center></h2>\n",
    "\n",
    "<h1><center>Numerical integration<br></center></h1>\n",
    "\n",
    "---"
   ]
  },
  {
   "cell_type": "code",
   "execution_count": 2,
   "metadata": {
    "execution": {
     "iopub.execute_input": "2024-03-20T15:47:36.594837Z",
     "iopub.status.busy": "2024-03-20T15:47:36.594644Z",
     "iopub.status.idle": "2024-03-20T15:47:36.873352Z",
     "shell.execute_reply": "2024-03-20T15:47:36.872873Z"
    },
    "id": "PmQ0-tpz9u7g",
    "tags": []
   },
   "outputs": [],
   "source": [
    "from resources.hashutils import *\n",
    "import numpy as np\n",
    "import matplotlib.pyplot as plt"
   ]
  },
  {
   "cell_type": "markdown",
   "metadata": {},
   "source": [
    "# Question 1: Falling watermelon\n",
    "\n",
    "As part of the special effects team with a movie production company, you are tasked with computing the precise trajectory of a watermelon as it falls vertically from a height of 15 meters. The camera crew needs this calculation to be done with an accuracy of 1 cm, meaning that the true position of the watermelon is within 1 cm of its predicted position at all times. The Big Brains department has produced an exact formula for the speed of the watermelon as it falls. \n",
    "\n",
    "$$v(t) = - \\sqrt{\\frac{gm}{c}}\\tanh\\left(\\sqrt{\\frac{g c}{m}}\\: t\\right)$$\n",
    "\n",
    "Here $t$ is the time in seconds from the instant the watermelon is released, $g=9.81\\;m/s^2$ is the acceleration due to gravity, $m=10\\;kg$ is the mass of the watermelon, and $c=0.013\\;kg/m$ is a coefficient related to air resistance. \n",
    "\n",
    "Notice that this function relates the veolocity of the watermelon to the *hyperbolic tangent* function. As shown in the figure below, this function rises from 0 at the initial time, toward 1 as time increases. Hence the velocity of the watermelon goes from 0 to a terminal velocity of **negative** $\\sqrt{gm/c}$. The negative sign in the formula indicates that the watermelon is falling downward. \n",
    "\n",
    "<img src=\"resources/tanh.png\" width=\"600\"/>\n",
    "\n",
    "Having $v(t)$ as a function of time allows one to compute its position using the integration formula:\n",
    "\n",
    "$$ x(t) = x(0) + \\int_{0}^{t} v(\\tau) d\\tau$$\n",
    "\n",
    "Here $x(0)\\!=\\!15$ is the position of the watermelon when the clock starts. \n",
    "\n",
    "In this question we will use SciPy's implementation of the trapezoidal rule to numerically compute $x(t)$ from $v(t)$.\n",
    "\n",
    "We begin by defining the constants."
   ]
  },
  {
   "cell_type": "code",
   "execution_count": 3,
   "metadata": {
    "execution": {
     "iopub.execute_input": "2024-03-20T15:47:36.875577Z",
     "iopub.status.busy": "2024-03-20T15:47:36.875407Z",
     "iopub.status.idle": "2024-03-20T15:47:36.877572Z",
     "shell.execute_reply": "2024-03-20T15:47:36.877235Z"
    }
   },
   "outputs": [],
   "source": [
    "g = 9.81\n",
    "m = 10\n",
    "c = 0.013"
   ]
  },
  {
   "cell_type": "markdown",
   "metadata": {
    "deletable": false,
    "editable": false
   },
   "source": [
    "## Question 1.1: Create the velocity function\n",
    "\n",
    "Create a function called `get_velocity(t)` that takes a value (or a NumPy array) `t` of time(s) in seconds as input and returns the velocity of the watermelon at that time (those times) according to the formula provided in the introduction.\n",
    "\n",
    "**Hint**: [np.tanh](https://numpy.org/doc/stable/reference/generated/numpy.tanh.html)"
   ]
  },
  {
   "cell_type": "code",
   "execution_count": 4,
   "metadata": {
    "execution": {
     "iopub.execute_input": "2024-03-20T15:47:36.879624Z",
     "iopub.status.busy": "2024-03-20T15:47:36.879450Z",
     "iopub.status.idle": "2024-03-20T15:47:36.884047Z",
     "shell.execute_reply": "2024-03-20T15:47:36.883729Z"
    },
    "tags": [
     "otter_assign_solution_cell"
    ]
   },
   "outputs": [],
   "source": [
    "def get_velocity(t):\n",
    "    return -np.sqrt(g*m/c)*np.tanh(np.sqrt(g*c/m)*t)"
   ]
  },
  {
   "cell_type": "code",
   "execution_count": 5,
   "metadata": {
    "execution": {
     "iopub.execute_input": "2024-03-20T15:47:36.905181Z",
     "iopub.status.busy": "2024-03-20T15:47:36.904982Z",
     "iopub.status.idle": "2024-03-20T15:47:36.907537Z",
     "shell.execute_reply": "2024-03-20T15:47:36.906773Z"
    },
    "tags": [
     "otter_assign_solution_cell"
    ]
   },
   "outputs": [],
   "source": [
    "# Use this cell to test your code\n"
   ]
  },
  {
   "cell_type": "code",
   "execution_count": 6,
   "metadata": {
    "deletable": false,
    "editable": false
   },
   "outputs": [
    {
     "data": {
      "text/html": [
       "<p><strong><pre style='display: inline;'>q1p1</pre></strong> passed! 🚀</p>"
      ],
      "text/plain": [
       "q1p1 results: All test cases passed!"
      ]
     },
     "execution_count": 6,
     "metadata": {},
     "output_type": "execute_result"
    }
   ],
   "source": [
    "grader.check(\"q1p1\")"
   ]
  },
  {
   "cell_type": "markdown",
   "metadata": {
    "deletable": false,
    "editable": false
   },
   "source": [
    "## Question 1.2: Create a grid of points in time\n",
    "\n",
    "To compute the numerical integral, we will need a grid of points in time. To keep things simple, we will use a *uniformly spaced* grid. Write a function called `eval_vel_on_grid(tf,n)` that takes as inputs \n",
    "1. a *final time* `tf` in seconds, and\n",
    "2. a number of points `n`.\n",
    "\n",
    "Here is the specification for the function.\n",
    "+ It should return a NumPy array of `n` equally spaced time instants ranging from 0 to `tf` (inclusive). Call this array `t`.\n",
    "+ It should also return a NumPy array called `v` of watermelon velocity values evaluated at those times. \n",
    "+ Both of these arrays should have the same shape and should be returned in the order `t, v`."
   ]
  },
  {
   "cell_type": "code",
   "execution_count": 7,
   "metadata": {
    "execution": {
     "iopub.execute_input": "2024-03-20T15:47:36.924670Z",
     "iopub.status.busy": "2024-03-20T15:47:36.924460Z",
     "iopub.status.idle": "2024-03-20T15:47:36.927220Z",
     "shell.execute_reply": "2024-03-20T15:47:36.926906Z"
    },
    "tags": [
     "otter_assign_solution_cell"
    ]
   },
   "outputs": [],
   "source": [
    "def eval_vel_on_grid(tf,n):\n",
    "    t = np.linspace(0,tf,n)\n",
    "    v = get_velocity(t)\n",
    "    return t, v"
   ]
  },
  {
   "cell_type": "code",
   "execution_count": 8,
   "metadata": {
    "execution": {
     "iopub.execute_input": "2024-03-20T15:47:36.929366Z",
     "iopub.status.busy": "2024-03-20T15:47:36.929116Z",
     "iopub.status.idle": "2024-03-20T15:47:36.931340Z",
     "shell.execute_reply": "2024-03-20T15:47:36.930961Z"
    },
    "tags": [
     "otter_assign_solution_cell"
    ]
   },
   "outputs": [],
   "source": [
    "# Use this cell to test your code\n"
   ]
  },
  {
   "cell_type": "code",
   "execution_count": 9,
   "metadata": {
    "deletable": false,
    "editable": false
   },
   "outputs": [
    {
     "data": {
      "text/html": [
       "<p><strong><pre style='display: inline;'>q1.2</pre></strong> passed! 🎉</p>"
      ],
      "text/plain": [
       "q1.2 results: All test cases passed!"
      ]
     },
     "execution_count": 9,
     "metadata": {},
     "output_type": "execute_result"
    }
   ],
   "source": [
    "grader.check(\"q1.2\")"
   ]
  },
  {
   "cell_type": "markdown",
   "metadata": {
    "deletable": false,
    "editable": false
   },
   "source": [
    "## Question 1.3: Numerical integration\n",
    "\n",
    "Create a function called `compute_position(tf, n)` that takes the same inputs as `eval_speed_on_grid`, and returns the time grid `t`, and the corresponding velocity and position values `v` and `x`(in that order). \n",
    "\n",
    "`x` should be a NumPy array with the same shape as `v` and `t`. \n",
    "\n",
    "The order of the variables returned by this function should be `t, v, x`.\n",
    "\n",
    "To accomplish this we will use SciPy's [`cumulative_trapezoid`](https://docs.scipy.org/doc/scipy/reference/generated/scipy.integrate.cumulative_trapezoid.html) function. This function takes as input the array of velocity values along with the corresponding array of time instants. It returns an array of numerically integrated values. In other words, it returns an estimate of the total distance traveled by the watermelon at each instant of time. This is the integral (the second term) in the formula\n",
    "$$ x(t) = x(0) + \\int_{0}^{t} v(\\tau) d\\tau$$\n",
    "To this estimate we must add the initial position (`x[0]=15`) to obtain the estimated position.\n",
    "\n",
    "**Technical note on** [`cumulative_trapezoid`](https://docs.scipy.org/doc/scipy/reference/generated/scipy.integrate.cumulative_trapezoid.html),\n",
    "+ When you run `d=cumulative_trapezoid(v, t)` you will notice that it returns an array that is 1 element shorter than `t` and `v`. This is because each value of `d` corresponds to the accumulated area over the intervals of time, and there is one fewer intervals than time instants. For example, the value `d[0]` is the integral over the interval `[t[0],t[1]]` so it actually corresponds to the distance traveled by the watermelon at time `t[1]`. But we would rather have a position array that is the same size as `v` and `t`, and whose values are properly aligned with `t`. To correct this, you should pass the keyword argument `initial=0` to the `cumulative_trapezoid` function. This will insert a 0 into the first position of `d`. Then `d` will have the same shape as `t` and `v`, and `d[i]` will correspond to the distance travelled by the watermelon at time `t[i]`, as desired.\n",
    "\n",
    "**Note**: \n",
    "+ Since the velocity is negative, its integral is also negative, and so we should expect that `cumulative_trapezoid` will return negative numbers. This makes sense, since the watermelon is falling and hence its position (height) is decreasing.\n"
   ]
  },
  {
   "cell_type": "code",
   "execution_count": 10,
   "metadata": {
    "execution": {
     "iopub.execute_input": "2024-03-20T15:47:36.942005Z",
     "iopub.status.busy": "2024-03-20T15:47:36.941788Z",
     "iopub.status.idle": "2024-03-20T15:47:37.051323Z",
     "shell.execute_reply": "2024-03-20T15:47:37.050637Z"
    },
    "tags": [
     "otter_assign_solution_cell"
    ]
   },
   "outputs": [],
   "source": [
    "from scipy.integrate import cumulative_trapezoid\n",
    "\n",
    "def compute_position(tf, n):\n",
    "    t, v = eval_vel_on_grid(tf,n)\n",
    "    x = 15 + cumulative_trapezoid(v, t, initial=0)\n",
    "    return t, v, x"
   ]
  },
  {
   "cell_type": "code",
   "execution_count": 11,
   "metadata": {
    "execution": {
     "iopub.execute_input": "2024-03-20T15:47:37.054239Z",
     "iopub.status.busy": "2024-03-20T15:47:37.053743Z",
     "iopub.status.idle": "2024-03-20T15:47:37.056337Z",
     "shell.execute_reply": "2024-03-20T15:47:37.055975Z"
    },
    "tags": [
     "otter_assign_solution_cell"
    ]
   },
   "outputs": [],
   "source": [
    "# Use this cell to test your code\n"
   ]
  },
  {
   "cell_type": "code",
   "execution_count": 12,
   "metadata": {
    "deletable": false,
    "editable": false
   },
   "outputs": [
    {
     "data": {
      "text/html": [
       "<p><strong><pre style='display: inline;'>q1p</pre></strong> passed! 🌈</p>"
      ],
      "text/plain": [
       "q1p results: All test cases passed!"
      ]
     },
     "execution_count": 12,
     "metadata": {},
     "output_type": "execute_result"
    }
   ],
   "source": [
    "grader.check(\"q1p\")"
   ]
  },
  {
   "cell_type": "markdown",
   "metadata": {
    "deletable": false,
    "editable": false
   },
   "source": [
    "## Question 1.4: Error bound \n",
    "\n",
    "Next we will compute an upper bound on the error of the numerical integration. Recall from lecture that the error in a single step of the trapezoidal rule is proportional to the maximum of the second derivative of the function being integrated ($M_{2}$), and also proportional to the square of the step size ($\\Delta t$).\n",
    "\n",
    "$$\\left|\\text{total error}\\right|   \\leq  \\frac{(b-a)\\Delta t^2}{12} M_{2}  $$\n",
    "\n",
    "Here $b-a$ is the size of the full integration interval, which equals $t_f$ in our case.\n",
    "\n",
    "$M_{2}$ is the maximum of $\\left|\\ddot{v}(t)\\right|$ over a single time step. This has to be estimated. \n",
    "\n",
    " $\\ddot{v}(t)$ can be computed with the help of Newton's second law. It was found by the Big Brains department to be:\n",
    "\n",
    "$$\\ddot{v}(t) = \\frac{2c}{m}v(t) \\left( \\frac{c}{m} v^2(t) -g\\right)$$\n",
    "\n",
    "We've already established that the terminal velocity of the watermelon is $-\\sqrt{gm/c}$. We can use this fact and the formula above to put an upper limit on the magnitude of $\\ddot{v}(t)$.\n",
    "\n",
    "$$\n",
    "\\begin{align*}\\left|\\ddot{v}(t)\\right| &= \\frac{2c}{m}\\left|v(t)\\right| \\left|\\left( \\frac{c}{m} v^2(t) -g\\right)\\right| \\\\\n",
    "&\\leq \\frac{2c}{m}\\sqrt{\\frac{gm}{c}} g \\\\\n",
    "&= 2g\\sqrt{\\frac{gc}{m}} \\\\\n",
    "\\end{align*}\n",
    "$$\n",
    "\n",
    "(The second line in this derivation is non-trivial, but it can be obtained from the fact that $v(t)>-\\sqrt{gm/c}$.)\n",
    "\n",
    "We have found that $\\left|\\ddot{v}(t)\\right|\\leq 2g\\sqrt{gc/m}$, and hence $M_2=2g\\sqrt{gc/m}$ can be used as an upper bound. Plugging this into the formula for maximum total error we get:\n",
    "\n",
    "\n",
    "$$\\left|\\text{total error}\\right|   \\leq  g\\sqrt{\\frac{gc}{m}}\\frac{ \\Delta t^2 }{6} t_f$$\n",
    "\n",
    "\n",
    "Write a function called `trapezoidal_error(tf, n)` to compute this error bound given a final time `tf` and number of grid points `n`. "
   ]
  },
  {
   "cell_type": "code",
   "execution_count": 13,
   "metadata": {
    "execution": {
     "iopub.execute_input": "2024-03-20T15:47:37.086675Z",
     "iopub.status.busy": "2024-03-20T15:47:37.085726Z",
     "iopub.status.idle": "2024-03-20T15:47:37.091905Z",
     "shell.execute_reply": "2024-03-20T15:47:37.091531Z"
    },
    "tags": [
     "otter_assign_solution_cell"
    ]
   },
   "outputs": [],
   "source": [
    "def trapezoidal_error(tf, n):\n",
    "    t, _ = eval_vel_on_grid(tf,n)\n",
    "    dt = t[1]-t[0]\n",
    "    return g*np.sqrt(c*g/m)*(dt**2)*tf/6"
   ]
  },
  {
   "cell_type": "code",
   "execution_count": 14,
   "metadata": {
    "execution": {
     "iopub.execute_input": "2024-03-20T15:47:37.094498Z",
     "iopub.status.busy": "2024-03-20T15:47:37.094270Z",
     "iopub.status.idle": "2024-03-20T15:47:37.097286Z",
     "shell.execute_reply": "2024-03-20T15:47:37.096764Z"
    },
    "tags": [
     "otter_assign_solution_cell"
    ]
   },
   "outputs": [],
   "source": [
    "# Use this cell to test your code\n"
   ]
  },
  {
   "cell_type": "code",
   "execution_count": 15,
   "metadata": {
    "deletable": false,
    "editable": false
   },
   "outputs": [
    {
     "data": {
      "text/html": [
       "<p><strong><pre style='display: inline;'>q1p4</pre></strong> passed! 🚀</p>"
      ],
      "text/plain": [
       "q1p4 results: All test cases passed!"
      ]
     },
     "execution_count": 15,
     "metadata": {},
     "output_type": "execute_result"
    }
   ],
   "source": [
    "grader.check(\"q1p4\")"
   ]
  },
  {
   "cell_type": "markdown",
   "metadata": {
    "deletable": false,
    "editable": false
   },
   "source": [
    "## Question 1.5:  Plot the trajectory of the watermelon\n",
    "\n",
    "Create the plot shown below of the position $x(t)$ of the watermelon versus time. The plot should have these characteristics:\n",
    "\n",
    "+ `tf=2` and `n=20`\n",
    "+ Both the line and the markers should be made with the `plot` function. \n",
    "+ Plot the trajectory with a solid line (`'-'`) and the watermelon with an `o` marker. \n",
    "+ The title of the plot should read `'Watermelon trajectory (total error=XXX cm)'`, where `XXX` is the total integration error (computed with `trapezoidal_error`), expressed in centimeters, with a 2-digit precision (e.g. '3.45' - although this is not the correct value).\n",
    "\n",
    "**Desired result** (with the correct error value instead of 'XXX')\n",
    "\n",
    "<img src=\"resources/trajplot.png\" width=\"600\"/>\n",
    "\n",
    "**Notes**: \n",
    "\n",
    "+ The watermelon-like markers colors are not autograded. Those were done with \n",
    "` \n",
    "markerfacecolor='red',\n",
    "markeredgecolor='green',\n",
    "markeredgewidth=3,\n",
    "markersize=12\n",
    "`"
   ]
  },
  {
   "cell_type": "code",
   "execution_count": 16,
   "metadata": {
    "execution": {
     "iopub.execute_input": "2024-03-20T15:47:37.109609Z",
     "iopub.status.busy": "2024-03-20T15:47:37.109380Z",
     "iopub.status.idle": "2024-03-20T15:47:37.287368Z",
     "shell.execute_reply": "2024-03-20T15:47:37.286930Z"
    },
    "tags": [
     "otter_assign_solution_cell"
    ]
   },
   "outputs": [
    {
     "data": {
      "text/plain": [
       "Text(0.5, 1.0, 'Watermelon trajectory (total error=0.41 cm)')"
      ]
     },
     "execution_count": 16,
     "metadata": {},
     "output_type": "execute_result"
    },
    {
     "data": {
      "image/png": "[encoded data removed]",
      "text/plain": [
       "<Figure size 800x400 with 1 Axes>"
      ]
     },
     "metadata": {},
     "output_type": "display_data"
    }
   ],
   "source": [
    "tf = 2\n",
    "n = 20\n",
    "\n",
    "e = trapezoidal_error(tf, n)\n",
    "t, v, x = compute_position(tf, n)\n",
    "fig1, ax1 = plt.subplots(figsize=(8,4))\n",
    "ax1.plot(t,x,marker='o',\n",
    "         linewidth=2,\n",
    "         color='k',\n",
    "         markerfacecolor='red',\n",
    "         markeredgecolor='green',\n",
    "         markeredgewidth=3,\n",
    "         markersize=12)\n",
    "ax1.grid(':')\n",
    "ax1.set_title(f'Watermelon trajectory (total error={100*e:.2f} cm)')"
   ]
  },
  {
   "cell_type": "code",
   "execution_count": 17,
   "metadata": {
    "deletable": false,
    "editable": false
   },
   "outputs": [
    {
     "data": {
      "text/html": [
       "<p><strong><pre style='display: inline;'>q1p5</pre></strong> passed! 🌟</p>"
      ],
      "text/plain": [
       "q1p5 results: All test cases passed!"
      ]
     },
     "execution_count": 17,
     "metadata": {},
     "output_type": "execute_result"
    }
   ],
   "source": [
    "grader.check(\"q1p5\")"
   ]
  },
  {
   "cell_type": "markdown",
   "metadata": {
    "deletable": false,
    "editable": false
   },
   "source": [
    "## Question 1.6: When will the watermelon hit the ground?\n",
    "\n",
    "Notice in the plot from the previous part that the watermelon should hit the ground at some time between 1.5 seconds and 2 seconds after it is released. Next you will find a better estimate of this time by locating the precise intersection of the watermelon's trajectory with the horizontal line at $x=0$. \n",
    "\n",
    "To do this, implement the function `compute_impact_time(tf, n)` that take the final time `tf` and the number of grid points `n`, and does the following:\n",
    "1. Used `compute_position` to obtain the trajectory  `tf=2` and `n=20` (as in part 1.5)\n",
    "2. Find `ipos` and `ineg`, the indexes corresponding to the last positive value of `x` and the first negative value of `x`, respectively. \n",
    "3. Computes `tg`, watermelon-to-ground impact time, based on `t[ineg]`, `t[ipos]`, `x[ineg]`, and `x[ipos]`. Here you will have to derive a formula for `tg` by assuming constant speed between `t[ineg]` and `t[ipos]` (ie that the line joining the two red dots in the figure below is straight).\n",
    "4. Returns `ineg`, `ipos`, and `tg` (in that order).\n",
    "\n",
    "<img src=\"resources/t0.png\" width=\"400\"/>"
   ]
  },
  {
   "cell_type": "code",
   "execution_count": 18,
   "metadata": {
    "execution": {
     "iopub.execute_input": "2024-03-20T15:47:37.318023Z",
     "iopub.status.busy": "2024-03-20T15:47:37.317892Z",
     "iopub.status.idle": "2024-03-20T15:47:37.321378Z",
     "shell.execute_reply": "2024-03-20T15:47:37.321007Z"
    },
    "tags": [
     "otter_assign_solution_cell"
    ]
   },
   "outputs": [],
   "source": [
    "def compute_impact_time(tf, n):\n",
    "    t, v, x = compute_position(tf, n)\n",
    "    ineg = np.min( np.where(x<0) )\n",
    "    ipos = ineg-1\n",
    "    tp = t[ipos]\n",
    "    tn = t[ineg]\n",
    "    xp = x[ipos]\n",
    "    xn = x[ineg]\n",
    "    tg= (xn*tp-xp*tn)/(xn-xp)\n",
    "    return ineg, ipos, tg"
   ]
  },
  {
   "cell_type": "code",
   "execution_count": 19,
   "metadata": {
    "execution": {
     "iopub.execute_input": "2024-03-20T15:47:37.322949Z",
     "iopub.status.busy": "2024-03-20T15:47:37.322703Z",
     "iopub.status.idle": "2024-03-20T15:47:37.324503Z",
     "shell.execute_reply": "2024-03-20T15:47:37.324202Z"
    },
    "tags": [
     "otter_assign_solution_cell"
    ]
   },
   "outputs": [],
   "source": [
    "# Use this cell to test your code\n"
   ]
  },
  {
   "cell_type": "code",
   "execution_count": 20,
   "metadata": {
    "deletable": false,
    "editable": false
   },
   "outputs": [
    {
     "data": {
      "text/html": [
       "<p><strong><pre style='display: inline;'>q1p6</pre></strong> passed! 🍀</p>"
      ],
      "text/plain": [
       "q1p6 results: All test cases passed!"
      ]
     },
     "execution_count": 20,
     "metadata": {},
     "output_type": "execute_result"
    }
   ],
   "source": [
    "grader.check(\"q1p6\")"
   ]
  },
  {
   "cell_type": "markdown",
   "metadata": {
    "deletable": false,
    "editable": false
   },
   "source": [
    "## Question 1.7: Total error as a function of `n`\n",
    "\n",
    "Next we will use our `trapezoidal_error` function to find the dependence of the error bound on the number `n` of grid points. \n",
    "To do this we will create a plot such as the one shown below that shows the error bound as a function of `n`. We can observe in this plot that, as expected, the error decreases as we increase the density of grid points. Our goal is to determine the minimum number of grid points needed to meet the requirement of ``no more than 1cm of error''.\n",
    "\n",
    "<img src=\"resources/errorplot.png\" width=\"600\"/>\n",
    "\n",
    "Here are the specifications for the plot:\n",
    "+ The error bound is computed with `tf=2`\n",
    "+ The number of grid points `n` ranges from 2 to 20 inclusive.\n",
    "+ Errors are expressed in centimeters.\n",
    "+ The x-axis has a linear scale. \n",
    "+ The y-axis has a logarithmic scale.\n",
    "+ A red-dashed horizontal line indicates the error threshold of 1 cm. \n",
    "+ Ticks are placed along the x-axis at every value of `n`.\n",
    "+ The plot has a grid.\n",
    "+ Include a legend with the error bound labeled as 'error bound' and the threshold labeled as 'threshold'.\n",
    "\n",
    "**Note**\n",
    "+ In the image above, we've zoomed in and hidden the tick labels, so as to not give away the answer.\n",
    "+ Plot the red-dashed horizontal threshold line using `plot` or [`axhline`](https://matplotlib.org/stable/api/_as_gen/matplotlib.pyplot.axhline.html), but **not hlines**, otherwise the autograder will fail. "
   ]
  },
  {
   "cell_type": "code",
   "execution_count": 21,
   "metadata": {
    "execution": {
     "iopub.execute_input": "2024-03-20T15:47:37.336175Z",
     "iopub.status.busy": "2024-03-20T15:47:37.335926Z",
     "iopub.status.idle": "2024-03-20T15:47:37.693030Z",
     "shell.execute_reply": "2024-03-20T15:47:37.692587Z"
    },
    "tags": [
     "otter_assign_solution_cell"
    ]
   },
   "outputs": [
    {
     "data": {
      "text/plain": [
       "<matplotlib.legend.Legend at 0x7e13c8ffc9d0>"
      ]
     },
     "execution_count": 21,
     "metadata": {},
     "output_type": "execute_result"
    },
    {
     "data": {
      "image/png": "[encoded data removed]",
      "text/plain": [
       "<Figure size 1000x400 with 1 Axes>"
      ]
     },
     "metadata": {},
     "output_type": "display_data"
    }
   ],
   "source": [
    "ns = np.arange(2,21)\n",
    "tf = 2\n",
    "errors = [100*trapezoidal_error(tf, n) for n in ns]\n",
    "fig2, ax2 = plt.subplots(figsize=(10,4))\n",
    "ax2.semilogy(ns, errors,'o-',label='error bound')\n",
    "ax2.axhline(1.0,color='r',linestyle='--',label='threshold')\n",
    "# ax2.plot(ns,np.ones(len(ns)),color='r',linestyle='--',label='threshold')\n",
    "ax2.grid()\n",
    "ax2.set_xticks(ns)\n",
    "ax2.set_xlabel('Number of grid points',fontsize=14)\n",
    "ax2.set_ylabel('Maximum error [cm]',fontsize=14)\n",
    "ax2.set_title('Maximum error versus the number of grid points',fontsize=16)\n",
    "ax2.legend(fontsize=16)"
   ]
  },
  {
   "cell_type": "code",
   "execution_count": 22,
   "metadata": {
    "deletable": false,
    "editable": false
   },
   "outputs": [
    {
     "data": {
      "text/html": [
       "<p><strong><pre style='display: inline;'>q1p7</pre></strong> passed! 🌈</p>"
      ],
      "text/plain": [
       "q1p7 results: All test cases passed!"
      ]
     },
     "execution_count": 22,
     "metadata": {},
     "output_type": "execute_result"
    }
   ],
   "source": [
    "grader.check(\"q1p7\")"
   ]
  },
  {
   "cell_type": "markdown",
   "metadata": {
    "deletable": false,
    "editable": false
   },
   "source": [
    "## Question 1.8: Minimum `n`\n",
    "\n",
    "According to the plot of part 1.7, what is the smallest value of `n` that guarantees an error of no more than 1 cm?"
   ]
  },
  {
   "cell_type": "code",
   "execution_count": 23,
   "metadata": {
    "execution": {
     "iopub.execute_input": "2024-03-20T15:47:37.738984Z",
     "iopub.status.busy": "2024-03-20T15:47:37.738876Z",
     "iopub.status.idle": "2024-03-20T15:47:37.741249Z",
     "shell.execute_reply": "2024-03-20T15:47:37.740933Z"
    },
    "tags": [
     "otter_assign_solution_cell"
    ]
   },
   "outputs": [],
   "source": [
    "nmin = 14"
   ]
  },
  {
   "cell_type": "code",
   "execution_count": 24,
   "metadata": {
    "deletable": false,
    "editable": false
   },
   "outputs": [
    {
     "data": {
      "text/html": [
       "<p><strong><pre style='display: inline;'>q1p8</pre></strong> passed! 🌟</p>"
      ],
      "text/plain": [
       "q1p8 results: All test cases passed!"
      ]
     },
     "execution_count": 24,
     "metadata": {},
     "output_type": "execute_result"
    }
   ],
   "source": [
    "grader.check(\"q1p8\")"
   ]
  },
  {
   "cell_type": "markdown",
   "metadata": {
    "deletable": false,
    "editable": false
   },
   "source": [
    "---\n",
    "\n",
    "To double-check your work, the cell below will rerun all of the autograder tests."
   ]
  },
  {
   "cell_type": "code",
   "execution_count": 25,
   "metadata": {
    "deletable": false,
    "editable": false
   },
   "outputs": [
    {
     "data": {
      "text/plain": [
       "q1.2 results: All test cases passed!\n",
       "\n",
       "q1p results: All test cases passed!\n",
       "\n",
       "q1p1 results: All test cases passed!\n",
       "\n",
       "q1p4 results: All test cases passed!\n",
       "\n",
       "q1p5 results: All test cases passed!\n",
       "\n",
       "q1p6 results: All test cases passed!\n",
       "\n",
       "q1p7 results: All test cases passed!\n",
       "\n",
       "q1p8 results: All test cases passed!"
      ]
     },
     "execution_count": 25,
     "metadata": {},
     "output_type": "execute_result"
    }
   ],
   "source": [
    "grader.check_all()"
   ]
  },
  {
   "cell_type": "markdown",
   "metadata": {
    "deletable": false,
    "editable": false
   },
   "source": [
    "## Submission\n",
    "\n",
    "Make sure you have run all cells in your notebook in order before running the cell below, so that all images/graphs appear in the output. The cell below will generate a zip file for you to submit. **Please save before exporting!**\n",
    "\n",
    "Make sure you submit the .zip file to Gradescope."
   ]
  },
  {
   "cell_type": "code",
   "execution_count": 26,
   "metadata": {
    "deletable": false,
    "editable": false
   },
   "outputs": [
    {
     "data": {
      "text/html": [
       "\n",
       "                    <p>\n",
       "                        Your submission has been exported. Click\n",
       "                        <a href=\"lab08B_2024_04_19T14_22_46_449463.zip\" download=\"lab08B_2024_04_19T14_22_46_449463.zip\" target=\"_blank\">here</a> to download\n",
       "                        the zip file.\n",
       "                    </p>\n",
       "                "
      ],
      "text/plain": [
       "<IPython.core.display.HTML object>"
      ]
     },
     "metadata": {},
     "output_type": "display_data"
    }
   ],
   "source": [
    "# Save your notebook first, then run this cell to export your submission.\n",
    "grader.export(pdf=False)"
   ]
  },
  {
   "cell_type": "markdown",
   "metadata": {},
   "source": [
    " "
   ]
  }
 ],
 "metadata": {
  "anaconda-cloud": {},
  "colab": {
   "provenance": []
  },
  "kernelspec": {
   "display_name": "Python 3 (ipykernel)",
   "language": "python",
   "name": "python3"
  },
  "language_info": {
   "codemirror_mode": {
    "name": "ipython",
    "version": 3
   },
   "file_extension": ".py",
   "mimetype": "text/x-python",
   "name": "python",
   "nbconvert_exporter": "python",
   "pygments_lexer": "ipython3",
   "version": "3.10.12"
  },
  "otter": {
   "OK_FORMAT": true,
   "assignment_name": "lab08B",
   "tests": {
    "q1.2": {
     "name": "q1.2",
     "points": null,
     "suites": [
      {
       "cases": [
        {
         "code": ">>> (t, v) = eval_vel_on_grid(1, 10)\n>>> t.shape == (10,) and v.shape == (10,) and np.all(t >= 0) and np.all(t <= 10) and np.all(v <= 0)\nTrue",
         "hidden": false,
         "locked": false,
         "points": 0
        },
        {
         "code": ">>> (t, v) = eval_vel_on_grid(10, 20)\n>>> get_hash(t, 4) == 'fe374c367df76f15b8ef69a428806234' and get_hash(v, 5) == 'cf20c8e711f50c1d7223adecfc955577'\nTrue",
         "hidden": false,
         "locked": false,
         "points": 1
        }
       ],
       "scored": true,
       "setup": "",
       "teardown": "",
       "type": "doctest"
      }
     ]
    },
    "q1p": {
     "name": "q1p",
     "points": null,
     "suites": [
      {
       "cases": [
        {
         "code": ">>> (t, v, x) = compute_position(4, 10)\n>>> t.shape == (10,) and v.shape == (10,) and (x.shape == (10,)) and np.all(x <= 15) and np.all(v <= 0)\nTrue",
         "hidden": false,
         "locked": false,
         "points": 0
        },
        {
         "code": ">>> (t, v, x) = compute_position(2, 20)\n>>> get_hash(t, 4) == 'e9c9ec3ea8791f5cd90aa2fa76052ef4' and get_hash(v, 4) == 'c9a98e50b9eec2123eda4d6d1701ebc2'\nTrue",
         "hidden": false,
         "locked": false,
         "points": 1
        },
        {
         "code": ">>> (t, v, x) = compute_position(2, 20)\n>>> get_hash(x, 4) == 'd9c8f4dadf9d96ec3db62e903fa1d3a0'\nTrue",
         "hidden": false,
         "locked": false,
         "points": 0
        }
       ],
       "scored": true,
       "setup": "",
       "teardown": "",
       "type": "doctest"
      }
     ]
    },
    "q1p1": {
     "name": "q1p1",
     "points": null,
     "suites": [
      {
       "cases": [
        {
         "code": ">>> v = get_velocity(np.linspace(0, 10, 20))\n>>> v.shape == (20,) and np.all(v <= 0) and np.all(v >= -100)\nTrue",
         "hidden": false,
         "locked": false,
         "points": 0
        },
        {
         "code": ">>> np.all(np.isclose(get_velocity(np.array([0, 10])), [-0.0, -70.43104182], atol=0.001))\nTrue",
         "hidden": false,
         "locked": false,
         "points": 0
        },
        {
         "code": ">>> get_hash(get_velocity(np.linspace(0, 10, 25)), 4) == '6dfb3e014b3de715b941ac61dc14f387'\nTrue",
         "hidden": false,
         "locked": false,
         "points": 1
        }
       ],
       "scored": true,
       "setup": "",
       "teardown": "",
       "type": "doctest"
      }
     ]
    },
    "q1p4": {
     "name": "q1p4",
     "points": null,
     "suites": [
      {
       "cases": [
        {
         "code": ">>> e = trapezoidal_error(2, 20)\n>>> e > 0 and e < 0.01\nTrue",
         "hidden": false,
         "locked": false,
         "points": 0
        },
        {
         "code": ">>> es = np.array([trapezoidal_error(2, n) for n in range(3, 20)])\n>>> get_hash(es, 5) == 'd9181ca21c11c32bfad2920f64fd4bbe'\nTrue",
         "hidden": false,
         "locked": false,
         "points": 2
        }
       ],
       "scored": true,
       "setup": "",
       "teardown": "",
       "type": "doctest"
      }
     ]
    },
    "q1p5": {
     "name": "q1p5",
     "points": null,
     "suites": [
      {
       "cases": [
        {
         "code": ">>> len(ax1.get_lines()) == 1\nTrue",
         "hidden": false,
         "locked": false,
         "points": 0
        },
        {
         "code": ">>> line = ax1.get_lines()[0]\n>>> data = line.get_data()\n>>> data[0].shape == (20,) and data[1].shape == (20,)\nTrue",
         "hidden": false,
         "locked": false,
         "points": 0
        },
        {
         "code": ">>> line = ax1.get_lines()[0]\n>>> data = line.get_data()\n>>> get_hash(data[0], 3) == '474823476331f49f997c403ad9d69884' and get_hash(data[1], 3) == 'cac39f17706de7aa0db4f805196d124a'\nTrue",
         "hidden": false,
         "locked": false,
         "points": 0.5
        },
        {
         "code": ">>> line = ax1.get_lines()[0]\n>>> line.get_linestyle() == '-' and line.get_marker() == 'o'\nTrue",
         "hidden": false,
         "locked": false,
         "points": 0
        },
        {
         "code": ">>> title = ax1.get_title()\n>>> 'Watermelon trajectory (total error=' in title and 'cm)' in title\nTrue",
         "hidden": false,
         "locked": false,
         "points": 0
        },
        {
         "code": ">>> title = ax1.get_title()\n>>> numstr = title.split('=')[-1].split('cm')[0].strip()\n>>> get_hash(float(numstr), 3) == 'f4d175f9a1a4403edb6ee59f4154cc1e'\nTrue",
         "hidden": false,
         "locked": false,
         "points": 1
        }
       ],
       "scored": true,
       "setup": "",
       "teardown": "",
       "type": "doctest"
      }
     ]
    },
    "q1p6": {
     "name": "q1p6",
     "points": null,
     "suites": [
      {
       "cases": [
        {
         "code": ">>> (ineg, ipos, tg) = compute_impact_time(2, 20)\n>>> ineg > 10 and ipos < 20 and (tg > 1) and (tg < 2)\nTrue",
         "hidden": false,
         "locked": false,
         "points": 0
        },
        {
         "code": ">>> (ineg, ipos, tg) = compute_impact_time(2, 20)\n>>> get_hash(ineg, 2) == '8011c1672b96b9446e250a64eb52393f' and get_hash(ipos, 2) == 'b940b38b0563c64d44704d877b2444c0' and (get_hash(tg, 4) == '69feef522a29784afac449d1d786bfd7')\nTrue",
         "hidden": false,
         "locked": false,
         "points": 1
        }
       ],
       "scored": true,
       "setup": "",
       "teardown": "",
       "type": "doctest"
      }
     ]
    },
    "q1p7": {
     "name": "q1p7",
     "points": null,
     "suites": [
      {
       "cases": [
        {
         "code": ">>> import matplotlib\n>>> isinstance(ax2, matplotlib.axes._axes.Axes)\nTrue",
         "hidden": false,
         "locked": false,
         "points": 0.2
        },
        {
         "code": ">>> {line.get_label() for line in ax2.get_lines()} == {'error bound', 'threshold'}\nTrue",
         "hidden": false,
         "locked": false,
         "points": 0.2
        },
        {
         "code": ">>> line1 = list(filter(lambda x: x.get_label() == 'error bound', ax2.get_lines()))[0]\n>>> np.all(line1.get_xdata() == np.arange(2, 21))\nTrue",
         "hidden": false,
         "locked": false,
         "points": 0.2
        },
        {
         "code": ">>> line1 = list(filter(lambda x: x.get_label() == 'error bound', ax2.get_lines()))[0]\n>>> np.all(np.isclose(line1.get_ydata()[:2], [147.7113692, 36.9278423], atol=0.001))\nTrue",
         "hidden": false,
         "locked": false,
         "points": 0.2
        },
        {
         "code": ">>> line1 = list(filter(lambda x: x.get_label() == 'error bound', ax2.get_lines()))[0]\n>>> get_hash(line1.get_ydata(), 4) == '28ca74ca8380d6fb36bfa1c92a03e28b'\nTrue",
         "hidden": false,
         "locked": false,
         "points": 0.2
        },
        {
         "code": ">>> line2 = list(filter(lambda x: x.get_label() == 'threshold', ax2.get_lines()))[0]\n>>> np.all(np.isclose(line2.get_ydata(), 1.0)) and line2.get_linestyle() == '--'\nTrue",
         "hidden": false,
         "locked": false,
         "points": 0.2
        },
        {
         "code": ">>> leg = ax2.get_legend()\n>>> leg.get_visible()\nTrue",
         "hidden": false,
         "locked": false,
         "points": 0.2
        },
        {
         "code": ">>> np.all(ax2.get_xticks() == np.arange(2, 21))\nTrue",
         "hidden": false,
         "locked": false,
         "points": 0.2
        },
        {
         "code": ">>> ax2.get_xgridlines()[0].get_visible()\nTrue",
         "hidden": false,
         "locked": false,
         "points": 0.2
        },
        {
         "code": ">>> ax2.get_yaxis().get_scale() == 'log' and ax2.get_xaxis().get_scale() == 'linear'\nTrue",
         "hidden": false,
         "locked": false,
         "points": 0.2
        }
       ],
       "scored": true,
       "setup": "",
       "teardown": "",
       "type": "doctest"
      }
     ]
    },
    "q1p8": {
     "name": "q1p8",
     "points": null,
     "suites": [
      {
       "cases": [
        {
         "code": ">>> get_hash(nmin, 3) == 'd61f96d43a7ec134b14bbddd8b0e59ee' or get_hash(nmin, 3) == '038a8a50b863780fe4a43b7a263bb12b'\nTrue",
         "hidden": false,
         "locked": false,
         "points": 1
        }
       ],
       "scored": true,
       "setup": "",
       "teardown": "",
       "type": "doctest"
      }
     ]
    }
   }
  }
 },
 "nbformat": 4,
 "nbformat_minor": 0
}
