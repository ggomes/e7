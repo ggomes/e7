{
 "cells": [
  {
   "cell_type": "code",
   "execution_count": null,
   "metadata": {
    "deletable": false,
    "editable": false
   },
   "outputs": [],
   "source": [
    "# Initialize Otter\n",
    "import otter\n",
    "grader = otter.Notebook(\"disc01.ipynb\")"
   ]
  },
  {
   "cell_type": "markdown",
   "metadata": {},
   "source": [
    "---\n",
    "\n",
    "<h3><center>E7 -  Introduction to Programming for Scientists and Engineers</center></h3>\n",
    "\n",
    "<h2><center>Discussion session #01 <br></center></h2>\n",
    "\n",
    "<h1><center>Submitting to Gradescope<br></center></h1>\n",
    "\n",
    "---\n"
   ]
  },
  {
   "cell_type": "markdown",
   "metadata": {},
   "source": [
    "# 1) Edit mode and command mode\n",
    "\n",
    "At any time, the notebook can either be in <font color=green>**edit mode**</font> or in <font color=dodgerblue>**command mode**</font>. You can toggle between these two by pressing <kbd>Enter</kbd>  for <font color=green>**edit mode**</font> and <kbd>Esc</kbd> for <font color=dodgerblue>**command mode**</font>. The mode is indicated by the color of the border of the selected cell. In <font color=green>**edit mode**</font> the border is green, while in <font color=dodgerblue>**command mode**</font> the border is blue. \n",
    "\n",
    "<font color=green>**Edit mode**</font> is for editing the contents of a cell, while <font color=dodgerblue>**command mode**</font> is for cell-level manipulations, such as creating, deleting, and rearranging entire cells. \n",
    "\n",
    "Here is a list of useful keyboard shortcuts to use in <font color=dodgerblue>**command mode**</font>:\n",
    "* <kbd>A</kbd>: Insert a new cell above\n",
    "* <kbd>B</kbd>: Insert a new cell below\n",
    "* <kbd>X</kbd>: Cut the cell\n",
    "* <kbd>C</kbd>: Copy the cell\n",
    "* <kbd>V</kbd>: Paste the copied cell\n",
    "* <kbd>Y</kbd>: Change a cell to a code cell\n",
    "* <kbd>M</kbd>: Change a cell to a markdown cell\n",
    "\n",
    "These actions can also be done using toolbar buttons and dropdown menus."
   ]
  },
  {
   "cell_type": "markdown",
   "metadata": {},
   "source": [
    "# 2) Executing cells\n",
    "\n",
    "The easiest way to execute a cell is with a keyboard shortcut.\n",
    "\n",
    "+ <kbd>Shift</kbd>+<kbd>Enter</kbd> runs the currently highlighted cell(s), and then advances to the next cell. The `▶ Run` button in the toolbar does the same.\n",
    "+ <kbd>Ctrl</kbd>+<kbd>Enter</kbd> (<kbd>Cmd</kbd>+<kbd>Enter</kbd> on macOS) runs the currently highlighted cells without advancing.\n",
    "\n",
    "Both of these are also available under the **Cell** menu. \n",
    "\n",
    "You can run all of the cells in your notebook by clicking **Run All** in the **Cell** menu. \n",
    "\n",
    "It is good to get in that habit of restarting your kernel when running all cells. Do this with **Kernel**->**Restart & Run All**. \n",
    "\n",
    "Practice running the next couple cells with <kbd>Shift</kbd>+<kbd>Enter</kbd> and <kbd>Ctrl</kbd>+<kbd>Enter</kbd>. "
   ]
  },
  {
   "cell_type": "code",
   "execution_count": null,
   "metadata": {
    "execution": {
     "iopub.execute_input": "2024-01-17T23:07:18.891529Z",
     "iopub.status.busy": "2024-01-17T23:07:18.891216Z",
     "iopub.status.idle": "2024-01-17T23:07:18.900489Z",
     "shell.execute_reply": "2024-01-17T23:07:18.899918Z"
    }
   },
   "outputs": [],
   "source": [
    "import random\n",
    "print(\"This is a random number: \", random.random())"
   ]
  },
  {
   "cell_type": "code",
   "execution_count": null,
   "metadata": {
    "execution": {
     "iopub.execute_input": "2024-01-17T23:07:18.932243Z",
     "iopub.status.busy": "2024-01-17T23:07:18.931914Z",
     "iopub.status.idle": "2024-01-17T23:07:18.936634Z",
     "shell.execute_reply": "2024-01-17T23:07:18.935855Z"
    }
   },
   "outputs": [],
   "source": [
    "print(\"This is another random number: \", random.random())"
   ]
  },
  {
   "cell_type": "markdown",
   "metadata": {
    "deletable": false,
    "editable": false
   },
   "source": [
    "# 3) Autograding and Gradescope\n",
    "\n",
    "We will be using an automatic grader for lab assignments. Each question in a lab assignment will have an **graded cell** followed by a **testing cell**. You will put gradable code into the **graded cell** as instructed in the lab, and then test your code by executing the **testing cell**. The output of the testing cell will let you know whether you have a mistake in the graded cell. It does this by running your code against a number of  tests.\n",
    "\n",
    "\n",
    "## Example exercise\n",
    "Given two variables, `a=1` and `b=2`, compute their sum and assign it to variable `c`. \n",
    "\n",
    "+ The correct solution to this exercise is to replace the `...` below with `a+b`.  Try that out, and see that the testing cell marks your answer as correct. \n",
    "+ Also try an *incorrect* answer, by replacing the `...` with `-2`. Notice what happens when you run the testing cell.\n",
    "+ Finally, try setting `c=9` and notice that the testing cell claims that this is *correct*, even though it is clearly wrong! This is because the testing cell contains two types of tests: hidden and not hidden, or open. The open tests are the ones you see in Jupyter Hub. They only test very your answer very broadly. For example, here the test is `c>0`. The open tests are worth zero points. The hidden tests are only evaluated in Gradescope. You will see these results when you upload the zip file to Gradescope. You can submit as many times as you like before the deadline of the assignement.   \n",
    "\n",
    "\n",
    "#### Graded cell:"
   ]
  },
  {
   "cell_type": "code",
   "execution_count": null,
   "metadata": {
    "execution": {
     "iopub.execute_input": "2024-01-17T23:07:18.938945Z",
     "iopub.status.busy": "2024-01-17T23:07:18.938745Z",
     "iopub.status.idle": "2024-01-17T23:07:18.944782Z",
     "shell.execute_reply": "2024-01-17T23:07:18.944208Z"
    },
    "tags": []
   },
   "outputs": [],
   "source": [
    "a = 1\n",
    "b = 2\n",
    "c = ..."
   ]
  },
  {
   "cell_type": "markdown",
   "metadata": {
    "deletable": false,
    "editable": false
   },
   "source": [
    "#### Testing cell:"
   ]
  },
  {
   "cell_type": "code",
   "execution_count": null,
   "metadata": {
    "deletable": false,
    "editable": false
   },
   "outputs": [],
   "source": [
    "grader.check(\"q1\")"
   ]
  },
  {
   "cell_type": "markdown",
   "metadata": {
    "deletable": false,
    "editable": false
   },
   "source": [
    "## Submission\n",
    "\n",
    "Make sure you have run all cells in your notebook in order before running the cell below, so that all images/graphs appear in the output. The cell below will generate a zip file for you to submit. **Please save before exporting!**\n",
    "\n",
    "Make sure you submit the .zip file to Gradescope."
   ]
  },
  {
   "cell_type": "code",
   "execution_count": null,
   "metadata": {
    "deletable": false,
    "editable": false
   },
   "outputs": [],
   "source": [
    "# Save your notebook first, then run this cell to export your submission.\n",
    "grader.export(pdf=False)"
   ]
  },
  {
   "cell_type": "markdown",
   "metadata": {},
   "source": [
    " "
   ]
  }
 ],
 "metadata": {
  "kernelspec": {
   "display_name": "e7env",
   "language": "python",
   "name": "python3"
  },
  "language_info": {
   "codemirror_mode": {
    "name": "ipython",
    "version": 3
   },
   "file_extension": ".py",
   "mimetype": "text/x-python",
   "name": "python",
   "nbconvert_exporter": "python",
   "pygments_lexer": "ipython3",
   "version": "3.10.12"
  },
  "otter": {
   "OK_FORMAT": true,
   "assignment_name": "disc01",
   "tests": {
    "q1": {
     "name": "q1",
     "points": null,
     "suites": [
      {
       "cases": [
        {
         "code": ">>> c > 0\nTrue",
         "hidden": false,
         "locked": false,
         "points": 0
        }
       ],
       "scored": true,
       "setup": "",
       "teardown": "",
       "type": "doctest"
      }
     ]
    }
   }
  }
 },
 "nbformat": 4,
 "nbformat_minor": 2
}
