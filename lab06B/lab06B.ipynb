{
 "cells": [
  {
   "cell_type": "code",
   "execution_count": null,
   "metadata": {
    "deletable": false,
    "editable": false
   },
   "outputs": [],
   "source": [
    "# Initialize Otter\n",
    "import otter\n",
    "grader = otter.Notebook(\"lab06B.ipynb\")"
   ]
  },
  {
   "cell_type": "markdown",
   "metadata": {},
   "source": [
    "---\n",
    "\n",
    "<h3><center>E7 -  Introduction to Programming for Scientists and Engineers</center></h3>\n",
    "\n",
    "<h2><center>Lab session #06-B <br></center></h2>\n",
    "\n",
    "<h1><center>Matplotlib: 3D plots and Animations<br></center></h1>\n",
    "\n",
    "---"
   ]
  },
  {
   "cell_type": "code",
   "execution_count": null,
   "metadata": {
    "execution": {
     "iopub.execute_input": "2024-02-28T02:07:08.277722Z",
     "iopub.status.busy": "2024-02-28T02:07:08.277572Z",
     "iopub.status.idle": "2024-02-28T02:07:08.561619Z",
     "shell.execute_reply": "2024-02-28T02:07:08.561175Z"
    },
    "id": "PmQ0-tpz9u7g",
    "tags": []
   },
   "outputs": [],
   "source": [
    "from resources.hashutils import *\n",
    "import numpy as np\n",
    "import matplotlib.pyplot as plt"
   ]
  },
  {
   "cell_type": "markdown",
   "metadata": {},
   "source": [
    "# Question 1: 3D line plot\n",
    "\n"
   ]
  },
  {
   "cell_type": "markdown",
   "metadata": {
    "deletable": false,
    "editable": false,
    "id": "m1IUkyzN9u7h"
   },
   "source": [
    "## Part 1.1: Load the data\n",
    "\n",
    "The trajectory data for the drone is stored in a 4-column table. The columns, in order, are time, x position, y position, and z position. Each row is a sample measurement of the x, y, and z positions of the drone at a particular time. This matrix is stored in a binary file called 'drone_trajectory.npy', which is stored on your current working directory. Load that file into a NumPy array, and call it `traj`. `traj` should have shape equal to `(75,4)`, meaning that there are 75 consecutive samples. \n",
    "\n",
    "**Hint**: For binary NumPy files we use [`np.load`](https://numpy.org/doc/stable/reference/generated/numpy.load.html)"
   ]
  },
  {
   "cell_type": "code",
   "execution_count": null,
   "metadata": {
    "execution": {
     "iopub.execute_input": "2024-02-28T02:07:08.564200Z",
     "iopub.status.busy": "2024-02-28T02:07:08.563974Z",
     "iopub.status.idle": "2024-02-28T02:07:08.568542Z",
     "shell.execute_reply": "2024-02-28T02:07:08.568208Z"
    },
    "tags": []
   },
   "outputs": [],
   "source": [
    "traj = ..."
   ]
  },
  {
   "cell_type": "code",
   "execution_count": null,
   "metadata": {
    "deletable": false,
    "editable": false
   },
   "outputs": [],
   "source": [
    "grader.check(\"q1p1\")"
   ]
  },
  {
   "cell_type": "markdown",
   "metadata": {
    "deletable": false,
    "editable": false
   },
   "source": [
    "## Part 1.2: Nicknames\n",
    "\n",
    "It is helpful to define variable names for the columns of `traj`, as we will use them repeatedly when plotting. This saves typing, increases clarity, and reduces the chances fpr bugs. \n",
    "\n",
    "Define variables `x`, `y`, and `z` for the corresponding columns in `traj`."
   ]
  },
  {
   "cell_type": "code",
   "execution_count": null,
   "metadata": {
    "execution": {
     "iopub.execute_input": "2024-02-28T02:07:08.600422Z",
     "iopub.status.busy": "2024-02-28T02:07:08.600268Z",
     "iopub.status.idle": "2024-02-28T02:07:08.603164Z",
     "shell.execute_reply": "2024-02-28T02:07:08.602859Z"
    },
    "tags": []
   },
   "outputs": [],
   "source": [
    "time = ...\n",
    "x = ...\n",
    "y = ...\n",
    "z = ..."
   ]
  },
  {
   "cell_type": "code",
   "execution_count": null,
   "metadata": {
    "deletable": false,
    "editable": false
   },
   "outputs": [],
   "source": [
    "grader.check(\"q1p2\")"
   ]
  },
  {
   "cell_type": "markdown",
   "metadata": {
    "deletable": false,
    "editable": false
   },
   "source": [
    "## Part 1.3: Highest point\n",
    "\n",
    "We want to point out in the plot the highest elevation (z value) reached by the drone. Find the index of this value. Call it `maxind`."
   ]
  },
  {
   "cell_type": "code",
   "execution_count": null,
   "metadata": {
    "execution": {
     "iopub.execute_input": "2024-02-28T02:07:08.620367Z",
     "iopub.status.busy": "2024-02-28T02:07:08.620226Z",
     "iopub.status.idle": "2024-02-28T02:07:08.622780Z",
     "shell.execute_reply": "2024-02-28T02:07:08.622492Z"
    },
    "tags": []
   },
   "outputs": [],
   "source": [
    "maxind = ..."
   ]
  },
  {
   "cell_type": "code",
   "execution_count": null,
   "metadata": {
    "deletable": false,
    "editable": false
   },
   "outputs": [],
   "source": [
    "grader.check(\"q1p3\")"
   ]
  },
  {
   "cell_type": "markdown",
   "metadata": {
    "deletable": false,
    "editable": false
   },
   "source": [
    "## Part 1.4: Plot\n",
    "\n",
    "We're now ready to make the plot. Here are the specifications:\n",
    "\n",
    "+ The figure size is `(8,8)`, and has a single axes. \n",
    "+ The trajectory is a solid black line of width 1. The marker is a period `'.'`.\n",
    "+ Use `ax.scatter` to mark the starting point with a green `'o'` marker of size 80. Label this point as `'start'`.\n",
    "+ Use `ax.scatter` to mark the point of highest elevation with a red `'o'` marker of size 80.  Label this point as `'highest'`.\n",
    "+ Add a legend with the start and highest points.\n",
    "\n",
    "**Try this!**: You can engage an advanced renderer for your plot that allows you to zoom and rotate with your mouse. Do this by adding the [\"magic\" command](https://ipython.readthedocs.io/en/stable/interactive/magics.html):\n",
    "```python\n",
    "%matplotlib widget\n",
    "```\n",
    "to the plotting cell. Then run it and drag a point with your mouse.\n",
    "\n",
    "**Desired result:**\n",
    "\n",
    "<img src=\"resources/drone.png\" width=\"400\" />"
   ]
  },
  {
   "cell_type": "code",
   "execution_count": null,
   "metadata": {
    "execution": {
     "iopub.execute_input": "2024-02-28T02:07:08.633980Z",
     "iopub.status.busy": "2024-02-28T02:07:08.633846Z",
     "iopub.status.idle": "2024-02-28T02:07:08.787699Z",
     "shell.execute_reply": "2024-02-28T02:07:08.787329Z"
    },
    "tags": []
   },
   "outputs": [],
   "source": [
    "# %matplotlib widget\n",
    "fig1 = plt.figure(...)\n",
    "ax1 = fig1.add_subplot(...)\n",
    "..."
   ]
  },
  {
   "cell_type": "code",
   "execution_count": null,
   "metadata": {
    "deletable": false,
    "editable": false
   },
   "outputs": [],
   "source": [
    "grader.check(\"q1p4\")"
   ]
  },
  {
   "cell_type": "markdown",
   "metadata": {},
   "source": [
    "# Question 2: Surface plot on a regular grid\n",
    "\n",
    "The function $f$ shown below produces a real number for each pair of real numbers $(x,y)$.\n",
    "$$f(x,y) = \\cos(5x)\\cos(5y)e^{-0.8(x^2 + y^2)}$$\n",
    "In this part we will use matplotlib's [`plot_surface`](https://matplotlib.org/stable/api/_as_gen/mpl_toolkits.mplot3d.axes3d.Axes3D.plot_surface.html) method to visualize $f(x,y)$ on a square patch of points in $xy$. `plot_surface` take 3 inputs: `X`, `Y`, and `Z`, where `X` and `Y` are mesh matrices obtained from NumPy's [`meshgrid`](https://numpy.org/doc/stable/reference/generated/numpy.meshgrid.html) method. Our first task will be to create the 1D arrays of $x$ and $y$ values required by `meshgrid`."
   ]
  },
  {
   "cell_type": "markdown",
   "metadata": {
    "deletable": false,
    "editable": false
   },
   "source": [
    "## Question 2.1: Arrays of x and y values\n",
    "\n",
    "The grid of points in the $xy$ plane is shown below. To create this, we must first define two 1D arrays with the values of $x$ and $y$. We will call these `xvals` and `yvals`. They should each contain 100 uniformly spaced values ranging from -2 to 2 (inclusive).\n",
    "\n",
    "<img src=\"resources/grid.png\" width=\"400\" />\n",
    "\n",
    "**Hint**: [np.linspace](https://numpy.org/doc/stable/reference/generated/numpy.linspace.html)"
   ]
  },
  {
   "cell_type": "code",
   "execution_count": null,
   "metadata": {
    "execution": {
     "iopub.execute_input": "2024-02-28T02:07:08.854093Z",
     "iopub.status.busy": "2024-02-28T02:07:08.853949Z",
     "iopub.status.idle": "2024-02-28T02:07:08.857401Z",
     "shell.execute_reply": "2024-02-28T02:07:08.857050Z"
    },
    "tags": []
   },
   "outputs": [],
   "source": [
    "xvals = ...\n",
    "yvals = ..."
   ]
  },
  {
   "cell_type": "code",
   "execution_count": null,
   "metadata": {
    "deletable": false,
    "editable": false
   },
   "outputs": [],
   "source": [
    "grader.check(\"q2p1\")"
   ]
  },
  {
   "cell_type": "markdown",
   "metadata": {
    "deletable": false,
    "editable": false
   },
   "source": [
    "## Question 2.2: Create the mesh\n",
    "\n",
    "Use [`np.meshgrid`](https://numpy.org/doc/stable/reference/generated/numpy.meshgrid.html) to create the 2D grid of points from the 1D arrays of $x$ and $y$ values. Use variables `X` and `Y` for the output of `meshgrid`.  "
   ]
  },
  {
   "cell_type": "code",
   "execution_count": null,
   "metadata": {
    "execution": {
     "iopub.execute_input": "2024-02-28T02:07:08.875594Z",
     "iopub.status.busy": "2024-02-28T02:07:08.875353Z",
     "iopub.status.idle": "2024-02-28T02:07:08.879094Z",
     "shell.execute_reply": "2024-02-28T02:07:08.878752Z"
    },
    "tags": []
   },
   "outputs": [],
   "source": [
    "X, Y = ..."
   ]
  },
  {
   "cell_type": "code",
   "execution_count": null,
   "metadata": {
    "deletable": false,
    "editable": false
   },
   "outputs": [],
   "source": [
    "grader.check(\"q2p2\")"
   ]
  },
  {
   "cell_type": "markdown",
   "metadata": {
    "deletable": false,
    "editable": false
   },
   "source": [
    "## Question 2.3: Function evaluation\n",
    "\n",
    "Evaluate the $f(x,y)$ of the grid. This can be done using NumPy's mathematical functions (such as [`np.exp`](https://numpy.org/doc/stable/reference/generated/numpy.exp.html)) on the grid matrices `X` and `Y`. Store the result as `Z`. `Z` should have shape `(100,100)`. "
   ]
  },
  {
   "cell_type": "code",
   "execution_count": null,
   "metadata": {
    "execution": {
     "iopub.execute_input": "2024-02-28T02:07:08.889754Z",
     "iopub.status.busy": "2024-02-28T02:07:08.889610Z",
     "iopub.status.idle": "2024-02-28T02:07:08.892567Z",
     "shell.execute_reply": "2024-02-28T02:07:08.892243Z"
    },
    "tags": []
   },
   "outputs": [],
   "source": [
    "Z = ..."
   ]
  },
  {
   "cell_type": "code",
   "execution_count": null,
   "metadata": {
    "deletable": false,
    "editable": false
   },
   "outputs": [],
   "source": [
    "grader.check(\"q2p3\")"
   ]
  },
  {
   "cell_type": "markdown",
   "metadata": {
    "deletable": false,
    "editable": false
   },
   "source": [
    "## Question 2.4: Surface plot\n",
    "\n",
    "Next, create a surface plot of the function using [plot_surface](). The plot should have these characteristics:\n",
    "\n",
    "+ figsize=(8,8)\n",
    "+ Set the transparency level (`alpha`) of the surface plot to `0.8`. \n",
    "+ Set the colormap (`cmap`) of the surface plot to `'BuPu'`.\n",
    "+ Set the x-axis label to `'x'` with a font size of 20. \n",
    "+ Set the y-axis label to `'y'` with a font size of 20. \n",
    "+ Try some of the other available colormaps (provided in lecture). Do you have a favorite?\n",
    "\n",
    "**Desired result:**\n",
    "\n",
    "<img src=\"resources/surf.png\" width=\"400\" />"
   ]
  },
  {
   "cell_type": "code",
   "execution_count": null,
   "metadata": {
    "execution": {
     "iopub.execute_input": "2024-02-28T02:07:08.903663Z",
     "iopub.status.busy": "2024-02-28T02:07:08.903505Z",
     "iopub.status.idle": "2024-02-28T02:07:09.332230Z",
     "shell.execute_reply": "2024-02-28T02:07:09.331853Z"
    },
    "tags": []
   },
   "outputs": [],
   "source": [
    "fig2 = plt.figure(figsize=...)\n",
    "ax2 = ...\n",
    "... # etc.\n",
    "..."
   ]
  },
  {
   "cell_type": "code",
   "execution_count": null,
   "metadata": {
    "deletable": false,
    "editable": false
   },
   "outputs": [],
   "source": [
    "grader.check(\"q2p4\")"
   ]
  },
  {
   "cell_type": "markdown",
   "metadata": {
    "deletable": false,
    "editable": false
   },
   "source": [
    "---\n",
    "\n",
    "To double-check your work, the cell below will rerun all of the autograder tests."
   ]
  },
  {
   "cell_type": "code",
   "execution_count": null,
   "metadata": {
    "deletable": false,
    "editable": false
   },
   "outputs": [],
   "source": [
    "grader.check_all()"
   ]
  },
  {
   "cell_type": "markdown",
   "metadata": {
    "deletable": false,
    "editable": false
   },
   "source": [
    "## Submission\n",
    "\n",
    "Make sure you have run all cells in your notebook in order before running the cell below, so that all images/graphs appear in the output. The cell below will generate a zip file for you to submit. **Please save before exporting!**\n",
    "\n",
    "Make sure you submit the .zip file to Gradescope."
   ]
  },
  {
   "cell_type": "code",
   "execution_count": null,
   "metadata": {
    "deletable": false,
    "editable": false
   },
   "outputs": [],
   "source": [
    "# Save your notebook first, then run this cell to export your submission.\n",
    "grader.export(pdf=False)"
   ]
  },
  {
   "cell_type": "markdown",
   "metadata": {},
   "source": [
    " "
   ]
  }
 ],
 "metadata": {
  "anaconda-cloud": {},
  "colab": {
   "provenance": []
  },
  "kernelspec": {
   "display_name": "Python 3 (ipykernel)",
   "language": "python",
   "name": "python3"
  },
  "language_info": {
   "codemirror_mode": {
    "name": "ipython",
    "version": 3
   },
   "file_extension": ".py",
   "mimetype": "text/x-python",
   "name": "python",
   "nbconvert_exporter": "python",
   "pygments_lexer": "ipython3",
   "version": "3.10.12"
  },
  "otter": {
   "OK_FORMAT": true,
   "assignment_name": "lab06B",
   "tests": {
    "q1p1": {
     "name": "q1p1",
     "points": null,
     "suites": [
      {
       "cases": [
        {
         "code": ">>> traj.shape == (75, 4)\nTrue",
         "hidden": false,
         "locked": false,
         "points": 0
        },
        {
         "code": ">>> get_hash(traj, 4) == '5a0cd86b88b1c12b47c63a6ce3d7c428'\nTrue",
         "hidden": false,
         "locked": false,
         "points": 1
        }
       ],
       "scored": true,
       "setup": "",
       "teardown": "",
       "type": "doctest"
      }
     ]
    },
    "q1p2": {
     "name": "q1p2",
     "points": null,
     "suites": [
      {
       "cases": [
        {
         "code": ">>> x.shape == (75,) and y.shape == (75,) and (z.shape == (75,))\nTrue",
         "hidden": false,
         "locked": false,
         "points": 0
        },
        {
         "code": ">>> get_hash(time, 4) == 'd81f6821862a9606640592e2d8f3156f'\nTrue",
         "hidden": false,
         "locked": false,
         "points": 1
        },
        {
         "code": ">>> get_hash(x, 4) == 'a041a8b0ca5b684d84e70dd51acd5bc5' and get_hash(y, 4) == 'cdd5ce9e443ca575dea0a8af34450d8b' and (get_hash(z, 4) == '289d3a48ce330b5a623e5b0dae5703a7')\nTrue",
         "hidden": false,
         "locked": false,
         "points": 1
        }
       ],
       "scored": true,
       "setup": "",
       "teardown": "",
       "type": "doctest"
      }
     ]
    },
    "q1p3": {
     "name": "q1p3",
     "points": null,
     "suites": [
      {
       "cases": [
        {
         "code": ">>> maxind > 20 and maxind < 100\nTrue",
         "hidden": false,
         "locked": false,
         "points": 0
        },
        {
         "code": ">>> get_hash(maxind, 2) == '4a646b1b2110f8fa7a3f4a6cedb151b0'\nTrue",
         "hidden": false,
         "locked": false,
         "points": 2
        }
       ],
       "scored": true,
       "setup": "",
       "teardown": "",
       "type": "doctest"
      }
     ]
    },
    "q1p4": {
     "name": "q1p4",
     "points": null,
     "suites": [
      {
       "cases": [
        {
         "code": ">>> np.all(np.isclose(fig1.get_size_inches(), (8, 8)))\nTrue",
         "hidden": false,
         "locked": false,
         "points": 0
        },
        {
         "code": ">>> import mpl_toolkits\n>>> isinstance(ax1, mpl_toolkits.mplot3d.axes3d.Axes3D)\nTrue",
         "hidden": false,
         "locked": false,
         "points": 0
        },
        {
         "code": ">>> len(ax1.get_lines()) == 1\nTrue",
         "hidden": false,
         "locked": false,
         "points": 0.5
        },
        {
         "code": ">>> line = ax1.get_lines()[0]\n>>> line.get_linestyle() == '-' and line.get_linewidth() == 1 and (line.get_marker() == '.')\nTrue",
         "hidden": false,
         "locked": false,
         "points": 0.5
        },
        {
         "code": ">>> len(ax1.collections) == 2\nTrue",
         "hidden": false,
         "locked": false,
         "points": 0.5
        },
        {
         "code": ">>> point = list(filter(lambda x: x.get_label() == 'start', ax1.collections))[0]\n>>> np.all(np.isclose(point.get_offsets(), np.array([[-0.03093337, -0.02147269]]), atol=0.01))\nTrue",
         "hidden": false,
         "locked": false,
         "points": 0.5
        },
        {
         "code": ">>> point = list(filter(lambda x: x.get_label() == 'start', ax1.collections))[0]\n>>> np.all(np.isclose(point.get_facecolor(), np.array([[0.0, 0.50196078, 0.0, 1.0]]), atol=0.01))\nTrue",
         "hidden": false,
         "locked": false,
         "points": 0.5
        },
        {
         "code": ">>> point = list(filter(lambda x: x.get_label() == 'start', ax1.collections))[0]\n>>> point.get_sizes()[0] == 80\nTrue",
         "hidden": false,
         "locked": false,
         "points": 0.5
        },
        {
         "code": ">>> point = list(filter(lambda x: x.get_label() == 'highest', ax1.collections))[0]\n>>> np.all(np.isclose(point.get_offsets(), np.array([[0.0626858, 0.03630905]]), atol=0.01))\nTrue",
         "hidden": false,
         "locked": false,
         "points": 0.5
        },
        {
         "code": ">>> point = list(filter(lambda x: x.get_label() == 'highest', ax1.collections))[0]\n>>> np.all(np.isclose(point.get_facecolor(), np.array([[1, 0, 0, 1]]), atol=0.01))\nTrue",
         "hidden": false,
         "locked": false,
         "points": 0.5
        },
        {
         "code": ">>> point = list(filter(lambda x: x.get_label() == 'highest', ax1.collections))[0]\n>>> point.get_sizes()[0] == 80\nTrue",
         "hidden": false,
         "locked": false,
         "points": 0.5
        },
        {
         "code": ">>> set(ax1.get_legend_handles_labels()[1]) == {'highest', 'start'}\nTrue",
         "hidden": false,
         "locked": false,
         "points": 0.5
        }
       ],
       "scored": true,
       "setup": "",
       "teardown": "",
       "type": "doctest"
      }
     ]
    },
    "q2p1": {
     "name": "q2p1",
     "points": null,
     "suites": [
      {
       "cases": [
        {
         "code": ">>> xvals.shape == (100,) and xvals[0] == -2 and (xvals[-1] == 2)\nTrue",
         "hidden": false,
         "locked": false,
         "points": 0
        },
        {
         "code": ">>> yvals.shape == (100,) and yvals[0] == -2 and (yvals[-1] == 2)\nTrue",
         "hidden": false,
         "locked": false,
         "points": 0
        },
        {
         "code": ">>> get_hash(xvals, 4) == '4f99404ab90fd06b5604744af9af370f' and get_hash(yvals, 4) == '4f99404ab90fd06b5604744af9af370f'\nTrue",
         "hidden": false,
         "locked": false,
         "points": 1
        }
       ],
       "scored": true,
       "setup": "",
       "teardown": "",
       "type": "doctest"
      }
     ]
    },
    "q2p2": {
     "name": "q2p2",
     "points": null,
     "suites": [
      {
       "cases": [
        {
         "code": ">>> X.shape == (100, 100) and Y.shape == (100, 100) and np.all(X[0, :] == xvals) and np.all(Y[:, 0] == yvals)\nTrue",
         "hidden": false,
         "locked": false,
         "points": 0
        }
       ],
       "scored": true,
       "setup": "",
       "teardown": "",
       "type": "doctest"
      }
     ]
    },
    "q2p3": {
     "name": "q2p3",
     "points": null,
     "suites": [
      {
       "cases": [
        {
         "code": ">>> Z.shape == (100, 100)\nTrue",
         "hidden": false,
         "locked": false,
         "points": 0
        },
        {
         "code": ">>> get_hash(Z, 3) == 'ab910c8905e6972bd48338b1effbbb9b'\nTrue",
         "hidden": false,
         "locked": false,
         "points": 2
        }
       ],
       "scored": true,
       "setup": "",
       "teardown": "",
       "type": "doctest"
      }
     ]
    },
    "q2p4": {
     "name": "q2p4",
     "points": null,
     "suites": [
      {
       "cases": [
        {
         "code": ">>> np.all(np.isclose(fig2.get_size_inches(), (8, 8)))\nTrue",
         "hidden": false,
         "locked": false,
         "points": 0
        },
        {
         "code": ">>> import mpl_toolkits\n>>> isinstance(ax2, mpl_toolkits.mplot3d.axes3d.Axes3D)\nTrue",
         "hidden": false,
         "locked": false,
         "points": 0
        },
        {
         "code": ">>> ax2.collections[0].get_alpha() == 0.8 and ax2.get_xlabel() == 'x' and (ax2.get_ylabel() == 'y') and (ax2.collections[0].get_cmap().name == 'BuPu')\nTrue",
         "hidden": false,
         "locked": false,
         "points": 3
        }
       ],
       "scored": true,
       "setup": "",
       "teardown": "",
       "type": "doctest"
      }
     ]
    }
   }
  }
 },
 "nbformat": 4,
 "nbformat_minor": 0
}
