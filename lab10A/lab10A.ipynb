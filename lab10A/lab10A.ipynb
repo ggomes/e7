{
 "cells": [
  {
   "cell_type": "code",
   "execution_count": null,
   "metadata": {
    "deletable": false,
    "editable": false
   },
   "outputs": [],
   "source": [
    "# Initialize Otter\n",
    "import otter\n",
    "grader = otter.Notebook(\"lab10A.ipynb\")"
   ]
  },
  {
   "cell_type": "markdown",
   "metadata": {},
   "source": [
    "---\n",
    "\n",
    "<h3><center>E7 -  Introduction to Programming for Scientists and Engineers</center></h3>\n",
    "\n",
    "<h2><center>Lab session #10-A <br></center></h2>\n",
    "\n",
    "<h1><center>Matrix operations<br></center></h1>\n",
    "\n",
    "---"
   ]
  },
  {
   "cell_type": "code",
   "execution_count": null,
   "metadata": {
    "execution": {
     "iopub.execute_input": "2024-04-08T03:39:34.896235Z",
     "iopub.status.busy": "2024-04-08T03:39:34.895439Z",
     "iopub.status.idle": "2024-04-08T03:39:35.354359Z",
     "shell.execute_reply": "2024-04-08T03:39:35.353401Z"
    },
    "id": "PmQ0-tpz9u7g",
    "tags": []
   },
   "outputs": [],
   "source": [
    "from resources.hashutils import *\n",
    "import numpy as np\n",
    "import matplotlib.pyplot as plt"
   ]
  },
  {
   "cell_type": "markdown",
   "metadata": {
    "deletable": false,
    "editable": false
   },
   "source": [
    "# Question 1: Matrix multiplication with Python\n",
    "\n",
    "Use NumPy's `@` operator (which is a shorthand for the [matmul](https://numpy.org/doc/stable/reference/generated/numpy.matmul.html) function) to find the product $AB$ of the following two matrices:\n",
    "\n",
    "$$A = \\begin{bmatrix}0&1\\\\2&-1\\end{bmatrix}$$\n",
    "$$B = \\begin{bmatrix}4&0&-1\\\\1&3&1\\end{bmatrix}$$\n",
    "\n",
    "Store the result as `Z`."
   ]
  },
  {
   "cell_type": "code",
   "execution_count": null,
   "metadata": {
    "execution": {
     "iopub.execute_input": "2024-04-08T03:39:35.357369Z",
     "iopub.status.busy": "2024-04-08T03:39:35.357109Z",
     "iopub.status.idle": "2024-04-08T03:39:35.362692Z",
     "shell.execute_reply": "2024-04-08T03:39:35.362198Z"
    },
    "tags": []
   },
   "outputs": [],
   "source": [
    "A = ...\n",
    "B = ...\n",
    "Z = ..."
   ]
  },
  {
   "cell_type": "code",
   "execution_count": null,
   "metadata": {
    "deletable": false,
    "editable": false
   },
   "outputs": [],
   "source": [
    "grader.check(\"q1p1\")"
   ]
  },
  {
   "cell_type": "markdown",
   "metadata": {},
   "source": [
    "# Question 2: Isometric projection\n",
    "\n",
    "In this part we will compute the *isometric projection* that was covered in lecture. To recap, the isometric projection can be broken down into three steps. We begin with a coordinate frame $(x,y,z)$, and with the viewer located on the $x$ axis, and looking toward the origin. The three steps are then:\n",
    "1. Rotate the scene by $\\beta=45\\degree$ on the $z$ axis. This produces a new coordinate frame $(x',y',z')$.\n",
    "2. Rotate the scene by $\\alpha=\\text{atan}(1/\\sqrt{2})$ on the $y'$ axis. This produces a new coordinate frame $(x'',y'',z'')$.\n",
    "3. Relabel the coordinates: $x'''=y''$ and $y'''=z''$. Discard the $x''$ coordinate. \n",
    "\n",
    "All three of these steps are linear transformations, and can therefore be computed with matrix multiplications. In what follows we will execute the three steps in order. "
   ]
  },
  {
   "cell_type": "markdown",
   "metadata": {
    "deletable": false,
    "editable": false
   },
   "source": [
    "## Question 2.1: Load the point cloud of 3D points\n",
    "\n",
    "The data consists of a cloud of points in space taken from the surface of an object. The data is stored in the file `pointcloud.npy`. Use NumPy's [load](https://numpy.org/doc/stable/reference/generated/numpy.load.html) method to load the data into a variable named `pointcloud`. \n",
    "\n",
    "Inspect the array to obtain the number of points in the cloud. Store this quantity as `numpoints`.\n",
    "\n",
    "**Note**\n",
    "+ The three rows in `pointcloud` are respectively the $x$, $y$, and $z$ coordinates of each point."
   ]
  },
  {
   "cell_type": "code",
   "execution_count": null,
   "metadata": {
    "execution": {
     "iopub.execute_input": "2024-04-08T03:39:35.402741Z",
     "iopub.status.busy": "2024-04-08T03:39:35.402580Z",
     "iopub.status.idle": "2024-04-08T03:39:35.406683Z",
     "shell.execute_reply": "2024-04-08T03:39:35.406134Z"
    },
    "tags": []
   },
   "outputs": [],
   "source": [
    "pointcloud = ...\n",
    "numpoints = ..."
   ]
  },
  {
   "cell_type": "code",
   "execution_count": null,
   "metadata": {
    "deletable": false,
    "editable": false
   },
   "outputs": [],
   "source": [
    "grader.check(\"q2p1\")"
   ]
  },
  {
   "cell_type": "markdown",
   "metadata": {
    "deletable": false,
    "editable": false
   },
   "source": [
    "## Question 2.2: Plot the point cloud in 3D\n",
    "\n",
    "Create a function called `plot_pc_3d` that takes a point cloud array as input (e.g. `pointcloud`) and produces a 3D scatter plot. The plot should have these characteristics:\n",
    "+ `figsize=(6,6)`\n",
    "+ For the scatter plot use a `'.'` of size 5 as the marker. \n",
    "+ Add a size 40 magenta-colored `'o'` marker at the origin (again using `scatter`)\n",
    "+ Label the $x$, $y$, and $z$ axes with `'x'`, `'y'`, and, `'z'` respectively. \n",
    "+ The last line in the template (`ax.set_aspect('equal')`) gives equal aspect ratios to all three coordinates. This gives the scatter plot a realistic look. \n",
    "\n",
    "**Notes**:\n",
    "+ The three rows in `pointcloud` are respectively the $x$, $y$, and $z$ coordinates of each point.\n",
    "+ The function should return the `fig` and `ax` objects.\n",
    "+ Applied to `pointcloud`, the plot should look like this:\n",
    "\n",
    "<img src=\"resources/airplane1.png\" width=\"400\" />\n",
    "\n",
    "+ Try adding `%matplotlib widget` to the cell that calls `plot_pc_3d(pointcloud)`. This will render the plot in a widget where you can rotate it with your mouse. But don't forget to remove this line before submitting, or else Gradescope's autograder will fail. \n",
    " "
   ]
  },
  {
   "cell_type": "code",
   "execution_count": null,
   "metadata": {
    "execution": {
     "iopub.execute_input": "2024-04-08T03:39:35.421479Z",
     "iopub.status.busy": "2024-04-08T03:39:35.421304Z",
     "iopub.status.idle": "2024-04-08T03:39:35.426623Z",
     "shell.execute_reply": "2024-04-08T03:39:35.426116Z"
    },
    "tags": []
   },
   "outputs": [],
   "source": [
    "def plot_pc_3d(pts):\n",
    "    fig = plt.figure(...)\n",
    "    ax = fig.add_subplot(...)\n",
    "    ...\n",
    "    ... # etc...\n",
    "    ax.set_aspect('equal')\n",
    "    return fig, ax"
   ]
  },
  {
   "cell_type": "code",
   "execution_count": null,
   "metadata": {
    "execution": {
     "iopub.execute_input": "2024-04-08T03:39:35.428659Z",
     "iopub.status.busy": "2024-04-08T03:39:35.428454Z",
     "iopub.status.idle": "2024-04-08T03:39:35.644151Z",
     "shell.execute_reply": "2024-04-08T03:39:35.642492Z"
    },
    "tags": []
   },
   "outputs": [],
   "source": [
    "plot_pc_3d(pointcloud)"
   ]
  },
  {
   "cell_type": "code",
   "execution_count": null,
   "metadata": {
    "deletable": false,
    "editable": false
   },
   "outputs": [],
   "source": [
    "grader.check(\"q2p2\")"
   ]
  },
  {
   "cell_type": "markdown",
   "metadata": {
    "deletable": false,
    "editable": false
   },
   "source": [
    "## Question 2.3 : Initial view\n",
    "\n",
    "As mentioned earlier, the viewer is initially located on the positive $x$ axis, looking toward the origin. Their perspective is obtained by projecting the points onto the $yz$ plane. Create a function called `viewer_perspective` that plots this persepective. That is, the $y$ coordinate of each point should be plotted along the horizontal axis, and the $z$ coordinate on the vertical axis. Here are the specifications for the plot:\n",
    "\n",
    "+ This is a 2D plot\n",
    "+ `figsize=(6,6)`\n",
    "+ Same marker as in Question 2.2\n",
    "+ Again add a margent-colored `'o'` at the origin. \n",
    "+ Label the horizontal axis with `'y'` and the vertical axis with `'z'`.\n",
    "+ Again use `ax.set_aspect('equal')`.\n",
    "+ Return `fig, ax`\n",
    "+ The plot should look like this:\n",
    "\n",
    "<img src=\"resources/airplane2.png\" width=\"400\" />\n"
   ]
  },
  {
   "cell_type": "code",
   "execution_count": null,
   "metadata": {
    "execution": {
     "iopub.execute_input": "2024-04-08T03:39:35.720311Z",
     "iopub.status.busy": "2024-04-08T03:39:35.720126Z",
     "iopub.status.idle": "2024-04-08T03:39:35.725051Z",
     "shell.execute_reply": "2024-04-08T03:39:35.724561Z"
    },
    "tags": []
   },
   "outputs": [],
   "source": [
    "def viewer_perspective(pts):\n",
    "    fig, ax = plt.subplots(figsize=(6,6))\n",
    "    ...\n",
    "    ...\n",
    "    ...\n",
    "    ax.set_aspect('equal')\n",
    "    return fig, ax"
   ]
  },
  {
   "cell_type": "code",
   "execution_count": null,
   "metadata": {
    "execution": {
     "iopub.execute_input": "2024-04-08T03:39:35.727572Z",
     "iopub.status.busy": "2024-04-08T03:39:35.727403Z",
     "iopub.status.idle": "2024-04-08T03:39:35.820122Z",
     "shell.execute_reply": "2024-04-08T03:39:35.819598Z"
    },
    "tags": []
   },
   "outputs": [],
   "source": [
    "viewer_perspective(pointcloud)"
   ]
  },
  {
   "cell_type": "code",
   "execution_count": null,
   "metadata": {
    "deletable": false,
    "editable": false
   },
   "outputs": [],
   "source": [
    "grader.check(\"q2p3\")"
   ]
  },
  {
   "cell_type": "markdown",
   "metadata": {
    "deletable": false,
    "editable": false
   },
   "source": [
    "## Question 2.4: $45\\degree$ rotation about $z$\n",
    "\n",
    "Step one in the process is to rotate the view $45\\degree$ about the $z$ axis. This is a linear transformation from the $(x,y,z)$ coordinate frame to $(x',y',z')$, and it can be computed by multiplying each point by the matrix:\n",
    "$$R1 = \\begin{bmatrix} \n",
    "1/\\sqrt{2} & 1/\\sqrt{2}  & 0 \\\\ \n",
    "-1/\\sqrt{2} & 1/\\sqrt{2}  & 0 \\\\ \n",
    "0 & 0 & 1 \\end{bmatrix} $$\n",
    "\n",
    "Write a function called `doR1` that takes a `(3,numpoints)` shaped array as input, applies the $45\\degree$ rotation to each point (by multiplying each one by $R1$), and returns the transformed point cloud (also shape `(3,numpoints)`). \n",
    "\n",
    "Use this function to compute a rotated point cloud:\n",
    "```python \n",
    "pc1 = doR1(pointcloud)\n",
    "```\n",
    "And use `viewer_perspective(pc1)` to visualize the perspective of a viewer located on the rotated $x'$ axis. "
   ]
  },
  {
   "cell_type": "code",
   "execution_count": null,
   "metadata": {
    "execution": {
     "iopub.execute_input": "2024-04-08T03:39:35.842421Z",
     "iopub.status.busy": "2024-04-08T03:39:35.842218Z",
     "iopub.status.idle": "2024-04-08T03:39:35.846886Z",
     "shell.execute_reply": "2024-04-08T03:39:35.846392Z"
    },
    "tags": []
   },
   "outputs": [],
   "source": [
    "def doR1(pts):\n",
    "    R1 = ...\n",
    "    ...\n",
    "    return ..."
   ]
  },
  {
   "cell_type": "code",
   "execution_count": null,
   "metadata": {
    "execution": {
     "iopub.execute_input": "2024-04-08T03:39:35.849263Z",
     "iopub.status.busy": "2024-04-08T03:39:35.849101Z",
     "iopub.status.idle": "2024-04-08T03:39:35.948869Z",
     "shell.execute_reply": "2024-04-08T03:39:35.947986Z"
    },
    "tags": []
   },
   "outputs": [],
   "source": [
    "pc1 = doR1(pointcloud)\n",
    "viewer_perspective(pc1)"
   ]
  },
  {
   "cell_type": "code",
   "execution_count": null,
   "metadata": {
    "deletable": false,
    "editable": false
   },
   "outputs": [],
   "source": [
    "grader.check(\"q2p4\")"
   ]
  },
  {
   "cell_type": "markdown",
   "metadata": {
    "deletable": false,
    "editable": false
   },
   "source": [
    "## Question 2.5: Rotation about $y'$\n",
    "\n",
    "The second step is to rotate the $(x',y',z')$ coordinate frame by $\\alpha=\\text{atan}(1/\\sqrt{2})$ radians about the $y'$ axis. This is accomplished by multiplying each point in `pc1` by\n",
    "$$R2 = \\begin{bmatrix} \n",
    "\\cos(\\alpha) & 0 & \\sin(\\alpha) \\\\ \n",
    "0 & 1 & 0 \\\\ \n",
    "-\\sin(\\alpha) & 0 & \\cos(\\alpha) \\end{bmatrix} $$\n",
    "\n",
    "Write a function called `doR2` that transforms a point cloud from $(x',y',z')$ coordinates to $(x'',y'',z'')$ coordinates by multiplying each point by $R2$. The input and return values should be arrays of shape `(3,numpoint)`.\n",
    "\n",
    "Then apply this transformation to `pc1` to obtain `pc2`, the point cloud after two rotations. Plotting `pc2` with  `viewer_perspective` produces the so-called \"isometric projection\" shown below.\n",
    "\n",
    "<img src=\"resources/airplane3.png\" width=\"400\" />\n"
   ]
  },
  {
   "cell_type": "code",
   "execution_count": null,
   "metadata": {
    "execution": {
     "iopub.execute_input": "2024-04-08T03:39:35.967498Z",
     "iopub.status.busy": "2024-04-08T03:39:35.966894Z",
     "iopub.status.idle": "2024-04-08T03:39:35.973880Z",
     "shell.execute_reply": "2024-04-08T03:39:35.973193Z"
    },
    "tags": []
   },
   "outputs": [],
   "source": [
    "def doR2(pts):\n",
    "    alpha = ...\n",
    "    ...\n",
    "    R2 = ...\n",
    "    ...\n",
    "    return ..."
   ]
  },
  {
   "cell_type": "code",
   "execution_count": null,
   "metadata": {
    "execution": {
     "iopub.execute_input": "2024-04-08T03:39:35.976629Z",
     "iopub.status.busy": "2024-04-08T03:39:35.976436Z",
     "iopub.status.idle": "2024-04-08T03:39:36.091601Z",
     "shell.execute_reply": "2024-04-08T03:39:36.090855Z"
    },
    "tags": []
   },
   "outputs": [],
   "source": [
    "pc2 = doR2(pc1)\n",
    "viewer_perspective(pc2)"
   ]
  },
  {
   "cell_type": "code",
   "execution_count": null,
   "metadata": {
    "deletable": false,
    "editable": false
   },
   "outputs": [],
   "source": [
    "grader.check(\"q2p5\")"
   ]
  },
  {
   "cell_type": "markdown",
   "metadata": {
    "deletable": false,
    "editable": false
   },
   "source": [
    "---\n",
    "\n",
    "To double-check your work, the cell below will rerun all of the autograder tests."
   ]
  },
  {
   "cell_type": "code",
   "execution_count": null,
   "metadata": {
    "deletable": false,
    "editable": false
   },
   "outputs": [],
   "source": [
    "grader.check_all()"
   ]
  },
  {
   "cell_type": "markdown",
   "metadata": {
    "deletable": false,
    "editable": false
   },
   "source": [
    "## Submission\n",
    "\n",
    "Make sure you have run all cells in your notebook in order before running the cell below, so that all images/graphs appear in the output. The cell below will generate a zip file for you to submit. **Please save before exporting!**\n",
    "\n",
    "Make sure you submit the .zip file to Gradescope."
   ]
  },
  {
   "cell_type": "code",
   "execution_count": null,
   "metadata": {
    "deletable": false,
    "editable": false
   },
   "outputs": [],
   "source": [
    "# Save your notebook first, then run this cell to export your submission.\n",
    "grader.export(pdf=False)"
   ]
  },
  {
   "cell_type": "markdown",
   "metadata": {},
   "source": [
    " "
   ]
  }
 ],
 "metadata": {
  "anaconda-cloud": {},
  "colab": {
   "provenance": []
  },
  "kernelspec": {
   "display_name": "Python 3 (ipykernel)",
   "language": "python",
   "name": "python3"
  },
  "language_info": {
   "codemirror_mode": {
    "name": "ipython",
    "version": 3
   },
   "file_extension": ".py",
   "mimetype": "text/x-python",
   "name": "python",
   "nbconvert_exporter": "python",
   "pygments_lexer": "ipython3",
   "version": "3.10.12"
  },
  "otter": {
   "OK_FORMAT": true,
   "assignment_name": "lab10A",
   "tests": {
    "q1p1": {
     "name": "q1p1",
     "points": null,
     "suites": [
      {
       "cases": [
        {
         "code": ">>> get_hash(A, 1) == '18bfa568d8a267d82bada6a2740bcc8c' and get_hash(B, 1) == 'b9953b3a9d379e8b60ae8a6c18925c3b'\nTrue",
         "hidden": false,
         "locked": false,
         "points": 1
        },
        {
         "code": ">>> get_hash(Z, 1) == '93293a2ce2ba3acb512c5590d2f4ec1e'\nTrue",
         "hidden": false,
         "locked": false,
         "points": 1
        }
       ],
       "scored": true,
       "setup": "",
       "teardown": "",
       "type": "doctest"
      }
     ]
    },
    "q2p1": {
     "name": "q2p1",
     "points": null,
     "suites": [
      {
       "cases": [
        {
         "code": ">>> get_hash(pointcloud, 4) == '7dce19077e963e1e37aa86de220d2b3d'\nTrue",
         "hidden": false,
         "locked": false,
         "points": 1
        },
        {
         "code": ">>> get_hash(numpoints, 4) == '0b8045e59d8cd9d75a263f5bcba540e4'\nTrue",
         "hidden": false,
         "locked": false,
         "points": 1
        }
       ],
       "scored": true,
       "setup": "",
       "teardown": "",
       "type": "doctest"
      }
     ]
    },
    "q2p2": {
     "name": "q2p2",
     "points": null,
     "suites": [
      {
       "cases": [
        {
         "code": ">>> a = plt.ioff()\n>>> import mpl_toolkits\n>>> (fig, ax) = plot_pc_3d(np.array([[1, 2, 3], [3, 2, 1], [4, 5, 6]]))\n>>> a = plt.ion()\n>>> plt.close(fig)\n>>> isinstance(ax, mpl_toolkits.mplot3d.axes3d.Axes3D)\nTrue",
         "hidden": false,
         "locked": false,
         "points": 0
        },
        {
         "code": ">>> a = plt.ioff()\n>>> (fig, ax) = plot_pc_3d(np.array([[1, 2, 3], [3, 2, 1], [4, 5, 6]]))\n>>> a = plt.ion()\n>>> plt.close(fig)\n>>> np.all(np.sort(np.unique(np.vstack([ax.collections[i].get_offsets().data for i in range(2)]))) == np.array([0.0, 1.0, 2.0, 3.0]))\nTrue",
         "hidden": false,
         "locked": false,
         "points": 1
        },
        {
         "code": ">>> a = plt.ioff()\n>>> (fig, ax) = plot_pc_3d(np.array([[1, 2, 3], [3, 2, 1], [4, 5, 6]]))\n>>> a = plt.ion()\n>>> plt.close(fig)\n>>> ax.get_xlabel() == 'x' and ax.get_ylabel() == 'y' and (ax.get_zlabel() == 'z')\nTrue",
         "hidden": false,
         "locked": false,
         "points": 1
        }
       ],
       "scored": true,
       "setup": "",
       "teardown": "",
       "type": "doctest"
      }
     ]
    },
    "q2p3": {
     "name": "q2p3",
     "points": null,
     "suites": [
      {
       "cases": [
        {
         "code": ">>> a = plt.ioff()\n>>> (fig1, ax1) = viewer_perspective(np.array([[1, 2, 3], [3, 2, 1], [4, 5, 6]]))\n>>> a = plt.ion()\n>>> assert np.all(np.sort(np.unique(np.vstack([ax1.collections[i].get_offsets().data for i in range(2)]))) == np.array([0.0, 1.0, 2.0, 3.0, 4.0, 5.0, 6.0]))\n>>> plt.close(fig1)\n",
         "hidden": false,
         "locked": false,
         "points": 1
        }
       ],
       "scored": true,
       "setup": "",
       "teardown": "",
       "type": "doctest"
      }
     ]
    },
    "q2p4": {
     "name": "q2p4",
     "points": null,
     "suites": [
      {
       "cases": [
        {
         "code": ">>> pc1 = doR1(pointcloud)\n>>> pc1.shape == (3, 2048)\nTrue",
         "hidden": false,
         "locked": false,
         "points": 0
        },
        {
         "code": ">>> pc1 = doR1(pointcloud)\n>>> get_hash(pc1, 4) == '96be8ec48ad0d58dc512726fedd7a938'\nTrue",
         "hidden": false,
         "locked": false,
         "points": 1
        }
       ],
       "scored": true,
       "setup": "",
       "teardown": "",
       "type": "doctest"
      }
     ]
    },
    "q2p5": {
     "name": "q2p5",
     "points": null,
     "suites": [
      {
       "cases": [
        {
         "code": ">>> pc2 = doR2(doR1(pointcloud))\n>>> pc2.shape == (3, 2048)\nTrue",
         "hidden": false,
         "locked": false,
         "points": 0
        },
        {
         "code": ">>> pc2 = doR2(doR1(pointcloud))\n>>> get_hash(pc2, 4) == 'aee700d10c6e58b2a82e0ff4101c0f3b'\nTrue",
         "hidden": false,
         "locked": false,
         "points": 1
        }
       ],
       "scored": true,
       "setup": "",
       "teardown": "",
       "type": "doctest"
      }
     ]
    }
   }
  }
 },
 "nbformat": 4,
 "nbformat_minor": 0
}
