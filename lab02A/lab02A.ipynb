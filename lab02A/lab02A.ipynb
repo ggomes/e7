{
 "cells": [
  {
   "cell_type": "code",
   "execution_count": null,
   "metadata": {
    "deletable": false,
    "editable": false
   },
   "outputs": [],
   "source": [
    "# Initialize Otter\n",
    "import otter\n",
    "grader = otter.Notebook(\"lab02A.ipynb\")"
   ]
  },
  {
   "cell_type": "markdown",
   "metadata": {},
   "source": [
    "---\n",
    "\n",
    "<h3><center>E7 -  Introduction to Programming for Scientists and Engineers</center></h3>\n",
    "\n",
    "<h2><center>Lab session #02-A <br></center></h2>\n",
    "\n",
    "<h1><center>Collections<br></center></h1>\n",
    "\n",
    "---"
   ]
  },
  {
   "cell_type": "code",
   "execution_count": null,
   "metadata": {
    "execution": {
     "iopub.execute_input": "2024-01-29T01:25:38.384114Z",
     "iopub.status.busy": "2024-01-29T01:25:38.383669Z",
     "iopub.status.idle": "2024-01-29T01:25:38.517170Z",
     "shell.execute_reply": "2024-01-29T01:25:38.515926Z"
    },
    "id": "PmQ0-tpz9u7g",
    "tags": []
   },
   "outputs": [],
   "source": [
    "from resources.hashutils import *\n",
    "import csv\n",
    "import math"
   ]
  },
  {
   "cell_type": "markdown",
   "metadata": {
    "deletable": false,
    "editable": false
   },
   "source": [
    "# Question 1: Are you available to meet?"
   ]
  },
  {
   "cell_type": "markdown",
   "metadata": {
    "deletable": false,
    "editable": false,
    "id": "m1IUkyzN9u7h"
   },
   "source": [
    "Write code that, for a given day and time, sets `result` to `True` if you are available to meet on that day and time, and `False` if you are not. Your calendar is provided in a dictionary called `calendar`. The keys in this dictionary are your work days: Monday through Friday. The value for each key is the interval of time when you are available to begin a meeting. So, for example, `calendar['Monday'] = [8,12]` means that you are available to start a one-hour meeting on Mondays any time between 8am and 12 noon (inclusive), and not outside of those hours. \n",
    "\n",
    "The cell below has some starter code for you to work with. Once you are satisfied with your code, you can copy-paste it into the autograded function called `available` in the following cell.\n",
    "\n",
    "**Note**: \n",
    "+ We are using a 24-hour clock format, so 15 corresponds to 3 p.m.\n",
    "+ Your code should return `False` if the provided key is not in the `calendar` dictionary. \n",
    "\n",
    "**Hint**: You can check whether the provided day is a key in the dictionary with `calendar.keys()` and the membership operator `in`."
   ]
  },
  {
   "cell_type": "code",
   "execution_count": null,
   "metadata": {
    "execution": {
     "iopub.execute_input": "2024-01-29T01:25:38.528091Z",
     "iopub.status.busy": "2024-01-29T01:25:38.525642Z",
     "iopub.status.idle": "2024-01-29T01:25:38.535761Z",
     "shell.execute_reply": "2024-01-29T01:25:38.534695Z"
    },
    "tags": []
   },
   "outputs": [],
   "source": [
    "calendar = {\n",
    "    \"Monday\":[8,12],\n",
    "    \"Tuesday\":[10,12],\n",
    "    \"Wednesday\":[13,15],\n",
    "    \"Thursday\":[13,15], \n",
    "    \"Friday\":[8,15]\n",
    "}\n",
    "\n",
    "day = \"Monday\"\n",
    "time = 12\n",
    "\n",
    "result = ..."
   ]
  },
  {
   "cell_type": "markdown",
   "metadata": {
    "deletable": false,
    "editable": false
   },
   "source": [
    "#### Autograded cell:"
   ]
  },
  {
   "cell_type": "code",
   "execution_count": null,
   "metadata": {
    "execution": {
     "iopub.execute_input": "2024-01-29T01:25:38.545145Z",
     "iopub.status.busy": "2024-01-29T01:25:38.542697Z",
     "iopub.status.idle": "2024-01-29T01:25:38.560029Z",
     "shell.execute_reply": "2024-01-29T01:25:38.558905Z"
    },
    "tags": []
   },
   "outputs": [],
   "source": [
    "def available(day, time):\n",
    "    ######### PASTE AND INDENT YOUR CODE HERE ##########\n",
    "    result = ...\n",
    "    ######### DO NOT MODIFY BELOW THIS LINE ############\n",
    "    return result"
   ]
  },
  {
   "cell_type": "code",
   "execution_count": null,
   "metadata": {
    "deletable": false,
    "editable": false
   },
   "outputs": [],
   "source": [
    "grader.check(\"q1\")"
   ]
  },
  {
   "cell_type": "markdown",
   "metadata": {},
   "source": [
    "# Question 2: Counting votes"
   ]
  },
  {
   "cell_type": "markdown",
   "metadata": {},
   "source": [
    "The next cell loads the two lists that we will work with in this question (we will learn more about loading data from csv files later in the course). The two lists: `voters` and `preferred_candidates`, respectively contain the names of the voters from a recent election and the candidates that they voted for (imagine that we are privy to such private information). The two lists line up so that\n",
    "\n",
    "`voters[i]` voted for `preferred_candidates[i]`\n",
    "\n",
    "for every index `i`. "
   ]
  },
  {
   "cell_type": "code",
   "execution_count": null,
   "metadata": {
    "execution": {
     "iopub.execute_input": "2024-01-29T01:25:38.647009Z",
     "iopub.status.busy": "2024-01-29T01:25:38.646646Z",
     "iopub.status.idle": "2024-01-29T01:25:38.654570Z",
     "shell.execute_reply": "2024-01-29T01:25:38.653590Z"
    }
   },
   "outputs": [],
   "source": [
    "# RUN THIS CELL AS-IS. DO NOT MODIFY.\n",
    "with open('voters.csv', 'r') as file:\n",
    "   voters = list(csv.reader(file))\n",
    "voters = voters[0]     \n",
    "with open('preferred_candidates.csv', 'r') as file:\n",
    "   preferred_candidates = list(csv.reader(file))\n",
    "preferred_candidates = preferred_candidates[0] "
   ]
  },
  {
   "cell_type": "markdown",
   "metadata": {
    "deletable": false,
    "editable": false
   },
   "source": [
    "## Question 2.1\n",
    "\n",
    "How many votes were collected? \n",
    "\n",
    "**Hint**: [len](https://docs.python.org/3/library/functions.html#len)"
   ]
  },
  {
   "cell_type": "code",
   "execution_count": null,
   "metadata": {
    "execution": {
     "iopub.execute_input": "2024-01-29T01:25:38.658703Z",
     "iopub.status.busy": "2024-01-29T01:25:38.658349Z",
     "iopub.status.idle": "2024-01-29T01:25:38.663835Z",
     "shell.execute_reply": "2024-01-29T01:25:38.663112Z"
    },
    "tags": []
   },
   "outputs": [],
   "source": [
    "num_votes_collected = ..."
   ]
  },
  {
   "cell_type": "code",
   "execution_count": null,
   "metadata": {
    "deletable": false,
    "editable": false
   },
   "outputs": [],
   "source": [
    "grader.check(\"q2p1\")"
   ]
  },
  {
   "cell_type": "markdown",
   "metadata": {
    "deletable": false,
    "editable": false
   },
   "source": [
    "## Question 2.2\n",
    "\n",
    "Who is Liv Goel's preferred candidate?\n",
    "\n",
    "**Hint**: \n",
    "+ You should first find Liv Goel's index in the list of voters, and then use this to find their preferred candidate. \n",
    "+ The [index](https://docs.python.org/3/tutorial/datastructures.html) method of Python lists."
   ]
  },
  {
   "cell_type": "code",
   "execution_count": null,
   "metadata": {
    "execution": {
     "iopub.execute_input": "2024-01-29T01:25:38.685955Z",
     "iopub.status.busy": "2024-01-29T01:25:38.685517Z",
     "iopub.status.idle": "2024-01-29T01:25:38.692242Z",
     "shell.execute_reply": "2024-01-29T01:25:38.691479Z"
    },
    "tags": []
   },
   "outputs": [],
   "source": [
    "...\n",
    "Liv_Goel_vote = ..."
   ]
  },
  {
   "cell_type": "code",
   "execution_count": null,
   "metadata": {
    "deletable": false,
    "editable": false
   },
   "outputs": [],
   "source": [
    "grader.check(\"q2p2\")"
   ]
  },
  {
   "cell_type": "markdown",
   "metadata": {
    "deletable": false,
    "editable": false
   },
   "source": [
    "## Question 2.3\n",
    "\n",
    "How many *unique* voter names were there? How many unique candidates were there?\n",
    "\n",
    "**Hint**: \n",
    "+ You can use a Python [set](https://docs.python.org/3/tutorial/datastructures.html#sets) to obtain the collection of unique voters, and [len](https://docs.python.org/3/library/functions.html#len) to find the number of items in a set. "
   ]
  },
  {
   "cell_type": "code",
   "execution_count": null,
   "metadata": {
    "execution": {
     "iopub.execute_input": "2024-01-29T01:25:38.715664Z",
     "iopub.status.busy": "2024-01-29T01:25:38.715214Z",
     "iopub.status.idle": "2024-01-29T01:25:38.722652Z",
     "shell.execute_reply": "2024-01-29T01:25:38.721666Z"
    },
    "tags": []
   },
   "outputs": [],
   "source": [
    "num_unique_voters = ...\n",
    "num_unique_candidates = ..."
   ]
  },
  {
   "cell_type": "code",
   "execution_count": null,
   "metadata": {
    "deletable": false,
    "editable": false
   },
   "outputs": [],
   "source": [
    "grader.check(\"q2p3\")"
   ]
  },
  {
   "cell_type": "markdown",
   "metadata": {},
   "source": [
    "It seems from this analysis that there was at least one person who voted more than once. In the next lab we will figure out who that was, as well as the winner of the election."
   ]
  },
  {
   "cell_type": "markdown",
   "metadata": {},
   "source": [
    "# Question 3: List slicing"
   ]
  },
  {
   "cell_type": "markdown",
   "metadata": {},
   "source": [
    "Next we will practice the technique of *slicing* for extracting sub-lists from lists. The cell below loads a list called `A`. It consists of 1000 randomly generated numbers between 0 and 1. "
   ]
  },
  {
   "cell_type": "code",
   "execution_count": null,
   "metadata": {
    "execution": {
     "iopub.execute_input": "2024-01-29T01:25:38.758842Z",
     "iopub.status.busy": "2024-01-29T01:25:38.758514Z",
     "iopub.status.idle": "2024-01-29T01:25:38.764637Z",
     "shell.execute_reply": "2024-01-29T01:25:38.763657Z"
    }
   },
   "outputs": [],
   "source": [
    "# RUN THIS CELL AS-IS. DO NOT MODIFY.\n",
    "with open('random_numbers.csv', 'r') as file:\n",
    "   A = list(csv.reader(file,quoting = csv.QUOTE_NONNUMERIC))\n",
    "A = A[0]"
   ]
  },
  {
   "cell_type": "markdown",
   "metadata": {
    "deletable": false,
    "editable": false
   },
   "source": [
    "## Question 3.1\n",
    "\n",
    "Find the sum of the first 20 entries of `A`.\n",
    "\n",
    "**Hint**: \n",
    "+ Python's builtin [sum](https://docs.python.org/3/library/functions.html#sum)."
   ]
  },
  {
   "cell_type": "code",
   "execution_count": null,
   "metadata": {
    "execution": {
     "iopub.execute_input": "2024-01-29T01:25:38.768812Z",
     "iopub.status.busy": "2024-01-29T01:25:38.768504Z",
     "iopub.status.idle": "2024-01-29T01:25:38.775453Z",
     "shell.execute_reply": "2024-01-29T01:25:38.774425Z"
    },
    "tags": []
   },
   "outputs": [],
   "source": [
    "sol1 = ..."
   ]
  },
  {
   "cell_type": "code",
   "execution_count": null,
   "metadata": {
    "deletable": false,
    "editable": false
   },
   "outputs": [],
   "source": [
    "grader.check(\"q3p1\")"
   ]
  },
  {
   "cell_type": "markdown",
   "metadata": {
    "deletable": false,
    "editable": false
   },
   "source": [
    "## Question 3.2\n",
    "\n",
    "Find the maximum of the last 20 entries in `A`.\n",
    "\n",
    "**Hint** \n",
    "+ Python's builtin [max()](https://docs.python.org/3/library/functions.html#max)"
   ]
  },
  {
   "cell_type": "code",
   "execution_count": null,
   "metadata": {
    "execution": {
     "iopub.execute_input": "2024-01-29T01:25:38.801127Z",
     "iopub.status.busy": "2024-01-29T01:25:38.800801Z",
     "iopub.status.idle": "2024-01-29T01:25:38.807496Z",
     "shell.execute_reply": "2024-01-29T01:25:38.806445Z"
    },
    "tags": []
   },
   "outputs": [],
   "source": [
    "sol2 = ..."
   ]
  },
  {
   "cell_type": "code",
   "execution_count": null,
   "metadata": {
    "deletable": false,
    "editable": false
   },
   "outputs": [],
   "source": [
    "grader.check(\"q3p2\")"
   ]
  },
  {
   "cell_type": "markdown",
   "metadata": {
    "deletable": false,
    "editable": false
   },
   "source": [
    "## Question 3.3\n",
    "\n",
    "Create a list with every 120th entry in `A`. That is, the list should include `A[0]`, then skip 119 values, then include `A[120]`, then skip 119 values, and so on. "
   ]
  },
  {
   "cell_type": "code",
   "execution_count": null,
   "metadata": {
    "execution": {
     "iopub.execute_input": "2024-01-29T01:25:38.831498Z",
     "iopub.status.busy": "2024-01-29T01:25:38.831184Z",
     "iopub.status.idle": "2024-01-29T01:25:38.837634Z",
     "shell.execute_reply": "2024-01-29T01:25:38.836459Z"
    },
    "tags": []
   },
   "outputs": [],
   "source": [
    "sol3 = ..."
   ]
  },
  {
   "cell_type": "code",
   "execution_count": null,
   "metadata": {
    "deletable": false,
    "editable": false
   },
   "outputs": [],
   "source": [
    "grader.check(\"q3p3\")"
   ]
  },
  {
   "cell_type": "markdown",
   "metadata": {
    "deletable": false,
    "editable": false
   },
   "source": [
    "## Question 3.4\n",
    "\n",
    "Find the absolute value of the difference between the sums of the even and odd-indexed entries of `A`.\n",
    "\n",
    "That is:\n",
    "\n",
    "$$ \\bigg| (A[0]+A[2]+...+A[998]) - (A[1]+A[3]+...+A[999])  \\bigg| $$\n",
    "\n",
    "**Hint**:\n",
    "+ Python's builtin [abs()](https://docs.python.org/3/library/functions.html#abs)\n",
    "\n",
    "#### Autograded cell:"
   ]
  },
  {
   "cell_type": "code",
   "execution_count": null,
   "metadata": {
    "execution": {
     "iopub.execute_input": "2024-01-29T01:25:38.862693Z",
     "iopub.status.busy": "2024-01-29T01:25:38.862319Z",
     "iopub.status.idle": "2024-01-29T01:25:38.869196Z",
     "shell.execute_reply": "2024-01-29T01:25:38.868222Z"
    },
    "tags": []
   },
   "outputs": [],
   "source": [
    "sumEven = ...\n",
    "sumOdd = ...\n",
    "absdiff = ..."
   ]
  },
  {
   "cell_type": "code",
   "execution_count": null,
   "metadata": {
    "deletable": false,
    "editable": false
   },
   "outputs": [],
   "source": [
    "grader.check(\"q3p4\")"
   ]
  },
  {
   "cell_type": "markdown",
   "metadata": {
    "deletable": false,
    "editable": false
   },
   "source": [
    "## Submission\n",
    "\n",
    "Make sure you have run all cells in your notebook in order before running the cell below, so that all images/graphs appear in the output. The cell below will generate a zip file for you to submit. **Please save before exporting!**\n",
    "\n",
    "Make sure you submit the .zip file to Gradescope."
   ]
  },
  {
   "cell_type": "code",
   "execution_count": null,
   "metadata": {
    "deletable": false,
    "editable": false
   },
   "outputs": [],
   "source": [
    "# Save your notebook first, then run this cell to export your submission.\n",
    "grader.export(pdf=False)"
   ]
  },
  {
   "cell_type": "markdown",
   "metadata": {},
   "source": [
    " "
   ]
  }
 ],
 "metadata": {
  "anaconda-cloud": {},
  "colab": {
   "provenance": []
  },
  "kernelspec": {
   "display_name": "Python 3 (ipykernel)",
   "language": "python",
   "name": "python3"
  },
  "language_info": {
   "codemirror_mode": {
    "name": "ipython",
    "version": 3
   },
   "file_extension": ".py",
   "mimetype": "text/x-python",
   "name": "python",
   "nbconvert_exporter": "python",
   "pygments_lexer": "ipython3",
   "version": "3.10.12"
  },
  "otter": {
   "OK_FORMAT": true,
   "assignment_name": "lab02A",
   "tests": {
    "q1": {
     "name": "q1",
     "points": null,
     "suites": [
      {
       "cases": [
        {
         "code": ">>> available('Monday', 9.5) and (not available('Monday', 7))\nTrue",
         "hidden": false,
         "locked": false,
         "points": 1
        },
        {
         "code": ">>> not available('Funday', 13)\nTrue",
         "hidden": false,
         "locked": false,
         "points": 1
        },
        {
         "code": ">>> available('Friday', 10) and (not available('Wednesday', 16))\nTrue",
         "hidden": false,
         "locked": false,
         "points": 1
        }
       ],
       "scored": true,
       "setup": "",
       "teardown": "",
       "type": "doctest"
      }
     ]
    },
    "q2p1": {
     "name": "q2p1",
     "points": null,
     "suites": [
      {
       "cases": [
        {
         "code": ">>> num_votes_collected > 3200 and num_votes_collected < 3300\nTrue",
         "hidden": false,
         "locked": false,
         "points": 0
        },
        {
         "code": ">>> get_hash(num_votes_collected, 4) == '6a0162149a978582e5c6ce2b044c74ea'\nFalse",
         "hidden": false,
         "locked": false,
         "points": 1
        }
       ],
       "scored": true,
       "setup": "",
       "teardown": "",
       "type": "doctest"
      }
     ]
    },
    "q2p2": {
     "name": "q2p2",
     "points": null,
     "suites": [
      {
       "cases": [
        {
         "code": ">>> len(Liv_Goel_vote) == 14\nTrue",
         "hidden": false,
         "locked": false,
         "points": 0
        },
        {
         "code": ">>> get_hash(Liv_Goel_vote) == '7054f8890aa9e7895e5ff73cf3191b3e'\nTrue",
         "hidden": false,
         "locked": false,
         "points": 1
        }
       ],
       "scored": true,
       "setup": "",
       "teardown": "",
       "type": "doctest"
      }
     ]
    },
    "q2p3": {
     "name": "q2p3",
     "points": null,
     "suites": [
      {
       "cases": [
        {
         "code": ">>> num_unique_voters > 3100 and num_unique_voters < 3200\nTrue",
         "hidden": false,
         "locked": false,
         "points": 0
        },
        {
         "code": ">>> num_unique_candidates > 0 and num_unique_candidates < 100\nTrue",
         "hidden": false,
         "locked": false,
         "points": 0
        },
        {
         "code": ">>> get_hash(num_unique_voters) == '721e7285b298cde5b3d0c973ed8d7b63' and get_hash(num_unique_candidates) == '8f14e45fceea167a5a36dedd4bea2543'\nTrue",
         "hidden": false,
         "locked": false,
         "points": 1
        }
       ],
       "scored": true,
       "setup": "",
       "teardown": "",
       "type": "doctest"
      }
     ]
    },
    "q3p1": {
     "name": "q3p1",
     "points": null,
     "suites": [
      {
       "cases": [
        {
         "code": ">>> sol1 > 9 and sol1 < 10\nTrue",
         "hidden": false,
         "locked": false,
         "points": 0
        },
        {
         "code": ">>> get_hash(sol1, 4) == 'e3a71a2703aa3ce96a7f57c534e39e4f'\nTrue",
         "hidden": false,
         "locked": false,
         "points": 1
        }
       ],
       "scored": true,
       "setup": "",
       "teardown": "",
       "type": "doctest"
      }
     ]
    },
    "q3p2": {
     "name": "q3p2",
     "points": null,
     "suites": [
      {
       "cases": [
        {
         "code": ">>> sol2 > 0 and sol2 < 1\nTrue",
         "hidden": false,
         "locked": false,
         "points": 0
        },
        {
         "code": ">>> get_hash(sol2, 4) == 'f470b40b7d4a565c1d08911e0f6bd42e'\nTrue",
         "hidden": false,
         "locked": false,
         "points": 1
        }
       ],
       "scored": true,
       "setup": "",
       "teardown": "",
       "type": "doctest"
      }
     ]
    },
    "q3p3": {
     "name": "q3p3",
     "points": null,
     "suites": [
      {
       "cases": [
        {
         "code": ">>> len(sol3) == 9\nTrue",
         "hidden": false,
         "locked": false,
         "points": 0
        },
        {
         "code": ">>> get_hash(sol3, 4) == '6963dc8970ed9023c081f891298627e4'\nTrue",
         "hidden": false,
         "locked": false,
         "points": 1
        }
       ],
       "scored": true,
       "setup": "",
       "teardown": "",
       "type": "doctest"
      }
     ]
    },
    "q3p4": {
     "name": "q3p4",
     "points": null,
     "suites": [
      {
       "cases": [
        {
         "code": ">>> absdiff > 8 and absdiff < 9\nTrue",
         "hidden": false,
         "locked": false,
         "points": 0
        },
        {
         "code": ">>> get_hash(absdiff, 4) == 'a380656244f4cdbaec8adf84a2881719'\nTrue",
         "hidden": false,
         "locked": false,
         "points": 1
        }
       ],
       "scored": true,
       "setup": "",
       "teardown": "",
       "type": "doctest"
      }
     ]
    }
   }
  }
 },
 "nbformat": 4,
 "nbformat_minor": 0
}
