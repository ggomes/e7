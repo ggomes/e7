{
 "cells": [
  {
   "cell_type": "code",
   "execution_count": null,
   "metadata": {
    "deletable": false,
    "editable": false
   },
   "outputs": [],
   "source": [
    "# Initialize Otter\n",
    "import otter\n",
    "grader = otter.Notebook(\"lab11B.ipynb\")"
   ]
  },
  {
   "cell_type": "markdown",
   "metadata": {},
   "source": [
    "---\n",
    "\n",
    "<h3><center>E7 -  Introduction to Programming for Scientists and Engineers</center></h3>\n",
    "\n",
    "<h2><center>Lab session #11-B <br></center></h2>\n",
    "\n",
    "<h1><center> Systems of ODEs<br></center></h1>\n",
    "\n",
    "---"
   ]
  },
  {
   "cell_type": "code",
   "execution_count": null,
   "metadata": {
    "execution": {
     "iopub.execute_input": "2024-04-16T16:01:28.966866Z",
     "iopub.status.busy": "2024-04-16T16:01:28.966719Z",
     "iopub.status.idle": "2024-04-16T16:01:29.244677Z",
     "shell.execute_reply": "2024-04-16T16:01:29.244233Z"
    }
   },
   "outputs": [],
   "source": [
    "from resources.hashutils import *\n",
    "import numpy as np\n",
    "import matplotlib.pyplot as plt"
   ]
  },
  {
   "cell_type": "markdown",
   "metadata": {},
   "source": [
    "# A system of interconnected water tanks\n",
    "\n",
    "In this lab activity we will simulate the system shown below of three interconnected water tanks. As you can see, the tanks are numbered 1, 2, and 3, and all three are equipped with spigots for extracting water. The flow of water through the spigots are the time-varying \"demands\" and they are labeled $d_1$, $d_2$, and $d_3$. Tank 1 is supplied with water at a rate $s$. The tanks are connected by two pipes, one between tanks 1 and 2 which carries a flow $f_{12}$, and the other between tanks 2 and 3 with flow $f_{23}$. The height of water in the tanks are denoted with $h_1$, $h_2$, and $h_3$. All of these variables have SI units:\n",
    "\n",
    "+ time $t$ is in seconds.\n",
    "+ $h_1$, $h_2$, $h_3$ are in meters. \n",
    "+ $d_1$, $d_2$, $d_3$, $s$, $f_{12}$, and $f_{23}$ are in cubic meters per second.\n",
    "\n",
    "Because the tanks are identical (same surface areas), the flows through the pipes depends only on the difference between the heights in the connected tanks. We assume that the flow is *proportional* to this difference:\n",
    "\n",
    "\\begin{align*} &f_{12} = \\alpha_1 (h_1-h_2) \\\\ &f_{23} = \\alpha_2 (h_2-h_3) \\end{align*}\n",
    "\n",
    "Water flows from the tank with the higher water level to the one with lower water level. The propotionality constants $\\alpha_1$ and $\\alpha_2$ depend on many factors, including the diameters, roughness, and lengths of the pipes. In this exercise $\\alpha_1$ and $\\alpha_2$ are given. \n",
    "\n",
    "<img src=\"resources/water_tanks.png\" width=800>\n",
    "\n",
    "In question 1 we will simulate the system assuming all of the spigots are closed and the water supply is turned off. Then, in question 2, we will incorporate time-varying profiles for these quantities. \n",
    "\n",
    "Much of the code for this lab builds upon the code you've developed in lab 11A. Hence it is recommended that you finish that lab before doing this one.  \n",
    "\n",
    "We begin by deriving the state equation (system of ODEs) for the system."
   ]
  },
  {
   "cell_type": "markdown",
   "metadata": {},
   "source": [
    "# Question 0: Write the system of ODEs\n",
    "\n",
    "Before we can get to the coding, we must first create a mathematical model of the system. The first step to doing this is to define the \"state\" of the system. In this case, the state is the three water levels $h_1$, $h_2$, and $h_3$. We arrange these into a \"state vector\" $\\mathbf{y}$:\n",
    "\n",
    "\\begin{equation*}\n",
    "\\mathbf{y} = \\begin{bmatrix} h_1 \\\\ h_2 \\\\ h_3 \\end{bmatrix} \n",
    "\\end{equation*}\n",
    "\n",
    "Next, we must write the *state equation*, which is a system of ODEs:\n",
    "\\begin{align*}\n",
    "&h'_1 =  f_1(h_1,h_2,h_3,s, d_1, d_2, d_3) \\\\\n",
    "&h'_2 =  f_2(h_1,h_2,h_3,s, d_1, d_2, d_3) \\\\\n",
    "&h'_3 =  f_3(h_1,h_2,h_3,s, d_1, d_2, d_3) \n",
    "\\end{align*}\n",
    "These equations relate the rate of change of each of the heights (e.g. $h'_1$) to all of the states and all of the  demands and supplies. \n",
    "\n",
    "Let's derive the formula for $h'_1$. The principle of conservation of mass combined with the incompressibility of water tells us the that rate of change of the volume of water in the tank equals the net flow of water into the tank. \n",
    "\\begin{equation*}\n",
    "\\frac{d}{dt}(\\text{volume of water in the tank}) = \\text{flow in} - \\text{flow out}\n",
    "\\end{equation*}\n",
    "The volume is the circular area of the tank $a$ (assumed equal for all tanks) times the height. Since $a$ is constant we have for tank 1:\n",
    "\\begin{equation*}\n",
    "a \\: h_1' = s-f_{12}- d_1 \n",
    "\\end{equation*}\n",
    "On the right hand side, $s$ is the flow entering the tank and $f_{12}$ and $d_1$ are flows that exit. Next we must replace $f_{12}$ with its expression in terms of the states: $f_{12} = \\alpha_1 (h_1-h_2)$. Dividing by $a$ we get\n",
    "\\begin{equation*}\n",
    "h'_1 = \\frac{1}{a}\\Bigl(-\\alpha_1 (h_1-h_2)+  s- d_1\\Bigr)\n",
    "\\end{equation*}\n",
    "\n",
    "Try to derive the other two state equations (for $h'_2$ and $h'_3$) on your own. Once you do that you will notice that they are all *linear* functions of the parameters. Hence the vector form of the state equation is a matrix multiplication:\n",
    "\\begin{equation*}\n",
    "\\mathbf{y}' =  A\\: \\mathbf{y}  + \\mathbf{w} \n",
    "\\end{equation*}\n",
    "where $A$ is a 3x3 matrix and $\\mathbf{w}$ is a 3x1 column vector. The entries of $A$ depend on $\\alpha_1$, $\\alpha_2$, and $a$. The entries of $\\mathbf{w}$ depend on the supplies, the demands, and $a$. From the formula just derived for $h'_1$ we can see that the first row of $A$ is $[-\\alpha_1/a,\\alpha_1/a,0]$, while the first row of $\\mathbf{w}$ is the scalar $(s-d_1)/a$. You should complete rows two and three of $A$ and $\\mathbf{w}$.\n",
    "\n"
   ]
  },
  {
   "cell_type": "markdown",
   "metadata": {},
   "source": [
    "# Question 1: Simulation with no supply or demand"
   ]
  },
  {
   "cell_type": "markdown",
   "metadata": {
    "deletable": false,
    "editable": false
   },
   "source": [
    "## Question 1.1: State equation\n",
    "\n",
    "With the supply turned off ($s=0$) and all of the spigots closed ($d_1=d_2=d_3=0$), we get $w=\\mathbf{0}$, and the vector state equation reduces to:\n",
    "\\begin{equation*}\n",
    "\\mathbf{y}' = A\\:\\mathbf{y}\n",
    "\\end{equation*}\n",
    "Define a function called `three_tanks_closed(y,t,params)` that implements this state equation. The inputs to this function are:\n",
    "+ `y`: a 1D Numpy array containing the current value of the state `np.array([h1,h2,h3])`\n",
    "+ `t`: the current time in seconds. Note that `t` is not used, but we include it in order to create a consistent signature for later parts. \n",
    "+ `params`: a tuple containing the constant parameters of the state equation: `params=(alpha1,alpha2,a)`.\n",
    "\n",
    "**Note:** \n",
    "+ The \"closed\" in the name of the function means that the supply and demand valves are closed.  "
   ]
  },
  {
   "cell_type": "code",
   "execution_count": null,
   "metadata": {
    "execution": {
     "iopub.execute_input": "2024-04-16T16:01:29.247256Z",
     "iopub.status.busy": "2024-04-16T16:01:29.247005Z",
     "iopub.status.idle": "2024-04-16T16:01:29.252177Z",
     "shell.execute_reply": "2024-04-16T16:01:29.251819Z"
    },
    "tags": []
   },
   "outputs": [],
   "source": [
    "def three_tanks_closed(y,t,params):\n",
    "\n",
    "    # unpack params into alpha1, alpha2, and a\n",
    "    ...\n",
    "\n",
    "    # Define A as a 2D numpy array\n",
    "    A = ...\n",
    "\n",
    "    # Return the matrix multiplication of A and y\n",
    "    return ..."
   ]
  },
  {
   "cell_type": "code",
   "execution_count": null,
   "metadata": {
    "execution": {
     "iopub.execute_input": "2024-04-16T16:01:29.278827Z",
     "iopub.status.busy": "2024-04-16T16:01:29.278606Z",
     "iopub.status.idle": "2024-04-16T16:01:29.282750Z",
     "shell.execute_reply": "2024-04-16T16:01:29.282385Z"
    },
    "tags": []
   },
   "outputs": [],
   "source": [
    "# Test your code\n",
    "alpha1 = 1/100                  # m^2/s\n",
    "alpha2 = 1/150                  # m^2/s\n",
    "a = 10                          # m^2\n",
    "params = (alpha1,alpha2,a)\n",
    "y = np.array([3,2,0])           # m\n",
    "t=0                             # s\n",
    "three_tanks_closed(y,t,params)"
   ]
  },
  {
   "cell_type": "code",
   "execution_count": null,
   "metadata": {
    "deletable": false,
    "editable": false
   },
   "outputs": [],
   "source": [
    "grader.check(\"q1p1\")"
   ]
  },
  {
   "cell_type": "markdown",
   "metadata": {
    "deletable": false,
    "editable": false
   },
   "source": [
    "## Question 1.2: Multi-variable IVP solver\n",
    "\n",
    "Next we will implement a generic solver for vector-valued initial value problems. This process is almost identical to what you did in part 2.1 of lab 11A. \n",
    "\n",
    "Recall that the general update formula for the numerical method is:\n",
    "\n",
    "\\begin{equation*}\n",
    "\\hat{\\mathbf{y}}[k+1] = \\hat{\\mathbf{y}}[k] + h\\: \\hat{\\mathbf{s}}_k\n",
    "\\end{equation*}\n",
    "\n",
    "In contrast with lab 11A, here $\\hat{\\mathbf{y}}[k]$ is a *vector* in $\\mathbb{R}^n$, where $n$ is the number of states (in this case 3). The estimate of the slope $\\hat{\\mathbf{s}}_k$ is also a vector in $\\mathbb{R}^n$. As in lab 11A, the computation of $\\hat{\\mathbf{s}}_k$ is determined by the numerical method being used. Here we will test two options --  Euler's method and Runge-Kutta 4 (RK4). But first we must implement the generic update formula.\n",
    "\n",
    "Write a function called `my_ivp_solver_closed(f,ts,h,y0,shat_estimator,params)`, whose inputs are:\n",
    "\n",
    "+ `f` : A *function* that evaluates the state equation.\n",
    "+ `ts`: Total simulation time [seconds] \n",
    "+ `h` : Time step [seconds] \n",
    "+ `y0` : Initial condition. This is a 1D NumPy array with $n$ elements.\n",
    "+ `shat_estimator(f,yhatk,h,t,params)`: A *function* that evaluates $\\hat{\\mathbf{s}}_k$ for a particular numerical method. Notice that the function takes the `params` tuple as input.\n",
    "\n",
    "\n",
    "**Hint**\n",
    "+ As in 11A, the input and output characteristics of `f` are not important at this stage, since that function will simply be passed in to `shat_estimator`.\n",
    "\n",
    "You should be able to copy your code from part 2.1 of lab 11A, and make a few adjustments:\n",
    "+ `yhat` will now be a 2D NumPy array with shape `(K,n)`, where `K` is the number of time instants. Hence you should replace instances of `yhat[k]` with `yhat[k,:]`, for example. \n",
    "+ If you encounter errors, remember to debug by a) inserting print statements in the code, and/or b) if using VSCode, insert breakpoints and run in [debug mode](https://code.visualstudio.com/docs/datascience/jupyter-notebooks#_debug-a-jupyter-notebook). "
   ]
  },
  {
   "cell_type": "code",
   "execution_count": null,
   "metadata": {
    "execution": {
     "iopub.execute_input": "2024-04-16T16:01:29.322723Z",
     "iopub.status.busy": "2024-04-16T16:01:29.322508Z",
     "iopub.status.idle": "2024-04-16T16:01:29.328502Z",
     "shell.execute_reply": "2024-04-16T16:01:29.328028Z"
    },
    "tags": []
   },
   "outputs": [],
   "source": [
    "def my_ivp_solver_closed(f,ts,h,y0,shat_estimator,params):\n",
    "\n",
    "    # Obtain n as the number of elements in y0\n",
    "    n = ...\n",
    "\n",
    "    # Create the time grid \n",
    "    tvec = ...\n",
    "    K = len(tvec)\n",
    "\n",
    "    # Initialize the yhat array (allocate space and set the initial condition)\n",
    "    ...\n",
    "\n",
    "    # Run the iteration forward over all time.\n",
    "    # At each step: \n",
    "    # 1. use shat_estimator to compute shat\n",
    "    # 2. use it to compute the next value of yhat \n",
    "    for k in ...:\n",
    "    \n",
    "        # current time\n",
    "        t = ...\n",
    "        \n",
    "        # call the shat estimator to obtain shat\n",
    "        shat = ...\n",
    "\n",
    "        # update yhat\n",
    "        ...\n",
    "\n",
    "    return tvec, yhat"
   ]
  },
  {
   "cell_type": "code",
   "execution_count": null,
   "metadata": {
    "execution": {
     "iopub.execute_input": "2024-04-16T16:01:29.330374Z",
     "iopub.status.busy": "2024-04-16T16:01:29.330184Z",
     "iopub.status.idle": "2024-04-16T16:01:29.333261Z",
     "shell.execute_reply": "2024-04-16T16:01:29.332915Z"
    },
    "tags": []
   },
   "outputs": [],
   "source": [
    "# Test your code\n",
    "alpha1 = 1/100                  # m^2/s\n",
    "alpha2 = 1/150                  # m^2/s\n",
    "a = 10                          # m^2\n",
    "params = (alpha1,alpha2,a)\n",
    "y0 = np.array([3,2,0])          # m\n",
    "ts = 10                         # s\n",
    "h = 1                           # s\n",
    "\n",
    "def shat_estimator_fake(f,yhatk,h,t,params):\n",
    "    return 0.5\n",
    "\n",
    "def state_equation_fake(y,t,params):\n",
    "    return None\n",
    "\n",
    "tvec, yhat = my_ivp_solver_closed(state_equation_fake,ts,h,y0,shat_estimator_fake,params)"
   ]
  },
  {
   "cell_type": "code",
   "execution_count": null,
   "metadata": {
    "deletable": false,
    "editable": false
   },
   "outputs": [],
   "source": [
    "grader.check(\"q1p2\")"
   ]
  },
  {
   "cell_type": "markdown",
   "metadata": {
    "deletable": false,
    "editable": false
   },
   "source": [
    "## Question 1.3: Euler's method\n",
    "\n",
    "Implement Euler's method for estimating $\\hat{\\mathbf{s}}_k$:\n",
    "\\begin{equation*}\n",
    "\\hat{\\mathbf{s}}_k = f(\\hat{\\mathbf{y}}[k],t)\n",
    "\\end{equation*}\n",
    "\n",
    "The code for this part is identical to part 2.2 of lab 11A, except that the function now receives `params` as an additional input and passes it on to the state equation `f(yhatk,t,params)`. "
   ]
  },
  {
   "cell_type": "code",
   "execution_count": null,
   "metadata": {
    "execution": {
     "iopub.execute_input": "2024-04-16T16:01:29.348655Z",
     "iopub.status.busy": "2024-04-16T16:01:29.348434Z",
     "iopub.status.idle": "2024-04-16T16:01:29.352430Z",
     "shell.execute_reply": "2024-04-16T16:01:29.351998Z"
    },
    "tags": []
   },
   "outputs": [],
   "source": [
    "def shat_euler_closed(f,yhatk,h,t,params):\n",
    "    ..."
   ]
  },
  {
   "cell_type": "code",
   "execution_count": null,
   "metadata": {
    "execution": {
     "iopub.execute_input": "2024-04-16T16:01:29.354124Z",
     "iopub.status.busy": "2024-04-16T16:01:29.353924Z",
     "iopub.status.idle": "2024-04-16T16:01:29.358640Z",
     "shell.execute_reply": "2024-04-16T16:01:29.358213Z"
    },
    "tags": []
   },
   "outputs": [],
   "source": [
    "# Test your code.\n",
    "alpha1 = 1/100                  # m^2/s\n",
    "alpha2 = 1/150                  # m^2/s\n",
    "a = 10                          # m^2\n",
    "params = (alpha1,alpha2,a)\n",
    "yhatk = np.array([3,2,0])       # m\n",
    "t = 0                           # s\n",
    "h = 1                           # s\n",
    "\n",
    "def state_equation_fake(y,t,params):\n",
    "    return 1\n",
    "\n",
    "shat_euler_closed(state_equation_fake,yhatk,h,t,params)"
   ]
  },
  {
   "cell_type": "code",
   "execution_count": null,
   "metadata": {
    "deletable": false,
    "editable": false
   },
   "outputs": [],
   "source": [
    "grader.check(\"q1p3\")"
   ]
  },
  {
   "cell_type": "markdown",
   "metadata": {
    "deletable": false,
    "editable": false
   },
   "source": [
    "## Question 1.4: RK4\n",
    "\n",
    "Implement the formula for RK4. Recall the formula:\n",
    "\\begin{align*}\n",
    "&k_1 = f\\Bigl(\\hat{\\mathbf{y}}[k],t\\Bigr)\\\\\n",
    "&k_2 = f\\Bigl(\\hat{\\mathbf{y}}[k] + \\frac{h}{2} k_1\\:,\\:t \\!+\\! \\frac{h}{2}\\Bigr) \\\\\n",
    "&k_3 = f\\Bigl(\\hat{\\mathbf{y}}[k] + \\frac{h}{2} k_2\\:,\\:t \\!+\\! \\frac{h}{2}\\Bigr) \\\\\n",
    "&k_4 = f\\Bigl(\\hat{\\mathbf{y}}[k] + h k_3\\:,\\:t \\!+\\! h\\Bigr) \\\\\n",
    "&\\hat{\\mathbf{s}}_k = \\frac{1}{6} \\Bigl(k_1+2k_2+2k_3+k_4\\Bigr)\n",
    "\\end{align*}\n",
    "The instructions for question 1.3 apply here as well. \n",
    "\n",
    "**Note:** \n",
    "+ Each of $k_1$ through $k_4$ are *vectors*, or more precisely, 1D NumPy arrays with three elements."
   ]
  },
  {
   "cell_type": "code",
   "execution_count": null,
   "metadata": {
    "execution": {
     "iopub.execute_input": "2024-04-16T16:01:29.373227Z",
     "iopub.status.busy": "2024-04-16T16:01:29.373091Z",
     "iopub.status.idle": "2024-04-16T16:01:29.376480Z",
     "shell.execute_reply": "2024-04-16T16:01:29.376163Z"
    },
    "tags": []
   },
   "outputs": [],
   "source": [
    "def shat_rk4_closed(f,yhatk,h,t,params):\n",
    "    ...\n",
    "    return shat"
   ]
  },
  {
   "cell_type": "code",
   "execution_count": null,
   "metadata": {
    "execution": {
     "iopub.execute_input": "2024-04-16T16:01:29.378827Z",
     "iopub.status.busy": "2024-04-16T16:01:29.378632Z",
     "iopub.status.idle": "2024-04-16T16:01:29.382588Z",
     "shell.execute_reply": "2024-04-16T16:01:29.382244Z"
    },
    "tags": []
   },
   "outputs": [],
   "source": [
    "# Test your code.\n",
    "alpha1 = 1/100                  # m^2/s\n",
    "alpha2 = 1/150                  # m^2/s\n",
    "a = 10                          # m^2\n",
    "params = (alpha1,alpha2,a)\n",
    "yhatk = np.array([3,2,0])       # m\n",
    "t = 0                           # s\n",
    "h = 1                           # s\n",
    "\n",
    "def state_equation_fake(y,t,params):\n",
    "    return 0.5*y\n",
    "\n",
    "shat_rk4_closed(state_equation_fake,yhatk,h,t,params)"
   ]
  },
  {
   "cell_type": "code",
   "execution_count": null,
   "metadata": {
    "deletable": false,
    "editable": false
   },
   "outputs": [],
   "source": [
    "grader.check(\"q1p4\")"
   ]
  },
  {
   "cell_type": "markdown",
   "metadata": {
    "deletable": false,
    "editable": false
   },
   "source": [
    "## Question 1.5: Run it\n",
    "\n",
    "We have finished putting together all of the necessary pieces to simulate the isolated three tank system using Euler's method and RK4. Run the simulation with these settings:\n",
    "+ Initial condition: $h_1(0)=5$, $h_2(0)=0$, $h_3(0)=2$.\n",
    "+ Simulation time `ts`: 2 hours\n",
    "+ Time step `h`: 1 minute\n",
    "+ $\\alpha_1 = 1/100$\n",
    "+ $\\alpha_2 = 1/150$\n",
    "+ $a = 10$\n",
    "\n",
    "Store the time vector and state trajectory for Euler's method as `tvec_euler` and `yhat_euler`.\n",
    "\n",
    "Store the time vector and state trajectory for RK4 as `tvec_rk4` and `yhat_rk4`.\n"
   ]
  },
  {
   "cell_type": "code",
   "execution_count": null,
   "metadata": {
    "execution": {
     "iopub.execute_input": "2024-04-16T16:01:29.403327Z",
     "iopub.status.busy": "2024-04-16T16:01:29.403113Z",
     "iopub.status.idle": "2024-04-16T16:01:29.410695Z",
     "shell.execute_reply": "2024-04-16T16:01:29.410369Z"
    },
    "tags": []
   },
   "outputs": [],
   "source": [
    "...\n",
    "tvec_euler, yhat_euler = my_ivp_solver_closed(...)\n",
    "tvec_rk4, yhat_rk4 = my_ivp_solver_closed(...)"
   ]
  },
  {
   "cell_type": "code",
   "execution_count": null,
   "metadata": {
    "deletable": false,
    "editable": false
   },
   "outputs": [],
   "source": [
    "grader.check(\"q1p5\")"
   ]
  },
  {
   "cell_type": "markdown",
   "metadata": {},
   "source": [
    "## Plots!\n",
    "\n",
    "### Time series plot\n",
    "\n",
    "Run the cell to see the change in the water levels of the three tanks through time. Does this result agree with what you expect would happen with the interconnected tanks?"
   ]
  },
  {
   "cell_type": "code",
   "execution_count": null,
   "metadata": {
    "execution": {
     "iopub.execute_input": "2024-04-16T16:01:29.451854Z",
     "iopub.status.busy": "2024-04-16T16:01:29.451680Z",
     "iopub.status.idle": "2024-04-16T16:01:29.629721Z",
     "shell.execute_reply": "2024-04-16T16:01:29.629155Z"
    }
   },
   "outputs": [],
   "source": [
    "fig, ax = plt.subplots(figsize=(10,6))\n",
    "ax.plot(tvec_euler,yhat_euler[:,0],\n",
    "        linestyle='--',\n",
    "        color = 'magenta',\n",
    "        label='tank 1 Euler')\n",
    "ax.plot(tvec_rk4,yhat_rk4[:,0],\n",
    "        color = 'magenta',\n",
    "        label='tank 1 RK4')\n",
    "ax.plot(tvec_euler,yhat_euler[:,1],\n",
    "        linestyle='--',\n",
    "        color = 'turquoise',\n",
    "        label='tank 2 Euler')\n",
    "ax.plot(tvec_rk4,yhat_rk4[:,1],\n",
    "        color = 'turquoise',\n",
    "        label='tank 2 RK4')\n",
    "ax.plot(tvec_euler,yhat_euler[:,2],\n",
    "        linestyle='--',\n",
    "        color = 'orangered',\n",
    "        label='tank 3 Euler')\n",
    "ax.plot(tvec_rk4,yhat_rk4[:,2],\n",
    "        color = 'orangered',\n",
    "        label='tank 3 RK4')\n",
    "\n",
    "ax.spines[['top','right']].set_visible(False)\n",
    "ax.spines[['bottom','left']].set_position('zero')\n",
    "ax.legend(loc='upper right')\n",
    "ax.set_xlabel('time [sec]')\n",
    "ax.set_xlabel('height [meters]')\n",
    "ax.set_xlabel('time [sec]',fontsize=14)\n",
    "ax.set_ylabel('height [meters]',fontsize=14)"
   ]
  },
  {
   "cell_type": "markdown",
   "metadata": {},
   "source": [
    "### Total water level\n",
    "\n",
    "We expect that the total amount of water in the system will remain constant through time, since no water enters nor exits. Run the next cell to see whether this is intuition is validated by the two simulations."
   ]
  },
  {
   "cell_type": "code",
   "execution_count": null,
   "metadata": {
    "execution": {
     "iopub.execute_input": "2024-04-16T16:01:29.632153Z",
     "iopub.status.busy": "2024-04-16T16:01:29.631944Z",
     "iopub.status.idle": "2024-04-16T16:01:29.731869Z",
     "shell.execute_reply": "2024-04-16T16:01:29.731367Z"
    }
   },
   "outputs": [],
   "source": [
    "fig, ax = plt.subplots(figsize=(10,3))\n",
    "ax.plot(tvec_rk4,np.sum(yhat_rk4,axis=1),\n",
    "        linestyle='-',\n",
    "        linewidth=2,\n",
    "        label=' total water RK4')\n",
    "ax.plot(tvec_euler,np.sum(yhat_euler,axis=1),\n",
    "        linestyle='--',\n",
    "        linewidth=2,\n",
    "        label=' total water Euler')\n",
    "ax.legend(fontsize=14);"
   ]
  },
  {
   "cell_type": "markdown",
   "metadata": {},
   "source": [
    "### State trajectory\n",
    "\n",
    "The next cell shows the trajectory followed by the state vector through $\\mathbb{R}^3$. The green dot is the initial state at $(0,7,5)$, the red dot is the final state near $(4,4,4)$."
   ]
  },
  {
   "cell_type": "code",
   "execution_count": null,
   "metadata": {
    "execution": {
     "iopub.execute_input": "2024-04-16T16:01:29.733715Z",
     "iopub.status.busy": "2024-04-16T16:01:29.733529Z",
     "iopub.status.idle": "2024-04-16T16:01:29.860928Z",
     "shell.execute_reply": "2024-04-16T16:01:29.860460Z"
    }
   },
   "outputs": [],
   "source": [
    "# %matplotlib widget\n",
    "fig = plt.figure(figsize=(6,6))\n",
    "ax = fig.add_subplot(projection='3d')\n",
    "ax.plot(yhat_rk4[:,0],yhat_rk4[:,1],yhat_rk4[:,2])\n",
    "ax.plot(yhat_rk4[0,0],yhat_rk4[0,1],yhat_rk4[0,2],'go')\n",
    "ax.plot(yhat_rk4[-1,0],yhat_rk4[-1,1],yhat_rk4[-1,2],'ro')\n",
    "ax.set_xlabel('height tank 1')\n",
    "ax.set_ylabel('height tank 2')\n",
    "ax.set_zlabel('height tank 3')\n",
    "ax.set_title('State trajectory')\n",
    "ax.view_init(elev=30, azim=-30)"
   ]
  },
  {
   "cell_type": "markdown",
   "metadata": {},
   "source": [
    "# Question 2: Simulation with non-zero supply and demand\n",
    "\n",
    "Recall the full state equation in vector form:\n",
    "\\begin{equation*}\n",
    "\\mathbf{y}' =  A\\: \\mathbf{y}  + \\mathbf{w} \n",
    "\\end{equation*}\n",
    "\n",
    "So far we have simulated the system with the input and output valves shut off. That is, with $\\mathbf{w}=\\mathbf{0}$. In this part we allow a time-varying suppy $s(t)$ to enter the system, and time-varying demands $d_1(t)$, $d_2(t)$, and $d_3(t)$ to be extracted. You've already derived the conversion from these values to $\\mathbf{w}$ in Question 0.  \n",
    "\n",
    "In the terminology of dynamical system, such state-independent inputs are known as \"disturbances\". To simulate the disturbances we will have to modify the functions from Question 1 by adding the variable `dist`, which is a tuple containing the values of $s(t)$, $d_1(t)$, $d_2(t)$, and $d_3(t)$ at some particular time. These adjustments will be made in parts 2.2 through 2.4. Then in part 2.5 we will define the supply and demand profiles. But first we will check your derivation of $\\mathbf{w}$ as a function of the supplies and demands."
   ]
  },
  {
   "cell_type": "markdown",
   "metadata": {
    "deletable": false,
    "editable": false
   },
   "source": [
    "## Question 2.1: Check $\\mathbf{w}$\n",
    "\n",
    "Write a function called `get_w(params,dist)` that takes the tuple `dist=(s,d1,d2,d3)` of instantaneous (i.e. scalar) values of the supply $s$ and the three demands $d_1$, $d_2$, and $d_3$. This function should return a 1D NumPy array with the corresponding value of $\\mathbf{w}$."
   ]
  },
  {
   "cell_type": "code",
   "execution_count": null,
   "metadata": {
    "execution": {
     "iopub.execute_input": "2024-04-16T16:01:29.862829Z",
     "iopub.status.busy": "2024-04-16T16:01:29.862663Z",
     "iopub.status.idle": "2024-04-16T16:01:29.865950Z",
     "shell.execute_reply": "2024-04-16T16:01:29.865597Z"
    },
    "tags": []
   },
   "outputs": [],
   "source": [
    "def get_w(params,dist):\n",
    "    ...\n",
    "    w = ...\n",
    "    return w"
   ]
  },
  {
   "cell_type": "code",
   "execution_count": null,
   "metadata": {
    "execution": {
     "iopub.execute_input": "2024-04-16T16:01:29.867508Z",
     "iopub.status.busy": "2024-04-16T16:01:29.867356Z",
     "iopub.status.idle": "2024-04-16T16:01:29.870621Z",
     "shell.execute_reply": "2024-04-16T16:01:29.870307Z"
    },
    "tags": []
   },
   "outputs": [],
   "source": [
    "# Test your code\n",
    "params = (1/100,1/150,10)\n",
    "s = 1\n",
    "d1 = 2\n",
    "d2 = 3\n",
    "d3 = 4\n",
    "dist = (s,d1,d2,d3)\n",
    "get_w(params,dist)"
   ]
  },
  {
   "cell_type": "code",
   "execution_count": null,
   "metadata": {
    "deletable": false,
    "editable": false
   },
   "outputs": [],
   "source": [
    "grader.check(\"q2p1\")"
   ]
  },
  {
   "cell_type": "markdown",
   "metadata": {
    "deletable": false,
    "editable": false
   },
   "source": [
    "## Question 2.2: New state equation\n",
    "\n",
    "Write a function called `three_tanks_open(y,t,params,dist)` that computes the right-hand side of the full state equation $\\mathbf{y}' = A \\mathbf{y}+\\mathbf{w}$. This function is almost identical to the one from part 1.1, but it takes the `dist` tuple as an additional input, and uses it to compute $\\mathbf{w}$."
   ]
  },
  {
   "cell_type": "code",
   "execution_count": null,
   "metadata": {
    "execution": {
     "iopub.execute_input": "2024-04-16T16:01:29.886735Z",
     "iopub.status.busy": "2024-04-16T16:01:29.886511Z",
     "iopub.status.idle": "2024-04-16T16:01:29.891125Z",
     "shell.execute_reply": "2024-04-16T16:01:29.890711Z"
    },
    "tags": []
   },
   "outputs": [],
   "source": [
    "def three_tanks_open(y,t,params,dist):\n",
    "\n",
    "    # unpack params into alpha1, alpha2, a\n",
    "    ...\n",
    "\n",
    "    # Define A as a 2D numpy array\n",
    "    A = ...\n",
    "\n",
    "    # get w with dist\n",
    "    ...\n",
    "\n",
    "    # Return Ay+w\n",
    "    return ..."
   ]
  },
  {
   "cell_type": "code",
   "execution_count": null,
   "metadata": {
    "execution": {
     "iopub.execute_input": "2024-04-16T16:01:29.893222Z",
     "iopub.status.busy": "2024-04-16T16:01:29.893020Z",
     "iopub.status.idle": "2024-04-16T16:01:29.897682Z",
     "shell.execute_reply": "2024-04-16T16:01:29.897297Z"
    },
    "tags": []
   },
   "outputs": [],
   "source": [
    "# Test you code\n",
    "alpha1 = 1/100                  # m^2/s\n",
    "alpha2 = 1/150                  # m^2/s\n",
    "a = 10                          # m^2\n",
    "params = (alpha1,alpha2,a)\n",
    "y = np.array([3,2,0])           # m\n",
    "t=0                             # s\n",
    "\n",
    "s = 0.15\n",
    "d1 = 0.05\n",
    "d2 = 0.05\n",
    "d3 = 0.05\n",
    "dist=(s,d1,d2,d3)\n",
    "\n",
    "three_tanks_open(y,t,params,dist)"
   ]
  },
  {
   "cell_type": "code",
   "execution_count": null,
   "metadata": {
    "deletable": false,
    "editable": false
   },
   "outputs": [],
   "source": [
    "grader.check(\"q2p2\")"
   ]
  },
  {
   "cell_type": "markdown",
   "metadata": {
    "deletable": false,
    "editable": false
   },
   "source": [
    "## Question 2.3: New IVP solver\n",
    "\n",
    "Implement an IVP solver for the system with supply and demands.\n",
    "\n",
    "Write the function `my_ivp_solver_open(f,ts,h,y0,shat_estimator,params,sfun,d1fun,d2fun,d3fun)` that takes the same inputs as the closed version (part 1.2), and four additional inputs: `sfun`, `d1fun`, `d2fun`, and `d3fun`. These additional inputs are *functions* of time $t$ that return the values of the supply $s(t)$ and the three demands $d_1(t)$, $d_2(t)$, and $d_3(t)$. We will write these functions later in part 2.5. For now, you only need to know that these functions take a value of time in seconds, and they return a value of flow in cubic meters per second. e.g. `s=sfun(t)`.\n",
    "\n",
    "The `shat_estimator` function in this part takes the following input arguments: `shat_estimator(f,yhatk,h,t,params,dist)`. Note that this is a new version that takes `dist` as its last input argument. `dist` is the tuple that will ultimately be used by `get_w`, and which contains the supply and demand values. Within `my_ivp_solver_open` you will evaluate the supply and demand functions (e.g. `s=sfun(t)`) and then package the result in `dist`, i.e. `dist=(s,d1,d2,d3)`.       \n",
    "\n",
    "`my_ivp_solver_open` should return `tvec` and `yhat`, just as in part 1.2."
   ]
  },
  {
   "cell_type": "code",
   "execution_count": null,
   "metadata": {
    "execution": {
     "iopub.execute_input": "2024-04-16T16:01:29.916645Z",
     "iopub.status.busy": "2024-04-16T16:01:29.916512Z",
     "iopub.status.idle": "2024-04-16T16:01:29.921107Z",
     "shell.execute_reply": "2024-04-16T16:01:29.920783Z"
    },
    "tags": []
   },
   "outputs": [],
   "source": [
    "def my_ivp_solver_open(f,ts,h,y0,shat_estimator,params,sfun,d1fun,d2fun,d3fun):\n",
    "\n",
    "    # Obtain n as the number of elements in y0\n",
    "    ...\n",
    "\n",
    "    # Create the time grid \n",
    "    tvec = ...\n",
    "    K = len(tvec)\n",
    "\n",
    "    # Initialize the yhat array (allocate space and set the initial condition)\n",
    "    ...\n",
    "\n",
    "    # Run the iteration forward over all time.\n",
    "    # At each step: \n",
    "    # 1. use shat_estimator to compute shat\n",
    "    # 2. use it to compute the next value of yhat \n",
    "    for k in ...:\n",
    "        t = h*k\n",
    "        \n",
    "        # compute s, d1, d2, and d3 using the respective functions, and package into the tuple `dist`\n",
    "        ...\n",
    "        \n",
    "        # call the shat estimator to obtain shat\n",
    "        shat = ...\n",
    "\n",
    "        # update yhat\n",
    "        ...\n",
    "\n",
    "    return tvec, yhat"
   ]
  },
  {
   "cell_type": "code",
   "execution_count": null,
   "metadata": {
    "execution": {
     "iopub.execute_input": "2024-04-16T16:01:29.922664Z",
     "iopub.status.busy": "2024-04-16T16:01:29.922533Z",
     "iopub.status.idle": "2024-04-16T16:01:29.927680Z",
     "shell.execute_reply": "2024-04-16T16:01:29.927290Z"
    },
    "tags": []
   },
   "outputs": [],
   "source": [
    "# Test your code\n",
    "alpha1 = 1/100                  # m^2/s\n",
    "alpha2 = 1/150                  # m^2/s\n",
    "a = 10                          # m^2\n",
    "params = (alpha1,alpha2,a)\n",
    "y0 = np.array([3,2,0])          # m\n",
    "ts = 10                         # s\n",
    "h = 1                           # s\n",
    "\n",
    "def shat_estimator_fake(f,yhatk,h,t,params,dist):\n",
    "    return f(yhatk,t,params,dist)\n",
    "\n",
    "def state_equation_fake(y,t,params,dist):\n",
    "    return 0.1*y\n",
    "\n",
    "def sfun_fake(t):\n",
    "    return 0.015\n",
    "\n",
    "def d1fun_fake(t):\n",
    "    return 0.005\n",
    "\n",
    "def d2fun_fake(t):\n",
    "    return 0.005\n",
    "\n",
    "def d3fun_fake(t):\n",
    "    return 0.005\n",
    "\n",
    "tvec, yhat = my_ivp_solver_open(state_equation_fake,\n",
    "                                ts,h,y0,shat_estimator_fake,params,\n",
    "                                sfun_fake,\n",
    "                                d1fun_fake,\n",
    "                                d2fun_fake,\n",
    "                                d3fun_fake)\n",
    "tvec, yhat"
   ]
  },
  {
   "cell_type": "code",
   "execution_count": null,
   "metadata": {
    "deletable": false,
    "editable": false
   },
   "outputs": [],
   "source": [
    "grader.check(\"q2p3\")"
   ]
  },
  {
   "cell_type": "markdown",
   "metadata": {
    "deletable": false,
    "editable": false
   },
   "source": [
    "## Question 2.4: New RK4 \n",
    "\n",
    "Modify the implementation of RK4 from part 1.4 to accept the `dist` tuple and pass it on to the state equation `f`, which will have the same signature as\n",
    "`three_tanks_open`."
   ]
  },
  {
   "cell_type": "code",
   "execution_count": null,
   "metadata": {
    "execution": {
     "iopub.execute_input": "2024-04-16T16:01:29.943758Z",
     "iopub.status.busy": "2024-04-16T16:01:29.943471Z",
     "iopub.status.idle": "2024-04-16T16:01:29.948045Z",
     "shell.execute_reply": "2024-04-16T16:01:29.947713Z"
    },
    "tags": []
   },
   "outputs": [],
   "source": [
    "def shat_rk4_open(f,yhatk,h,t,params,dist):\n",
    "    ...\n",
    "    shat = ...\n",
    "    return shat"
   ]
  },
  {
   "cell_type": "code",
   "execution_count": null,
   "metadata": {
    "execution": {
     "iopub.execute_input": "2024-04-16T16:01:29.949590Z",
     "iopub.status.busy": "2024-04-16T16:01:29.949286Z",
     "iopub.status.idle": "2024-04-16T16:01:29.953797Z",
     "shell.execute_reply": "2024-04-16T16:01:29.953435Z"
    },
    "tags": []
   },
   "outputs": [],
   "source": [
    "# Test your code.\n",
    "alpha1 = 1/100                  # m^2/s\n",
    "alpha2 = 1/150                  # m^2/s\n",
    "a = 10                          # m^2\n",
    "params = (alpha1,alpha2,a)\n",
    "yhatk = np.array([3,2,0])       # m\n",
    "t = 0                           # s\n",
    "h = 1                           # s\n",
    "\n",
    "def state_equation_fake(y,t,params,dist):\n",
    "    return 0.1*y\n",
    "\n",
    "shat = shat_rk4_open(state_equation_fake,yhatk,h,t,params,dist)\n",
    "shat"
   ]
  },
  {
   "cell_type": "code",
   "execution_count": null,
   "metadata": {
    "deletable": false,
    "editable": false
   },
   "outputs": [],
   "source": [
    "grader.check(\"q2p4\")"
   ]
  },
  {
   "cell_type": "markdown",
   "metadata": {
    "deletable": false,
    "editable": false
   },
   "source": [
    "## Question 2.5: Supply and demand functions\n",
    "\n",
    "<img src=\"resources/source_demands.png\" width=1000>\n",
    "\n",
    "Write the functions `sfun(t)`, `d1fun(t)`, `d2fun(t)`, and `d3fun(t)` that produce the supply and demand profiles shown in the figure above.\n",
    "\n",
    "+ `sfun(t)`: The inlet valve for tank 1 is opened for 3 minutes (180 seconds) every 10 minutes.  When the valve is open, $s(t)=0.02\\; m^3/s$. The valve is shut off an instant before the 3-minute mark, so that, for example $s(179)=0.02$ and $s(180)=0$. More generally, $s(179+600n)=0.02$ and $s(180+600n)=0$ for any integer $n$.\n",
    "+ `d1fun(t)`: $d_1(t)$ follows a sinusoidal pattern with minimum value of $0\\; m^3/s$, a maximum value of $0.01\\; m^3/s$, and a period of 1000 seconds. \n",
    "+ `d2fun(t)`: $d_2(t)$ is set to a constant value of $0.005\\; m^3/s$ for the first 10 minutes, and is then shut off. The shutting off is such that $d_2(600)=0\\; m^3/s$.\n",
    "+ `d3fun(t)`: $d_3(t)$ is held at $0.001 m^3/s$ for the first 15 minutes, and then increased to $0.01\\; m^3/s$. The change is such that $d_3(900)=0.01\\; m^3/s$\n"
   ]
  },
  {
   "cell_type": "code",
   "execution_count": null,
   "metadata": {
    "execution": {
     "iopub.execute_input": "2024-04-16T16:01:29.970988Z",
     "iopub.status.busy": "2024-04-16T16:01:29.970851Z",
     "iopub.status.idle": "2024-04-16T16:01:29.974258Z",
     "shell.execute_reply": "2024-04-16T16:01:29.973944Z"
    },
    "tags": []
   },
   "outputs": [],
   "source": [
    "def sfun(t):\n",
    "    ...\n",
    "    \n",
    "\n",
    "def d1fun(t):\n",
    "    ...\n",
    "\n",
    "def d2fun(t):\n",
    "    ...\n",
    "\n",
    "def d3fun(t):\n",
    "    ..."
   ]
  },
  {
   "cell_type": "code",
   "execution_count": null,
   "metadata": {
    "execution": {
     "iopub.execute_input": "2024-04-16T16:01:29.975603Z",
     "iopub.status.busy": "2024-04-16T16:01:29.975433Z",
     "iopub.status.idle": "2024-04-16T16:01:30.108893Z",
     "shell.execute_reply": "2024-04-16T16:01:30.108378Z"
    },
    "tags": []
   },
   "outputs": [],
   "source": [
    "# Test your code\n",
    "\n",
    "t = np.linspace(0,3600,1000)\n",
    "fig, ax = plt.subplots(figsize=(12,4))\n",
    "ax.plot(t,[sfun(tt) for tt in t],linewidth=3,label='s(t)')\n",
    "ax.plot(t,[d1fun(tt) for tt in t],linewidth=3,label='d1(t)')\n",
    "ax.plot(t,[d2fun(tt) for tt in t],linewidth=3,label='d2(t)')\n",
    "ax.plot(t,[d3fun(tt) for tt in t],linewidth=3,label='d3(t)')\n",
    "ax.legend(fontsize=12)\n",
    "ax.set_xticks(np.arange(0,3600,300))\n",
    "ax.set_xlim(0,2950)\n",
    "ax.spines[['top','right']].set_visible(False)\n",
    "ax.spines[['bottom','left']].set_position('zero')\n",
    "ax.set_xlabel('time [sec]',fontsize=12)\n",
    "ax.set_ylabel('flow [m^3/s]',fontsize=12)\n",
    "ax.grid(color='lightgray')"
   ]
  },
  {
   "cell_type": "code",
   "execution_count": null,
   "metadata": {
    "deletable": false,
    "editable": false
   },
   "outputs": [],
   "source": [
    "grader.check(\"q2p5\")"
   ]
  },
  {
   "cell_type": "markdown",
   "metadata": {
    "deletable": false,
    "editable": false
   },
   "source": [
    "## Question 2.6: Run and plot\n",
    "\n",
    "We are now ready to run a simulation of the 3-tank system with the supply and demand profiles defined in the previous part. Use the same settings as in question 1.5:\n",
    "\n",
    "+ Initial condition: $h_1(0)=5$, $h_2(0)=0$, $h_3(0)=2$.\n",
    "+ Simulation time `ts`: 2 hours\n",
    "+ Time step `h`: 1 minute\n",
    "+ $\\alpha_1 = 1/100$\n",
    "+ $\\alpha_2 = 1/150$\n",
    "+ $a = 10$\n",
    "\n",
    "This time we will run the simulation using RK4 only (no Euler). Store the resulting time vector and state trajectory as `tvec_open` and `yhat_open`.\n",
    "\n",
    "**Note:**\n",
    "\n",
    "+ Use the plotting cells at the end of the notebook to check your results. The time series should look like this:\n",
    "\n",
    "<img src=\"resources/water_tanks_open.png\" width=600>"
   ]
  },
  {
   "cell_type": "code",
   "execution_count": null,
   "metadata": {
    "execution": {
     "iopub.execute_input": "2024-04-16T16:01:30.136850Z",
     "iopub.status.busy": "2024-04-16T16:01:30.136527Z",
     "iopub.status.idle": "2024-04-16T16:01:30.147579Z",
     "shell.execute_reply": "2024-04-16T16:01:30.147220Z"
    },
    "tags": []
   },
   "outputs": [],
   "source": [
    "f = ...\n",
    "\n",
    "y0 = ...\n",
    "ts = ...\n",
    "h = ...\n",
    "\n",
    "alpha1 = ...\n",
    "alpha2 = ...\n",
    "a = ...\n",
    "params = (alpha1, alpha2, a)\n",
    "\n",
    "tvec_open, yhat_open = ...\n"
   ]
  },
  {
   "cell_type": "code",
   "execution_count": null,
   "metadata": {
    "deletable": false,
    "editable": false
   },
   "outputs": [],
   "source": [
    "grader.check(\"q2p6\")"
   ]
  },
  {
   "cell_type": "markdown",
   "metadata": {},
   "source": [
    "## Plots!\n",
    "\n",
    "### Time series plot\n",
    "\n",
    "Run the cell to see the change in the water levels of the three tanks through time. Does this result agree with what you expect would happen with the interconnected tanks?"
   ]
  },
  {
   "cell_type": "code",
   "execution_count": null,
   "metadata": {
    "execution": {
     "iopub.execute_input": "2024-04-16T16:01:30.164287Z",
     "iopub.status.busy": "2024-04-16T16:01:30.164148Z",
     "iopub.status.idle": "2024-04-16T16:01:30.274122Z",
     "shell.execute_reply": "2024-04-16T16:01:30.273594Z"
    }
   },
   "outputs": [],
   "source": [
    "fig, ax = plt.subplots(figsize=(10,6))\n",
    "\n",
    "ax.plot(tvec_open,yhat_open[:,0],\n",
    "        color = 'magenta',\n",
    "        linewidth=2,\n",
    "        label='tank 1')\n",
    "\n",
    "ax.plot(tvec_open,yhat_open[:,1],\n",
    "        color = 'turquoise',\n",
    "        linewidth=2,\n",
    "        label='tank 2')\n",
    "\n",
    "ax.plot(tvec_open,yhat_open[:,2],\n",
    "        color = 'orangered',\n",
    "        linewidth=2,\n",
    "        label='tank 3')\n",
    "\n",
    "ax.spines[['top','right']].set_visible(False)\n",
    "ax.spines[['bottom','left']].set_position('zero')\n",
    "ax.legend(loc='upper right')\n",
    "ax.set_xlabel('time [sec]',fontsize=14)\n",
    "ax.set_ylabel('height [meters]',fontsize=14)"
   ]
  },
  {
   "cell_type": "markdown",
   "metadata": {},
   "source": [
    "### State trajectory\n",
    "\n",
    "The next cell shows the trajectory followed by the state vector through $\\mathbb{R}^3$. The green dot is the initial state, the red dot is the final state. Uncomment `%matplotlib widget` if you want to rotate the plot, but remember to comment it out again before submitting."
   ]
  },
  {
   "cell_type": "code",
   "execution_count": null,
   "metadata": {
    "execution": {
     "iopub.execute_input": "2024-04-16T16:01:30.275893Z",
     "iopub.status.busy": "2024-04-16T16:01:30.275714Z",
     "iopub.status.idle": "2024-04-16T16:01:30.406002Z",
     "shell.execute_reply": "2024-04-16T16:01:30.405531Z"
    }
   },
   "outputs": [],
   "source": [
    "# %matplotlib widget\n",
    "fig = plt.figure(figsize=(6,6))\n",
    "ax = fig.add_subplot(projection='3d')\n",
    "ax.plot(yhat_open[:,0],yhat_open[:,1],yhat_open[:,2])\n",
    "ax.plot(yhat_open[0,0],yhat_open[0,1],yhat_open[0,2],'go')\n",
    "ax.plot(yhat_open[-1,0],yhat_open[-1,1],yhat_open[-1,2],'ro')\n",
    "ax.set_xlabel('height tank 1')\n",
    "ax.set_ylabel('height tank 2')\n",
    "ax.set_zlabel('height tank 3')\n",
    "ax.set_title('State trajectory')\n",
    "ax.view_init(elev=30, azim=-30)"
   ]
  },
  {
   "cell_type": "markdown",
   "metadata": {},
   "source": [
    "### Closing remark\n",
    "\n",
    "In this lab we have used a *linear* model ($\\mathbf{y}'=A\\mathbf{y}+\\mathbf{w}$) to simulate a system of three interconnected tanks. Linear models are great because of their simplicity, which enables many useful analyses. For example, we can use a linear model to design a feedback control algorithm to more effectively balance the water levels in the tanks using pumps. We can also use the linear model to infer the true heights from noisy measurements. Of course, we can also do both of these things with nonlinear models, but it is more difficult. \n",
    "\n",
    "Here though, we have encountered a significant limitation of the linear model: it predicts a *negative* water level for tank 3 after about 5800 seconds. There is no way to avoid this problem without introducing non-linearities. Introducing nonlinearity is not necessarily a problem for the numerical method; RK4 works just fine with (mildly) nonlinear ODEs.\n",
    "\n",
    "What modifications might be made to the three-tank model so that it more realistically captures the fact that water levels can never go negative?"
   ]
  },
  {
   "cell_type": "markdown",
   "metadata": {
    "deletable": false,
    "editable": false
   },
   "source": [
    "---\n",
    "\n",
    "To double-check your work, the cell below will rerun all of the autograder tests."
   ]
  },
  {
   "cell_type": "code",
   "execution_count": null,
   "metadata": {
    "deletable": false,
    "editable": false
   },
   "outputs": [],
   "source": [
    "grader.check_all()"
   ]
  },
  {
   "cell_type": "markdown",
   "metadata": {
    "deletable": false,
    "editable": false
   },
   "source": [
    "## Submission\n",
    "\n",
    "Make sure you have run all cells in your notebook in order before running the cell below, so that all images/graphs appear in the output. The cell below will generate a zip file for you to submit. **Please save before exporting!**\n",
    "\n",
    "Make sure you submit the .zip file to Gradescope."
   ]
  },
  {
   "cell_type": "code",
   "execution_count": null,
   "metadata": {
    "deletable": false,
    "editable": false
   },
   "outputs": [],
   "source": [
    "# Save your notebook first, then run this cell to export your submission.\n",
    "grader.export(pdf=False)"
   ]
  },
  {
   "cell_type": "markdown",
   "metadata": {},
   "source": [
    " "
   ]
  }
 ],
 "metadata": {
  "anaconda-cloud": {},
  "colab": {
   "provenance": []
  },
  "kernelspec": {
   "display_name": "Python 3 (ipykernel)",
   "language": "python",
   "name": "python3"
  },
  "language_info": {
   "codemirror_mode": {
    "name": "ipython",
    "version": 3
   },
   "file_extension": ".py",
   "mimetype": "text/x-python",
   "name": "python",
   "nbconvert_exporter": "python",
   "pygments_lexer": "ipython3",
   "version": "3.10.12"
  },
  "otter": {
   "OK_FORMAT": true,
   "assignment_name": "lab11B",
   "tests": {
    "q1p1": {
     "name": "q1p1",
     "points": null,
     "suites": [
      {
       "cases": [
        {
         "code": ">>> y = np.array([0, 0, 0])\n>>> t = None\n>>> params = (0, 0, 1)\n>>> np.all(np.isclose(three_tanks_closed(y, t, params), [0, 0, 0], atol=0.001))\nTrue",
         "hidden": false,
         "locked": false,
         "points": 0
        },
        {
         "code": ">>> y = np.array([0, 0, 0])\n>>> t = None\n>>> params = (0, 0, 1)\n>>> z = three_tanks_closed(y, t, params)\n>>> z.shape == (3,)\nTrue",
         "hidden": false,
         "locked": false,
         "points": 0
        },
        {
         "code": ">>> t = None\n>>> params = (1 / 100, 1 / 150, 10)\n>>> col1 = three_tanks_closed(np.array([1, 0, 0]), t, params)\n>>> col2 = three_tanks_closed(np.array([0, 1, 0]), t, params)\n>>> col3 = three_tanks_closed(np.array([0, 0, 1]), t, params)\n>>> np.all(np.isclose(col1, np.array([-0.001, 0.001, 0.0]), rtol=0.01))\nTrue",
         "hidden": false,
         "locked": false,
         "points": 0
        },
        {
         "code": ">>> t = None\n>>> params = (1 / 100, 1 / 150, 10)\n>>> col2 = three_tanks_closed(np.array([0, 1, 0]), t, params)\n>>> np.all(np.isclose(col2, np.array([0.001, -0.00166667, 0.00066667]), rtol=0.01))\nTrue",
         "hidden": false,
         "locked": false,
         "points": 0
        },
        {
         "code": ">>> t = None\n>>> params = (1 / 100, 1 / 150, 10)\n>>> col3 = three_tanks_closed(np.array([0, 0, 1]), t, params)\n>>> np.all(np.isclose(col3, np.array([0.0, 0.00066667, -0.00066667]), rtol=0.01))\nTrue",
         "hidden": false,
         "locked": false,
         "points": 0
        },
        {
         "code": ">>> get_hash(three_tanks_closed(np.array([4.3, 0.5, 1.3]), None, (0.03, 0.01, 12.4)), 4) == '27d72a9dc13d52b7036ab0fe8e614017'\nTrue",
         "hidden": false,
         "locked": false,
         "points": 1
        }
       ],
       "scored": true,
       "setup": "",
       "teardown": "",
       "type": "doctest"
      }
     ]
    },
    "q1p2": {
     "name": "q1p2",
     "points": null,
     "suites": [
      {
       "cases": [
        {
         "code": ">>> params = (1 / 100, 1 / 150, 10)\n>>> y0 = np.array([3, 2, 0])\n>>> ts = 10\n>>> h = 1\n>>> shat_estimator_fake = lambda f, yhatk, h, t, params: 0.5\n>>> state_equation_fake = lambda y, t, params: None\n>>> (tvec, yhat) = my_ivp_solver_closed(state_equation_fake, ts, h, y0, shat_estimator_fake, params)\n>>> np.all(tvec == np.arange(10)) and yhat.shape == (10, 3)\nTrue",
         "hidden": false,
         "locked": false,
         "points": 0
        },
        {
         "code": ">>> params = (1 / 100, 1 / 150, 10)\n>>> y0 = np.array([3, 2, 0])\n>>> ts = 10\n>>> h = 1\n>>> shat_estimator_fake = lambda f, yhatk, h, t, params: 0.2\n>>> state_equation_fake = lambda y, t, params: None\n>>> (tvec, yhat) = my_ivp_solver_closed(state_equation_fake, ts, h, y0, shat_estimator_fake, params)\n>>> get_hash(yhat, 4) == 'be6837c654aac45d0b73bd97208ed4de'\nTrue",
         "hidden": false,
         "locked": false,
         "points": 3
        }
       ],
       "scored": true,
       "setup": "",
       "teardown": "",
       "type": "doctest"
      }
     ]
    },
    "q1p3": {
     "name": "q1p3",
     "points": null,
     "suites": [
      {
       "cases": [
        {
         "code": ">>> params = (1 / 100, 1 / 150, 10)\n>>> yhatk = np.array([3, 2, 0])\n>>> t = 0\n>>> h = 1\n>>> state_equation_fake = lambda y, t, params: np.pi\n>>> shat = shat_euler_closed(state_equation_fake, yhatk, h, t, params)\n>>> isinstance(shat, float) and shat > 0 and (shat < 10)\nTrue",
         "hidden": false,
         "locked": false,
         "points": 0
        },
        {
         "code": ">>> params = (1 / 100, 1 / 150, 10)\n>>> yhatk = np.array([3, 2, 0])\n>>> t = 0\n>>> h = 1\n>>> state_equation_fake = lambda y, t, params: np.pi\n>>> shat = shat_euler_closed(state_equation_fake, yhatk, h, t, params)\n>>> get_hash(shat, 4) == 'cf95c75d1193b553848e157fa690cc97'\nTrue",
         "hidden": false,
         "locked": false,
         "points": 1
        }
       ],
       "scored": true,
       "setup": "",
       "teardown": "",
       "type": "doctest"
      }
     ]
    },
    "q1p4": {
     "name": "q1p4",
     "points": null,
     "suites": [
      {
       "cases": [
        {
         "code": ">>> params = (1 / 100, 1 / 150, 10)\n>>> yhatk = np.array([3, 2, 0])\n>>> t = 0\n>>> h = 1\n>>> state_equation_fake = lambda y, t, params: 0.5 * y\n>>> shat = shat_rk4_closed(state_equation_fake, yhatk, h, t, params)\n>>> shat.shape == (3,)\nTrue",
         "hidden": false,
         "locked": false,
         "points": 0
        },
        {
         "code": ">>> params = (1 / 100, 1 / 150, 10)\n>>> yhatk = np.array([3, 2, 0])\n>>> t = 0\n>>> h = 1\n>>> state_equation_fake = lambda y, t, params: 0.5 * y\n>>> shat = shat_rk4_closed(state_equation_fake, yhatk, h, t, params)\n>>> np.all(shat >= 0) and np.all(shat <= 5)\nTrue",
         "hidden": false,
         "locked": false,
         "points": 0
        },
        {
         "code": ">>> params = (1 / 100, 1 / 150, 10)\n>>> yhatk = np.array([3, 2, 0])\n>>> t = 0\n>>> h = 1\n>>> state_equation_fake = lambda y, t, params: 0.5 * y\n>>> shat = shat_rk4_closed(state_equation_fake, yhatk, h, t, params)\n>>> get_hash(shat, 4) == '1c7b9c7499eebf045cacff9b4303d346'\nTrue",
         "hidden": false,
         "locked": false,
         "points": 2
        }
       ],
       "scored": true,
       "setup": "",
       "teardown": "",
       "type": "doctest"
      }
     ]
    },
    "q1p5": {
     "name": "q1p5",
     "points": null,
     "suites": [
      {
       "cases": [
        {
         "code": ">>> tvec_euler.shape == (120,) and yhat_euler.shape == (120, 3)\nTrue",
         "hidden": false,
         "locked": false,
         "points": 0
        },
        {
         "code": ">>> tvec_rk4.shape == (120,) and yhat_rk4.shape == (120, 3)\nTrue",
         "hidden": false,
         "locked": false,
         "points": 0
        },
        {
         "code": ">>> np.all(tvec_euler == tvec_rk4)\nTrue",
         "hidden": false,
         "locked": false,
         "points": 0
        },
        {
         "code": ">>> get_hash(tvec_euler, 4) == 'b98d37752500712b4e9a01531a440c84'\nTrue",
         "hidden": false,
         "locked": false,
         "points": 1
        },
        {
         "code": ">>> np.all(yhat_euler <= 5) and np.all(yhat_euler >= 0) and np.all(yhat_rk4 <= 5) and np.all(yhat_rk4 >= 0)\nTrue",
         "hidden": false,
         "locked": false,
         "points": 0
        },
        {
         "code": ">>> get_hash(yhat_euler, 3) == '297b9f4dc01cba1bf04d4d80ddc4e1ae'\nTrue",
         "hidden": false,
         "locked": false,
         "points": 1
        },
        {
         "code": ">>> get_hash(yhat_rk4, 3) == '88023705f9d6502ad3bc614699cf5c5b'\nTrue",
         "hidden": false,
         "locked": false,
         "points": 1
        }
       ],
       "scored": true,
       "setup": "",
       "teardown": "",
       "type": "doctest"
      }
     ]
    },
    "q2p1": {
     "name": "q2p1",
     "points": null,
     "suites": [
      {
       "cases": [
        {
         "code": ">>> params = (1 / 100, 1 / 150, 10)\n>>> dist = (1, 2, 3, 4)\n>>> w = get_w(params, dist)\n>>> isinstance(w, np.ndarray) and w.shape == (3,)\nTrue",
         "hidden": false,
         "locked": false,
         "points": 0
        },
        {
         "code": ">>> params = (1 / 100, 1 / 150, 10)\n>>> dist = (1, 2, 3, 4)\n>>> w = get_w(params, dist)\n>>> np.all(w < 0) and np.all(w > -1)\nTrue",
         "hidden": false,
         "locked": false,
         "points": 0
        },
        {
         "code": ">>> params = (1 / 100, 1 / 150, 10)\n>>> dist = (1, 2, 3, 4)\n>>> w = get_w(params, dist)\n>>> get_hash(w, 2) == '628d45db3d9ac6b9c7a724b5400a906d'\nTrue",
         "hidden": false,
         "locked": false,
         "points": 1
        }
       ],
       "scored": true,
       "setup": "",
       "teardown": "",
       "type": "doctest"
      }
     ]
    },
    "q2p2": {
     "name": "q2p2",
     "points": null,
     "suites": [
      {
       "cases": [
        {
         "code": ">>> params = (1 / 100, 1 / 150, 10)\n>>> y = np.array([3, 2, 0])\n>>> t = 0\n>>> dist = (0.15, 0.05, 0.05, 0.05)\n>>> yprime = three_tanks_open(y, t, params, dist)\n>>> yprime.shape == (3, 1)\nFalse",
         "hidden": false,
         "locked": false,
         "points": 0
        },
        {
         "code": ">>> params = (1 / 100, 1 / 150, 10)\n>>> y = np.array([3, 2, 0])\n>>> t = 0\n>>> dist = (0.15, 0.05, 0.05, 0.05)\n>>> yprime = three_tanks_open(y, t, params, dist)\n>>> np.all(np.abs(yprime) < 0.01)\nTrue",
         "hidden": false,
         "locked": false,
         "points": 0
        },
        {
         "code": ">>> params = (1 / 100, 1 / 150, 10)\n>>> y = np.array([3, 2, 0])\n>>> t = 0\n>>> dist = (0.15, 0.05, 0.05, 0.05)\n>>> yprime = three_tanks_open(y, t, params, dist)\n>>> get_hash(yprime, 4) == 'b97ae9338be01b5e0e1955f78abac327'\nTrue",
         "hidden": false,
         "locked": false,
         "points": 2
        }
       ],
       "scored": true,
       "setup": "",
       "teardown": "",
       "type": "doctest"
      }
     ]
    },
    "q2p3": {
     "name": "q2p3",
     "points": null,
     "suites": [
      {
       "cases": [
        {
         "code": ">>> params = (1 / 100, 1 / 150, 10)\n>>> y0 = np.array([3, 2, 0])\n>>> ts = 10\n>>> h = 1\n>>> shat_estimator_fake = lambda f, yhatk, h, t, params, dist: f(yhatk, t, params, dist)\n>>> state_equation_fake = lambda y, t, params, dist: 0.1 * y\n>>> sfun_fake = lambda t: 0.015\n>>> d1fun_fake = lambda t: 0.005\n>>> d2fun_fake = lambda t: 0.005\n>>> d3fun_fake = lambda t: 0.005\n>>> (tvec, yhat) = my_ivp_solver_open(state_equation_fake, ts, h, y0, shat_estimator_fake, params, sfun_fake, d1fun_fake, d2fun_fake, d3fun_fake)\n>>> tvec.shape == (10,) and yhat.shape == (10, 3) and np.all(yhat >= 0)\nTrue",
         "hidden": false,
         "locked": false,
         "points": 0
        },
        {
         "code": ">>> params = (1 / 100, 1 / 150, 10)\n>>> y0 = np.array([3, 2, 0])\n>>> ts = 10\n>>> h = 1\n>>> shat_estimator_fake = lambda f, yhatk, h, t, params, dist: f(yhatk, t, params, dist)\n>>> state_equation_fake = lambda y, t, params, dist: 0.1 * y\n>>> sfun_fake = lambda t: 0.015\n>>> d1fun_fake = lambda t: 0.005\n>>> d2fun_fake = lambda t: 0.005\n>>> d3fun_fake = lambda t: 0.005\n>>> (tvec, yhat) = my_ivp_solver_open(state_equation_fake, ts, h, y0, shat_estimator_fake, params, sfun_fake, d1fun_fake, d2fun_fake, d3fun_fake)\n>>> get_hash(yhat, 3) == '94fabd94e58710c62278d58cecb890e9'\nTrue",
         "hidden": false,
         "locked": false,
         "points": 2
        }
       ],
       "scored": true,
       "setup": "",
       "teardown": "",
       "type": "doctest"
      }
     ]
    },
    "q2p4": {
     "name": "q2p4",
     "points": null,
     "suites": [
      {
       "cases": [
        {
         "code": ">>> params = (1 / 100, 1 / 150, 10)\n>>> yhatk = np.array([3, 2, 0])\n>>> t = 0\n>>> h = 1\n>>> state_equation_fake = lambda y, t, params, dist: 0.1 * y\n>>> shat = shat_rk4_open(state_equation_fake, yhatk, h, t, params, dist)\n>>> shat.shape == (3,)\nTrue",
         "hidden": false,
         "locked": false,
         "points": 0
        },
        {
         "code": ">>> params = (1 / 100, 1 / 150, 10)\n>>> yhatk = np.array([3, 2, 0])\n>>> t = 0\n>>> h = 1\n>>> state_equation_fake = lambda y, t, params, dist: 0.1 * y\n>>> shat = shat_rk4_open(state_equation_fake, yhatk, h, t, params, dist)\n>>> np.all(shat >= 0) and np.all(shat < 0.5)\nTrue",
         "hidden": false,
         "locked": false,
         "points": 0
        },
        {
         "code": ">>> params = (1 / 100, 1 / 150, 10)\n>>> yhatk = np.array([3, 2, 0])\n>>> t = 0\n>>> h = 1\n>>> state_equation_fake = lambda y, t, params, dist: 0.1 * y\n>>> shat = shat_rk4_open(state_equation_fake, yhatk, h, t, params, dist)\n>>> get_hash(shat, 3) == 'd8c8d160db92fdb5da10e6d44ec5aa22'\nTrue",
         "hidden": false,
         "locked": false,
         "points": 1
        }
       ],
       "scored": true,
       "setup": "",
       "teardown": "",
       "type": "doctest"
      }
     ]
    },
    "q2p5": {
     "name": "q2p5",
     "points": null,
     "suites": [
      {
       "cases": [
        {
         "code": ">>> sfun(0) == 0.02 and sfun(179) == 0.02 and (sfun(180) == 0)\nTrue",
         "hidden": false,
         "locked": false,
         "points": 1
        },
        {
         "code": ">>> np.isclose(d1fun(0), 0.005) and np.isclose(d1fun(1000), 0.005)\nTrue",
         "hidden": false,
         "locked": false,
         "points": 0
        },
        {
         "code": ">>> tt = np.linspace(0, 3600, 100)\n>>> d = np.array([d1fun(t) for t in tt])\n>>> np.isclose(np.max(d), 0.01, atol=0.0001) and np.isclose(np.min(d), 0, atol=0.0001)\nTrue",
         "hidden": false,
         "locked": false,
         "points": 1
        },
        {
         "code": ">>> np.isclose(d2fun(0), 0.005) and np.isclose(d2fun(599), 0.005) and np.isclose(d2fun(600), 0)\nTrue",
         "hidden": false,
         "locked": false,
         "points": 1
        },
        {
         "code": ">>> np.isclose(d3fun(0), 0.001) and np.isclose(d3fun(899), 0.001) and np.isclose(d3fun(900), 0.01)\nTrue",
         "hidden": false,
         "locked": false,
         "points": 1
        }
       ],
       "scored": true,
       "setup": "",
       "teardown": "",
       "type": "doctest"
      }
     ]
    },
    "q2p6": {
     "name": "q2p6",
     "points": null,
     "suites": [
      {
       "cases": [
        {
         "code": ">>> tvec_open.shape == (120,) and yhat_open.shape == (120, 3)\nTrue",
         "hidden": false,
         "locked": false,
         "points": 0
        },
        {
         "code": ">>> np.all(np.diff(tvec_open) == 60)\nTrue",
         "hidden": false,
         "locked": false,
         "points": 0
        },
        {
         "code": ">>> get_hash(yhat_open, 3) == '4cf809cb557eaa4bbdd2bbb398c7732c'\nTrue",
         "hidden": false,
         "locked": false,
         "points": 0
        }
       ],
       "scored": true,
       "setup": "",
       "teardown": "",
       "type": "doctest"
      }
     ]
    }
   }
  }
 },
 "nbformat": 4,
 "nbformat_minor": 0
}
