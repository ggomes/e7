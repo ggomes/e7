{
 "cells": [
  {
   "cell_type": "code",
   "execution_count": null,
   "metadata": {
    "deletable": false,
    "editable": false
   },
   "outputs": [],
   "source": [
    "# Initialize Otter\n",
    "import otter\n",
    "grader = otter.Notebook(\"lab06A.ipynb\")"
   ]
  },
  {
   "cell_type": "markdown",
   "metadata": {},
   "source": [
    "---\n",
    "\n",
    "<h3><center>E7 -  Introduction to Programming for Scientists and Engineers</center></h3>\n",
    "\n",
    "<h2><center>Lab session #06-A <br></center></h2>\n",
    "\n",
    "<h1><center>Matplotlib<br></center></h1>\n",
    "\n",
    "---\n",
    "\n",
    "In this lab we will practice using Matplotlib to create two-dimensional plots, including scatter plots, line plots, histograms, and bar plots. In each case you will be given a detailed specification for the plot, as well as a picture of what your plot should look like. The autograder will check that the specification has been met. "
   ]
  },
  {
   "cell_type": "code",
   "execution_count": null,
   "metadata": {
    "execution": {
     "iopub.execute_input": "2024-02-26T05:30:38.978212Z",
     "iopub.status.busy": "2024-02-26T05:30:38.978039Z",
     "iopub.status.idle": "2024-02-26T05:30:39.338932Z",
     "shell.execute_reply": "2024-02-26T05:30:39.338334Z"
    },
    "id": "PmQ0-tpz9u7g",
    "tags": []
   },
   "outputs": [],
   "source": [
    "from resources.hashutils import *\n",
    "import numpy as np\n",
    "import matplotlib.pyplot as plt"
   ]
  },
  {
   "cell_type": "markdown",
   "metadata": {},
   "source": [
    "# Question 1: Scatter plot\n",
    "\n",
    "We begin by loading data from a CSV file and visualizing it as a scatter plot. The data is a fictitious set of measurements of the water level in a tank through time. "
   ]
  },
  {
   "cell_type": "markdown",
   "metadata": {
    "deletable": false,
    "editable": false,
    "id": "m1IUkyzN9u7h"
   },
   "source": [
    "## Question 1.1: Import the data\n",
    "\n",
    "The data is contained in the file `2Ddata.csv`. Use [`np.loadtxt`](https://numpy.org/doc/stable/reference/generated/numpy.loadtxt.html) to read this data into a NumPy array called `data`. \n",
    "The first column of the data set is time in hours, and will be plotted along the horizontal (x) axis. The second column is the water level in meters, and will be plotted along the vertical (y) axis."
   ]
  },
  {
   "cell_type": "code",
   "execution_count": null,
   "metadata": {
    "execution": {
     "iopub.execute_input": "2024-02-26T05:30:39.342355Z",
     "iopub.status.busy": "2024-02-26T05:30:39.342156Z",
     "iopub.status.idle": "2024-02-26T05:30:39.348734Z",
     "shell.execute_reply": "2024-02-26T05:30:39.348091Z"
    },
    "tags": []
   },
   "outputs": [],
   "source": [
    "data = ..."
   ]
  },
  {
   "cell_type": "code",
   "execution_count": null,
   "metadata": {
    "deletable": false,
    "editable": false
   },
   "outputs": [],
   "source": [
    "grader.check(\"q1p1\")"
   ]
  },
  {
   "cell_type": "markdown",
   "metadata": {
    "deletable": false,
    "editable": false
   },
   "source": [
    "## Question 1.2: Plot\n",
    "\n",
    "Next, create a scatter plot of the data with the following characteristics.\n",
    "\n",
    "+ Set the figure size to `(10,5)`.\n",
    "+ Use the [`ax.scatter`](https://matplotlib.org/stable/api/_as_gen/matplotlib.axes.Axes.scatter.html) function to plot the data. \n",
    "+ Set the marker color to `'dodgerblue'`.\n",
    "+ The the y-axis limits to `(-2,2)`.\n",
    "+ Set the ticks for the y axis to `[-2,-1,0,1,2]`.\n",
    "+ Set the font size for both the x and y tick labels to 14. \n",
    "+ Add a grid with dashed lines (`'--'`)\n",
    "+ Set the x axis label to `'time [minutes]'`.\n",
    "+ Set the y axis label to `'height [m]'`.\n",
    "+ Both labels should have font size equal to 18.\n",
    "+ Set the visibility of the top and right spines to `False`.\n",
    "+ Set the title to `'Measured water level'` with a font size of 20.\n",
    "\n",
    "**Desired result:**\n",
    "\n",
    "<img src=\"resources/scatter.png\" width=\"600\" />"
   ]
  },
  {
   "cell_type": "code",
   "execution_count": null,
   "metadata": {
    "execution": {
     "iopub.execute_input": "2024-02-26T05:30:39.385934Z",
     "iopub.status.busy": "2024-02-26T05:30:39.385764Z",
     "iopub.status.idle": "2024-02-26T05:30:39.509016Z",
     "shell.execute_reply": "2024-02-26T05:30:39.508504Z"
    },
    "tags": []
   },
   "outputs": [],
   "source": [
    "fig1, ax1 = plt.subplots(...)\n",
    "..."
   ]
  },
  {
   "cell_type": "code",
   "execution_count": null,
   "metadata": {
    "deletable": false,
    "editable": false
   },
   "outputs": [],
   "source": [
    "grader.check(\"q1p2\")"
   ]
  },
  {
   "cell_type": "markdown",
   "metadata": {},
   "source": [
    "# Question 2: Line plot\n",
    "\n",
    "Next we will add two smooth polynomial approximations to the data from the previous question. One will be a linear function, the other a cubic function. The formulas for each of these are:\n",
    "\n",
    "\\begin{align*}\n",
    "&y1 = -1.6 + 0.4\\:x & \\text{... linear approximation} \\\\\n",
    "&y3 = 3.65 -4.78\\: x + 1.46\\: x^2 -0.12\\: x^3  & \\text{... cubic approximation}\n",
    "\\end{align*}\n",
    "\n"
   ]
  },
  {
   "cell_type": "markdown",
   "metadata": {
    "deletable": false,
    "editable": false
   },
   "source": [
    "## Question 2.1: Compute the two approximations\n",
    "\n",
    "First we must compute the values of y1 and y3 on an array of points along the x axis. This array should have 20 equally spaced points, and it should span from x=1 to x=7. Call the array `xx`. Then evaluate the linear and cubic functions on `xx` and call the resulting arrays `y1` and `y3` respectively. Each of these should have the same shape as `xx`.\n",
    "\n",
    "**Hint**: [`np.linspace`](https://numpy.org/doc/stable/reference/generated/numpy.linspace.html)"
   ]
  },
  {
   "cell_type": "code",
   "execution_count": null,
   "metadata": {
    "execution": {
     "iopub.execute_input": "2024-02-26T05:30:39.593187Z",
     "iopub.status.busy": "2024-02-26T05:30:39.593011Z",
     "iopub.status.idle": "2024-02-26T05:30:39.597045Z",
     "shell.execute_reply": "2024-02-26T05:30:39.596530Z"
    },
    "tags": []
   },
   "outputs": [],
   "source": [
    "xx = ...\n",
    "y1 = ...\n",
    "y3 = ..."
   ]
  },
  {
   "cell_type": "code",
   "execution_count": null,
   "metadata": {
    "deletable": false,
    "editable": false
   },
   "outputs": [],
   "source": [
    "grader.check(\"q2p1\")"
   ]
  },
  {
   "cell_type": "markdown",
   "metadata": {
    "deletable": false,
    "editable": false
   },
   "source": [
    "## Question 2.2: Plot\n",
    "\n",
    "Now we can build the plot by overlaying the two lines on the scatter plot. Here is the specification:\n",
    "\n",
    "+ All of the specifications for the scatter plot in Question 1 apply here. \n",
    "\n",
    "+ Label the scatter plotted data as 'data' in the legend\n",
    "\n",
    "+ Use the [ax.plot](https://matplotlib.org/stable/api/_as_gen/matplotlib.axes.Axes.plot.html) function to plot the two lines.\n",
    "+ The linear approximation should have these characteristics:\n",
    "    + a line width of 2\n",
    "    + dashed  line style(`'--'`)\n",
    "    + star marker (`'*'`) of size 10\n",
    "    + `magenta` in color\n",
    "    + labels as 'linear' in the legend\n",
    "\n",
    "+ The cubic approximation should have these characteristics:\n",
    "    + a line width of 2\n",
    "    + dash-dotted line style(`'-.'`)\n",
    "    + round marker (`'o'`) of size 10, with a black edge\n",
    "    + `orangered` in color\n",
    "    + labels as 'cubic' in the legend\n",
    "\n",
    "**Desired result:**\n",
    "\n",
    "<img src=\"resources/scatter_and_line.png\" width=\"800\" />"
   ]
  },
  {
   "cell_type": "code",
   "execution_count": null,
   "metadata": {
    "execution": {
     "iopub.execute_input": "2024-02-26T05:30:39.634646Z",
     "iopub.status.busy": "2024-02-26T05:30:39.634451Z",
     "iopub.status.idle": "2024-02-26T05:30:39.825202Z",
     "shell.execute_reply": "2024-02-26T05:30:39.824751Z"
    },
    "tags": []
   },
   "outputs": [],
   "source": [
    "fig2, ax2 = plt.subplots(...)\n",
    "..."
   ]
  },
  {
   "cell_type": "code",
   "execution_count": null,
   "metadata": {
    "deletable": false,
    "editable": false
   },
   "outputs": [],
   "source": [
    "grader.check(\"q2p2\")"
   ]
  },
  {
   "cell_type": "markdown",
   "metadata": {},
   "source": [
    "# Question 3: Histogram\n",
    "\n",
    "The data in this problem consists of the 200 scores by two teams in a popular online game. The scores are integers ranging from 0 to 100. They are stored in two `.npy` files called `team1.npy` and `team2.npy`. Your task is to present the scores as two histograms -- one for Team 1 and another for Team 2. "
   ]
  },
  {
   "cell_type": "markdown",
   "metadata": {
    "deletable": false,
    "editable": false
   },
   "source": [
    "## Question 3.1: Import the data.\n",
    "\n",
    "Import the files `'team1.npy'` and `'team2.npy'` to NumPy arrary called `team1` and `team2` respectively.\n",
    "\n",
    "**Hint**: For binary NumPy files we use [`np.load`](https://numpy.org/doc/stable/reference/generated/numpy.load.html)"
   ]
  },
  {
   "cell_type": "code",
   "execution_count": null,
   "metadata": {
    "execution": {
     "iopub.execute_input": "2024-02-26T05:30:39.882812Z",
     "iopub.status.busy": "2024-02-26T05:30:39.882689Z",
     "iopub.status.idle": "2024-02-26T05:30:39.886144Z",
     "shell.execute_reply": "2024-02-26T05:30:39.885793Z"
    },
    "tags": []
   },
   "outputs": [],
   "source": [
    "team1 = ...\n",
    "team2 = ..."
   ]
  },
  {
   "cell_type": "code",
   "execution_count": null,
   "metadata": {
    "deletable": false,
    "editable": false
   },
   "outputs": [],
   "source": [
    "grader.check(\"q3p1\")"
   ]
  },
  {
   "cell_type": "markdown",
   "metadata": {
    "deletable": false,
    "editable": false
   },
   "source": [
    "## Question 3.2: Plot\n",
    "\n",
    "The two histograms should be placed in a figure in two rows, with Team 1 on the top row and Team 2 on the bottom row. Here are the specifications for the figure. \n",
    "\n",
    "+ Set the figure size to `(6,8)` and the number of rows to 2.\n",
    "+ Use [`ax.hist`](https://matplotlib.org/stable/api/_as_gen/matplotlib.axes.Axes.hist.html) for both plots.\n",
    "+ Top row: Team 1\n",
    "    + The histogram should have 15 bins, the bar widths should be 80% of the bin size, and the bar color should be 'darkgreen'.\n",
    "    + Remove the left, top, and right side spines.\n",
    "    + The x-axis label should be 'Team 1' and have a font size of 16.\n",
    "+ Bottom row: Team 2\n",
    "    + The histogram should have 10 bins, the bar widths should be 60% of the bin size, and the bar color should be 'darkred'.\n",
    "    + Remove the left, top, and right side spines.\n",
    "    + The x-axis label should be 'Team 2' and have a font size of 16.\n",
    "\n",
    "**Desired result:**\n",
    "\n",
    "<img src=\"resources/histogram.png\" width=\"400\" />"
   ]
  },
  {
   "cell_type": "code",
   "execution_count": null,
   "metadata": {
    "execution": {
     "iopub.execute_input": "2024-02-26T05:30:39.901074Z",
     "iopub.status.busy": "2024-02-26T05:30:39.900946Z",
     "iopub.status.idle": "2024-02-26T05:30:40.058243Z",
     "shell.execute_reply": "2024-02-26T05:30:40.057699Z"
    },
    "tags": []
   },
   "outputs": [],
   "source": [
    "fig3, ax3 = plt.subplots(...)\n",
    "..."
   ]
  },
  {
   "cell_type": "code",
   "execution_count": null,
   "metadata": {
    "deletable": false,
    "editable": false
   },
   "outputs": [],
   "source": [
    "grader.check(\"q3p2\")"
   ]
  },
  {
   "cell_type": "markdown",
   "metadata": {
    "deletable": false,
    "editable": false
   },
   "source": [
    "---\n",
    "\n",
    "To double-check your work, the cell below will rerun all of the autograder tests."
   ]
  },
  {
   "cell_type": "code",
   "execution_count": null,
   "metadata": {
    "deletable": false,
    "editable": false
   },
   "outputs": [],
   "source": [
    "grader.check_all()"
   ]
  },
  {
   "cell_type": "markdown",
   "metadata": {
    "deletable": false,
    "editable": false
   },
   "source": [
    "## Submission\n",
    "\n",
    "Make sure you have run all cells in your notebook in order before running the cell below, so that all images/graphs appear in the output. The cell below will generate a zip file for you to submit. **Please save before exporting!**\n",
    "\n",
    "Make sure you submit the .zip file to Gradescope."
   ]
  },
  {
   "cell_type": "code",
   "execution_count": null,
   "metadata": {
    "deletable": false,
    "editable": false
   },
   "outputs": [],
   "source": [
    "# Save your notebook first, then run this cell to export your submission.\n",
    "grader.export(pdf=False)"
   ]
  },
  {
   "cell_type": "markdown",
   "metadata": {},
   "source": [
    " "
   ]
  }
 ],
 "metadata": {
  "anaconda-cloud": {},
  "colab": {
   "provenance": []
  },
  "kernelspec": {
   "display_name": "Python 3 (ipykernel)",
   "language": "python",
   "name": "python3"
  },
  "language_info": {
   "codemirror_mode": {
    "name": "ipython",
    "version": 3
   },
   "file_extension": ".py",
   "mimetype": "text/x-python",
   "name": "python",
   "nbconvert_exporter": "python",
   "pygments_lexer": "ipython3",
   "version": "3.10.12"
  },
  "otter": {
   "OK_FORMAT": true,
   "assignment_name": "lab06A",
   "tests": {
    "q1p1": {
     "name": "q1p1",
     "points": null,
     "suites": [
      {
       "cases": [
        {
         "code": ">>> data.shape == (100, 2)\nTrue",
         "hidden": false,
         "locked": false,
         "points": 0
        },
        {
         "code": ">>> get_hash(data, 4) == 'f9ee89b8e7b878d2e6f84ed79654d13c'\nTrue",
         "hidden": false,
         "locked": false,
         "points": 1
        }
       ],
       "scored": true,
       "setup": "",
       "teardown": "",
       "type": "doctest"
      }
     ]
    },
    "q1p2": {
     "name": "q1p2",
     "points": null,
     "suites": [
      {
       "cases": [
        {
         "code": ">>> import matplotlib\n>>> isinstance(ax1, matplotlib.axes._axes.Axes)\nTrue",
         "hidden": false,
         "locked": false,
         "points": 0
        },
        {
         "code": ">>> np.all(np.isclose(ax1.collections[0].get_offsets()[:, 0], data[:, 0], atol=0.1)) and np.all(np.isclose(ax1.collections[0].get_offsets()[:, 1], data[:, 1], atol=0.1))\nTrue",
         "hidden": false,
         "locked": false,
         "points": 1
        },
        {
         "code": ">>> np.all(np.isclose(fig1.get_size_inches(), (10, 5)))\nTrue",
         "hidden": false,
         "locked": false,
         "points": 1
        },
        {
         "code": ">>> np.all(np.isclose(ax1.collections[0].get_facecolors(), np.array([[0.11764706, 0.56470588, 1.0, 1.0]]), atol=0.1))\nTrue",
         "hidden": false,
         "locked": false,
         "points": 1
        },
        {
         "code": ">>> np.all(np.isclose(ax1.get_ylim(), np.array([-2.0, 2.0]), atol=0.1))\nTrue",
         "hidden": false,
         "locked": false,
         "points": 1
        },
        {
         "code": ">>> np.all(np.isclose(ax1.get_yticks(), np.array([-2, -1, 0, 1, 2]), atol=0.1))\nTrue",
         "hidden": false,
         "locked": false,
         "points": 1
        },
        {
         "code": ">>> np.all([x.get_fontsize() == 14 for x in ax1.get_xticklabels()]) and np.all([x.get_fontsize() == 14 for x in ax1.get_yticklabels()])\nTrue",
         "hidden": false,
         "locked": false,
         "points": 1
        },
        {
         "code": ">>> ax1.get_xgridlines()[0].get_linestyle() == '--'\nTrue",
         "hidden": false,
         "locked": false,
         "points": 1
        },
        {
         "code": ">>> ax1.get_xlabel().strip() == 'time [minutes]'\nTrue",
         "hidden": false,
         "locked": false,
         "points": 1
        },
        {
         "code": ">>> ax1.get_ylabel().strip() == 'height [m]'\nTrue",
         "hidden": false,
         "locked": false,
         "points": 1
        },
        {
         "code": ">>> ax1.xaxis.get_label().get_fontsize() == 18 and ax1.yaxis.get_label().get_fontsize() == 18\nTrue",
         "hidden": false,
         "locked": false,
         "points": 1
        },
        {
         "code": ">>> np.all([not ax1.spines[x].get_visible() for x in ['top', 'right']])\nTrue",
         "hidden": false,
         "locked": false,
         "points": 1
        },
        {
         "code": ">>> ax1.get_title() == 'Measured water level'\nTrue",
         "hidden": false,
         "locked": false,
         "points": 1
        }
       ],
       "scored": true,
       "setup": "",
       "teardown": "",
       "type": "doctest"
      }
     ]
    },
    "q2p1": {
     "name": "q2p1",
     "points": null,
     "suites": [
      {
       "cases": [
        {
         "code": ">>> xx.shape == (20,) and np.all(xx >= 1) and np.all(xx <= 7)\nTrue",
         "hidden": false,
         "locked": false,
         "points": 0
        },
        {
         "code": ">>> y1.shape == (20,) and np.min(y1) < -1 and (np.max(y1) > 1)\nTrue",
         "hidden": false,
         "locked": false,
         "points": 1
        },
        {
         "code": ">>> y3.shape == (20,) and np.min(y3) < -1 and (np.max(y3) > 1.5)\nTrue",
         "hidden": false,
         "locked": false,
         "points": 1
        },
        {
         "code": ">>> np.all(np.isclose(np.diff(xx), 0.31578947)) and np.all(np.isclose(np.diff(y1), 0.12631579, atol=0.1))\nTrue",
         "hidden": false,
         "locked": false,
         "points": 1
        },
        {
         "code": ">>> np.isclose(np.sum(y3), 5.526315789473633) and np.isclose(np.mean(np.log(y3[y3 > 0])), -0.3891635509624931, atol=0.01)\nTrue",
         "hidden": false,
         "locked": false,
         "points": 1
        }
       ],
       "scored": true,
       "setup": "",
       "teardown": "",
       "type": "doctest"
      }
     ]
    },
    "q2p2": {
     "name": "q2p2",
     "points": null,
     "suites": [
      {
       "cases": [
        {
         "code": ">>> import matplotlib\n>>> isinstance(ax2, matplotlib.axes._axes.Axes)\nTrue",
         "hidden": false,
         "locked": false,
         "points": 1
        },
        {
         "code": ">>> len(ax2.get_lines()) == 2 and {line.get_label() for line in ax2.get_lines()} == {'linear', 'cubic'} and (ax2.collections[0].get_label() == 'data')\nTrue",
         "hidden": false,
         "locked": false,
         "points": 1
        },
        {
         "code": ">>> line1 = list(filter(lambda x: x.get_label() == 'linear', ax2.get_lines()))[0]\n>>> line1.get_linewidth() == 2\nTrue",
         "hidden": false,
         "locked": false,
         "points": 1
        },
        {
         "code": ">>> line1 = list(filter(lambda x: x.get_label() == 'linear', ax2.get_lines()))[0]\n>>> line1.get_linestyle() == '--'\nTrue",
         "hidden": false,
         "locked": false,
         "points": 1
        },
        {
         "code": ">>> line1 = list(filter(lambda x: x.get_label() == 'linear', ax2.get_lines()))[0]\n>>> line1.get_marker() == '*'\nTrue",
         "hidden": false,
         "locked": false,
         "points": 1
        },
        {
         "code": ">>> line1 = list(filter(lambda x: x.get_label() == 'linear', ax2.get_lines()))[0]\n>>> line1.get_color() == 'magenta'\nTrue",
         "hidden": false,
         "locked": false,
         "points": 1
        },
        {
         "code": ">>> line3 = list(filter(lambda x: x.get_label() == 'cubic', ax2.get_lines()))[0]\n>>> line3.get_linewidth() == 2\nTrue",
         "hidden": false,
         "locked": false,
         "points": 1
        },
        {
         "code": ">>> line3 = list(filter(lambda x: x.get_label() == 'cubic', ax2.get_lines()))[0]\n>>> line3.get_linestyle() == '-.'\nTrue",
         "hidden": false,
         "locked": false,
         "points": 1
        },
        {
         "code": ">>> line3 = list(filter(lambda x: x.get_label() == 'cubic', ax2.get_lines()))[0]\n>>> line3.get_marker() == 'o'\nTrue",
         "hidden": false,
         "locked": false,
         "points": 1
        },
        {
         "code": ">>> line3 = list(filter(lambda x: x.get_label() == 'cubic', ax2.get_lines()))[0]\n>>> line3.get_color() == 'orangered'\nTrue",
         "hidden": false,
         "locked": false,
         "points": 1
        }
       ],
       "scored": true,
       "setup": "",
       "teardown": "",
       "type": "doctest"
      }
     ]
    },
    "q3p1": {
     "name": "q3p1",
     "points": null,
     "suites": [
      {
       "cases": [
        {
         "code": ">>> team1.shape == (200,) and team2.shape == (200,)\nTrue",
         "hidden": false,
         "locked": false,
         "points": 1
        },
        {
         "code": ">>> np.isclose(np.sum(team1), 11970.743322957112, atol=0.01) and np.isclose(team1.mean(), 59.85371661478556, atol=0.01)\nTrue",
         "hidden": false,
         "locked": false,
         "points": 1
        },
        {
         "code": ">>> np.isclose(np.sum(team2), 14404.846860229123, atol=0.01) and np.isclose(team2.mean(), 72.02423430114561, atol=0.01)\nTrue",
         "hidden": false,
         "locked": false,
         "points": 1
        }
       ],
       "scored": true,
       "setup": "",
       "teardown": "",
       "type": "doctest"
      }
     ]
    },
    "q3p2": {
     "name": "q3p2",
     "points": null,
     "suites": [
      {
       "cases": [
        {
         "code": ">>> np.all(np.isclose(fig3.get_size_inches(), (6, 8)))\nTrue",
         "hidden": false,
         "locked": false,
         "points": 1
        },
        {
         "code": ">>> len(ax3) and ax3[0].get_gridspec().get_geometry() == (2, 1)\nTrue",
         "hidden": false,
         "locked": false,
         "points": 1
        },
        {
         "code": ">>> import matplotlib\n>>> sum([np.all(np.isclose(c.get_facecolor(), (0.0, 0.3921, 0.0, 1.0), atol=0.01)) for c in ax3[0].get_children() if isinstance(c, matplotlib.patches.Rectangle)]) == 15\nTrue",
         "hidden": false,
         "locked": false,
         "points": 1
        },
        {
         "code": ">>> import matplotlib\n>>> sum([np.isclose(c.get_width(), 5.2384, atol=0.05) for c in ax3[0].get_children() if isinstance(c, matplotlib.patches.Rectangle)]) == 15\nTrue",
         "hidden": false,
         "locked": false,
         "points": 1
        },
        {
         "code": ">>> np.all([not ax3[0].spines[x].get_visible() for x in ['left', 'top', 'right']])\nTrue",
         "hidden": false,
         "locked": false,
         "points": 1
        },
        {
         "code": ">>> ax3[0].get_xlabel().strip() == 'Team 1' and ax3[0].xaxis.get_label().get_fontsize() == 16\nTrue",
         "hidden": false,
         "locked": false,
         "points": 1
        },
        {
         "code": ">>> import matplotlib\n>>> sum([np.all(np.isclose(c.get_facecolor(), (0.54509, 0.0, 0.0, 1.0), atol=0.01)) for c in ax3[1].get_children() if isinstance(c, matplotlib.patches.Rectangle)]) == 10\nTrue",
         "hidden": false,
         "locked": false,
         "points": 1
        },
        {
         "code": ">>> import matplotlib\n>>> sum([np.isclose(c.get_width(), 3.4121514, atol=0.05) for c in ax3[1].get_children() if isinstance(c, matplotlib.patches.Rectangle)]) == 10\nTrue",
         "hidden": false,
         "locked": false,
         "points": 1
        },
        {
         "code": ">>> np.all([not ax3[1].spines[x].get_visible() for x in ['left', 'top', 'right']])\nTrue",
         "hidden": false,
         "locked": false,
         "points": 1
        },
        {
         "code": ">>> ax3[1].get_xlabel().strip() == 'Team 2' and ax3[1].xaxis.get_label().get_fontsize() == 16\nTrue",
         "hidden": false,
         "locked": false,
         "points": 1
        }
       ],
       "scored": true,
       "setup": "",
       "teardown": "",
       "type": "doctest"
      }
     ]
    }
   }
  }
 },
 "nbformat": 4,
 "nbformat_minor": 0
}
