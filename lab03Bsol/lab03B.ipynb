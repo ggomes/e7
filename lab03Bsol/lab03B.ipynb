{
 "cells": [
  {
   "cell_type": "code",
   "execution_count": 1,
   "metadata": {
    "deletable": false,
    "editable": false
   },
   "outputs": [],
   "source": [
    "# Initialize Otter\n",
    "import otter\n",
    "grader = otter.Notebook(\"lab03B.ipynb\")"
   ]
  },
  {
   "cell_type": "markdown",
   "metadata": {},
   "source": [
    "---\n",
    "\n",
    "<h3><center>E7 -  Introduction to Programming for Scientists and Engineers</center></h3>\n",
    "\n",
    "<h2><center>Lab session #03-B <br></center></h2>\n",
    "\n",
    "<h1><center>Operations with Numpy arrays<br></center></h1>\n",
    "\n",
    "---"
   ]
  },
  {
   "cell_type": "code",
   "execution_count": 2,
   "metadata": {
    "execution": {
     "iopub.execute_input": "2024-02-07T03:47:35.543517Z",
     "iopub.status.busy": "2024-02-07T03:47:35.543182Z",
     "iopub.status.idle": "2024-02-07T03:47:35.902810Z",
     "shell.execute_reply": "2024-02-07T03:47:35.902228Z"
    },
    "id": "PmQ0-tpz9u7g",
    "tags": []
   },
   "outputs": [],
   "source": [
    "from resources.hashutils import *\n",
    "import numpy as np\n",
    "import matplotlib.pyplot as plt"
   ]
  },
  {
   "cell_type": "markdown",
   "metadata": {},
   "source": [
    "# Question 1: 1D heat conduction"
   ]
  },
  {
   "cell_type": "markdown",
   "metadata": {},
   "source": [
    "Here we will analyze some data that was collected from three temperature sensors placed along the length of a metal rod. The sensors are labeled s0, s1, and s2 in the figure below. A flame is placed under sensor s0, causing it to heat up to about $600^{\\circ} C$ (degrees celsius, or centigrade). At the opposite end, a block of ice keeps sensor s2 at around $0^{\\circ}C$.\n",
    "\n",
    "<img src=\"resources/rod_diagram.png\" width=\"400\" />\n",
    "\n",
    "The plots below shows measurements recorded at several time instances from the three sensors. We can see that s0 and s2 remain approximately fixed at $600^{\\circ} C$ and  $0^{\\circ} C$, while measurements from s1 gradually rise from $0^{\\circ} C$ to about $300^{\\circ} C$.\n",
    "\n",
    "<img src=\"resources/rod_diff2Dlabeled.png\" width=\"1000\" />\n",
    "\n",
    "Run the next cell to load this data into a NumPy array called $T$. $T$ has one column for each sensor, and one row for each instant of time."
   ]
  },
  {
   "cell_type": "code",
   "execution_count": 3,
   "metadata": {
    "execution": {
     "iopub.execute_input": "2024-02-07T03:47:35.905553Z",
     "iopub.status.busy": "2024-02-07T03:47:35.905282Z",
     "iopub.status.idle": "2024-02-07T03:47:35.918237Z",
     "shell.execute_reply": "2024-02-07T03:47:35.917729Z"
    }
   },
   "outputs": [
    {
     "data": {
      "text/plain": [
       "array([[ 6.05182256e+02,  0.00000000e+00, -1.51688438e+01],\n",
       "       [ 5.75987850e+02,  1.77004024e+02,  2.96259030e+00],\n",
       "       [ 5.93331090e+02,  2.44486742e+02, -7.22200797e-01],\n",
       "       [ 5.81951420e+02,  2.75577364e+02, -2.21828337e+00],\n",
       "       [ 6.13826968e+02,  2.84150887e+02,  1.93498946e+01],\n",
       "       [ 5.88320599e+02,  3.03613413e+02, -9.26461886e+00],\n",
       "       [ 6.12067992e+02,  2.95162160e+02,  8.16990304e+00],\n",
       "       [ 5.92970863e+02,  3.04136232e+02, -2.64343250e+00],\n",
       "       [ 5.97990797e+02,  2.98752722e+02, -3.18181056e+00],\n",
       "       [ 5.92578695e+02,  2.97943785e+02,  8.65216517e+00],\n",
       "       [ 5.96057133e+02,  2.99546772e+02,  1.21217625e+00],\n",
       "       [ 6.00985552e+02,  2.98999501e+02, -3.67715382e+00],\n",
       "       [ 6.05969936e+02,  2.98792320e+02, -2.16497321e+01],\n",
       "       [ 5.84333421e+02,  2.94812989e+02, -9.09523678e+00],\n",
       "       [ 5.95204889e+02,  2.90496651e+02, -4.85187858e-01],\n",
       "       [ 5.93807790e+02,  2.94614571e+02,  1.40274423e+00],\n",
       "       [ 6.33262652e+02,  2.96408989e+02,  2.47919434e+00],\n",
       "       [ 6.08592854e+02,  3.09286149e+02,  3.60804021e+00],\n",
       "       [ 5.51160365e+02,  3.07374728e+02,  1.51534886e+01],\n",
       "       [ 5.97146717e+02,  2.92844047e+02,  2.96243494e+00],\n",
       "       [ 5.96639149e+02,  2.97170364e+02,  1.43667255e+01],\n",
       "       [ 5.85004228e+02,  3.02169908e+02,  4.30945691e+00],\n",
       "       [ 5.75698010e+02,  2.97662069e+02,  6.25416659e+00]])"
      ]
     },
     "execution_count": 3,
     "metadata": {},
     "output_type": "execute_result"
    }
   ],
   "source": [
    "T = np.loadtxt('1drod.csv', delimiter=',')\n",
    "T"
   ]
  },
  {
   "cell_type": "markdown",
   "metadata": {
    "deletable": false,
    "editable": false
   },
   "source": [
    "## Question 1.1 -- Number of time instants\n",
    "\n",
    "How many time instants were recorded? Save this value to the variable `N`. \n",
    "\n",
    "\n",
    "**Note**. Don't simply count the rows by hand. Use the [`shape`](https://numpy.org/doc/stable/reference/generated/numpy.shape.html) method of the NumPy array. \n"
   ]
  },
  {
   "cell_type": "code",
   "execution_count": 4,
   "metadata": {
    "execution": {
     "iopub.execute_input": "2024-02-07T03:47:35.948529Z",
     "iopub.status.busy": "2024-02-07T03:47:35.948288Z",
     "iopub.status.idle": "2024-02-07T03:47:35.952189Z",
     "shell.execute_reply": "2024-02-07T03:47:35.951747Z"
    },
    "tags": [
     "otter_assign_solution_cell"
    ]
   },
   "outputs": [],
   "source": [
    "N = T.shape[0]"
   ]
  },
  {
   "cell_type": "code",
   "execution_count": 5,
   "metadata": {
    "deletable": false,
    "editable": false
   },
   "outputs": [
    {
     "data": {
      "text/html": [
       "<p><strong><pre style='display: inline;'>q1p1</pre></strong> passed! 🌈</p>"
      ],
      "text/plain": [
       "q1p1 results: All test cases passed!"
      ]
     },
     "execution_count": 5,
     "metadata": {},
     "output_type": "execute_result"
    }
   ],
   "source": [
    "grader.check(\"q1p1\")"
   ]
  },
  {
   "cell_type": "markdown",
   "metadata": {
    "deletable": false,
    "editable": false
   },
   "source": [
    "## Question 1.2 -- Temperature in degrees fahrenheit\n",
    "\n",
    "Convert the temperature measurements to degrees Fahrenheit. Recall that the formula for the conversion is:\n",
    "\n",
    "$$ T_f = \\left(9/5\\right) T + 32 $$\n",
    "\n",
    "where $T$ is a temperature value in celsius, and $T_f$ is the corresponding value in fahrenheit. Store the resulting $N\\times 3$ array as `Tf`."
   ]
  },
  {
   "cell_type": "code",
   "execution_count": 6,
   "metadata": {
    "execution": {
     "iopub.execute_input": "2024-02-07T03:47:35.965424Z",
     "iopub.status.busy": "2024-02-07T03:47:35.965128Z",
     "iopub.status.idle": "2024-02-07T03:47:35.968700Z",
     "shell.execute_reply": "2024-02-07T03:47:35.968183Z"
    },
    "tags": [
     "otter_assign_solution_cell"
    ]
   },
   "outputs": [],
   "source": [
    "Tf = T * 9/5 + 32"
   ]
  },
  {
   "cell_type": "code",
   "execution_count": 7,
   "metadata": {
    "deletable": false,
    "editable": false
   },
   "outputs": [
    {
     "data": {
      "text/html": [
       "<p><strong><pre style='display: inline;'>q1p2</pre></strong> passed! 🌈</p>"
      ],
      "text/plain": [
       "q1p2 results: All test cases passed!"
      ]
     },
     "execution_count": 7,
     "metadata": {},
     "output_type": "execute_result"
    }
   ],
   "source": [
    "grader.check(\"q1p2\")"
   ]
  },
  {
   "cell_type": "markdown",
   "metadata": {
    "deletable": false,
    "editable": false
   },
   "source": [
    "## Question 1.3 -- Average over time\n",
    "\n",
    "What is the average of the temperature readings for each of the three sensors? Store this as `Tmean0`. It should be an array with 3 entries (one per sensor). "
   ]
  },
  {
   "cell_type": "code",
   "execution_count": 8,
   "metadata": {
    "execution": {
     "iopub.execute_input": "2024-02-07T03:47:35.982539Z",
     "iopub.status.busy": "2024-02-07T03:47:35.982194Z",
     "iopub.status.idle": "2024-02-07T03:47:35.986284Z",
     "shell.execute_reply": "2024-02-07T03:47:35.985628Z"
    },
    "tags": [
     "otter_assign_solution_cell"
    ]
   },
   "outputs": [],
   "source": [
    "Tmean0 = np.mean(T,axis=0)"
   ]
  },
  {
   "cell_type": "code",
   "execution_count": 9,
   "metadata": {
    "deletable": false,
    "editable": false
   },
   "outputs": [
    {
     "data": {
      "text/html": [
       "<p><strong><pre style='display: inline;'>q1p3</pre></strong> passed! 💯</p>"
      ],
      "text/plain": [
       "q1p3 results: All test cases passed!"
      ]
     },
     "execution_count": 9,
     "metadata": {},
     "output_type": "execute_result"
    }
   ],
   "source": [
    "grader.check(\"q1p3\")"
   ]
  },
  {
   "cell_type": "markdown",
   "metadata": {
    "deletable": false,
    "editable": false
   },
   "source": [
    "## Question 1.4 -- Spatial average\n",
    "\n",
    "The spatial average temperature is the mean of the three sensor readings at a particular time. Compute this value for each time instant and store it as `Tmean1`. This should be an array with `N` entries (one per time instant). "
   ]
  },
  {
   "cell_type": "code",
   "execution_count": 10,
   "metadata": {
    "execution": {
     "iopub.execute_input": "2024-02-07T03:47:35.999873Z",
     "iopub.status.busy": "2024-02-07T03:47:35.999698Z",
     "iopub.status.idle": "2024-02-07T03:47:36.003377Z",
     "shell.execute_reply": "2024-02-07T03:47:36.002966Z"
    },
    "tags": [
     "otter_assign_solution_cell"
    ]
   },
   "outputs": [],
   "source": [
    "Tmean1 = T.mean(axis=1)"
   ]
  },
  {
   "cell_type": "code",
   "execution_count": 11,
   "metadata": {
    "deletable": false,
    "editable": false
   },
   "outputs": [
    {
     "data": {
      "text/html": [
       "<p><strong><pre style='display: inline;'>q1p4</pre></strong> passed! 🍀</p>"
      ],
      "text/plain": [
       "q1p4 results: All test cases passed!"
      ]
     },
     "execution_count": 11,
     "metadata": {},
     "output_type": "execute_result"
    }
   ],
   "source": [
    "grader.check(\"q1p4\")"
   ]
  },
  {
   "cell_type": "markdown",
   "metadata": {
    "deletable": false,
    "editable": false
   },
   "source": [
    "## Question 1.5 -- Standard deviations\n",
    "\n",
    "Sensors s0 and s2 are supposedly kept at constant temperatures, but we can see from the figure that there is some fluctuation or *noise* in the measurements. We can quantify this noise in the signal by computing its standard deviation. The standard deviation $\\sigma$ of an array $A=[a_1,...,a_N]$ is defined as:\n",
    "\n",
    "$$ \\sigma = \\sqrt{ \\frac{1}{N-1} \\sum_{i=1}^{N} (a_i-\\bar{a})^2 } $$\n",
    "\n",
    "Here $\\bar{a}$ is the mean of the elements in $A$, and $N$ is the number of elements in $A$.\n",
    "\n",
    "Compute the standard deviations for each of the sensors, and store the result as `Tstd`. \n",
    "\n",
    "**Notes**:\n",
    "+ The shape of `Tstd` should be `(3,)`.\n",
    "+ Try to do this in \"the NumPy way\", using broadcasting and methods such as [np.sum()](https://numpy.org/doc/stable/reference/generated/numpy.sum.html) instead of loops. \n",
    "+ *This formula can be implemented in one line of code*.\n",
    "+ **Don't use [np.std()](https://numpy.org/doc/stable/reference/generated/numpy.std.html)**"
   ]
  },
  {
   "cell_type": "code",
   "execution_count": 12,
   "metadata": {
    "execution": {
     "iopub.execute_input": "2024-02-07T03:47:36.018198Z",
     "iopub.status.busy": "2024-02-07T03:47:36.017820Z",
     "iopub.status.idle": "2024-02-07T03:47:36.021889Z",
     "shell.execute_reply": "2024-02-07T03:47:36.021391Z"
    },
    "tags": [
     "otter_assign_solution_cell"
    ]
   },
   "outputs": [],
   "source": [
    "Tstd = np.sqrt(np.sum((T - T.mean(axis=0))**2,axis=0)/(N-1))"
   ]
  },
  {
   "cell_type": "code",
   "execution_count": 13,
   "metadata": {
    "deletable": false,
    "editable": false
   },
   "outputs": [
    {
     "data": {
      "text/html": [
       "<p><strong><pre style='display: inline;'>q1p5</pre></strong> passed! 🙌</p>"
      ],
      "text/plain": [
       "q1p5 results: All test cases passed!"
      ]
     },
     "execution_count": 13,
     "metadata": {},
     "output_type": "execute_result"
    }
   ],
   "source": [
    "grader.check(\"q1p5\")"
   ]
  },
  {
   "cell_type": "markdown",
   "metadata": {},
   "source": [
    "# Question 2: Bouncing ball\n",
    "\n",
    "There are physical systems, such as the vibrating rod of lab 3A, whose evolution through time is simple enough that it can be expressed with a single formula. Other more complicated dynamics are more difficult to write down. A ball moving in a vacuum that is subject to gravity follows a trajectory that is easily described as a parabola. However, if we introduce the element of a \"floor\", and a model for \"bouncing\" and \"rolling\", then the picture becomes more complicated. It is no longer possible to compute the trajectory of the ball with a single line of code. We must use a `for` loop.\n",
    "\n",
    "Here we will use a standard coding pattern for computing the trajectory of a dynamical system through time. This evolution is shown in the figure below. The ball follows a sequence of parabolic arcs, separated by bounces (red dots) where some of its energy is lost. Eventually the ball loosing most of its energy and starts rolling (green line).\n",
    "\n",
    "<img src=\"resources/ball_pxpy.png\" width=\"800\" />\n"
   ]
  },
  {
   "cell_type": "markdown",
   "metadata": {
    "deletable": false,
    "editable": false
   },
   "source": [
    "## Question 2.1 -- Time instants\n",
    "\n",
    "Create an array of time instants with a time step `dt` of 0.015 seconds. The values should range from 0 to 2 seconds.  Call this array `time`. Also find the number of elements in `time` and call it `K`.\n",
    "\n",
    "**Notes**: \n",
    "+ Use [`np.arange`](https://numpy.org/doc/stable/reference/generated/numpy.arange.html).\n",
    "+ `time` will not include a 2, since 2 is not a multiple of `dt`. Rather, the last value in `t` should be 1.995."
   ]
  },
  {
   "cell_type": "code",
   "execution_count": 14,
   "metadata": {
    "execution": {
     "iopub.execute_input": "2024-02-07T03:47:36.035814Z",
     "iopub.status.busy": "2024-02-07T03:47:36.035425Z",
     "iopub.status.idle": "2024-02-07T03:47:36.039212Z",
     "shell.execute_reply": "2024-02-07T03:47:36.038817Z"
    },
    "tags": [
     "otter_assign_solution_cell"
    ]
   },
   "outputs": [],
   "source": [
    "dt = 0.015\n",
    "time = np.arange(0,2,dt)\n",
    "K = time.shape[0]"
   ]
  },
  {
   "cell_type": "code",
   "execution_count": 15,
   "metadata": {
    "deletable": false,
    "editable": false
   },
   "outputs": [
    {
     "data": {
      "text/html": [
       "<p><strong><pre style='display: inline;'>q2p1</pre></strong> passed! 🌈</p>"
      ],
      "text/plain": [
       "q2p1 results: All test cases passed!"
      ]
     },
     "execution_count": 15,
     "metadata": {},
     "output_type": "execute_result"
    }
   ],
   "source": [
    "grader.check(\"q2p1\")"
   ]
  },
  {
   "cell_type": "markdown",
   "metadata": {
    "deletable": false,
    "editable": false
   },
   "source": [
    "## Question 2.2 -- Memory allocation\n",
    "\n",
    "\n",
    "The position and speed of the ball at any given time step `k` is described with four numbers:\n",
    "\n",
    "+ `px[k]` ... the horizontal component of its position (in meters)\n",
    "+ `py[k]` ... the vertical component of its position (in meters)\n",
    "+ `vx[k]` ... the horizontal component of its speed (in meters per second)\n",
    "+ `vy[k]` ... the vertical component of its speed (in meters per second)\n",
    "\n",
    "Additionally, at any given moment the ball can be in one of two states: *in flight* or *rolling*. This is captured with a boolean variable `rolling[k]`, which is `True` if the ball is rolling, and `False` otherwise. \n",
    "\n",
    "We will also want to track the bounces of the ball. To do this we will use a boolean array called `bounced` that is of the same length as `time` and is `True` when a bounce occurs, and `False` elsewhere. \n",
    "\n",
    "Next we will allocate memory for these six arrays: `px`, `py`, `vx`, `vy`, `rolling`, and `bounced`. \n",
    "\n",
    "**Notes**. \n",
    "+ Useful methods for this include [np.empty](https://numpy.org/doc/stable/reference/generated/numpy.empty.html ) and [np.full](https://numpy.org/doc/stable/reference/generated/numpy.full.html).\n",
    "+ Make sure that your arrays are of the correct data type. The position and velocity arrays contain floats, while `rolling` and `bounced` arrays contain booleans. You can check this with e.g. `np.ndarray.dtype`.\n"
   ]
  },
  {
   "cell_type": "code",
   "execution_count": 16,
   "metadata": {
    "execution": {
     "iopub.execute_input": "2024-02-07T03:47:36.054544Z",
     "iopub.status.busy": "2024-02-07T03:47:36.054361Z",
     "iopub.status.idle": "2024-02-07T03:47:36.059053Z",
     "shell.execute_reply": "2024-02-07T03:47:36.058423Z"
    },
    "tags": [
     "otter_assign_solution_cell"
    ]
   },
   "outputs": [
    {
     "data": {
      "text/plain": [
       "' # BEGIN PROMPT\\npx = ...\\npy = ...\\nvx = ...\\nvy = ...\\nrolling = ...\\nbounced = ...\\n'"
      ]
     },
     "execution_count": 16,
     "metadata": {},
     "output_type": "execute_result"
    }
   ],
   "source": [
    "# BEGIN SOLUTION NO PROMPT\n",
    "px = np.empty(K)\n",
    "py = np.empty(K)\n",
    "vx = np.empty(K)\n",
    "vy = np.empty(K)\n",
    "rolling = np.full(K,False)\n",
    "bounced = np.full(K,False)\n",
    "# END SOLUTION\n",
    "\"\"\" # BEGIN PROMPT\n",
    "px = ...\n",
    "py = ...\n",
    "vx = ...\n",
    "vy = ...\n",
    "rolling = ...\n",
    "bounced = ...\n",
    "\"\"\" # END PROMPT"
   ]
  },
  {
   "cell_type": "code",
   "execution_count": 17,
   "metadata": {
    "deletable": false,
    "editable": false
   },
   "outputs": [
    {
     "data": {
      "text/html": [
       "<p><strong><pre style='display: inline;'>q2p2</pre></strong> passed! ✨</p>"
      ],
      "text/plain": [
       "q2p2 results: All test cases passed!"
      ]
     },
     "execution_count": 17,
     "metadata": {},
     "output_type": "execute_result"
    }
   ],
   "source": [
    "grader.check(\"q2p2\")"
   ]
  },
  {
   "cell_type": "markdown",
   "metadata": {
    "deletable": false,
    "editable": false
   },
   "source": [
    "## Question 2.3 -- State initialization\n",
    "\n",
    "The ball begins its flight (time instant `k=0`) at a horizontal position of 0 and a vertical position of 2 meters. Its initial horizontal speed is 1 m/s and its vertical speed is 3 m/s. Initially it is neither bouncing nor rolling. Record this initial state information into the six state arrays."
   ]
  },
  {
   "cell_type": "code",
   "execution_count": 18,
   "metadata": {
    "execution": {
     "iopub.execute_input": "2024-02-07T03:47:36.085445Z",
     "iopub.status.busy": "2024-02-07T03:47:36.085249Z",
     "iopub.status.idle": "2024-02-07T03:47:36.089547Z",
     "shell.execute_reply": "2024-02-07T03:47:36.089052Z"
    },
    "tags": [
     "otter_assign_solution_cell"
    ]
   },
   "outputs": [],
   "source": [
    "px[0] = 0.\n",
    "py[0] = 2\n",
    "vx[0] = 1\n",
    "vy[0] = 3\n",
    "rolling[0] = False\n",
    "bounced[0] = False"
   ]
  },
  {
   "cell_type": "code",
   "execution_count": 19,
   "metadata": {
    "deletable": false,
    "editable": false
   },
   "outputs": [
    {
     "data": {
      "text/html": [
       "<p><strong><pre style='display: inline;'>q2p3</pre></strong> passed! 🙌</p>"
      ],
      "text/plain": [
       "q2p3 results: All test cases passed!"
      ]
     },
     "execution_count": 19,
     "metadata": {},
     "output_type": "execute_result"
    }
   ],
   "source": [
    "grader.check(\"q2p3\")"
   ]
  },
  {
   "cell_type": "markdown",
   "metadata": {
    "deletable": false,
    "editable": false
   },
   "source": [
    "## Question 2.4 -- Loop through time\n",
    "\n",
    "We can now launch the for loop that will compute the trajectory of the ball through time. In the `k`'th iteration, the task is to compute values to write into the `k`'th position of our six arrays, based on the values in the `k-1`'th array positions. Next we'll outline this calculation in four steps:\n",
    "\n",
    "1. **rolling update**. The ball is considered to be rolling at time `k` if its position at `k-1` was within one centimeter of the floor *and* its vertical speed at `k-1` was less than 0.01 m/s (in absolute value). \n",
    "\n",
    "2. **velocity update**. The horizontal speed of the ball remains constant for all time. The ball's change in vertical speed depends on whether it is rolling or in flight. If it is rolling, then its vertical speed is zero. Otherwise (when it is in flight), its vertical speed is decreased by `dt*g` with respect to the previous time instant; i.e. `vy[k] = vy[k-1] - dt*g`. Here `g` is gravitational acceleration (9.81 m/s).\n",
    "\n",
    "3. **position update**. We assume that `vx[k-1]` and `vy[k-1]` are the *average* velocity of the ball over the time interval from `time[k-1]` to `time[k]`. If so, then the ball will have advanced by `dt*vx[k-1]` in that interval, and hence `px[k] = px[k-1]+dt*vx[k-1]`. The same is true of the vertical position when the ball is in flight. When it is rolling, the vertical position is set to zero: `py[k]=0`.\n",
    "\n",
    "4. **bounce detection**. A bounce occurs whenever all three of the following conditions are met:\n",
    "    1. The vertical velocity is less-or-equal than zero,\n",
    "    2. The vertical position is less-or-equal than zero,\n",
    "    3. The ball is not rolling.\n",
    "\n",
    "If a bounce is detected at time `k`, then the vertical velocity is flipped from negative to positive, and multiplied by an energy-dissipating factor of 0.3: `vy[k] = abs(0.3*vy[k])`; the vertical position is set to 0.\n",
    "\n",
    "`bounced[k]` is `True` if a bounced ocurred at time `k`.\n"
   ]
  },
  {
   "cell_type": "code",
   "execution_count": 20,
   "metadata": {
    "execution": {
     "iopub.execute_input": "2024-02-07T03:47:36.098951Z",
     "iopub.status.busy": "2024-02-07T03:47:36.098780Z",
     "iopub.status.idle": "2024-02-07T03:47:36.105365Z",
     "shell.execute_reply": "2024-02-07T03:47:36.104790Z"
    },
    "tags": [
     "otter_assign_solution_cell"
    ]
   },
   "outputs": [],
   "source": [
    "for k in range(1,K):\n",
    "\n",
    "    # 1. rolling update\n",
    "    rolling[k] = py[k-1]<0.01 and abs(vy[k-1])<0.01\n",
    "\n",
    "    # 2. velocity update\n",
    "    vx[k] = vx[k-1]\n",
    "    if rolling[k]:\n",
    "        vy[k] = 0\n",
    "    else:\n",
    "        vy[k] = vy[k-1] - dt*9.81\n",
    "\n",
    "    # 3. position update\n",
    "    px[k] = px[k-1] + dt*vx[k-1]   \n",
    "    if rolling[k]:        \n",
    "        py[k] = 0\n",
    "    else:\n",
    "        py[k] = py[k-1] + dt*vy[k-1]     \n",
    "\n",
    "    # 4. bounce detection\n",
    "    bounced[k] = vy[k]<=0 and py[k]<0 and not rolling[k]\n",
    "    if bounced[k]:\n",
    "        vy[k] = abs(0.3*vy[k])\n",
    "        py[k] = 0"
   ]
  },
  {
   "cell_type": "markdown",
   "metadata": {
    "deletable": false,
    "editable": false
   },
   "source": [
    "Use this cell to plot your result. Your plot should look identical to the one in the problem description"
   ]
  },
  {
   "cell_type": "code",
   "execution_count": 21,
   "metadata": {
    "deletable": false,
    "editable": false,
    "execution": {
     "iopub.execute_input": "2024-02-07T03:47:36.107796Z",
     "iopub.status.busy": "2024-02-07T03:47:36.107601Z",
     "iopub.status.idle": "2024-02-07T03:47:36.273106Z",
     "shell.execute_reply": "2024-02-07T03:47:36.272395Z"
    }
   },
   "outputs": [
    {
     "data": {
      "text/plain": [
       "Text(0, 0.5, 'py')"
      ]
     },
     "execution_count": 21,
     "metadata": {},
     "output_type": "execute_result"
    },
    {
     "data": {
      "image/png": "[encoded data removed]",
      "text/plain": [
       "<Figure size 1000x400 with 1 Axes>"
      ]
     },
     "metadata": {},
     "output_type": "display_data"
    }
   ],
   "source": [
    "fig, ax = plt.subplots(figsize=(10,4))\n",
    "plt.axhline(0,c='k',linewidth=0.5)\n",
    "plt.plot(px, py, 'k-')\n",
    "plt.plot(px[rolling], py[rolling], 'g',linewidth=4,label='rolling')\n",
    "plt.plot(px[bounced], py[bounced], 'ro',label='bounced')\n",
    "ax.spines[['top','right']].set_visible(False)\n",
    "plt.ylim(-.4,2.5)\n",
    "plt.xlim(0,2)\n",
    "plt.legend(fontsize=16)\n",
    "plt.xlabel('px',fontsize=16)\n",
    "plt.ylabel('py',fontsize=16)"
   ]
  },
  {
   "cell_type": "code",
   "execution_count": 22,
   "metadata": {
    "deletable": false,
    "editable": false
   },
   "outputs": [
    {
     "data": {
      "text/html": [
       "<p><strong><pre style='display: inline;'>q2p4</pre></strong> passed! 🎉</p>"
      ],
      "text/plain": [
       "q2p4 results: All test cases passed!"
      ]
     },
     "execution_count": 22,
     "metadata": {},
     "output_type": "execute_result"
    }
   ],
   "source": [
    "grader.check(\"q2p4\")"
   ]
  },
  {
   "cell_type": "markdown",
   "metadata": {
    "deletable": false,
    "editable": false
   },
   "source": [
    "## Submission\n",
    "\n",
    "Make sure you have run all cells in your notebook in order before running the cell below, so that all images/graphs appear in the output. The cell below will generate a zip file for you to submit. **Please save before exporting!**\n",
    "\n",
    "Make sure you submit the .zip file to Gradescope."
   ]
  },
  {
   "cell_type": "code",
   "execution_count": 23,
   "metadata": {
    "deletable": false,
    "editable": false
   },
   "outputs": [
    {
     "data": {
      "text/html": [
       "\n",
       "                    <p>\n",
       "                        Your submission has been exported. Click\n",
       "                        <a href=\"lab03B_2024_04_19T14_29_14_046008.zip\" download=\"lab03B_2024_04_19T14_29_14_046008.zip\" target=\"_blank\">here</a> to download\n",
       "                        the zip file.\n",
       "                    </p>\n",
       "                "
      ],
      "text/plain": [
       "<IPython.core.display.HTML object>"
      ]
     },
     "metadata": {},
     "output_type": "display_data"
    }
   ],
   "source": [
    "# Save your notebook first, then run this cell to export your submission.\n",
    "grader.export(pdf=False)"
   ]
  },
  {
   "cell_type": "markdown",
   "metadata": {},
   "source": [
    " "
   ]
  }
 ],
 "metadata": {
  "anaconda-cloud": {},
  "colab": {
   "provenance": []
  },
  "kernelspec": {
   "display_name": "Python 3 (ipykernel)",
   "language": "python",
   "name": "python3"
  },
  "language_info": {
   "codemirror_mode": {
    "name": "ipython",
    "version": 3
   },
   "file_extension": ".py",
   "mimetype": "text/x-python",
   "name": "python",
   "nbconvert_exporter": "python",
   "pygments_lexer": "ipython3",
   "version": "3.10.12"
  },
  "otter": {
   "OK_FORMAT": true,
   "assignment_name": "lab03B",
   "tests": {
    "q1p1": {
     "name": "q1p1",
     "points": null,
     "suites": [
      {
       "cases": [
        {
         "code": ">>> N > 15 and N < 30\nTrue",
         "hidden": false,
         "locked": false,
         "points": 0
        },
        {
         "code": ">>> get_hash(N, 2) == '6bc071ec71e51c704acd13cdc898fd93'\nTrue",
         "hidden": false,
         "locked": false,
         "points": 1
        }
       ],
       "scored": true,
       "setup": "",
       "teardown": "",
       "type": "doctest"
      }
     ]
    },
    "q1p2": {
     "name": "q1p2",
     "points": null,
     "suites": [
      {
       "cases": [
        {
         "code": ">>> Tf.shape == (23, 3) and np.all(Tf > -10) and np.all(Tf < 1200)\nTrue",
         "hidden": false,
         "locked": false,
         "points": 0
        },
        {
         "code": ">>> get_hash(Tf, 4) == '52850960631167ab9dc86c9538e055ab'\nTrue",
         "hidden": false,
         "locked": false,
         "points": 1
        }
       ],
       "scored": true,
       "setup": "",
       "teardown": "",
       "type": "doctest"
      }
     ]
    },
    "q1p3": {
     "name": "q1p3",
     "points": null,
     "suites": [
      {
       "cases": [
        {
         "code": ">>> Tmean0.shape == (3,) and np.all(Tmean0 > 0)\nTrue",
         "hidden": false,
         "locked": false,
         "points": 0
        },
        {
         "code": ">>> get_hash(Tmean0, 3) == 'c616f7c34a1ffebe45f40fa7ec05b73e'\nTrue",
         "hidden": false,
         "locked": false,
         "points": 1
        }
       ],
       "scored": true,
       "setup": "",
       "teardown": "",
       "type": "doctest"
      }
     ]
    },
    "q1p4": {
     "name": "q1p4",
     "points": null,
     "suites": [
      {
       "cases": [
        {
         "code": ">>> Tmean1.shape == (N,) and np.all(Tmean1 > 0)\nTrue",
         "hidden": false,
         "locked": false,
         "points": 0
        },
        {
         "code": ">>> get_hash(Tmean1, 4) == 'c7997717c0e9d48f6ec1970728c17772'\nTrue",
         "hidden": "tQUESTIONQUESTIONrue",
         "locked": false,
         "points": 1
        }
       ],
       "scored": true,
       "setup": "",
       "teardown": "",
       "type": "doctest"
      }
     ]
    },
    "q1p5": {
     "name": "q1p5",
     "points": null,
     "suites": [
      {
       "cases": [
        {
         "code": ">>> Tstd.shape == (3,) and np.all(Tstd > 0)\nTrue",
         "hidden": false,
         "locked": false,
         "points": 0
        },
        {
         "code": ">>> get_hash(Tstd, 3) == '7064fcdd970094099b562e0a6aa15ab8'\nTrue",
         "hidden": false,
         "locked": false,
         "points": 1
        }
       ],
       "scored": true,
       "setup": "",
       "teardown": "",
       "type": "doctest"
      }
     ]
    },
    "q2p1": {
     "name": "q2p1",
     "points": null,
     "suites": [
      {
       "cases": [
        {
         "code": ">>> dt > 0 and np.all(time >= 0) and np.all(time <= 2) and (K > 0)\nTrue",
         "hidden": false,
         "locked": false,
         "points": 0
        },
        {
         "code": ">>> get_hash(dt, 2) == '05dfa9e0579bf33063f6a4fce676f1fa' and get_hash(time, 3) == '7d731d2cf5aaed612a09b3249c2d5f24' and (get_hash(K, 3) == '7a8e1d9a305be336af766f37377c2639')\nTrue",
         "hidden": false,
         "locked": false,
         "points": 1
        }
       ],
       "scored": true,
       "setup": "",
       "teardown": "",
       "type": "doctest"
      }
     ]
    },
    "q2p2": {
     "name": "q2p2",
     "points": null,
     "suites": [
      {
       "cases": [
        {
         "code": ">>> px.dtype == float and py.dtype == float\nTrue",
         "hidden": false,
         "locked": false,
         "points": 0
        },
        {
         "code": ">>> vx.dtype == float and vy.dtype == float\nTrue",
         "hidden": false,
         "locked": false,
         "points": 0
        },
        {
         "code": ">>> rolling.dtype == bool and bounced.dtype == bool\nTrue",
         "hidden": false,
         "locked": false,
         "points": 0
        },
        {
         "code": ">>> get_hash(px.shape, 3) == get_hash(py.shape, 3) == get_hash(vx.shape, 3) == get_hash(vy.shape, 3) == '01b18d0cddc781117c77bfddeefe0d1f'\nTrue",
         "hidden": false,
         "locked": false,
         "points": 1
        }
       ],
       "scored": true,
       "setup": "",
       "teardown": "",
       "type": "doctest"
      }
     ]
    },
    "q2p3": {
     "name": "q2p3",
     "points": null,
     "suites": [
      {
       "cases": [
        {
         "code": ">>> get_hash(px[0], 1) == '30565a8911a6bb487e3745c0ea3c8224' and get_hash(py[0], 1) == 'd1bd83a33f1a841ab7fda32449746cc4' and (get_hash(vx[0], 1) == 'e4c2e8edac362acab7123654b9e73432') and (get_hash(vy[0], 1) == '55c82b601deae028c1c5e87fd820923d') and (get_hash(rolling[0]) == '30565a8911a6bb487e3745c0ea3c8224') and (get_hash(bounced[0], 1) == '30565a8911a6bb487e3745c0ea3c8224')\nTrue",
         "hidden": false,
         "locked": false,
         "points": 1
        }
       ],
       "scored": true,
       "setup": "",
       "teardown": "",
       "type": "doctest"
      }
     ]
    },
    "q2p4": {
     "name": "q2p4",
     "points": null,
     "suites": [
      {
       "cases": [
        {
         "code": ">>> sum(bounced) == 4 and sum(rolling) > 10 and (sum(rolling) < 20)\nTrue",
         "hidden": false,
         "locked": false,
         "points": 0
        },
        {
         "code": ">>> get_hash(np.where(rolling), 3) == '08795e875ce6e01b1500302618deeca5'\nTrue",
         "hidden": false,
         "locked": false,
         "points": 1
        },
        {
         "code": ">>> get_hash(np.where(bounced), 3) == 'a95bfccff9184e6923c978b3622025ec'\nTrue",
         "hidden": false,
         "locked": false,
         "points": 1
        },
        {
         "code": ">>> get_hash(py[::20], 3) == 'd78f8bff4e8ae0ad06d7b8e5ccfa304c'\nTrue",
         "hidden": false,
         "locked": false,
         "points": 1
        },
        {
         "code": ">>> get_hash(px[::20], 2) == 'daea30ca6ebeb50e5fd55dd3440111de'\nTrue",
         "hidden": false,
         "locked": false,
         "points": 1
        }
       ],
       "scored": true,
       "setup": "",
       "teardown": "",
       "type": "doctest"
      }
     ]
    }
   }
  }
 },
 "nbformat": 4,
 "nbformat_minor": 0
}
