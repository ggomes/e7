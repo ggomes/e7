{
 "cells": [
  {
   "cell_type": "code",
   "execution_count": 1,
   "metadata": {
    "deletable": false,
    "editable": false
   },
   "outputs": [],
   "source": [
    "# Initialize Otter\n",
    "import otter\n",
    "grader = otter.Notebook(\"lab02A.ipynb\")"
   ]
  },
  {
   "cell_type": "markdown",
   "metadata": {},
   "source": [
    "---\n",
    "\n",
    "<h3><center>E7 -  Introduction to Programming for Scientists and Engineers</center></h3>\n",
    "\n",
    "<h2><center>Lab session #02-A <br></center></h2>\n",
    "\n",
    "<h1><center>Collections<br></center></h1>\n",
    "\n",
    "---"
   ]
  },
  {
   "cell_type": "code",
   "execution_count": 2,
   "metadata": {
    "execution": {
     "iopub.execute_input": "2024-01-29T01:32:12.104903Z",
     "iopub.status.busy": "2024-01-29T01:32:12.104182Z",
     "iopub.status.idle": "2024-01-29T01:32:12.237256Z",
     "shell.execute_reply": "2024-01-29T01:32:12.236089Z"
    },
    "id": "PmQ0-tpz9u7g",
    "tags": []
   },
   "outputs": [],
   "source": [
    "from resources.hashutils import *\n",
    "import csv\n",
    "import math"
   ]
  },
  {
   "cell_type": "markdown",
   "metadata": {
    "deletable": false,
    "editable": false
   },
   "source": [
    "# Question 1: Are you available to meet?"
   ]
  },
  {
   "cell_type": "markdown",
   "metadata": {
    "deletable": false,
    "editable": false,
    "id": "m1IUkyzN9u7h"
   },
   "source": [
    "Write code that, for a given day and time, sets `result` to `True` if you are available to meet on that day and time, and `False` if you are not. Your calendar is provided in a dictionary called `calendar`. The keys in this dictionary are your work days: Monday through Friday. The value for each key is the interval of time when you are available to begin a meeting. So, for example, `calendar['Monday'] = [8,12]` means that you are available to start a one-hour meeting on Mondays any time between 8am and 12 noon (inclusive), and not outside of those hours. \n",
    "\n",
    "The cell below has some starter code for you to work with. Once you are satisfied with your code, you can copy-paste it into the autograded function called `available` in the following cell.\n",
    "\n",
    "**Note**: \n",
    "+ We are using a 24-hour clock format, so 15 corresponds to 3 p.m.\n",
    "+ Your code should return `False` if the provided key is not in the `calendar` dictionary. \n",
    "\n",
    "**Hint**: You can check whether the provided day is a key in the dictionary with `calendar.keys()` and the membership operator `in`."
   ]
  },
  {
   "cell_type": "code",
   "execution_count": 3,
   "metadata": {
    "execution": {
     "iopub.execute_input": "2024-01-29T01:32:12.246591Z",
     "iopub.status.busy": "2024-01-29T01:32:12.245309Z",
     "iopub.status.idle": "2024-01-29T01:32:12.255576Z",
     "shell.execute_reply": "2024-01-29T01:32:12.254389Z"
    },
    "tags": [
     "otter_assign_solution_cell"
    ]
   },
   "outputs": [],
   "source": [
    "calendar = {\n",
    "    \"Monday\":[8,12],\n",
    "    \"Tuesday\":[10,12],\n",
    "    \"Wednesday\":[13,15],\n",
    "    \"Thursday\":[13,15], \n",
    "    \"Friday\":[8,15]\n",
    "}\n",
    "\n",
    "day = \"Monday\"\n",
    "time = 12\n",
    "\n",
    "result = ..."
   ]
  },
  {
   "cell_type": "markdown",
   "metadata": {
    "deletable": false,
    "editable": false
   },
   "source": [
    "#### Autograded cell:"
   ]
  },
  {
   "cell_type": "code",
   "execution_count": 4,
   "metadata": {
    "execution": {
     "iopub.execute_input": "2024-01-29T01:32:12.262205Z",
     "iopub.status.busy": "2024-01-29T01:32:12.261519Z",
     "iopub.status.idle": "2024-01-29T01:32:12.280299Z",
     "shell.execute_reply": "2024-01-29T01:32:12.279296Z"
    },
    "tags": [
     "otter_assign_solution_cell"
    ]
   },
   "outputs": [],
   "source": [
    "def available(day, time):\n",
    "    result = (day in calendar.keys()) and time>=calendar[day][0] and time<=calendar[day][1]\n",
    "    return result"
   ]
  },
  {
   "cell_type": "code",
   "execution_count": 5,
   "metadata": {
    "deletable": false,
    "editable": false
   },
   "outputs": [
    {
     "data": {
      "text/html": [
       "<p><strong><pre style='display: inline;'>q1</pre></strong> passed! 💯</p>"
      ],
      "text/plain": [
       "q1 results: All test cases passed!"
      ]
     },
     "execution_count": 5,
     "metadata": {},
     "output_type": "execute_result"
    }
   ],
   "source": [
    "grader.check(\"q1\")"
   ]
  },
  {
   "cell_type": "markdown",
   "metadata": {},
   "source": [
    "# Question 2: Counting votes"
   ]
  },
  {
   "cell_type": "markdown",
   "metadata": {},
   "source": [
    "The next cell loads the two lists that we will work with in this question (we will learn more about loading data from csv files later in the course). The two lists: `voters` and `preferred_candidates`, respectively contain the names of the voters from a recent election and the candidates that they voted for (imagine that we are privy to such private information). The two lists line up so that\n",
    "\n",
    "`voters[i]` voted for `preferred_candidates[i]`\n",
    "\n",
    "for every index `i`. "
   ]
  },
  {
   "cell_type": "code",
   "execution_count": 6,
   "metadata": {
    "execution": {
     "iopub.execute_input": "2024-01-29T01:32:12.370705Z",
     "iopub.status.busy": "2024-01-29T01:32:12.370372Z",
     "iopub.status.idle": "2024-01-29T01:32:12.378850Z",
     "shell.execute_reply": "2024-01-29T01:32:12.378054Z"
    }
   },
   "outputs": [],
   "source": [
    "# RUN THIS CELL AS-IS. DO NOT MODIFY.\n",
    "with open('voters.csv', 'r') as file:\n",
    "   voters = list(csv.reader(file))\n",
    "voters = voters[0]     \n",
    "with open('preferred_candidates.csv', 'r') as file:\n",
    "   preferred_candidates = list(csv.reader(file))\n",
    "preferred_candidates = preferred_candidates[0] "
   ]
  },
  {
   "cell_type": "markdown",
   "metadata": {
    "deletable": false,
    "editable": false
   },
   "source": [
    "## Question 2.1\n",
    "\n",
    "How many votes were collected? \n",
    "\n",
    "**Hint**: [len](https://docs.python.org/3/library/functions.html#len)"
   ]
  },
  {
   "cell_type": "code",
   "execution_count": 7,
   "metadata": {
    "execution": {
     "iopub.execute_input": "2024-01-29T01:32:12.383133Z",
     "iopub.status.busy": "2024-01-29T01:32:12.382798Z",
     "iopub.status.idle": "2024-01-29T01:32:12.389337Z",
     "shell.execute_reply": "2024-01-29T01:32:12.388350Z"
    },
    "tags": [
     "otter_assign_solution_cell"
    ]
   },
   "outputs": [],
   "source": [
    "num_votes_collected = len(voters)"
   ]
  },
  {
   "cell_type": "code",
   "execution_count": 8,
   "metadata": {
    "deletable": false,
    "editable": false
   },
   "outputs": [
    {
     "data": {
      "text/html": [
       "<p><strong><pre style='display: inline;'>q2p1</pre></strong> passed! 🙌</p>"
      ],
      "text/plain": [
       "q2p1 results: All test cases passed!"
      ]
     },
     "execution_count": 8,
     "metadata": {},
     "output_type": "execute_result"
    }
   ],
   "source": [
    "grader.check(\"q2p1\")"
   ]
  },
  {
   "cell_type": "markdown",
   "metadata": {
    "deletable": false,
    "editable": false
   },
   "source": [
    "## Question 2.2\n",
    "\n",
    "Who is Liv Goel's preferred candidate?\n",
    "\n",
    "**Hint**: \n",
    "+ You should first find Liv Goel's index in the list of voters, and then use this to find their preferred candidate. \n",
    "+ The [index](https://docs.python.org/3/tutorial/datastructures.html) method of Python lists."
   ]
  },
  {
   "cell_type": "code",
   "execution_count": 9,
   "metadata": {
    "execution": {
     "iopub.execute_input": "2024-01-29T01:32:12.414713Z",
     "iopub.status.busy": "2024-01-29T01:32:12.414369Z",
     "iopub.status.idle": "2024-01-29T01:32:12.421963Z",
     "shell.execute_reply": "2024-01-29T01:32:12.420657Z"
    },
    "tags": [
     "otter_assign_solution_cell"
    ]
   },
   "outputs": [],
   "source": [
    "index_Liv_Goel = voters.index(\"Liv Goel\")\n",
    "Liv_Goel_vote = preferred_candidates[index_Liv_Goel]"
   ]
  },
  {
   "cell_type": "code",
   "execution_count": 10,
   "metadata": {
    "deletable": false,
    "editable": false
   },
   "outputs": [
    {
     "data": {
      "text/html": [
       "<p><strong><pre style='display: inline;'>q2p2</pre></strong> passed! 🙌</p>"
      ],
      "text/plain": [
       "q2p2 results: All test cases passed!"
      ]
     },
     "execution_count": 10,
     "metadata": {},
     "output_type": "execute_result"
    }
   ],
   "source": [
    "grader.check(\"q2p2\")"
   ]
  },
  {
   "cell_type": "markdown",
   "metadata": {
    "deletable": false,
    "editable": false
   },
   "source": [
    "## Question 2.3\n",
    "\n",
    "How many *unique* voter names were there? How many unique candidates were there?\n",
    "\n",
    "**Hint**: \n",
    "+ You can use a Python [set](https://docs.python.org/3/tutorial/datastructures.html#sets) to obtain the collection of unique voters, and [len](https://docs.python.org/3/library/functions.html#len) to find the number of items in a set. "
   ]
  },
  {
   "cell_type": "code",
   "execution_count": 11,
   "metadata": {
    "execution": {
     "iopub.execute_input": "2024-01-29T01:32:12.447259Z",
     "iopub.status.busy": "2024-01-29T01:32:12.446866Z",
     "iopub.status.idle": "2024-01-29T01:32:12.454180Z",
     "shell.execute_reply": "2024-01-29T01:32:12.453101Z"
    },
    "tags": [
     "otter_assign_solution_cell"
    ]
   },
   "outputs": [],
   "source": [
    "num_unique_voters = len(set(voters))\n",
    "num_unique_candidates = len(set(preferred_candidates))"
   ]
  },
  {
   "cell_type": "code",
   "execution_count": 12,
   "metadata": {
    "deletable": false,
    "editable": false
   },
   "outputs": [
    {
     "data": {
      "text/html": [
       "<p><strong><pre style='display: inline;'>q2p3</pre></strong> passed! 🙌</p>"
      ],
      "text/plain": [
       "q2p3 results: All test cases passed!"
      ]
     },
     "execution_count": 12,
     "metadata": {},
     "output_type": "execute_result"
    }
   ],
   "source": [
    "grader.check(\"q2p3\")"
   ]
  },
  {
   "cell_type": "markdown",
   "metadata": {},
   "source": [
    "It seems from this analysis that there was at least one person who voted more than once. In the next lab we will figure out who that was, as well as the winner of the election."
   ]
  },
  {
   "cell_type": "markdown",
   "metadata": {},
   "source": [
    "# Question 3: List slicing"
   ]
  },
  {
   "cell_type": "markdown",
   "metadata": {},
   "source": [
    "Next we will practice the technique of *slicing* for extracting sub-lists from lists. The cell below loads a list called `A`. It consists of 1000 randomly generated numbers between 0 and 1. "
   ]
  },
  {
   "cell_type": "code",
   "execution_count": 13,
   "metadata": {
    "execution": {
     "iopub.execute_input": "2024-01-29T01:32:12.489752Z",
     "iopub.status.busy": "2024-01-29T01:32:12.489347Z",
     "iopub.status.idle": "2024-01-29T01:32:12.495390Z",
     "shell.execute_reply": "2024-01-29T01:32:12.494131Z"
    }
   },
   "outputs": [],
   "source": [
    "# RUN THIS CELL AS-IS. DO NOT MODIFY.\n",
    "with open('random_numbers.csv', 'r') as file:\n",
    "   A = list(csv.reader(file,quoting = csv.QUOTE_NONNUMERIC))\n",
    "A = A[0]"
   ]
  },
  {
   "cell_type": "markdown",
   "metadata": {
    "deletable": false,
    "editable": false
   },
   "source": [
    "## Question 3.1\n",
    "\n",
    "Find the sum of the first 20 entries of `A`.\n",
    "\n",
    "**Hint**: \n",
    "+ Python's builtin [sum](https://docs.python.org/3/library/functions.html#sum)."
   ]
  },
  {
   "cell_type": "code",
   "execution_count": 14,
   "metadata": {
    "execution": {
     "iopub.execute_input": "2024-01-29T01:32:12.499621Z",
     "iopub.status.busy": "2024-01-29T01:32:12.499284Z",
     "iopub.status.idle": "2024-01-29T01:32:12.505463Z",
     "shell.execute_reply": "2024-01-29T01:32:12.504501Z"
    },
    "tags": [
     "otter_assign_solution_cell"
    ]
   },
   "outputs": [],
   "source": [
    "sol1 = sum(A[:20])"
   ]
  },
  {
   "cell_type": "code",
   "execution_count": 15,
   "metadata": {
    "deletable": false,
    "editable": false
   },
   "outputs": [
    {
     "data": {
      "text/html": [
       "<p><strong><pre style='display: inline;'>q3p1</pre></strong> passed! ✨</p>"
      ],
      "text/plain": [
       "q3p1 results: All test cases passed!"
      ]
     },
     "execution_count": 15,
     "metadata": {},
     "output_type": "execute_result"
    }
   ],
   "source": [
    "grader.check(\"q3p1\")"
   ]
  },
  {
   "cell_type": "markdown",
   "metadata": {
    "deletable": false,
    "editable": false
   },
   "source": [
    "## Question 3.2\n",
    "\n",
    "Find the maximum of the last 20 entries in `A`.\n",
    "\n",
    "**Hint** \n",
    "+ Python's builtin [max()](https://docs.python.org/3/library/functions.html#max)"
   ]
  },
  {
   "cell_type": "code",
   "execution_count": 16,
   "metadata": {
    "execution": {
     "iopub.execute_input": "2024-01-29T01:32:12.530721Z",
     "iopub.status.busy": "2024-01-29T01:32:12.530400Z",
     "iopub.status.idle": "2024-01-29T01:32:12.536688Z",
     "shell.execute_reply": "2024-01-29T01:32:12.535682Z"
    },
    "tags": [
     "otter_assign_solution_cell"
    ]
   },
   "outputs": [],
   "source": [
    "sol2 = max(A[-20:])"
   ]
  },
  {
   "cell_type": "code",
   "execution_count": 17,
   "metadata": {
    "deletable": false,
    "editable": false
   },
   "outputs": [
    {
     "data": {
      "text/html": [
       "<p><strong><pre style='display: inline;'>q3p2</pre></strong> passed! 🚀</p>"
      ],
      "text/plain": [
       "q3p2 results: All test cases passed!"
      ]
     },
     "execution_count": 17,
     "metadata": {},
     "output_type": "execute_result"
    }
   ],
   "source": [
    "grader.check(\"q3p2\")"
   ]
  },
  {
   "cell_type": "markdown",
   "metadata": {
    "deletable": false,
    "editable": false
   },
   "source": [
    "## Question 3.3\n",
    "\n",
    "Create a list with every 120th entry in `A`. That is, the list should include `A[0]`, then skip 119 values, then include `A[120]`, then skip 119 values, and so on. "
   ]
  },
  {
   "cell_type": "code",
   "execution_count": 18,
   "metadata": {
    "execution": {
     "iopub.execute_input": "2024-01-29T01:32:12.561115Z",
     "iopub.status.busy": "2024-01-29T01:32:12.560616Z",
     "iopub.status.idle": "2024-01-29T01:32:12.567183Z",
     "shell.execute_reply": "2024-01-29T01:32:12.565899Z"
    },
    "tags": [
     "otter_assign_solution_cell"
    ]
   },
   "outputs": [],
   "source": [
    "sol3 = A[::120]"
   ]
  },
  {
   "cell_type": "code",
   "execution_count": 19,
   "metadata": {
    "deletable": false,
    "editable": false
   },
   "outputs": [
    {
     "data": {
      "text/html": [
       "<p><strong><pre style='display: inline;'>q3p3</pre></strong> passed! 🚀</p>"
      ],
      "text/plain": [
       "q3p3 results: All test cases passed!"
      ]
     },
     "execution_count": 19,
     "metadata": {},
     "output_type": "execute_result"
    }
   ],
   "source": [
    "grader.check(\"q3p3\")"
   ]
  },
  {
   "cell_type": "markdown",
   "metadata": {
    "deletable": false,
    "editable": false
   },
   "source": [
    "## Question 3.4\n",
    "\n",
    "Find the absolute value of the difference between the sums of the even and odd-indexed entries of `A`.\n",
    "\n",
    "That is:\n",
    "\n",
    "$$ \\bigg| (A[0]+A[2]+...+A[998]) - (A[1]+A[3]+...+A[999])  \\bigg| $$\n",
    "\n",
    "**Hint**:\n",
    "+ Python's builtin [abs()](https://docs.python.org/3/library/functions.html#abs)\n",
    "\n",
    "#### Autograded cell:"
   ]
  },
  {
   "cell_type": "code",
   "execution_count": 20,
   "metadata": {
    "execution": {
     "iopub.execute_input": "2024-01-29T01:32:12.593128Z",
     "iopub.status.busy": "2024-01-29T01:32:12.592720Z",
     "iopub.status.idle": "2024-01-29T01:32:12.600260Z",
     "shell.execute_reply": "2024-01-29T01:32:12.599100Z"
    },
    "tags": [
     "otter_assign_solution_cell"
    ]
   },
   "outputs": [],
   "source": [
    "sumEven = sum(A[::2])\n",
    "sumOdd = sum(A[1::2])\n",
    "absdiff = abs(sumEven-sumOdd)"
   ]
  },
  {
   "cell_type": "code",
   "execution_count": 21,
   "metadata": {
    "deletable": false,
    "editable": false
   },
   "outputs": [
    {
     "data": {
      "text/html": [
       "<p><strong><pre style='display: inline;'>q3p4</pre></strong> passed! 🌟</p>"
      ],
      "text/plain": [
       "q3p4 results: All test cases passed!"
      ]
     },
     "execution_count": 21,
     "metadata": {},
     "output_type": "execute_result"
    }
   ],
   "source": [
    "grader.check(\"q3p4\")"
   ]
  },
  {
   "cell_type": "markdown",
   "metadata": {
    "deletable": false,
    "editable": false
   },
   "source": [
    "## Submission\n",
    "\n",
    "Make sure you have run all cells in your notebook in order before running the cell below, so that all images/graphs appear in the output. The cell below will generate a zip file for you to submit. **Please save before exporting!**\n",
    "\n",
    "Make sure you submit the .zip file to Gradescope."
   ]
  },
  {
   "cell_type": "code",
   "execution_count": 22,
   "metadata": {
    "deletable": false,
    "editable": false
   },
   "outputs": [
    {
     "data": {
      "text/html": [
       "\n",
       "                    <p>\n",
       "                        Your submission has been exported. Click\n",
       "                        <a href=\"lab02A_2024_04_19T14_31_57_811914.zip\" download=\"lab02A_2024_04_19T14_31_57_811914.zip\" target=\"_blank\">here</a> to download\n",
       "                        the zip file.\n",
       "                    </p>\n",
       "                "
      ],
      "text/plain": [
       "<IPython.core.display.HTML object>"
      ]
     },
     "metadata": {},
     "output_type": "display_data"
    }
   ],
   "source": [
    "# Save your notebook first, then run this cell to export your submission.\n",
    "grader.export(pdf=False)"
   ]
  },
  {
   "cell_type": "markdown",
   "metadata": {},
   "source": [
    " "
   ]
  }
 ],
 "metadata": {
  "anaconda-cloud": {},
  "colab": {
   "provenance": []
  },
  "kernelspec": {
   "display_name": "Python 3 (ipykernel)",
   "language": "python",
   "name": "python3"
  },
  "language_info": {
   "codemirror_mode": {
    "name": "ipython",
    "version": 3
   },
   "file_extension": ".py",
   "mimetype": "text/x-python",
   "name": "python",
   "nbconvert_exporter": "python",
   "pygments_lexer": "ipython3",
   "version": "3.10.12"
  },
  "otter": {
   "OK_FORMAT": true,
   "assignment_name": "lab02A",
   "tests": {
    "q1": {
     "name": "q1",
     "points": null,
     "suites": [
      {
       "cases": [
        {
         "code": ">>> available('Monday', 9.5) and (not available('Monday', 7))\nTrue",
         "hidden": false,
         "locked": false,
         "points": 1
        },
        {
         "code": ">>> not available('Funday', 13)\nTrue",
         "hidden": false,
         "locked": false,
         "points": 1
        },
        {
         "code": ">>> available('Friday', 10) and (not available('Wednesday', 16))\nTrue",
         "hidden": false,
         "locked": false,
         "points": 1
        }
       ],
       "scored": true,
       "setup": "",
       "teardown": "",
       "type": "doctest"
      }
     ]
    },
    "q2p1": {
     "name": "q2p1",
     "points": null,
     "suites": [
      {
       "cases": [
        {
         "code": ">>> num_votes_collected > 3200 and num_votes_collected < 3300\nTrue",
         "hidden": false,
         "locked": false,
         "points": 0
        },
        {
         "code": ">>> get_hash(num_votes_collected, 4) == '6a0162149a978582e5c6ce2b044c74ea'\nFalse",
         "hidden": false,
         "locked": false,
         "points": 1
        }
       ],
       "scored": true,
       "setup": "",
       "teardown": "",
       "type": "doctest"
      }
     ]
    },
    "q2p2": {
     "name": "q2p2",
     "points": null,
     "suites": [
      {
       "cases": [
        {
         "code": ">>> len(Liv_Goel_vote) == 14\nTrue",
         "hidden": false,
         "locked": false,
         "points": 0
        },
        {
         "code": ">>> get_hash(Liv_Goel_vote) == '7054f8890aa9e7895e5ff73cf3191b3e'\nTrue",
         "hidden": false,
         "locked": false,
         "points": 1
        }
       ],
       "scored": true,
       "setup": "",
       "teardown": "",
       "type": "doctest"
      }
     ]
    },
    "q2p3": {
     "name": "q2p3",
     "points": null,
     "suites": [
      {
       "cases": [
        {
         "code": ">>> num_unique_voters > 3100 and num_unique_voters < 3200\nTrue",
         "hidden": false,
         "locked": false,
         "points": 0
        },
        {
         "code": ">>> num_unique_candidates > 0 and num_unique_candidates < 100\nTrue",
         "hidden": false,
         "locked": false,
         "points": 0
        },
        {
         "code": ">>> get_hash(num_unique_voters) == '721e7285b298cde5b3d0c973ed8d7b63' and get_hash(num_unique_candidates) == '8f14e45fceea167a5a36dedd4bea2543'\nTrue",
         "hidden": false,
         "locked": false,
         "points": 1
        }
       ],
       "scored": true,
       "setup": "",
       "teardown": "",
       "type": "doctest"
      }
     ]
    },
    "q3p1": {
     "name": "q3p1",
     "points": null,
     "suites": [
      {
       "cases": [
        {
         "code": ">>> sol1 > 9 and sol1 < 10\nTrue",
         "hidden": false,
         "locked": false,
         "points": 0
        },
        {
         "code": ">>> get_hash(sol1, 4) == 'e3a71a2703aa3ce96a7f57c534e39e4f'\nTrue",
         "hidden": false,
         "locked": false,
         "points": 1
        }
       ],
       "scored": true,
       "setup": "",
       "teardown": "",
       "type": "doctest"
      }
     ]
    },
    "q3p2": {
     "name": "q3p2",
     "points": null,
     "suites": [
      {
       "cases": [
        {
         "code": ">>> sol2 > 0 and sol2 < 1\nTrue",
         "hidden": false,
         "locked": false,
         "points": 0
        },
        {
         "code": ">>> get_hash(sol2, 4) == 'f470b40b7d4a565c1d08911e0f6bd42e'\nTrue",
         "hidden": false,
         "locked": false,
         "points": 1
        }
       ],
       "scored": true,
       "setup": "",
       "teardown": "",
       "type": "doctest"
      }
     ]
    },
    "q3p3": {
     "name": "q3p3",
     "points": null,
     "suites": [
      {
       "cases": [
        {
         "code": ">>> len(sol3) == 9\nTrue",
         "hidden": false,
         "locked": false,
         "points": 0
        },
        {
         "code": ">>> get_hash(sol3, 4) == '6963dc8970ed9023c081f891298627e4'\nTrue",
         "hidden": false,
         "locked": false,
         "points": 1
        }
       ],
       "scored": true,
       "setup": "",
       "teardown": "",
       "type": "doctest"
      }
     ]
    },
    "q3p4": {
     "name": "q3p4",
     "points": null,
     "suites": [
      {
       "cases": [
        {
         "code": ">>> absdiff > 8 and absdiff < 9\nTrue",
         "hidden": false,
         "locked": false,
         "points": 0
        },
        {
         "code": ">>> get_hash(absdiff, 4) == 'a380656244f4cdbaec8adf84a2881719'\nTrue",
         "hidden": false,
         "locked": false,
         "points": 1
        }
       ],
       "scored": true,
       "setup": "",
       "teardown": "",
       "type": "doctest"
      }
     ]
    }
   }
  }
 },
 "nbformat": 4,
 "nbformat_minor": 0
}
