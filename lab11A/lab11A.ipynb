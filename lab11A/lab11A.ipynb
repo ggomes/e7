{
 "cells": [
  {
   "cell_type": "code",
   "execution_count": null,
   "metadata": {
    "deletable": false,
    "editable": false
   },
   "outputs": [],
   "source": [
    "# Initialize Otter\n",
    "import otter\n",
    "grader = otter.Notebook(\"lab11A.ipynb\")"
   ]
  },
  {
   "cell_type": "markdown",
   "metadata": {},
   "source": [
    "---\n",
    "\n",
    "<h3><center>E7 -  Introduction to Programming for Scientists and Engineers</center></h3>\n",
    "\n",
    "<h2><center>Lab session #11-A <br></center></h2>\n",
    "\n",
    "<h1><center>Numerical methods for scalar initial value problems<br></center></h1>\n",
    "\n",
    "---"
   ]
  },
  {
   "cell_type": "code",
   "execution_count": null,
   "metadata": {
    "execution": {
     "iopub.execute_input": "2024-04-15T04:55:29.312751Z",
     "iopub.status.busy": "2024-04-15T04:55:29.312344Z",
     "iopub.status.idle": "2024-04-15T04:55:29.597232Z",
     "shell.execute_reply": "2024-04-15T04:55:29.596766Z"
    },
    "id": "PmQ0-tpz9u7g",
    "tags": []
   },
   "outputs": [],
   "source": [
    "from resources.hashutils import *\n",
    "import numpy as np\n",
    "import matplotlib.pyplot as plt"
   ]
  },
  {
   "cell_type": "markdown",
   "metadata": {},
   "source": [
    "# Question 1: Exponential cooling\n",
    "\n",
    "Newton's law of cooling states that \"The rate of heat loss of a body is directly proportional to the difference in the temperatures between the body and its environment.\" [[Wikipedia](https://en.wikipedia.org/wiki/Newton%27s_law_of_cooling)]. Assuming that the \"rate of heat loss\" is proportional to the rate of temperature loss, we immediately obtain a first order ODE for the temperature of the body:\n",
    "\n",
    "\\begin{equation*}\n",
    "T'(t) = -\\alpha(T(t)-T_a)\n",
    "\\end{equation*} \n",
    "\n",
    "+ $T$ is the temperature of the body, measured in degrees centrigrade.\n",
    "+ $t$ is time, measured in seconds.\n",
    "+ $T_a$ is the ambient temperature, measured in degrees centigrade.\n",
    "+ $\\alpha$ is a positive constant related to various physical quantities: the heat capacitance of the body, the heat transfer coefficient between the body and the environment, and the total exposed area of the body. $\\alpha$ has units of 1/seconds.\n",
    "\n",
    "This ODE is similar to one that was shown in lecture: $y'+y=0$, whose solutions are of the form $y(t)=Ce^{-t}$. Fixing the initial condition to be $y(0)=y_0$, we found a unique solution to the initial value problem: $y(t)=y_0 \\:e^{-t}$ for all $t\\geq 0$.\n",
    "\n",
    "We can similarly find a solution to the cooling law with initial condition $T(0)=T_0$:\n",
    "\n",
    "\\begin{equation*}\n",
    "T(t) = T_a + (T_0-T_a)e^{-\\alpha t}\\quad \\forall\\; t\\geq 0\n",
    "\\end{equation*}\n",
    "\n",
    "This solution is stated here without proof, since techniques for deriving this formula are outside of the scope of this class. A plot of $T(t)$ with $\\alpha=0.001$ and $T_a=22$ is shown below.\n",
    "\n",
    "<img src=\"resources/expdecay.png\" width=600>\n",
    "\n",
    "Having found an exact solution to the initial value problem, we would typically not bother to construct a numerical solution. We will nevertheless do so here in order to test our numerical methods on a simple ODE.\n",
    "\n",
    "By the way, the name \"cooling law\" is a bit confusing, since the formula also applies when the ambient temperature $T_a$ is *higher* than $T(t)$, and hence the body is heating up. \n"
   ]
  },
  {
   "cell_type": "markdown",
   "metadata": {
    "deletable": false,
    "editable": false
   },
   "source": [
    "## Question 1.1: State equation\n",
    "\n",
    "To construct our numerical method, we will need a function that returns the right-hand side of the cooling law, given the values of $\\alpha$, $T_a$, and $T$:\n",
    "\n",
    "\\begin{equation*}\n",
    "T' = f(T) = -\\alpha(T-T_a)\n",
    "\\end{equation*}\n",
    "\n",
    "Write a function called `cooling_law(T)` that takes a temperature `T` and returns $-\\alpha(T-T_a)$. \n",
    "\n",
    "`alpha=0.001` and `Ta=22` should be defined as global constants, and should not be passed as inputs to the function. "
   ]
  },
  {
   "cell_type": "code",
   "execution_count": null,
   "metadata": {
    "execution": {
     "iopub.execute_input": "2024-04-15T04:55:29.599486Z",
     "iopub.status.busy": "2024-04-15T04:55:29.599311Z",
     "iopub.status.idle": "2024-04-15T04:55:29.604315Z",
     "shell.execute_reply": "2024-04-15T04:55:29.603892Z"
    },
    "tags": []
   },
   "outputs": [],
   "source": [
    "alpha = ...\n",
    "Ta = ...\n",
    "def cooling_law(T):\n",
    "    return ..."
   ]
  },
  {
   "cell_type": "code",
   "execution_count": null,
   "metadata": {
    "deletable": false,
    "editable": false
   },
   "outputs": [],
   "source": [
    "grader.check(\"q1p1\")"
   ]
  },
  {
   "cell_type": "markdown",
   "metadata": {
    "deletable": false,
    "editable": false
   },
   "source": [
    "## Question 1.2: Time grid\n",
    "\n",
    "Create a function called `get_time_grid(ts,h)` that take the total simulation time `ts` (in seconds) and the time step `h` (in seconds), and returns `tvec` and `K` where\n",
    "+ `tvec` is a NumPy array of time instants ranging from 0 to `ts` (excluded), with a step size of `h`.\n",
    "+ `K` is the number of eleements in `tvec`."
   ]
  },
  {
   "cell_type": "code",
   "execution_count": null,
   "metadata": {
    "execution": {
     "iopub.execute_input": "2024-04-15T04:55:29.635934Z",
     "iopub.status.busy": "2024-04-15T04:55:29.635777Z",
     "iopub.status.idle": "2024-04-15T04:55:29.638767Z",
     "shell.execute_reply": "2024-04-15T04:55:29.638459Z"
    },
    "tags": []
   },
   "outputs": [],
   "source": [
    "def get_time_grid(ts, h):\n",
    "    tvec = ...\n",
    "    K = ...\n",
    "    return tvec, K"
   ]
  },
  {
   "cell_type": "code",
   "execution_count": null,
   "metadata": {
    "execution": {
     "iopub.execute_input": "2024-04-15T04:55:29.640475Z",
     "iopub.status.busy": "2024-04-15T04:55:29.640277Z",
     "iopub.status.idle": "2024-04-15T04:55:29.642381Z",
     "shell.execute_reply": "2024-04-15T04:55:29.642094Z"
    },
    "tags": []
   },
   "outputs": [],
   "source": [
    "# Test your code\n",
    "ts = 3600\n",
    "h = 60\n",
    "tvec, K = get_time_grid(ts, h)"
   ]
  },
  {
   "cell_type": "code",
   "execution_count": null,
   "metadata": {
    "deletable": false,
    "editable": false
   },
   "outputs": [],
   "source": [
    "grader.check(\"q1p2\")"
   ]
  },
  {
   "cell_type": "markdown",
   "metadata": {
    "deletable": false,
    "editable": false
   },
   "source": [
    "## Question 1.3: Exact solution\n",
    "\n",
    "Write a function called `evaluate_sol(T0,t)` that takes an initial condition `T0` and a scalar or NumPy array `t` of time values, and evaluates the exact solution of the cooling IVP, given in the introduction. The return value should by a 1D NumPy array of the same length as `t`. "
   ]
  },
  {
   "cell_type": "code",
   "execution_count": null,
   "metadata": {
    "execution": {
     "iopub.execute_input": "2024-04-15T04:55:29.653124Z",
     "iopub.status.busy": "2024-04-15T04:55:29.652994Z",
     "iopub.status.idle": "2024-04-15T04:55:29.655888Z",
     "shell.execute_reply": "2024-04-15T04:55:29.655600Z"
    },
    "tags": []
   },
   "outputs": [],
   "source": [
    "def evaluate_sol(T0,t):\n",
    "    return ..."
   ]
  },
  {
   "cell_type": "code",
   "execution_count": null,
   "metadata": {
    "deletable": false,
    "editable": false
   },
   "outputs": [],
   "source": [
    "grader.check(\"q1p3\")"
   ]
  },
  {
   "cell_type": "markdown",
   "metadata": {
    "deletable": false,
    "editable": false
   },
   "source": [
    "## Question 1.4: Euler's method\n",
    "\n",
    "As stated in class, Euler's method constructs a solution to the initial value problem by iterating the the following formula:\n",
    "\n",
    "\\begin{equation*}\n",
    "\\hat{T}[k+1] = \\hat{T}[k] + h\\: f(\\hat{T}[k])\n",
    "\\end{equation*}\n",
    "\n",
    "The iteration begins with $\\hat{T}[0]=T_0$, the given initial condition, and proceeds until $k=K-1$, i.e. filling an array of size $K$. \n",
    "\n",
    "Write a function `my_euler(ts,h,T0)` that carries out this computation. The function takes these input arguments:\n",
    "+ `ts`, `h` : The final time and time step, as described in part 1.2\n",
    "+ `T0` : The initial temperature.\n",
    "\n",
    "It returns `tvec` and `That`, where `tvec` is the time grid (a 1D array), and `That` is the numerical solution (a 1D array)."
   ]
  },
  {
   "cell_type": "code",
   "execution_count": null,
   "metadata": {
    "execution": {
     "iopub.execute_input": "2024-04-15T04:55:29.666328Z",
     "iopub.status.busy": "2024-04-15T04:55:29.666200Z",
     "iopub.status.idle": "2024-04-15T04:55:29.670096Z",
     "shell.execute_reply": "2024-04-15T04:55:29.669778Z"
    },
    "tags": []
   },
   "outputs": [],
   "source": [
    "def my_euler(ts,h,T0):\n",
    "\n",
    "    # Create the time grid\n",
    "    tvec, K = ...\n",
    "\n",
    "    # Initialze T to an empty 1D NumPy array with K elements\n",
    "    That = ...\n",
    "\n",
    "    # Set the zeroth element of T to the initial condition\n",
    "    ...\n",
    "\n",
    "    # Iterate through the rest of T, setting values according to Euler's method\n",
    "    for k in ...:\n",
    "        ...\n",
    "\n",
    "    return tvec, That"
   ]
  },
  {
   "cell_type": "code",
   "execution_count": null,
   "metadata": {
    "deletable": false,
    "editable": false
   },
   "outputs": [],
   "source": [
    "grader.check(\"q1p4\")"
   ]
  },
  {
   "cell_type": "markdown",
   "metadata": {
    "deletable": false,
    "editable": false
   },
   "source": [
    "## Question 1.5: Generic error calculation\n",
    "\n",
    "We define the total error incurred by a numerical method as\n",
    "\\begin{equation*}\n",
    "e = \\frac{1}{K}\\sum_{k=0}^{K-1} \\Big| \\hat{y}[k]-y[k] \\Big| \n",
    "\\end{equation*}\n",
    "\n",
    "Here, $\\hat{y}[k]$ is the solution of an initial value problem provided by the numerical method, and $y[k]$ is its exact solution. To be precise, $y[k]$ is the value of the mathematical function $y(t)$ at time $t=kh$. That is, \n",
    "\n",
    "\\begin{equation*}\n",
    "y[k] = y(kh)\n",
    "\\end{equation*}\n",
    "\n",
    "(Some people would call this an \"abuse of notation\".)\n",
    "\n",
    "Write a function called `compute_error(yhat,ysol)` that takes:\n",
    "\n",
    "+ `yhat` ... A numerical solution (a 1D NumPy array).\n",
    "+ `ysol` ... The exact solution evaluated on the same time grid as `yhat` (a 1D NumPy array).\n",
    "\n",
    "The function returns the value of the error between `yhat` and `ysol`. Try to write it as with a single line of code using NumPy aggregation methods."
   ]
  },
  {
   "cell_type": "code",
   "execution_count": null,
   "metadata": {
    "execution": {
     "iopub.execute_input": "2024-04-15T04:55:29.685206Z",
     "iopub.status.busy": "2024-04-15T04:55:29.685025Z",
     "iopub.status.idle": "2024-04-15T04:55:29.687835Z",
     "shell.execute_reply": "2024-04-15T04:55:29.687541Z"
    },
    "tags": []
   },
   "outputs": [],
   "source": [
    "def compute_error(yhat,ysol):\n",
    "    return ..."
   ]
  },
  {
   "cell_type": "code",
   "execution_count": null,
   "metadata": {
    "deletable": false,
    "editable": false
   },
   "outputs": [],
   "source": [
    "grader.check(\"q1p5\")"
   ]
  },
  {
   "cell_type": "markdown",
   "metadata": {},
   "source": [
    "## Example usage and plot\n",
    "\n",
    "The next cell computes the exact and approximate solutions (`Tsol` and `That`) with initial temperature `T0=100`, final time `ts=3600`, and time step `h=60`. It also computes the average error. "
   ]
  },
  {
   "cell_type": "code",
   "execution_count": null,
   "metadata": {
    "execution": {
     "iopub.execute_input": "2024-04-15T04:55:29.698395Z",
     "iopub.status.busy": "2024-04-15T04:55:29.698217Z",
     "iopub.status.idle": "2024-04-15T04:55:29.700500Z",
     "shell.execute_reply": "2024-04-15T04:55:29.700212Z"
    }
   },
   "outputs": [],
   "source": [
    "T0 = 100\n",
    "ts = 3600\n",
    "h = 300\n",
    "tvec, That = my_euler(ts,h,T0)\n",
    "Tsol = evaluate_sol(T0,tvec)\n",
    "e = compute_error(That,Tsol)"
   ]
  },
  {
   "cell_type": "markdown",
   "metadata": {},
   "source": [
    "The next cell plots the result."
   ]
  },
  {
   "cell_type": "code",
   "execution_count": null,
   "metadata": {
    "execution": {
     "iopub.execute_input": "2024-04-15T04:55:29.701995Z",
     "iopub.status.busy": "2024-04-15T04:55:29.701723Z",
     "iopub.status.idle": "2024-04-15T04:55:29.988820Z",
     "shell.execute_reply": "2024-04-15T04:55:29.988400Z"
    }
   },
   "outputs": [],
   "source": [
    "fig1, ax1 = plt.subplots(nrows=2,figsize=(8,8),sharex=True)\n",
    "ax1[0].plot(tvec,Tsol,color='k',linewidth=2,label='$T[k]$')\n",
    "ax1[0].plot(tvec,That,color='m',marker='o',linewidth=2,label='$\\hat{T}[k]$')\n",
    "ax1[0].axhline(Ta,color='g',linewidth=2,linestyle='--',label='$T_a$')\n",
    "ax1[0].legend(fontsize=14)\n",
    "ax1[0].set_ylabel('$[\\degree C]$     ',rotation=0,fontsize=16)\n",
    "ax1[0].grid()\n",
    "\n",
    "ax1[1].plot(tvec,np.abs(Tsol-That),color='b',linewidth=2,marker='o',label='$|y[k]-\\hat{y}[k]|$')\n",
    "ax1[1].axhline(e,color='darkred',linestyle='--',linewidth=2,label='Average error')\n",
    "ax1[1].legend(fontsize=14)\n",
    "ax1[1].set_ylabel('$[\\degree C]$          ',rotation=0,fontsize=16)\n",
    "ax1[1].grid()\n",
    "ax1[1].set_xlabel('time [sec]',fontsize=16)"
   ]
  },
  {
   "cell_type": "markdown",
   "metadata": {
    "deletable": false,
    "editable": false
   },
   "source": [
    "## Question 1.6: Dependence of the error on the time step\n",
    "\n",
    "Use the functions that you've written so far to evaluate the error of Euler's method for a range of step sizes.\n",
    "\n",
    "Your code should produce these variables:\n",
    "+ `hs` ... a 1D array of step size values ranging from 2 (included), to 100 (excluded), with a step value of 2. \n",
    "+ `e_array` ... a 1D array that holds the error values corresponding to each step size in `hs`.\n",
    "\n",
    "The simulation shold have these parameters:\n",
    "+ `T0 = 100`\n",
    "+ `ts = 3600`"
   ]
  },
  {
   "cell_type": "code",
   "execution_count": null,
   "metadata": {
    "execution": {
     "iopub.execute_input": "2024-04-15T04:55:29.990719Z",
     "iopub.status.busy": "2024-04-15T04:55:29.990537Z",
     "iopub.status.idle": "2024-04-15T04:55:29.998869Z",
     "shell.execute_reply": "2024-04-15T04:55:29.998539Z"
    },
    "tags": []
   },
   "outputs": [],
   "source": [
    "T0 = 100\n",
    "ts = 3600\n",
    "hs = ...\n",
    "e_array = np.empty(...)\n",
    "..."
   ]
  },
  {
   "cell_type": "code",
   "execution_count": null,
   "metadata": {
    "execution": {
     "iopub.execute_input": "2024-04-15T04:55:30.000558Z",
     "iopub.status.busy": "2024-04-15T04:55:30.000343Z",
     "iopub.status.idle": "2024-04-15T04:55:30.075882Z",
     "shell.execute_reply": "2024-04-15T04:55:30.075429Z"
    },
    "tags": []
   },
   "outputs": [],
   "source": [
    "fig2, ax2 = plt.subplots()\n",
    "ax2.plot(hs,e_array,color='darkred',linewidth=2,marker='o')\n",
    "ax2.set_ylabel('error [C]',fontsize=14)\n",
    "ax2.set_xlabel('step size h [sec]',fontsize=14)\n",
    "ax2.spines[['top','right']].set_visible(False)\n",
    "ax2.spines[['bottom','left']].set_position('zero')\n",
    "ax2.grid()"
   ]
  },
  {
   "cell_type": "code",
   "execution_count": null,
   "metadata": {
    "deletable": false,
    "editable": false
   },
   "outputs": [],
   "source": [
    "grader.check(\"q1p6\")"
   ]
  },
  {
   "cell_type": "markdown",
   "metadata": {},
   "source": [
    "# Question 2: Generic IVP solver\n",
    "\n",
    "As discussed in class, many numerical methods for IVPs share a similar structure. They all advance forward in time in increments of $h\\hat{s}_k$:\n",
    "\n",
    "\\begin{equation*}\n",
    "\\hat{y}[k+1] = \\hat{y}[k] + h\\: \\hat{s}_k\n",
    "\\end{equation*}\n",
    "\n",
    "where $\\hat{s}_k$ is an estimate of the \"ideal\" slope value at step $k$. From this perspective, different numerical methods such as Euler's method, the midpoint method, and Heun's method, amount to different formulas for $\\hat{s}_k$. Here we will use this observation to build a concise implementation of these three IVP solvers. \n",
    "\n",
    "**Note:**\n",
    "\n",
    "The key to this implementation is the use of functions as inputs to other functions. In our case there are two parameters of the generic solver that are functions (and not mere values, such as `y0`)\n",
    "+ The state equation $f$\n",
    "+ The slope estimator $\\hat{s}_k$\n",
    "\n",
    "Implementing these as functions that are passed into the generic solver greatly increases the applicability of the code. It allows the code to be applied to any scalar ODE and any of a large family of numerical methods.\n",
    "Programming techniques that use this type of \"composition of functions\" go under the heading of [*\"functional programming\"*](https://en.wikipedia.org/wiki/Functional_programming). "
   ]
  },
  {
   "cell_type": "markdown",
   "metadata": {
    "deletable": false,
    "editable": false
   },
   "source": [
    "## Question 2.1: Implement `my_ivp_solver`\n",
    "\n",
    "Write a function called `my_ivp_solver(f,ts,h,y0,shat_estimator)`, whose arguments are:\n",
    "\n",
    "+ `f` : A *function* that evaluates the state equation. (The input/output details of this function will not matter until Question 2.2)\n",
    "+ `ts`: Total simulation time [seconds]\n",
    "+ `h` : Time step [seconds] \n",
    "+ `y0` : Initial condition\n",
    "+ `shat_estimator(f,yhatk,h,t)`: A *function* that evaluates $\\hat{s}_k$ for a particular numerical method. This function takes arguments `(f,yhatk,h,t)`, where `f` and `h` are as defined above, `t` is the current time, and `yhatk` is the estimate at time step $k$. \n",
    "\n",
    "This function should implement the generic IVP solver described above. It should return `tvec, yhat`, similar to `my_euler` (except that `That` now has the generic name `yhat`)"
   ]
  },
  {
   "cell_type": "code",
   "execution_count": null,
   "metadata": {
    "execution": {
     "iopub.execute_input": "2024-04-15T04:55:30.087723Z",
     "iopub.status.busy": "2024-04-15T04:55:30.087557Z",
     "iopub.status.idle": "2024-04-15T04:55:30.091448Z",
     "shell.execute_reply": "2024-04-15T04:55:30.091093Z"
    },
    "tags": []
   },
   "outputs": [],
   "source": [
    "def my_ivp_solver(f,ts,h,y0,shat_estimator):\n",
    "    \n",
    "    # Create the time grid  \n",
    "    tvec, K = ...\n",
    "\n",
    "    # Initialize the yhat array (allocate space and set the initial condition)\n",
    "    yhat = ...\n",
    "    ...\n",
    "\n",
    "    # Run the iteration forward over all time.\n",
    "    # At each step: \n",
    "    # 1. use shat_estimator to compute shat\n",
    "    # 2. use it to compute the next value of yhat \n",
    "    for k in ...:\n",
    "        ...\n",
    "\n",
    "    return tvec, yhat"
   ]
  },
  {
   "cell_type": "code",
   "execution_count": null,
   "metadata": {
    "deletable": false,
    "editable": false
   },
   "outputs": [],
   "source": [
    "grader.check(\"q2p1\")"
   ]
  },
  {
   "cell_type": "markdown",
   "metadata": {
    "deletable": false,
    "editable": false
   },
   "source": [
    "## Question 2.2: Euler's method\n",
    "\n",
    "We will implement the three numerical methods (Euler's method, the midpoint method, and Heun's method) as three different versions of\n",
    "`shat_estimator(f,yhatk,h,t)`. We begin with Euler's method, which is the simplest one. \n",
    "\n",
    "Create a function called `shat_euler` that takes the same arguments as `shat_estimator` and returns the value of $\\hat{s}_k$ according to Euler's method:\n",
    "\n",
    "\\begin{equation*}\n",
    "\\hat{s}_k = f(\\hat{y}[k],t)\n",
    "\\end{equation*}\n",
    "\n",
    "The system equation $f$ has two arguments: $\\hat{y}[k]$ and $t$. Hence, in the implementation, the function `f(yhatk,t)` will have *two* inputs: `yhatk` (estimate at step $k$) and `t` (time). This is in contrast with Question 1, where the state equation `cooling_law(T)` was only a function of the state, and did not have time as an input. Adding the time input will allow us to consider *time-varying* ambient temperatures. \n",
    "\n",
    "Notice also that `h` is not used in Euler's method. It must nevertheless be included as an input argument, since the argument list for the `shat_euler` function must match that of `shat_estimator`."
   ]
  },
  {
   "cell_type": "code",
   "execution_count": null,
   "metadata": {
    "execution": {
     "iopub.execute_input": "2024-04-15T04:55:30.102767Z",
     "iopub.status.busy": "2024-04-15T04:55:30.102638Z",
     "iopub.status.idle": "2024-04-15T04:55:30.105619Z",
     "shell.execute_reply": "2024-04-15T04:55:30.105229Z"
    },
    "tags": []
   },
   "outputs": [],
   "source": [
    "def shat_euler(f,yhatk,h,t):\n",
    "    shat = ...\n",
    "    return shat"
   ]
  },
  {
   "cell_type": "code",
   "execution_count": null,
   "metadata": {
    "deletable": false,
    "editable": false
   },
   "outputs": [],
   "source": [
    "grader.check(\"q2p2\")"
   ]
  },
  {
   "cell_type": "markdown",
   "metadata": {
    "deletable": false,
    "editable": false
   },
   "source": [
    "## Question 2.3: Midpoint method\n",
    "\n",
    "Create a function called `shat_midpoint(f,yhatk,h,t)`, analogous to `shat_euler(f,yhatk,h,t)`, but for the midpoint method.\n",
    "\n",
    "The midpoint method computation has two steps.\n",
    "\n",
    "1. Advance by $h/2$ using Euler's method. Obtain the midpoint value $\\tilde{y}_k$\n",
    "\n",
    "\\begin{equation*}\n",
    "\\tilde{y}_k = \\hat{y}[k] + \\frac{h}{2} \\hat{y}'[k]\n",
    "\\end{equation*}\n",
    "\n",
    "where $ \\hat{y}'[k]=f(\\hat{y}[k],t)$\n",
    "\n",
    "2. Evaluate the slope at the midpoint. \n",
    "\n",
    "\\begin{equation*}\n",
    "\\hat{s}_k = f(\\tilde{y}_k\\:,\\;t\\!+\\!h/2)\n",
    "\\end{equation*}"
   ]
  },
  {
   "cell_type": "code",
   "execution_count": null,
   "metadata": {
    "execution": {
     "iopub.execute_input": "2024-04-15T04:55:30.117583Z",
     "iopub.status.busy": "2024-04-15T04:55:30.117414Z",
     "iopub.status.idle": "2024-04-15T04:55:30.121299Z",
     "shell.execute_reply": "2024-04-15T04:55:30.120878Z"
    },
    "tags": []
   },
   "outputs": [],
   "source": [
    "def shat_midpoint(f,yhatk,h,t):\n",
    "    ...\n",
    "    return ..."
   ]
  },
  {
   "cell_type": "code",
   "execution_count": null,
   "metadata": {
    "deletable": false,
    "editable": false
   },
   "outputs": [],
   "source": [
    "grader.check(\"q2p3\")"
   ]
  },
  {
   "cell_type": "markdown",
   "metadata": {
    "deletable": false,
    "editable": false
   },
   "source": [
    "## Question 2.4: Heun's method\n",
    "\n",
    "Create a function called `shat_heun(f,yhatk,h,t)` that computes the slope according to the Heun's method.\n",
    "\n",
    "The computation has three steps.\n",
    "\n",
    "1. Advance by $h$ using Euler's method. Obtain the endpoint value $\\tilde{y}_k$:\n",
    "\n",
    "\\begin{equation*}\n",
    "\\tilde{y}_k = \\hat{y}[k] + h \\:\\hat{y}'[k] \n",
    "\\end{equation*}\n",
    "\n",
    "2. Evaluate the slope at the endpoint. \n",
    "\n",
    "\\begin{equation*}\n",
    " \\tilde{y}'_k = f(\\tilde{y}_k,t+h)\n",
    "\\end{equation*}\n",
    "\n",
    "3. Estimate the ideal slope as the average of the slopes at the start and end points. \n",
    "\n",
    "\\begin{equation*}\n",
    "\\hat{s}_k = (\\tilde{y}'_k  + \\hat{y}'[k] ) / 2\n",
    "\\end{equation*}\n",
    "\n"
   ]
  },
  {
   "cell_type": "code",
   "execution_count": null,
   "metadata": {
    "execution": {
     "iopub.execute_input": "2024-04-15T04:55:30.133848Z",
     "iopub.status.busy": "2024-04-15T04:55:30.133683Z",
     "iopub.status.idle": "2024-04-15T04:55:30.137489Z",
     "shell.execute_reply": "2024-04-15T04:55:30.137080Z"
    },
    "tags": []
   },
   "outputs": [],
   "source": [
    "def shat_heun(f,yhatk,h,t):\n",
    "    ...\n",
    "    return ..."
   ]
  },
  {
   "cell_type": "code",
   "execution_count": null,
   "metadata": {
    "deletable": false,
    "editable": false
   },
   "outputs": [],
   "source": [
    "grader.check(\"q2p4\")"
   ]
  },
  {
   "cell_type": "markdown",
   "metadata": {
    "deletable": false,
    "editable": false
   },
   "source": [
    "## Question 2.5: Time-varying ambient temperature\n",
    "\n",
    "In Question 1 we assumed that the ambient temperature $T_a$ was held at a constant 22 degrees. Having included `t` as an argument to the state equation `f(yhatk,t)`, we can now allow $T_a$ to change with time. \n",
    "\n",
    "Let's suppose that the body whose temperature is being simulated is a pot of water on an electric stove, and that the stove is turned \"on\" for 5 out of every 15 minutes. This creates the profile of ambient temperature shown below:\n",
    "\n",
    "<img src=\"resources/Ta.png\" width=700>\n",
    "\n",
    "$T_a(t)$ is expressed as a mathematical function as follows:\n",
    "\n",
    "<img src=\"resources/Taeqn.png\" width=350>\n",
    "\n",
    "\n",
    "Create a function called `get_Ta(t)` that computes this function for a given *scalar* value `t` (not a NumPy array)."
   ]
  },
  {
   "cell_type": "code",
   "execution_count": null,
   "metadata": {
    "execution": {
     "iopub.execute_input": "2024-04-15T04:55:30.150052Z",
     "iopub.status.busy": "2024-04-15T04:55:30.149878Z",
     "iopub.status.idle": "2024-04-15T04:55:30.153393Z",
     "shell.execute_reply": "2024-04-15T04:55:30.152870Z"
    },
    "tags": []
   },
   "outputs": [],
   "source": [
    "def get_Ta(t):\n",
    "    ..."
   ]
  },
  {
   "cell_type": "code",
   "execution_count": null,
   "metadata": {
    "deletable": false,
    "editable": false
   },
   "outputs": [],
   "source": [
    "grader.check(\"q2p5\")"
   ]
  },
  {
   "cell_type": "markdown",
   "metadata": {
    "deletable": false,
    "editable": false
   },
   "source": [
    "## Question 2.6: Implement a time-varying version of `cooling_law`\n",
    "\n",
    "Finally, we need an updated version of the `cooling_law` function that includes time `t` as its second input argument.\n",
    "\n",
    "Create a function called `cooling_law_with_time(T,t)` that takes a value of temperature `T` in degrees centrigrade, and a value of time `t` in seconds. The function should return the evaluation of the time-dependent state equation:\n",
    "\\begin{equation*}\n",
    "f(T,t) =  -\\alpha(T-T_a(t))\n",
    "\\end{equation*}\n",
    "where $T_a(t)$ is the time-varying ambient temperature, obtained by calling `get_Ta(t)`."
   ]
  },
  {
   "cell_type": "code",
   "execution_count": null,
   "metadata": {
    "execution": {
     "iopub.execute_input": "2024-04-15T04:55:30.160567Z",
     "iopub.status.busy": "2024-04-15T04:55:30.160389Z",
     "iopub.status.idle": "2024-04-15T04:55:30.163201Z",
     "shell.execute_reply": "2024-04-15T04:55:30.162852Z"
    },
    "tags": []
   },
   "outputs": [],
   "source": [
    "def cooling_law_with_time(T,t):\n",
    "    ..."
   ]
  },
  {
   "cell_type": "code",
   "execution_count": null,
   "metadata": {
    "deletable": false,
    "editable": false
   },
   "outputs": [],
   "source": [
    "grader.check(\"q2p6\")"
   ]
  },
  {
   "cell_type": "markdown",
   "metadata": {
    "deletable": false,
    "editable": false
   },
   "source": [
    "## Question 2.7: Put it all together\n",
    "\n",
    "We now have all of the necessary pieces to compute a numerical solution for the initial value problem using all of our three methods: Euler's method, the midpoint method, or Heun's method. \n",
    "\n",
    "Use `my_ivp_solver` to simulate the temperature of a pot of water on an electric stove, as it switches between 5 minutes \"on\" and 10 minutes \"off\" (as in Question 2.5). The parameters of the simulation are are:\n",
    "+ `ts=3600` (seconds).\n",
    "+ `h=300` (seconds)\n",
    "+ `T0=100` (degrees centrigrade)\n",
    "\n",
    "Run the solver with each of the three numerical methods, and save the results as `T_euler`,`T_midpoint`, and `T_heun`.\n",
    "\n",
    "**Note**\n",
    "\n",
    "+ Although it is not evaluated, you should try running it with smaller values of `h` and notice how the result improves. "
   ]
  },
  {
   "cell_type": "code",
   "execution_count": null,
   "metadata": {
    "execution": {
     "iopub.execute_input": "2024-04-15T04:55:30.173650Z",
     "iopub.status.busy": "2024-04-15T04:55:30.173520Z",
     "iopub.status.idle": "2024-04-15T04:55:30.176712Z",
     "shell.execute_reply": "2024-04-15T04:55:30.176413Z"
    },
    "tags": []
   },
   "outputs": [],
   "source": [
    "...\n",
    "tvec, T_euler    = ...\n",
    "_, T_midpoint = ...\n",
    "_, T_heun     = ..."
   ]
  },
  {
   "cell_type": "code",
   "execution_count": null,
   "metadata": {
    "execution": {
     "iopub.execute_input": "2024-04-15T04:55:30.179182Z",
     "iopub.status.busy": "2024-04-15T04:55:30.178958Z",
     "iopub.status.idle": "2024-04-15T04:55:30.311755Z",
     "shell.execute_reply": "2024-04-15T04:55:30.311122Z"
    },
    "tags": []
   },
   "outputs": [],
   "source": [
    "tfine = np.linspace(0,ts,1000)\n",
    "Tafine = [get_Ta(t) for t in tfine]\n",
    "\n",
    "fig3, ax3 = plt.subplots(figsize=(10,5))\n",
    "\n",
    "ax3.plot(tfine,Tafine,color='purple',label='$T_a$')\n",
    "ax3.plot(tvec,T_euler,linewidth=2,label='Euler')\n",
    "ax3.plot(tvec,T_midpoint,linewidth=2,label='Midpoint')\n",
    "ax3.plot(tvec,T_heun,linewidth=2,label='Heun')\n",
    "\n",
    "ax3.tick_params('both',labelsize=14)\n",
    "ax3.spines[['top','right']].set_visible(False)\n",
    "ax3.spines[['bottom','left']].set_position('zero')\n",
    "ax3.legend(loc='upper right',fontsize=12)\n",
    "ax3.grid('--')"
   ]
  },
  {
   "cell_type": "code",
   "execution_count": null,
   "metadata": {
    "deletable": false,
    "editable": false
   },
   "outputs": [],
   "source": [
    "grader.check(\"q2p7\")"
   ]
  },
  {
   "cell_type": "markdown",
   "metadata": {
    "deletable": false,
    "editable": false
   },
   "source": [
    "---\n",
    "\n",
    "To double-check your work, the cell below will rerun all of the autograder tests."
   ]
  },
  {
   "cell_type": "code",
   "execution_count": null,
   "metadata": {
    "deletable": false,
    "editable": false
   },
   "outputs": [],
   "source": [
    "grader.check_all()"
   ]
  },
  {
   "cell_type": "markdown",
   "metadata": {
    "deletable": false,
    "editable": false
   },
   "source": [
    "## Submission\n",
    "\n",
    "Make sure you have run all cells in your notebook in order before running the cell below, so that all images/graphs appear in the output. The cell below will generate a zip file for you to submit. **Please save before exporting!**\n",
    "\n",
    "Make sure you submit the .zip file to Gradescope."
   ]
  },
  {
   "cell_type": "code",
   "execution_count": null,
   "metadata": {
    "deletable": false,
    "editable": false
   },
   "outputs": [],
   "source": [
    "# Save your notebook first, then run this cell to export your submission.\n",
    "grader.export(pdf=False)"
   ]
  },
  {
   "cell_type": "markdown",
   "metadata": {},
   "source": [
    " "
   ]
  }
 ],
 "metadata": {
  "anaconda-cloud": {},
  "colab": {
   "provenance": []
  },
  "kernelspec": {
   "display_name": "Python 3 (ipykernel)",
   "language": "python",
   "name": "python3"
  },
  "language_info": {
   "codemirror_mode": {
    "name": "ipython",
    "version": 3
   },
   "file_extension": ".py",
   "mimetype": "text/x-python",
   "name": "python",
   "nbconvert_exporter": "python",
   "pygments_lexer": "ipython3",
   "version": "3.10.12"
  },
  "otter": {
   "OK_FORMAT": true,
   "assignment_name": "lab11A",
   "tests": {
    "q1p1": {
     "name": "q1p1",
     "points": null,
     "suites": [
      {
       "cases": [
        {
         "code": ">>> alpha == 0.001 and Ta == 22\nTrue",
         "hidden": false,
         "locked": false,
         "points": 0
        },
        {
         "code": ">>> get_hash(cooling_law(np.array([0, 100, -100])), 4) == 'f3093386c0435b00dc7f1a67e948a88c'\nTrue",
         "hidden": false,
         "locked": false,
         "points": 1
        }
       ],
       "scored": true,
       "setup": "",
       "teardown": "",
       "type": "doctest"
      }
     ]
    },
    "q1p2": {
     "name": "q1p2",
     "points": null,
     "suites": [
      {
       "cases": [
        {
         "code": ">>> (tvec, K) = get_time_grid(3600, 60)\n>>> tvec.shape == (60,)\nTrue",
         "hidden": false,
         "locked": false,
         "points": 0
        },
        {
         "code": ">>> (tvec, K) = get_time_grid(3600, 60)\n>>> get_hash(tvec, 2) == '90c35a97bdd17ac99eca211572890bce' and get_hash(K, 2) == '56cc33282f4f810d3a644bc652263a7f'\nTrue",
         "hidden": false,
         "locked": false,
         "points": 1
        }
       ],
       "scored": true,
       "setup": "",
       "teardown": "",
       "type": "doctest"
      }
     ]
    },
    "q1p3": {
     "name": "q1p3",
     "points": null,
     "suites": [
      {
       "cases": [
        {
         "code": ">>> np.isclose(evaluate_sol(100, 0), 100, 0.0001)\nTrue",
         "hidden": false,
         "locked": false,
         "points": 0
        },
        {
         "code": ">>> get_hash(evaluate_sol(100, 3), 4) == '2f0d56726f81f3765428658074585735'\nTrue",
         "hidden": false,
         "locked": false,
         "points": 1
        }
       ],
       "scored": true,
       "setup": "",
       "teardown": "",
       "type": "doctest"
      }
     ]
    },
    "q1p4": {
     "name": "q1p4",
     "points": null,
     "suites": [
      {
       "cases": [
        {
         "code": ">>> (tvec, That) = my_euler(10, 5, 20)\n>>> tvec.shape == (2,) and That.shape == (2,)\nTrue",
         "hidden": false,
         "locked": false,
         "points": 0
        },
        {
         "code": ">>> (tvec, That) = my_euler(10, 3, 20)\n>>> tvec.shape == (4,) and That.shape == (4,)\nTrue",
         "hidden": false,
         "locked": false,
         "points": 0
        },
        {
         "code": ">>> (tvec, That) = my_euler(60, 20, 100)\n>>> get_hash(tvec, 2) == '604680a857844428ceecfc9d3df388c3' and get_hash(That, 4) == '3bb31d7521a7900043e268921a0d4e52'\nTrue",
         "hidden": false,
         "locked": false,
         "points": 3
        }
       ],
       "scored": true,
       "setup": "",
       "teardown": "",
       "type": "doctest"
      }
     ]
    },
    "q1p5": {
     "name": "q1p5",
     "points": null,
     "suites": [
      {
       "cases": [
        {
         "code": ">>> compute_error(np.array([1, 2]), np.array([1, 2])) == 0.0\nTrue",
         "hidden": false,
         "locked": false,
         "points": 0
        },
        {
         "code": ">>> get_hash(compute_error(np.array([1.43, -6.36]), np.array([10.53, 1.54])), 4) == '845e85fa64a2d6037055beba19fe0bd8'\nTrue",
         "hidden": false,
         "locked": false,
         "points": 1
        }
       ],
       "scored": true,
       "setup": "",
       "teardown": "",
       "type": "doctest"
      }
     ]
    },
    "q1p6": {
     "name": "q1p6",
     "points": null,
     "suites": [
      {
       "cases": [
        {
         "code": ">>> hs.shape == (49,)\nTrue",
         "hidden": false,
         "locked": false,
         "points": 0
        },
        {
         "code": ">>> get_hash(hs, 2) == '1f515ec87990a4215919efeda9efec06' and get_hash(e_array, 2) == '237a0e0ad96a37b757446d2220952965'\nTrue",
         "hidden": false,
         "locked": false,
         "points": 2
        }
       ],
       "scored": true,
       "setup": "",
       "teardown": "",
       "type": "doctest"
      }
     ]
    },
    "q2p1": {
     "name": "q2p1",
     "points": null,
     "suites": [
      {
       "cases": [
        {
         "code": ">>> shat_estimator = lambda f, yhatk, h, t: 0.5\n>>> (tvec, yhat) = my_ivp_solver(None, 10, 1, 1, shat_estimator)\n>>> tvec.shape == (10,) and yhat.shape == (10,)\nTrue",
         "hidden": false,
         "locked": false,
         "points": 0
        },
        {
         "code": ">>> shat_estimator = lambda f, yhatk, h, t: 0.5\n>>> (tvec, yhat) = my_ivp_solver(None, 10, 1, 1, shat_estimator)\n>>> get_hash(tvec, 2) == 'b0dc7c74b858397e7f5eb8f0af93ede7' and get_hash(yhat, 2) == '3b04b9471abafd09f7e686e9d72530a9'\nTrue",
         "hidden": false,
         "locked": false,
         "points": 2
        }
       ],
       "scored": true,
       "setup": "",
       "teardown": "",
       "type": "doctest"
      }
     ]
    },
    "q2p2": {
     "name": "q2p2",
     "points": null,
     "suites": [
      {
       "cases": [
        {
         "code": ">>> shat_euler(lambda yhatk, t: 0, None, None, None) == 0\nTrue",
         "hidden": false,
         "locked": false,
         "points": 0
        },
        {
         "code": ">>> get_hash(shat_euler(lambda yhatk, t: 4.3, None, None, None), 2) == 'a16b0b39889181577ded41b49cd80b1b'\nTrue",
         "hidden": false,
         "locked": false,
         "points": 1
        }
       ],
       "scored": true,
       "setup": "",
       "teardown": "",
       "type": "doctest"
      }
     ]
    },
    "q2p3": {
     "name": "q2p3",
     "points": null,
     "suites": [
      {
       "cases": [
        {
         "code": ">>> shat_midpoint(lambda yhatk, t: 1, 1, 1, 1) == 1\nTrue",
         "hidden": false,
         "locked": false,
         "points": 0
        },
        {
         "code": ">>> f = lambda yhatk, t: 0.2 * yhatk + t\n>>> yhatk = 10.34\n>>> h = 1.65\n>>> t = 6.05\n>>> get_hash(shat_midpoint(f, yhatk, h, t), 3) == '4a920d14425c3a17ead55b4d93d9f5be'\nTrue",
         "hidden": false,
         "locked": false,
         "points": 1
        }
       ],
       "scored": true,
       "setup": "",
       "teardown": "",
       "type": "doctest"
      }
     ]
    },
    "q2p4": {
     "name": "q2p4",
     "points": null,
     "suites": [
      {
       "cases": [
        {
         "code": ">>> shat_heun(lambda yhatk, t: 1, 1, 1, 1) == 1\nTrue",
         "hidden": false,
         "locked": false,
         "points": 0
        },
        {
         "code": ">>> f = lambda yhatk, t: 0.2 * yhatk + t\n>>> yhatk = 10.34\n>>> h = 1.65\n>>> t = 6.05\n>>> get_hash(shat_heun(f, yhatk, h, t), 4) == '5f9558d91ec302019a96fee9b0c5649b'\nTrue",
         "hidden": false,
         "locked": false,
         "points": 1
        }
       ],
       "scored": true,
       "setup": "",
       "teardown": "",
       "type": "doctest"
      }
     ]
    },
    "q2p5": {
     "name": "q2p5",
     "points": null,
     "suites": [
      {
       "cases": [
        {
         "code": ">>> get_Ta(0) == 200 and get_Ta(299.9) == 200 and (get_Ta(300) == 22)\nTrue",
         "hidden": false,
         "locked": false,
         "points": 1
        }
       ],
       "scored": true,
       "setup": "",
       "teardown": "",
       "type": "doctest"
      }
     ]
    },
    "q2p6": {
     "name": "q2p6",
     "points": null,
     "suites": [
      {
       "cases": [
        {
         "code": ">>> np.isclose(cooling_law_with_time(0, 0), 0.2)\nTrue",
         "hidden": false,
         "locked": false,
         "points": 0
        },
        {
         "code": ">>> get_hash(cooling_law_with_time(44.025, 300), 4) == '5e9989e22e9fe28cd78cf3030664d440' and get_hash(cooling_law_with_time(44.025, 299), 4) == 'be6010e95f24df79b85abcc5bbdd45e7'\nTrue",
         "hidden": false,
         "locked": false,
         "points": 1
        }
       ],
       "scored": true,
       "setup": "",
       "teardown": "",
       "type": "doctest"
      }
     ]
    },
    "q2p7": {
     "name": "q2p7",
     "points": null,
     "suites": [
      {
       "cases": [
        {
         "code": ">>> T0 == 100 and ts == 3600 and (h == 300)\nTrue",
         "hidden": false,
         "locked": false,
         "points": 0
        },
        {
         "code": ">>> tvec.shape == (12,) and T_euler.shape == (12,) and (T_midpoint.shape == (12,)) and (T_heun.shape == (12,))\nTrue",
         "hidden": false,
         "locked": false,
         "points": 0
        },
        {
         "code": ">>> get_hash(T_euler, 3) == '93f148548dc378da5e0157706f564eff'\nTrue",
         "hidden": false,
         "locked": false,
         "points": 1
        },
        {
         "code": ">>> get_hash(T_midpoint, 3) == 'b6df6ceb2bda11c79099689c7779a47b'\nTrue",
         "hidden": false,
         "locked": false,
         "points": 1
        },
        {
         "code": ">>> get_hash(T_heun, 3) == '92308e83e886a246ced481ffd1423fc3'\nTrue",
         "hidden": false,
         "locked": false,
         "points": 1
        }
       ],
       "scored": true,
       "setup": "",
       "teardown": "",
       "type": "doctest"
      }
     ]
    }
   }
  }
 },
 "nbformat": 4,
 "nbformat_minor": 0
}
