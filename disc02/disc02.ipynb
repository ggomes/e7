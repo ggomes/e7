{
 "cells": [
  {
   "cell_type": "markdown",
   "metadata": {},
   "source": [
    "---\n",
    "\n",
    "<h3><center>E7 -  Introduction to Programming for Scientists and Engineers</center></h3>\n",
    "\n",
    "<h2><center>Discussion session #02 <br></center></h2>\n",
    "\n",
    "---\n",
    "\n",
    "**This notebook is not graded.**"
   ]
  },
  {
   "cell_type": "markdown",
   "metadata": {},
   "source": [
    "# 1) Built-ins"
   ]
  },
  {
   "cell_type": "code",
   "execution_count": null,
   "metadata": {},
   "outputs": [],
   "source": []
  },
  {
   "cell_type": "markdown",
   "metadata": {},
   "source": [
    "# 2) While loop patterns"
   ]
  },
  {
   "cell_type": "markdown",
   "metadata": {},
   "source": [
    "### Plain vanilla while loop"
   ]
  },
  {
   "cell_type": "code",
   "execution_count": null,
   "metadata": {},
   "outputs": [],
   "source": [
    "x = 0\n",
    "while x<5:\n",
    "    x+=1\n",
    "    print(x)\n",
    "print('Final x =',x)"
   ]
  },
  {
   "cell_type": "markdown",
   "metadata": {},
   "source": [
    "### Infinite loop with break"
   ]
  },
  {
   "cell_type": "code",
   "execution_count": null,
   "metadata": {},
   "outputs": [],
   "source": [
    "x = 0\n",
    "while True:\n",
    "    x += 1\n",
    "    print(x)\n",
    "    if x>=5:\n",
    "        break\n",
    "print('Final x =',x)"
   ]
  },
  {
   "cell_type": "markdown",
   "metadata": {},
   "source": [
    "### Validate user input (style 1)"
   ]
  },
  {
   "cell_type": "code",
   "execution_count": null,
   "metadata": {},
   "outputs": [],
   "source": [
    "while True:\n",
    "    user_input = input(\"Enter a positive integer\")\n",
    "\n",
    "    if user_input.isdigit():\n",
    "        number = int(user_input)\n",
    "        print('Entered', number)\n",
    "        break\n",
    "\n",
    "    else: \n",
    "        print(\"That is not a positive integer. Try again.\")"
   ]
  },
  {
   "cell_type": "markdown",
   "metadata": {},
   "source": [
    "### Validate user input (style 2)"
   ]
  },
  {
   "cell_type": "code",
   "execution_count": null,
   "metadata": {},
   "outputs": [],
   "source": [
    "user_input = None\n",
    "done = False\n",
    "\n",
    "while not done:\n",
    "    user_input = input(\"Enter a positive integer\")\n",
    "\n",
    "    if user_input.isdigit():\n",
    "        number = int(user_input)\n",
    "        print('Entered', number)\n",
    "        done = True\n",
    "\n",
    "    else: \n",
    "        print(\"That is not a positive integer. Try again.\")"
   ]
  },
  {
   "cell_type": "markdown",
   "metadata": {},
   "source": [
    "###  Single item selection"
   ]
  },
  {
   "cell_type": "code",
   "execution_count": null,
   "metadata": {},
   "outputs": [],
   "source": [
    "print(\"What shall I do?\")\n",
    "print(\"1 : Bark like a dog\")\n",
    "print(\"2 : Hiss like a snake\")\n",
    "    \n",
    "while True:\n",
    "    user_input = input(\"Enter your choice\")\n",
    "\n",
    "    if user_input!='1' and user_input!='2':\n",
    "        print('That is not a valid choice. Try again.')\n",
    "    else:\n",
    "        break\n",
    "\n",
    "if user_input=='1':\n",
    "    print('Ru!')\n",
    "elif user_input=='2':\n",
    "    print('Ssss!')"
   ]
  },
  {
   "cell_type": "markdown",
   "metadata": {},
   "source": [
    "### Repeated item selection"
   ]
  },
  {
   "cell_type": "code",
   "execution_count": null,
   "metadata": {},
   "outputs": [],
   "source": [
    "while True:\n",
    "\n",
    "    print(\"What shall I do?\")\n",
    "    print(\"1 : Bark like a dog\")\n",
    "    print(\"2 : Hiss like a snake\")\n",
    "    print(\"3 : Quit\")\n",
    "    user_input = input(\"Enter your choice\")\n",
    "\n",
    "    if user_input=='1':\n",
    "        print('Ru!')\n",
    "    elif user_input=='2':\n",
    "        print('Ssss!')\n",
    "    elif user_input==\"3\":\n",
    "        break\n",
    "    else:\n",
    "        print('That is not a valid choice. Try again.')\n",
    "print('Bye!')"
   ]
  }
 ],
 "metadata": {
  "kernelspec": {
   "display_name": "e7env",
   "language": "python",
   "name": "python3"
  },
  "language_info": {
   "codemirror_mode": {
    "name": "ipython",
    "version": 3
   },
   "file_extension": ".py",
   "mimetype": "text/x-python",
   "name": "python",
   "nbconvert_exporter": "python",
   "pygments_lexer": "ipython3",
   "version": "3.10.12"
  }
 },
 "nbformat": 4,
 "nbformat_minor": 2
}
