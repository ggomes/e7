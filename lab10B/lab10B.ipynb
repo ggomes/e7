{
 "cells": [
  {
   "cell_type": "code",
   "execution_count": null,
   "metadata": {
    "deletable": false,
    "editable": false
   },
   "outputs": [],
   "source": [
    "# Initialize Otter\n",
    "import otter\n",
    "grader = otter.Notebook(\"lab10B.ipynb\")"
   ]
  },
  {
   "cell_type": "markdown",
   "metadata": {},
   "source": [
    "---\n",
    "\n",
    "<h3><center>E7 -  Introduction to Programming for Scientists and Engineers</center></h3>\n",
    "\n",
    "<h2><center>Lab session #10-B <br></center></h2>\n",
    "\n",
    "<h1><center>Systems of linear equations<br></center></h1>\n",
    "\n",
    "---"
   ]
  },
  {
   "cell_type": "code",
   "execution_count": null,
   "metadata": {
    "execution": {
     "iopub.execute_input": "2024-04-08T03:45:42.524768Z",
     "iopub.status.busy": "2024-04-08T03:45:42.524172Z",
     "iopub.status.idle": "2024-04-08T03:45:42.890142Z",
     "shell.execute_reply": "2024-04-08T03:45:42.889525Z"
    },
    "id": "PmQ0-tpz9u7g",
    "tags": []
   },
   "outputs": [],
   "source": [
    "from resources.hashutils import *\n",
    "import numpy as np\n",
    "import matplotlib.pyplot as plt"
   ]
  },
  {
   "cell_type": "markdown",
   "metadata": {},
   "source": [
    "# Question 1: Temperature distribution on a square plate\n",
    "\n",
    "A scientific experiment requires that the temperature distribution on a thin square metalic plate be carefully monitored. However the physical constraints of the experiment only allow that temperature sensors be placed at the four corners of the plate (red nodes in the figure below). To deal with this problem, the researchers have decided to *estimate* the temperatures at the remaining 12 points on a 4x4 grid (white nodes in the figure), by assuming that the temperature of any unmeasured node is the average of its immediate neighbors. So for example, \n",
    "\n",
    "+ the temperature at node 1 equals the average of the temperatures of nodes 0, 2, and 5.\n",
    "+ the temperature at node 5 equals the average of the temperatures of nodes 4, 1, 6, and 9.\n",
    "\n",
    "Note that this is only true for white nodes; the temperatures at red nodes are given and may not follow this rule. \n",
    "\n",
    "In this exercise we use the tools of linear algebra to compute the twelve missing temperatures. \n",
    "\n",
    "<img src=\"resources/grid.png\" width=\"400\" />\n"
   ]
  },
  {
   "cell_type": "markdown",
   "metadata": {
    "deletable": false,
    "editable": false
   },
   "source": [
    "## Question 1.1: Node coordinate to index map\n",
    "\n",
    "Each node is identified either by its coordinates (e.g. (2,1)) or by its index (e.g 9). These are shown in the figure. The coordinate labels appear next to the node, while the indexes are inside the node. Both of these identifiers will be useful, and hence we need to translate between the two. \n",
    "\n",
    "Write two functions, called `coord2index(coord)` and `index2coord(index)`, which respectively translate from a node's coordinate to its index and vice-versa. \n",
    "\n",
    "+ `coord2index(coord)` takes a tuple and returns an integer.\n",
    "+ `index2coord(index)` takes an integer and returns a tuple. \n",
    "\n",
    "**Hint**: While it is possible to write these functions using long if-elif clauses, it is also possible to do it with a single line of code. Please try to do that."
   ]
  },
  {
   "cell_type": "code",
   "execution_count": null,
   "metadata": {
    "execution": {
     "iopub.execute_input": "2024-04-08T03:45:42.893512Z",
     "iopub.status.busy": "2024-04-08T03:45:42.893165Z",
     "iopub.status.idle": "2024-04-08T03:45:42.899287Z",
     "shell.execute_reply": "2024-04-08T03:45:42.898806Z"
    },
    "tags": []
   },
   "outputs": [],
   "source": [
    "def coord2index(coord):\n",
    "    return ...\n",
    "\n",
    "def index2coord(index):\n",
    "    return ..., ..."
   ]
  },
  {
   "cell_type": "code",
   "execution_count": null,
   "metadata": {
    "deletable": false,
    "editable": false
   },
   "outputs": [],
   "source": [
    "grader.check(\"q1p1\")"
   ]
  },
  {
   "cell_type": "markdown",
   "metadata": {
    "deletable": false,
    "editable": false
   },
   "source": [
    "## Question 1.2: Measured and unmeasured nodes\n",
    "\n",
    "Create two Python lists:\n",
    "+ `nodes_measured` containing the indexes of measured nodes, and\n",
    "+ `nodes_unmeasured` containing the indexes of unmeasured nodes.\n",
    "\n",
    "Each of these lists should be in ascending order. \n",
    "\n",
    "**Note**: We are using native lists and not NumPy arrays for the indexes because we will not perform significant mathematical operations on these lists."
   ]
  },
  {
   "cell_type": "code",
   "execution_count": null,
   "metadata": {
    "execution": {
     "iopub.execute_input": "2024-04-08T03:45:42.939216Z",
     "iopub.status.busy": "2024-04-08T03:45:42.939023Z",
     "iopub.status.idle": "2024-04-08T03:45:42.943382Z",
     "shell.execute_reply": "2024-04-08T03:45:42.942766Z"
    },
    "tags": []
   },
   "outputs": [],
   "source": [
    "nodes_measured = ...\n",
    "nodes_unmeasured = ..."
   ]
  },
  {
   "cell_type": "code",
   "execution_count": null,
   "metadata": {
    "deletable": false,
    "editable": false
   },
   "outputs": [],
   "source": [
    "grader.check(\"q1p2\")"
   ]
  },
  {
   "cell_type": "markdown",
   "metadata": {
    "deletable": false,
    "editable": false
   },
   "source": [
    "## Question 1.3: Dictionary of measured temperatures\n",
    "\n",
    "Create a dictionary called `index2temp` whose keys are the indexes of measured nodes, and whose values are their respective temperatures (shown in the figure)."
   ]
  },
  {
   "cell_type": "code",
   "execution_count": null,
   "metadata": {
    "execution": {
     "iopub.execute_input": "2024-04-08T03:45:42.966161Z",
     "iopub.status.busy": "2024-04-08T03:45:42.965826Z",
     "iopub.status.idle": "2024-04-08T03:45:42.970626Z",
     "shell.execute_reply": "2024-04-08T03:45:42.970029Z"
    },
    "tags": []
   },
   "outputs": [],
   "source": [
    "index2temp = ..."
   ]
  },
  {
   "cell_type": "code",
   "execution_count": null,
   "metadata": {
    "deletable": false,
    "editable": false
   },
   "outputs": [],
   "source": [
    "grader.check(\"q1p3\")"
   ]
  },
  {
   "cell_type": "markdown",
   "metadata": {
    "deletable": false,
    "editable": false
   },
   "source": [
    "## Question 1.4: Get a node's neighbors\n",
    "\n",
    "Create a function called `get_neighbors(index)` that, for a given node index, returns a Python *set* containing the indexes of its neighbors.\n",
    "This set will have 4 elements if the node is an interior node, 3 if it is a boundary node, and 2 if it is a corner node."
   ]
  },
  {
   "cell_type": "code",
   "execution_count": null,
   "metadata": {
    "execution": {
     "iopub.execute_input": "2024-04-08T03:45:42.987596Z",
     "iopub.status.busy": "2024-04-08T03:45:42.987422Z",
     "iopub.status.idle": "2024-04-08T03:45:42.993196Z",
     "shell.execute_reply": "2024-04-08T03:45:42.992474Z"
    },
    "tags": []
   },
   "outputs": [],
   "source": [
    "def get_neighbors(index):\n",
    "    \n",
    "    row, col = index2coord(index)\n",
    "    neighbors = set()\n",
    "\n",
    "    ...\n",
    "    ...\n",
    "    ...\n",
    "    \n",
    "    return neighbors"
   ]
  },
  {
   "cell_type": "code",
   "execution_count": null,
   "metadata": {
    "deletable": false,
    "editable": false
   },
   "outputs": [],
   "source": [
    "grader.check(\"q1p4\")"
   ]
  },
  {
   "cell_type": "markdown",
   "metadata": {
    "deletable": false,
    "editable": false
   },
   "source": [
    "## Question 1.5: Initialize `A` and `b`\n",
    "\n",
    "To solve the system of linear equations in code we must first put it into the matrix form $Ax=b$. Here $A$ is a square 12x12 matrix and $b$ is a column matrix of size 12x1. In this part we initialize these matrices with zeros. In the next part we will fill in the non-zero entries. \n",
    "\n",
    "Create two 2D NumPy arrays called `A` and `b`, both of the approprate size and containing only zeros. "
   ]
  },
  {
   "cell_type": "code",
   "execution_count": null,
   "metadata": {
    "execution": {
     "iopub.execute_input": "2024-04-08T03:45:43.016563Z",
     "iopub.status.busy": "2024-04-08T03:45:43.016376Z",
     "iopub.status.idle": "2024-04-08T03:45:43.020268Z",
     "shell.execute_reply": "2024-04-08T03:45:43.019434Z"
    },
    "tags": []
   },
   "outputs": [],
   "source": [
    "A = ...\n",
    "b = ..."
   ]
  },
  {
   "cell_type": "code",
   "execution_count": null,
   "metadata": {
    "deletable": false,
    "editable": false
   },
   "outputs": [],
   "source": [
    "grader.check(\"q1p5\")"
   ]
  },
  {
   "cell_type": "markdown",
   "metadata": {
    "deletable": false,
    "editable": false
   },
   "source": [
    "## Question 1.6: Populate `A` and `b`\n",
    "\n",
    "The system of equations to solve has 12 unknowns (the 12 unmeasured temperatures) and 12 equations. Each of the equations determines the temperature of an unmeasured node as the average of its neighbors. For example, for node 5 we have:\n",
    "\n",
    "\\begin{equation*}\n",
    "T_5 = \\frac{1}{4}\\Bigl( T_1 + T_4 + T_6 + T_9 \\Bigr)\n",
    "\\end{equation*}\n",
    "\n",
    "Or equivalently, \n",
    "\n",
    "\\begin{equation*}\n",
    "T_5 - \\frac{1}{4}\\Bigl( T_1 + T_4 + T_6 + T_9 \\Bigr) = 0\n",
    "\\end{equation*}\n",
    "\n",
    "Here $T_q$ is the temperature at the node with index $q$. \n",
    "For boundary nodes, one of the temperatures in the formula is given, and therefore should remain on the right hand side of the equation. For example, for node 4:\n",
    "\n",
    "\\begin{equation*}\n",
    "T_4 - \\frac{1}{3}\\Bigl( T_5 + T_8 \\Bigr) = \\frac{1}{3} T_0\n",
    "\\end{equation*}\n",
    "\n",
    "To organize these equations into the matrix form $Ax=b$, we define the vector of unknown temperatures $x\\in\\mathbb{R}^{12}$ in the order given by `nodes_unmeasured`:\n",
    "\n",
    "\\begin{equation*}\n",
    "\\begin{bmatrix}x_0\\\\x_1\\\\x_2\\\\x_3\\\\ \\vdots\\\\x_{11}\\end{bmatrix} = \\begin{bmatrix}T_1\\\\T_2\\\\T_4\\\\T_5\\\\ \\vdots\\\\T_{14}\\end{bmatrix}\n",
    "\\end{equation*}\n",
    "\n",
    "Then, the equation shown above for nodes 4 and 5 appear respectively in the third and fourth rows of $A$:\n",
    "\n",
    "<img src=resources/eqns.png width=700>\n",
    "\n",
    "Your task is to write code that will fill in all of the rows of `A` and `b` in accordance with the 12 averaging equations for the 12 unmeasured nodes. Below we provide a template code for doing this, with instructions. However we also recommend that you try doing it on your own before looking at the template. \n",
    "\n",
    "**Hint**\n",
    "+ You should always re-run the initialization from part 1.5 when running this code. To save time and avoid mistakes, you should copy the initialization code into this part. "
   ]
  },
  {
   "cell_type": "code",
   "execution_count": null,
   "metadata": {
    "execution": {
     "iopub.execute_input": "2024-04-08T03:45:43.035665Z",
     "iopub.status.busy": "2024-04-08T03:45:43.035472Z",
     "iopub.status.idle": "2024-04-08T03:45:43.040858Z",
     "shell.execute_reply": "2024-04-08T03:45:43.040145Z"
    },
    "tags": []
   },
   "outputs": [],
   "source": [
    "for i, index in enumerate(nodes_unmeasured):\n",
    "\n",
    "    # Use `get_neighbors` to get the set of neighbors surrounding the node.\n",
    "    neighbors = ...\n",
    "    \n",
    "    # num_neighbors is the number of neighbors for this node\n",
    "    num_neighbors = ...\n",
    "\n",
    "    # Every row has a 1 in the i'th column\n",
    "    ...\n",
    "\n",
    "    # Iterate through the node indexes of the neighbors\n",
    "    for nindex in neighbors:\n",
    "\n",
    "        # If this neighbor is unmeasured, it appears on the left-hand side of the equation (in A).\n",
    "        # Assign the value for the i'th row and ni'th column of A to -1/num_neighbors, where ni is position \n",
    "        # of nindex in nodes_unmeasured. (Hint: list.index)\n",
    "        ...\n",
    "        \n",
    "        # If this neighbor is measured, it appears on the right-hand side of the equation (in b).\n",
    "        # Assign the value for the i'th row of b to the measured temperature divided by num_neighbors.\n",
    "        ..."
   ]
  },
  {
   "cell_type": "code",
   "execution_count": null,
   "metadata": {
    "deletable": false,
    "editable": false
   },
   "outputs": [],
   "source": [
    "grader.check(\"q1p6\")"
   ]
  },
  {
   "cell_type": "markdown",
   "metadata": {
    "deletable": false,
    "editable": false
   },
   "source": [
    "## Question 1.7: Check the ranks of $A$ and $(A|b)$\n",
    "\n",
    "In lecture we covered conditions involving the rank of $A$ and the rank of the extended matrix $(A|b)$ for determining whether a system of linear equations has 0, 1, or infinitely many solutions.  Compute the ranks of these matrices using [np.linalg.matrix_rank](https://numpy.org/doc/stable/reference/generated/numpy.linalg.matrix_rank.html) and [np.hstack](https://numpy.org/doc/stable/reference/generated/numpy.hstack.html), and assign them to `rankA` and `rankAb`. Then observe the values that you got and assign to `num_solutions` the number of solutions that problem should have (0, 1, or [np.inf](https://numpy.org/devdocs/reference/constants.html#numpy.inf))"
   ]
  },
  {
   "cell_type": "code",
   "execution_count": null,
   "metadata": {
    "execution": {
     "iopub.execute_input": "2024-04-08T03:45:43.057105Z",
     "iopub.status.busy": "2024-04-08T03:45:43.056889Z",
     "iopub.status.idle": "2024-04-08T03:45:43.071070Z",
     "shell.execute_reply": "2024-04-08T03:45:43.070451Z"
    },
    "tags": []
   },
   "outputs": [],
   "source": [
    "rankA = ...\n",
    "rankAb = ...\n",
    "num_solutions = ..."
   ]
  },
  {
   "cell_type": "code",
   "execution_count": null,
   "metadata": {
    "deletable": false,
    "editable": false
   },
   "outputs": [],
   "source": [
    "grader.check(\"q1p7\")"
   ]
  },
  {
   "cell_type": "markdown",
   "metadata": {
    "deletable": false,
    "editable": false
   },
   "source": [
    "## Question 1.8: Solve for $x$\n",
    "\n",
    "Given what was found in part 1.7, we can assert that the unique solution to the problem is given by:\n",
    "\\begin{equation*}\n",
    "x = A^{-1}b\n",
    "\\end{equation*}\n",
    "\n",
    "Write code to find this value of `x`.\n",
    "\n",
    "**Hints**:\n",
    "+ [`np.matmul`](https://numpy.org/doc/stable/reference/generated/numpy.matmul.html), or equivalently the `@` operator.\n",
    "+ [`np.linalg.inv`](https://numpy.org/doc/stable/reference/generated/numpy.linalg.inv.html)\n"
   ]
  },
  {
   "cell_type": "code",
   "execution_count": null,
   "metadata": {
    "execution": {
     "iopub.execute_input": "2024-04-08T03:45:43.106348Z",
     "iopub.status.busy": "2024-04-08T03:45:43.106117Z",
     "iopub.status.idle": "2024-04-08T03:45:43.120854Z",
     "shell.execute_reply": "2024-04-08T03:45:43.120195Z"
    },
    "tags": []
   },
   "outputs": [],
   "source": [
    "x = ..."
   ]
  },
  {
   "cell_type": "code",
   "execution_count": null,
   "metadata": {
    "deletable": false,
    "editable": false
   },
   "outputs": [],
   "source": [
    "grader.check(\"q1p8\")"
   ]
  },
  {
   "cell_type": "markdown",
   "metadata": {
    "deletable": false,
    "editable": false
   },
   "source": [
    "## Question 1.9: Compute T\n",
    "\n",
    "Organize the measured and unmeasured (but now computed) temperature values into a 4x4 matrix called `T`. The row and column indices for the entries of `T` are simply the coordinates of the nodes from the initial figure."
   ]
  },
  {
   "cell_type": "code",
   "execution_count": null,
   "metadata": {
    "execution": {
     "iopub.execute_input": "2024-04-08T03:45:43.149440Z",
     "iopub.status.busy": "2024-04-08T03:45:43.149039Z",
     "iopub.status.idle": "2024-04-08T03:45:43.155349Z",
     "shell.execute_reply": "2024-04-08T03:45:43.154840Z"
    },
    "tags": []
   },
   "outputs": [],
   "source": [
    "T = ...\n",
    "...\n",
    "...\n",
    "..."
   ]
  },
  {
   "cell_type": "code",
   "execution_count": null,
   "metadata": {
    "deletable": false,
    "editable": false
   },
   "outputs": [],
   "source": [
    "grader.check(\"q1p9\")"
   ]
  },
  {
   "cell_type": "markdown",
   "metadata": {
    "deletable": false,
    "editable": false
   },
   "source": [
    "## Plot\n",
    "\n",
    "The next cell generates a surface plot of the temperatures across the plate. This part is not graded, it is simply so that you can see the result. You can add `%matplotlib widget` to the cell if you want to rotate the plot, but remember to remove that line before submitting, or else it will confuse the autograder. "
   ]
  },
  {
   "cell_type": "code",
   "execution_count": null,
   "metadata": {
    "execution": {
     "iopub.execute_input": "2024-04-08T03:45:43.185866Z",
     "iopub.status.busy": "2024-04-08T03:45:43.185485Z",
     "iopub.status.idle": "2024-04-08T03:45:43.365567Z",
     "shell.execute_reply": "2024-04-08T03:45:43.364772Z"
    },
    "tags": []
   },
   "outputs": [],
   "source": [
    "rows, cols = np.meshgrid(range(4),range(4))\n",
    "fig, ax = plt.subplots(subplot_kw={\"projection\": \"3d\"})\n",
    "ax.scatter(rows, cols,T,marker='o',c='m',s=60)\n",
    "ax.plot_surface(rows, cols,T,cmap='coolwarm',alpha=0.8)"
   ]
  },
  {
   "cell_type": "markdown",
   "metadata": {
    "deletable": false,
    "editable": false
   },
   "source": [
    "---\n",
    "\n",
    "To double-check your work, the cell below will rerun all of the autograder tests."
   ]
  },
  {
   "cell_type": "code",
   "execution_count": null,
   "metadata": {
    "deletable": false,
    "editable": false
   },
   "outputs": [],
   "source": [
    "grader.check_all()"
   ]
  },
  {
   "cell_type": "markdown",
   "metadata": {
    "deletable": false,
    "editable": false
   },
   "source": [
    "## Submission\n",
    "\n",
    "Make sure you have run all cells in your notebook in order before running the cell below, so that all images/graphs appear in the output. The cell below will generate a zip file for you to submit. **Please save before exporting!**\n",
    "\n",
    "Make sure you submit the .zip file to Gradescope."
   ]
  },
  {
   "cell_type": "code",
   "execution_count": null,
   "metadata": {
    "deletable": false,
    "editable": false
   },
   "outputs": [],
   "source": [
    "# Save your notebook first, then run this cell to export your submission.\n",
    "grader.export(pdf=False)"
   ]
  },
  {
   "cell_type": "markdown",
   "metadata": {},
   "source": [
    " "
   ]
  }
 ],
 "metadata": {
  "anaconda-cloud": {},
  "colab": {
   "provenance": []
  },
  "kernelspec": {
   "display_name": "Python 3 (ipykernel)",
   "language": "python",
   "name": "python3"
  },
  "language_info": {
   "codemirror_mode": {
    "name": "ipython",
    "version": 3
   },
   "file_extension": ".py",
   "mimetype": "text/x-python",
   "name": "python",
   "nbconvert_exporter": "python",
   "pygments_lexer": "ipython3",
   "version": "3.10.12"
  },
  "otter": {
   "OK_FORMAT": true,
   "assignment_name": "lab10B",
   "tests": {
    "q1p1": {
     "name": "q1p1",
     "points": null,
     "suites": [
      {
       "cases": [
        {
         "code": ">>> coords = [(i, j) for i in range(4) for j in range(4)]\n>>> [coord2index(c) for c in coords] == list(range(16))\nTrue",
         "hidden": false,
         "locked": false,
         "points": 1
        },
        {
         "code": ">>> coords = [(i, j) for i in range(4) for j in range(4)]\n>>> [index2coord(i) for i in range(16)] == coords\nTrue",
         "hidden": false,
         "locked": false,
         "points": 1
        }
       ],
       "scored": true,
       "setup": "",
       "teardown": "",
       "type": "doctest"
      }
     ]
    },
    "q1p2": {
     "name": "q1p2",
     "points": null,
     "suites": [
      {
       "cases": [
        {
         "code": ">>> isinstance(nodes_measured, list) and isinstance(nodes_unmeasured, list)\nTrue",
         "hidden": false,
         "locked": false,
         "points": 0
        },
        {
         "code": ">>> get_hash(np.sort(nodes_measured), 2) == '7498de62b700a737f9c18877cb3b0d57'\nTrue",
         "hidden": false,
         "locked": false,
         "points": 1
        },
        {
         "code": ">>> get_hash(np.sort(nodes_unmeasured), 2) == '7015f5e806859bff7195ecc4e06012ed'\nTrue",
         "hidden": false,
         "locked": false,
         "points": 1
        }
       ],
       "scored": true,
       "setup": "",
       "teardown": "",
       "type": "doctest"
      }
     ]
    },
    "q1p3": {
     "name": "q1p3",
     "points": null,
     "suites": [
      {
       "cases": [
        {
         "code": ">>> np.all(np.sort(list(index2temp.keys())) == nodes_measured)\nTrue",
         "hidden": false,
         "locked": false,
         "points": 0
        },
        {
         "code": ">>> get_hash([index2temp[n] for n in nodes_measured], 2) == 'a73cd0c0d2b5554ae37da36ad1b194ef'\nTrue",
         "hidden": false,
         "locked": false,
         "points": 1
        }
       ],
       "scored": true,
       "setup": "",
       "teardown": "",
       "type": "doctest"
      }
     ]
    },
    "q1p4": {
     "name": "q1p4",
     "points": null,
     "suites": [
      {
       "cases": [
        {
         "code": ">>> isinstance(get_neighbors(4), set)\nTrue",
         "hidden": false,
         "locked": false,
         "points": 0
        },
        {
         "code": ">>> np.all([len(get_neighbors(i)) == 2 for i in nodes_measured])\nTrue",
         "hidden": false,
         "locked": false,
         "points": 0
        },
        {
         "code": ">>> get_hash(np.concatenate([np.sort(np.array(list(get_neighbors(i)))) for i in range(16)]), 2) == '7cafa74b498b0bda066f9ee88e41a65d'\nTrue",
         "hidden": false,
         "locked": false,
         "points": 3
        }
       ],
       "scored": true,
       "setup": "",
       "teardown": "",
       "type": "doctest"
      }
     ]
    },
    "q1p5": {
     "name": "q1p5",
     "points": null,
     "suites": [
      {
       "cases": [
        {
         "code": ">>> A.shape == (12, 12) and b.shape == (12, 1)\nTrue",
         "hidden": false,
         "locked": false,
         "points": 0
        },
        {
         "code": ">>> np.all(A == 0) and np.all(b == 0) or get_hash(np.sum(A), 3) == '3f414920b4430dcb9bacbd135d531910'\nTrue",
         "hidden": false,
         "locked": false,
         "points": 1
        }
       ],
       "scored": true,
       "setup": "",
       "teardown": "",
       "type": "doctest"
      }
     ]
    },
    "q1p6": {
     "name": "q1p6",
     "points": null,
     "suites": [
      {
       "cases": [
        {
         "code": ">>> get_hash(A, 2) == '877a9d44472d7ec4871dbdc8d7a3935d'\nTrue",
         "hidden": false,
         "locked": false,
         "points": 2
        },
        {
         "code": ">>> get_hash(b, 3) == '3ec10b1d00cf6ce71ee8926b969f5bec'\nTrue",
         "hidden": false,
         "locked": false,
         "points": 2
        }
       ],
       "scored": true,
       "setup": "",
       "teardown": "",
       "type": "doctest"
      }
     ]
    },
    "q1p7": {
     "name": "q1p7",
     "points": null,
     "suites": [
      {
       "cases": [
        {
         "code": ">>> rankA > 0 and rankA <= 12 and (rankAb > 0) and (rankAb <= 12)\nTrue",
         "hidden": false,
         "locked": false,
         "points": 0
        },
        {
         "code": ">>> num_solutions == 0 or num_solutions == 1 or np.isinf(num_solutions)\nTrue",
         "hidden": false,
         "locked": false,
         "points": 0
        },
        {
         "code": ">>> get_hash(rankA, 2) == '195863009ffa903e83ad7fd7e7db63b1'\nTrue",
         "hidden": false,
         "locked": false,
         "points": 1
        },
        {
         "code": ">>> get_hash(rankA / rankAb, 2) == 'e4c2e8edac362acab7123654b9e73432'\nTrue",
         "hidden": false,
         "locked": false,
         "points": 1
        },
        {
         "code": ">>> get_hash(num_solutions, 2) == 'e4c2e8edac362acab7123654b9e73432'\nTrue",
         "hidden": false,
         "locked": false,
         "points": 1
        }
       ],
       "scored": true,
       "setup": "",
       "teardown": "",
       "type": "doctest"
      }
     ]
    },
    "q1p8": {
     "name": "q1p8",
     "points": null,
     "suites": [
      {
       "cases": [
        {
         "code": ">>> x.shape == (12, 1) and np.all(x > 0) and np.all(x < 100)\nTrue",
         "hidden": false,
         "locked": false,
         "points": 0
        },
        {
         "code": ">>> get_hash(x, 4) == 'f1167a9cf9c1d342f04b0eb52ce0d958'\nTrue",
         "hidden": false,
         "locked": false,
         "points": 1
        }
       ],
       "scored": true,
       "setup": "",
       "teardown": "",
       "type": "doctest"
      }
     ]
    },
    "q1p9": {
     "name": "q1p9",
     "points": null,
     "suites": [
      {
       "cases": [
        {
         "code": ">>> T.shape == (4, 4)\nTrue",
         "hidden": false,
         "locked": false,
         "points": 0
        },
        {
         "code": ">>> T[0, 0] == 10 and T[3, 3] == 120\nTrue",
         "hidden": false,
         "locked": false,
         "points": 0
        },
        {
         "code": ">>> get_hash(T, 4) == '64d4e233c436af9f74056bd740eff376'\nTrue",
         "hidden": false,
         "locked": false,
         "points": 3
        }
       ],
       "scored": true,
       "setup": "",
       "teardown": "",
       "type": "doctest"
      }
     ]
    }
   }
  }
 },
 "nbformat": 4,
 "nbformat_minor": 0
}
