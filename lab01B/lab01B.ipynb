{
 "cells": [
  {
   "cell_type": "code",
   "execution_count": null,
   "metadata": {
    "deletable": false,
    "editable": false
   },
   "outputs": [],
   "source": [
    "# Initialize Otter\n",
    "import otter\n",
    "grader = otter.Notebook(\"lab01B.ipynb\")"
   ]
  },
  {
   "cell_type": "code",
   "execution_count": null,
   "metadata": {
    "execution": {
     "iopub.execute_input": "2024-01-20T22:24:38.188330Z",
     "iopub.status.busy": "2024-01-20T22:24:38.188047Z",
     "iopub.status.idle": "2024-01-20T22:24:38.195567Z",
     "shell.execute_reply": "2024-01-20T22:24:38.195129Z"
    }
   },
   "outputs": [],
   "source": [
    "# Please run this cell, but don't modify or worry about it. \n",
    "import math\n",
    "def is_prime(n):\n",
    "    if not isinstance(n,int) or n<=1:\n",
    "        return False\n",
    "    for i in range(2,int(1+n/2)):\n",
    "        if n%i==0:\n",
    "            return False\n",
    "    return True"
   ]
  },
  {
   "cell_type": "markdown",
   "metadata": {},
   "source": [
    "---\n",
    "\n",
    "<h3><center>E7 -  Introduction to Programming for Scientists and Engineers</center></h3>\n",
    "\n",
    "<h2><center>Lab session #01-B <br></center></h2>\n",
    "\n",
    "<h1><center>if statements and while loops<br></center></h1>\n",
    "\n",
    "---"
   ]
  },
  {
   "cell_type": "markdown",
   "metadata": {
    "deletable": false,
    "editable": false
   },
   "source": [
    "# Question 1: Counting primes"
   ]
  },
  {
   "cell_type": "markdown",
   "metadata": {
    "deletable": false,
    "editable": false
   },
   "source": [
    "The second cell in this notebook contains a function called `is_prime` that takes as input a positive integer `n` and returns the boolean `True` if that integer is a prime number, and `False` if it is not. Here we will write a function called `count_primes(n)` that will use `is_prime` and will count the number of primes that are less than `n`. \n",
    "\n",
    "For example, if we call `count_primes(6)`, the function should the number 3, since there are 3 prime numbers less than 6, namely 2, 3, and 5 (see a table of primes [here](https://upload.wikimedia.org/wikipedia/commons/5/50/Primencomposite0100.svg)).\n",
    "\n",
    "And if we call `count_primes(7)`, the function should also return 3, since there are still only 3 primes **less** than 7 (note that 7 is a prime, but it is not less than 7).\n",
    "\n",
    "You can use the next cell to play with the `is_prime` function and to work on the `while` loop that will accomplish the goal. "
   ]
  },
  {
   "cell_type": "code",
   "execution_count": null,
   "metadata": {
    "deletable": false,
    "editable": false,
    "execution": {
     "iopub.execute_input": "2024-01-20T22:24:38.198043Z",
     "iopub.status.busy": "2024-01-20T22:24:38.197820Z",
     "iopub.status.idle": "2024-01-20T22:24:38.203755Z",
     "shell.execute_reply": "2024-01-20T22:24:38.202604Z"
    }
   },
   "outputs": [],
   "source": [
    "is_prime(7)"
   ]
  },
  {
   "cell_type": "markdown",
   "metadata": {
    "deletable": false,
    "editable": false
   },
   "source": [
    "Once you are satisfied with your code, you can run the autograder by pasting it into the cell below, between the lines that say \"PASTE AND INDENT YOUR CODE HERE\" and \"DO NOT MODIFY BELOW THIS LINE\". \n",
    "\n",
    "**Note** You should add one level of indentation to your code so that it is part of the body of the `count_primes` function.\n",
    "\n",
    "### Autograded cell:"
   ]
  },
  {
   "cell_type": "code",
   "execution_count": null,
   "metadata": {
    "execution": {
     "iopub.execute_input": "2024-01-20T22:24:38.230340Z",
     "iopub.status.busy": "2024-01-20T22:24:38.230121Z",
     "iopub.status.idle": "2024-01-20T22:24:38.234870Z",
     "shell.execute_reply": "2024-01-20T22:24:38.234370Z"
    },
    "tags": []
   },
   "outputs": [],
   "source": [
    "def count_primes(n):\n",
    "    numprimes=0\n",
    "    ######### PASTE AND INDENT YOUR CODE HERE ##########\n",
    "\n",
    "    ######### DO NOT MODIFY BELOW THIS LINE ###########\n",
    "    return numprimes"
   ]
  },
  {
   "cell_type": "code",
   "execution_count": null,
   "metadata": {
    "deletable": false,
    "editable": false
   },
   "outputs": [],
   "source": [
    "grader.check(\"q1\")"
   ]
  },
  {
   "cell_type": "markdown",
   "metadata": {
    "deletable": false,
    "editable": false
   },
   "source": [
    "# Question 2: Prime gaps"
   ]
  },
  {
   "cell_type": "markdown",
   "metadata": {
    "deletable": false,
    "editable": false
   },
   "source": [
    "The \"[prime gaps](https://en.wikipedia.org/wiki/Prime_gap)\" are the sequence of differences between subsequent primes. The first five values in the prime gaps sequence are\n",
    "1,2,2,4,2 since the first six primes are 2,3,5,7,11,13. That is,\n",
    "+ The first prime gap number is obtained as the difference between the first and second primes: 1 = 3-2\n",
    "+ The second prime gap number is obtained as the difference between the second and third primes: 2 = 5-3\n",
    "\n",
    "and so on. \n",
    "\n",
    "Write a function called `prime_gap(n)` that, given a positive integer `n` returns the `n`th prime gap number. The only function that you are allowed to call from within `prime_gap(n)` is the `is_prime` function defined in this notebook."
   ]
  },
  {
   "cell_type": "code",
   "execution_count": null,
   "metadata": {
    "execution": {
     "iopub.execute_input": "2024-01-20T22:24:38.250223Z",
     "iopub.status.busy": "2024-01-20T22:24:38.250043Z",
     "iopub.status.idle": "2024-01-20T22:24:38.254017Z",
     "shell.execute_reply": "2024-01-20T22:24:38.253455Z"
    },
    "tags": []
   },
   "outputs": [],
   "source": [
    "def prime_gap(n):\n",
    "    gap = None\n",
    "    ######### PASTE AND INDENT YOUR CODE HERE #########\n",
    "    ...\n",
    "    ######### DO NOT MODIFY BELOW THIS LINE ###########\n",
    "    return gap"
   ]
  },
  {
   "cell_type": "code",
   "execution_count": null,
   "metadata": {
    "deletable": false,
    "editable": false
   },
   "outputs": [],
   "source": [
    "grader.check(\"q2\")"
   ]
  },
  {
   "cell_type": "markdown",
   "metadata": {
    "deletable": false,
    "editable": false
   },
   "source": [
    "# Question 3: Estimating $\\pi$"
   ]
  },
  {
   "cell_type": "markdown",
   "metadata": {
    "deletable": false,
    "editable": false
   },
   "source": [
    "The convergent series\n",
    "\n",
    "$$ \\pi = 4 - \\frac{4}{3} + \\frac{4}{5} - \\frac{4}{7} + ... $$\n",
    "\n",
    "known as the *Madhava–Leibniz* series, can be used to estimate $\\pi$ to an arbitrary level of precision. The formal definition of the series reads as follows:\n",
    "$$ \\pi =  \\lim_{n\\rightarrow\\infty} \\sum_{k=0}^{n} a_k$$\n",
    "where each $a_k$ is given by:\n",
    "$$ a_k=(-1)^k \\frac{4}{2k+1}$$\n",
    "\n",
    "Write a code that approximates $\\pi$ using the Madhava–Leibniz series. It should start by setting the total sum (`mysum`) to zero, and then proceed to add a new term $a_k$ to `mysum` in each iteration of a while loop. It should stop when the absolute value of $a_k$ becomes smaller than the given $\\tau$. "
   ]
  },
  {
   "cell_type": "code",
   "execution_count": null,
   "metadata": {
    "execution": {
     "iopub.execute_input": "2024-01-20T22:24:38.278920Z",
     "iopub.status.busy": "2024-01-20T22:24:38.278746Z",
     "iopub.status.idle": "2024-01-20T22:24:38.282319Z",
     "shell.execute_reply": "2024-01-20T22:24:38.281980Z"
    },
    "tags": []
   },
   "outputs": [],
   "source": [
    "def estimate_pi(tau):\n",
    "    mysum = 0\n",
    "    k = 0\n",
    "    ######### PASTE AND INDENT YOUR CODE HERE #########\n",
    "    ...\n",
    "    ######### DO NOT MODIFY BELOW THIS LINE ###########\n",
    "    return mysum"
   ]
  },
  {
   "cell_type": "code",
   "execution_count": null,
   "metadata": {
    "deletable": false,
    "editable": false
   },
   "outputs": [],
   "source": [
    "grader.check(\"q3\")"
   ]
  },
  {
   "cell_type": "markdown",
   "metadata": {
    "deletable": false,
    "editable": false
   },
   "source": [
    "## Submission\n",
    "\n",
    "Make sure you have run all cells in your notebook in order before running the cell below, so that all images/graphs appear in the output. The cell below will generate a zip file for you to submit. **Please save before exporting!**\n",
    "\n",
    "Make sure you submit the .zip file to Gradescope."
   ]
  },
  {
   "cell_type": "code",
   "execution_count": null,
   "metadata": {
    "deletable": false,
    "editable": false
   },
   "outputs": [],
   "source": [
    "# Save your notebook first, then run this cell to export your submission.\n",
    "grader.export(pdf=False)"
   ]
  },
  {
   "cell_type": "markdown",
   "metadata": {},
   "source": [
    " "
   ]
  }
 ],
 "metadata": {
  "anaconda-cloud": {},
  "colab": {
   "provenance": []
  },
  "kernelspec": {
   "display_name": "Python 3 (ipykernel)",
   "language": "python",
   "name": "python3"
  },
  "language_info": {
   "codemirror_mode": {
    "name": "ipython",
    "version": 3
   },
   "file_extension": ".py",
   "mimetype": "text/x-python",
   "name": "python",
   "nbconvert_exporter": "python",
   "pygments_lexer": "ipython3",
   "version": "3.10.12"
  },
  "otter": {
   "OK_FORMAT": true,
   "assignment_name": "lab01B",
   "tests": {
    "q1": {
     "name": "q1",
     "points": null,
     "suites": [
      {
       "cases": [
        {
         "code": ">>> count_primes(6) == 3 and count_primes(7) == 3\nTrue",
         "hidden": false,
         "locked": false,
         "points": 0
        }
       ],
       "scored": true,
       "setup": "",
       "teardown": "",
       "type": "doctest"
      }
     ]
    },
    "q2": {
     "name": "q2",
     "points": null,
     "suites": [
      {
       "cases": [
        {
         "code": ">>> prime_gap(1) == 1\nTrue",
         "hidden": false,
         "locked": false,
         "points": 0
        },
        {
         "code": ">>> prime_gap(2) == 2\nTrue",
         "hidden": false,
         "locked": false,
         "points": 0
        },
        {
         "code": ">>> prime_gap(3) == 2\nTrue",
         "hidden": false,
         "locked": false,
         "points": 0
        },
        {
         "code": ">>> prime_gap(20) == 2\nTrue",
         "hidden": false,
         "locked": false,
         "points": 0
        }
       ],
       "scored": true,
       "setup": "",
       "teardown": "",
       "type": "doctest"
      }
     ]
    },
    "q3": {
     "name": "q3",
     "points": null,
     "suites": [
      {
       "cases": [
        {
         "code": ">>> math.isclose(estimate_pi(0.1), 3.189184782277596, abs_tol=0.01) or math.isclose(estimate_pi(0.1), 3.09162380666784, abs_tol=0.01)\nTrue",
         "hidden": false,
         "locked": false,
         "points": 1
        },
        {
         "code": ">>> math.isclose(estimate_pi(0.001), 3.1420924036835256, abs_tol=0.0001) or math.isclose(estimate_pi(0.001), 3.1410926536210413, abs_tol=0.0001)\nTrue",
         "hidden": false,
         "locked": false,
         "points": 1
        }
       ],
       "scored": true,
       "setup": "",
       "teardown": "",
       "type": "doctest"
      }
     ]
    }
   }
  }
 },
 "nbformat": 4,
 "nbformat_minor": 0
}
