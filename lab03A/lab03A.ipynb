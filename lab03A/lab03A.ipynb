{
 "cells": [
  {
   "cell_type": "code",
   "execution_count": null,
   "metadata": {
    "deletable": false,
    "editable": false
   },
   "outputs": [],
   "source": [
    "# Initialize Otter\n",
    "import otter\n",
    "grader = otter.Notebook(\"lab03A.ipynb\")"
   ]
  },
  {
   "cell_type": "markdown",
   "metadata": {},
   "source": [
    "---\n",
    "\n",
    "<h3><center>E7 -  Introduction to Programming for Scientists and Engineers</center></h3>\n",
    "\n",
    "<h2><center>Lab session #03-A <br></center></h2>\n",
    "\n",
    "<h1><center>Introduction to NumPy arrays<br></center></h1>\n",
    "\n",
    "---"
   ]
  },
  {
   "cell_type": "code",
   "execution_count": null,
   "metadata": {
    "execution": {
     "iopub.execute_input": "2024-02-05T23:54:57.018838Z",
     "iopub.status.busy": "2024-02-05T23:54:57.018653Z",
     "iopub.status.idle": "2024-02-05T23:54:57.371896Z",
     "shell.execute_reply": "2024-02-05T23:54:57.371339Z"
    },
    "id": "PmQ0-tpz9u7g",
    "tags": []
   },
   "outputs": [],
   "source": [
    "from resources.hashutils import *\n",
    "import numpy as np\n",
    "import matplotlib.pyplot as plt"
   ]
  },
  {
   "cell_type": "markdown",
   "metadata": {},
   "source": [
    "# Question 1: Vibrating rod continued\n"
   ]
  },
  {
   "cell_type": "markdown",
   "metadata": {},
   "source": [
    "<img src=\"resources/rod.png\" width=\"700\" />\n",
    "\n",
    "Recall the vibrating rod problem from lab 1-A. There we were given the formula for the position of the tip of the rod $x$, after it been struck with a hammer, as a function of time $t$. \n",
    "\n",
    "$$x(t)=x_0 \\: e^{-at}\\cos(\\omega t)$$\n",
    "\n",
    "And we used Python's arithmetic operators to evaluate the function at some particular times. The problem description also included a plot showing the evolution of $x(t)$ through time:\n",
    "\n",
    "<img src=\"resources/xvt.png\" width=\"600\" />\n",
    "\n",
    "The first step in generating such a plot is to evaluate the formula for $x(t)$ on a grid of time instances. This is what we will do here using NumPy arrays. Then we will use the time and position arrays to answer questions about the vibration. "
   ]
  },
  {
   "cell_type": "markdown",
   "metadata": {
    "deletable": false,
    "editable": false
   },
   "source": [
    "## Question 1.1 -- Coarse time grid"
   ]
  },
  {
   "cell_type": "markdown",
   "metadata": {
    "deletable": false,
    "editable": false,
    "id": "m1IUkyzN9u7h"
   },
   "source": [
    "Use [`np.linspace`](https://numpy.org/doc/stable/reference/generated/numpy.linspace.html) to create an array of 10 evenly-spaced time instances ranging from 0 to 3 seconds. Call this variable `t10`."
   ]
  },
  {
   "cell_type": "code",
   "execution_count": null,
   "metadata": {
    "execution": {
     "iopub.execute_input": "2024-02-05T23:54:57.375042Z",
     "iopub.status.busy": "2024-02-05T23:54:57.374804Z",
     "iopub.status.idle": "2024-02-05T23:54:57.380672Z",
     "shell.execute_reply": "2024-02-05T23:54:57.380170Z"
    },
    "tags": []
   },
   "outputs": [],
   "source": [
    "t10 = ..."
   ]
  },
  {
   "cell_type": "code",
   "execution_count": null,
   "metadata": {
    "execution": {
     "iopub.execute_input": "2024-02-05T23:54:57.410293Z",
     "iopub.status.busy": "2024-02-05T23:54:57.410081Z",
     "iopub.status.idle": "2024-02-05T23:54:57.513480Z",
     "shell.execute_reply": "2024-02-05T23:54:57.512831Z"
    },
    "tags": []
   },
   "outputs": [],
   "source": [
    "# Run this cell to see a visualization of your `t10` array.\n",
    "# Feel free to experiment; this cell is not graded.\n",
    "plt.figure(figsize=(8,2))\n",
    "plt.plot(t10,np.full(t10.shape[0],0),'mo')\n",
    "plt.xlabel('t10')\n",
    "plt.xticks(t10)\n",
    "plt.yticks([])\n",
    "plt.grid()"
   ]
  },
  {
   "cell_type": "code",
   "execution_count": null,
   "metadata": {
    "deletable": false,
    "editable": false
   },
   "outputs": [],
   "source": [
    "grader.check(\"q1p1\")"
   ]
  },
  {
   "cell_type": "markdown",
   "metadata": {
    "deletable": false,
    "editable": false
   },
   "source": [
    "## Question 1.2 -- Coarse positions"
   ]
  },
  {
   "cell_type": "markdown",
   "metadata": {
    "deletable": false,
    "editable": false
   },
   "source": [
    "Evaluate the formula for $x(t)$ with `t10` in place of $t$. This will produce a NumPy array which you should call `x_t10`.\n",
    "\n",
    "**Hint**: Rember to use the NumPy versions of the exponential and cosine functions: [np.exp](https://numpy.org/doc/stable/reference/generated/numpy.exp.html) and [np.cos](https://numpy.org/doc/stable/reference/generated/numpy.cos.html)."
   ]
  },
  {
   "cell_type": "code",
   "execution_count": null,
   "metadata": {
    "execution": {
     "iopub.execute_input": "2024-02-05T23:54:57.528420Z",
     "iopub.status.busy": "2024-02-05T23:54:57.528132Z",
     "iopub.status.idle": "2024-02-05T23:54:57.532373Z",
     "shell.execute_reply": "2024-02-05T23:54:57.531827Z"
    },
    "tags": []
   },
   "outputs": [],
   "source": [
    "x0 = 0.01    # meters\n",
    "omega = 200  # rad/sec\n",
    "a = 1        # 1/sec\n",
    "\n",
    "x_t10 = ..."
   ]
  },
  {
   "cell_type": "code",
   "execution_count": null,
   "metadata": {
    "execution": {
     "iopub.execute_input": "2024-02-05T23:54:57.534359Z",
     "iopub.status.busy": "2024-02-05T23:54:57.534080Z",
     "iopub.status.idle": "2024-02-05T23:54:57.653470Z",
     "shell.execute_reply": "2024-02-05T23:54:57.652896Z"
    },
    "tags": []
   },
   "outputs": [],
   "source": [
    "# Run this cell to see a visualization of your `x_t10` array.\n",
    "# Feel free to experiment; this cell is not graded.\n",
    "plt.figure(figsize=(8,2))\n",
    "plt.plot(t10,x_t10,'-mo')\n",
    "plt.xlabel('t10')\n",
    "plt.ylabel('x_t10')\n",
    "plt.xticks(t10)\n",
    "plt.grid()"
   ]
  },
  {
   "cell_type": "code",
   "execution_count": null,
   "metadata": {
    "deletable": false,
    "editable": false
   },
   "outputs": [],
   "source": [
    "grader.check(\"q1p2\")"
   ]
  },
  {
   "cell_type": "markdown",
   "metadata": {
    "deletable": false,
    "editable": false
   },
   "source": [
    "## Question 1.3 -- Do the same on a fine grid"
   ]
  },
  {
   "cell_type": "markdown",
   "metadata": {
    "deletable": false,
    "editable": false
   },
   "source": [
    "Repeat parts 1.1 and 1.2, but this time use a grid with 1000 points instead of 10, and store the time and position arrays as `t1000` and `x_t1000` respectively. The starting and ending times are still 0 and 3. "
   ]
  },
  {
   "cell_type": "code",
   "execution_count": null,
   "metadata": {
    "execution": {
     "iopub.execute_input": "2024-02-05T23:54:57.667444Z",
     "iopub.status.busy": "2024-02-05T23:54:57.667082Z",
     "iopub.status.idle": "2024-02-05T23:54:57.670895Z",
     "shell.execute_reply": "2024-02-05T23:54:57.670466Z"
    },
    "tags": []
   },
   "outputs": [],
   "source": [
    "t1000 = ...\n",
    "x_t1000 = ..."
   ]
  },
  {
   "cell_type": "code",
   "execution_count": null,
   "metadata": {
    "execution": {
     "iopub.execute_input": "2024-02-05T23:54:57.673068Z",
     "iopub.status.busy": "2024-02-05T23:54:57.672710Z",
     "iopub.status.idle": "2024-02-05T23:54:57.825725Z",
     "shell.execute_reply": "2024-02-05T23:54:57.825239Z"
    },
    "tags": []
   },
   "outputs": [],
   "source": [
    "# Run this cell to see a visualization of the function on both the coarse and fine grids.\n",
    "# Feel free to experiment; this cell is not graded.\n",
    "plt.figure(figsize=(8,2))\n",
    "plt.plot(t1000,x_t1000,'c-',label='fine grid, fast')\n",
    "plt.plot(t10,x_t10,'-mo',label='coarse grid, slow')\n",
    "plt.xlabel('t')\n",
    "plt.ylabel('x')\n",
    "plt.xticks(t10)\n",
    "plt.legend()\n",
    "plt.grid()"
   ]
  },
  {
   "cell_type": "code",
   "execution_count": null,
   "metadata": {
    "deletable": false,
    "editable": false
   },
   "outputs": [],
   "source": [
    "grader.check(\"q1p3\")"
   ]
  },
  {
   "cell_type": "markdown",
   "metadata": {},
   "source": [
    "**Reflection**. We can think of these arrays as *samples* of the system collected at slow and fast rates. The coarse grid represents a slow sampling rate of 10 samples per 3 seconds, which can be written as 3.33 $s^{-1}$. The fine grid is a fast sampling rate of 333 $s^{-1}$. Notice in the plot that the the fast sampler captures the high frequency of the vibration, but this is missed by the slow sampler. "
   ]
  },
  {
   "cell_type": "markdown",
   "metadata": {},
   "source": [
    "# Question 2 -- Settling time"
   ]
  },
  {
   "cell_type": "markdown",
   "metadata": {},
   "source": [
    "How long will it take for the rod to stop moving? \n",
    "\n",
    "We can see from the previous plot that the vibration dissipates, and thus we infer that the rod will eventually  stop moving. But, strictly speaking, the exponential term $e^{-at}$ \"tends to zero asymptotically\", but never reaches absolute rest. To answer the question of when the rod will stop moving, we must define our terms carefully. \n",
    "\n",
    "We will use the total energy $E$ of the rod as a proxy for movement. $E$ is the sum of the rod's potential and kinetic energies. Its formula is given below (without proof).\n",
    "\n",
    "$$ E = \\frac{1}{2}m \\:x_0^2 \\: (\\omega^2 - a^2) \\:e^{-2at} $$\n",
    "\n",
    "$m$ is the mass of the rod, which we assume to be 0.8 Kg. We will say that the rod is *motionless* if its energy is less than a threshold value $\\tau$ which we take to be $10^{-4}$ joules (the SI unit of energy). \n",
    "\n",
    "Your task is to find the settling time `Ts` of the rod, which is defined as the earliest time that the rod is motionless. We will compute this in several steps."
   ]
  },
  {
   "cell_type": "markdown",
   "metadata": {
    "deletable": false,
    "editable": false
   },
   "source": [
    "## Question 2.1: Time array"
   ]
  },
  {
   "cell_type": "markdown",
   "metadata": {
    "deletable": false,
    "editable": false
   },
   "source": [
    "As before, we must first build a time array. The settling time will turn out to be greater than 3 but smaller than 6 seconds. Hence we will use a time array ranging from 0 to 6 seconds. \n",
    "\n",
    "We'll choose the same sampling rate as we did in question 1.3, ie $\\frac{1000}{3}s^{-1}$. This is equivalent to a sampling time *interval* of $\\frac{3}{1000}=0.003$ seconds.\n",
    "\n",
    "Use [`np.arange`](https://numpy.org/doc/stable/reference/generated/numpy.arange.html) to generate the time array just described. Call it `time`. \n",
    "\n",
    "**Note**: The final time instant of 6 seconds should *not* be included in the array."
   ]
  },
  {
   "cell_type": "code",
   "execution_count": null,
   "metadata": {
    "execution": {
     "iopub.execute_input": "2024-02-05T23:54:57.848781Z",
     "iopub.status.busy": "2024-02-05T23:54:57.848562Z",
     "iopub.status.idle": "2024-02-05T23:54:57.852023Z",
     "shell.execute_reply": "2024-02-05T23:54:57.851627Z"
    },
    "tags": []
   },
   "outputs": [],
   "source": [
    "time = ..."
   ]
  },
  {
   "cell_type": "code",
   "execution_count": null,
   "metadata": {
    "deletable": false,
    "editable": false
   },
   "outputs": [],
   "source": [
    "grader.check(\"q2p1\")"
   ]
  },
  {
   "cell_type": "markdown",
   "metadata": {
    "deletable": false,
    "editable": false
   },
   "source": [
    "## Question 2.2 -- Total energy"
   ]
  },
  {
   "cell_type": "markdown",
   "metadata": {
    "deletable": false,
    "editable": false
   },
   "source": [
    "Evaluate the total energy of the rod for values in the `time` array. Store the result as the variable `E`. "
   ]
  },
  {
   "cell_type": "code",
   "execution_count": null,
   "metadata": {
    "execution": {
     "iopub.execute_input": "2024-02-05T23:54:57.865471Z",
     "iopub.status.busy": "2024-02-05T23:54:57.865291Z",
     "iopub.status.idle": "2024-02-05T23:54:57.868953Z",
     "shell.execute_reply": "2024-02-05T23:54:57.868534Z"
    },
    "tags": []
   },
   "outputs": [],
   "source": [
    "m=0.8\n",
    "E = ..."
   ]
  },
  {
   "cell_type": "code",
   "execution_count": null,
   "metadata": {
    "execution": {
     "iopub.execute_input": "2024-02-05T23:54:57.870946Z",
     "iopub.status.busy": "2024-02-05T23:54:57.870777Z",
     "iopub.status.idle": "2024-02-05T23:54:57.991508Z",
     "shell.execute_reply": "2024-02-05T23:54:57.990977Z"
    },
    "tags": []
   },
   "outputs": [],
   "source": [
    "# Run this cell to see a plot of the total energy\n",
    "plt.figure(figsize=(8,2))\n",
    "plt.plot(time,E,'m-',label='total energy (E)')\n",
    "plt.xlabel('t')\n",
    "plt.legend()\n",
    "plt.grid()"
   ]
  },
  {
   "cell_type": "code",
   "execution_count": null,
   "metadata": {
    "deletable": false,
    "editable": false
   },
   "outputs": [],
   "source": [
    "grader.check(\"q2p2\")"
   ]
  },
  {
   "cell_type": "markdown",
   "metadata": {
    "deletable": false,
    "editable": false
   },
   "source": [
    "## Question 2.3 -- Boolean indicator"
   ]
  },
  {
   "cell_type": "markdown",
   "metadata": {
    "deletable": false,
    "editable": false
   },
   "source": [
    "Create a boolean array called `rod_stopped` indicating times where the energy of the rod is less than $\\tau=10^{-4}$ joules. "
   ]
  },
  {
   "cell_type": "code",
   "execution_count": null,
   "metadata": {
    "execution": {
     "iopub.execute_input": "2024-02-05T23:54:58.005518Z",
     "iopub.status.busy": "2024-02-05T23:54:58.005239Z",
     "iopub.status.idle": "2024-02-05T23:54:58.008674Z",
     "shell.execute_reply": "2024-02-05T23:54:58.008229Z"
    },
    "tags": []
   },
   "outputs": [],
   "source": [
    "tau=1e-4\n",
    "\n",
    "rod_stopped = ..."
   ]
  },
  {
   "cell_type": "code",
   "execution_count": null,
   "metadata": {
    "execution": {
     "iopub.execute_input": "2024-02-05T23:54:58.010677Z",
     "iopub.status.busy": "2024-02-05T23:54:58.010524Z",
     "iopub.status.idle": "2024-02-05T23:54:58.141276Z",
     "shell.execute_reply": "2024-02-05T23:54:58.140770Z"
    },
    "tags": []
   },
   "outputs": [],
   "source": [
    "# Run this cell to see a plot of the total energy\n",
    "plt.figure(figsize=(8,2))\n",
    "plt.plot(time[~rod_stopped],E[~rod_stopped],'g-',label='E (not stopped)')\n",
    "plt.plot(time[rod_stopped],E[rod_stopped],'r-',label='E (stopped)')\n",
    "plt.xlabel('t')\n",
    "plt.legend()\n",
    "plt.grid()"
   ]
  },
  {
   "cell_type": "code",
   "execution_count": null,
   "metadata": {
    "deletable": false,
    "editable": false
   },
   "outputs": [],
   "source": [
    "grader.check(\"q2p3\")"
   ]
  },
  {
   "cell_type": "markdown",
   "metadata": {
    "deletable": false,
    "editable": false
   },
   "source": [
    "## Question 2.4 -- Settling time"
   ]
  },
  {
   "cell_type": "markdown",
   "metadata": {
    "deletable": false,
    "editable": false
   },
   "source": [
    "Define the settling time `Ts` (in seconds) as the earliest value of `time` when the `rod_stopped` condition is `True`.\n",
    "\n",
    "**Hint** [np.where](https://numpy.org/doc/stable/reference/generated/numpy.where.html), [np.min](https://numpy.org/doc/stable/reference/generated/numpy.min.html)"
   ]
  },
  {
   "cell_type": "code",
   "execution_count": null,
   "metadata": {
    "execution": {
     "iopub.execute_input": "2024-02-05T23:54:58.155553Z",
     "iopub.status.busy": "2024-02-05T23:54:58.155285Z",
     "iopub.status.idle": "2024-02-05T23:54:58.158716Z",
     "shell.execute_reply": "2024-02-05T23:54:58.158279Z"
    },
    "tags": []
   },
   "outputs": [],
   "source": [
    "Ts = ..."
   ]
  },
  {
   "cell_type": "code",
   "execution_count": null,
   "metadata": {
    "execution": {
     "iopub.execute_input": "2024-02-05T23:54:58.160793Z",
     "iopub.status.busy": "2024-02-05T23:54:58.160532Z",
     "iopub.status.idle": "2024-02-05T23:54:58.314958Z",
     "shell.execute_reply": "2024-02-05T23:54:58.314423Z"
    },
    "tags": []
   },
   "outputs": [],
   "source": [
    "# Run this cell to see a plot of the total energy\n",
    "plt.figure(figsize=(8,2))\n",
    "plt.plot(time[~rod_stopped],E[~rod_stopped],'g-',label='E (not stopped)')\n",
    "plt.plot(time[rod_stopped],E[rod_stopped],'r-',label='E (stopped)')\n",
    "plt.axvline(Ts,color='m',linestyle='--',label=f'settling time={round(Ts,2)} seconds')\n",
    "plt.xlabel('t')\n",
    "plt.legend()\n",
    "plt.grid()"
   ]
  },
  {
   "cell_type": "code",
   "execution_count": null,
   "metadata": {
    "deletable": false,
    "editable": false
   },
   "outputs": [],
   "source": [
    "grader.check(\"q2p4\")"
   ]
  },
  {
   "cell_type": "markdown",
   "metadata": {
    "deletable": false,
    "editable": false
   },
   "source": [
    "## Submission\n",
    "\n",
    "Make sure you have run all cells in your notebook in order before running the cell below, so that all images/graphs appear in the output. The cell below will generate a zip file for you to submit. **Please save before exporting!**\n",
    "\n",
    "Make sure you submit the .zip file to Gradescope."
   ]
  },
  {
   "cell_type": "code",
   "execution_count": null,
   "metadata": {
    "deletable": false,
    "editable": false
   },
   "outputs": [],
   "source": [
    "# Save your notebook first, then run this cell to export your submission.\n",
    "grader.export(pdf=False)"
   ]
  },
  {
   "cell_type": "markdown",
   "metadata": {},
   "source": [
    " "
   ]
  }
 ],
 "metadata": {
  "anaconda-cloud": {},
  "colab": {
   "provenance": []
  },
  "kernelspec": {
   "display_name": "Python 3 (ipykernel)",
   "language": "python",
   "name": "python3"
  },
  "language_info": {
   "codemirror_mode": {
    "name": "ipython",
    "version": 3
   },
   "file_extension": ".py",
   "mimetype": "text/x-python",
   "name": "python",
   "nbconvert_exporter": "python",
   "pygments_lexer": "ipython3",
   "version": "3.10.12"
  },
  "otter": {
   "OK_FORMAT": true,
   "assignment_name": "lab03A",
   "tests": {
    "q1p1": {
     "name": "q1p1",
     "points": null,
     "suites": [
      {
       "cases": [
        {
         "code": ">>> isinstance(t10, np.ndarray) and t10.shape[0] == 10\nTrue",
         "hidden": false,
         "locked": false,
         "points": 0
        },
        {
         "code": ">>> get_hash(t10, 3) == '89a726aafeafa8e59bd62fb0e7fb80ec'\nTrue",
         "hidden": false,
         "locked": false,
         "points": 1
        }
       ],
       "scored": true,
       "setup": "",
       "teardown": "",
       "type": "doctest"
      }
     ]
    },
    "q1p2": {
     "name": "q1p2",
     "points": null,
     "suites": [
      {
       "cases": [
        {
         "code": ">>> isinstance(x_t10, np.ndarray) and x_t10.shape[0] == 10\nTrue",
         "hidden": false,
         "locked": false,
         "points": 0
        },
        {
         "code": ">>> get_hash(x_t10, 2) == '302b35ca49c14e1ca6556728c72a6b4d'\nTrue",
         "hidden": false,
         "locked": false,
         "points": 1
        }
       ],
       "scored": true,
       "setup": "",
       "teardown": "",
       "type": "doctest"
      }
     ]
    },
    "q1p3": {
     "name": "q1p3",
     "points": null,
     "suites": [
      {
       "cases": [
        {
         "code": ">>> isinstance(t1000, np.ndarray) and t1000.shape[0] == 1000 and isinstance(x_t1000, np.ndarray) and (x_t1000.shape[0] == 1000)\nTrue",
         "hidden": false,
         "locked": false,
         "points": 0
        },
        {
         "code": ">>> get_hash(t1000, 3) == 'c0249180f42b45635ecc9f16b1251c7d' and get_hash(x_t1000, 3) == 'f2d728bf87037dfe441592b8afe0036e'\nTrue",
         "hidden": false,
         "locked": false,
         "points": 1
        }
       ],
       "scored": true,
       "setup": "",
       "teardown": "",
       "type": "doctest"
      }
     ]
    },
    "q2p1": {
     "name": "q2p1",
     "points": null,
     "suites": [
      {
       "cases": [
        {
         "code": ">>> isinstance(time, np.ndarray) and time.shape[0] == 2000 and np.isclose(np.diff(time[:2])[0], 0.003)\nTrue",
         "hidden": false,
         "locked": false,
         "points": 0
        },
        {
         "code": ">>> get_hash(time, 4) == 'a2b1c2247d8bb46d761d4060d0d77f17'\nTrue",
         "hidden": false,
         "locked": false,
         "points": 1
        }
       ],
       "scored": true,
       "setup": "",
       "teardown": "",
       "type": "doctest"
      }
     ]
    },
    "q2p2": {
     "name": "q2p2",
     "points": null,
     "suites": [
      {
       "cases": [
        {
         "code": ">>> E.shape[0] == time.shape[0] and np.all(E > 0)\nTrue",
         "hidden": false,
         "locked": false,
         "points": 0
        },
        {
         "code": ">>> get_hash(E, 3) == 'd524c3e3de143811841547e5eefbcee9'\nTrue",
         "hidden": false,
         "locked": false,
         "points": 1
        }
       ],
       "scored": true,
       "setup": "",
       "teardown": "",
       "type": "doctest"
      }
     ]
    },
    "q2p3": {
     "name": "q2p3",
     "points": null,
     "suites": [
      {
       "cases": [
        {
         "code": ">>> len(rod_stopped) == 2000 and (not rod_stopped[0]) and rod_stopped[-1]\nTrue",
         "hidden": false,
         "locked": false,
         "points": 0
        },
        {
         "code": ">>> get_hash(sum(rod_stopped), 3) == '0e40721840b20f18fc4bb7fa39057c55' and get_hash(np.min(np.where(rod_stopped)), 4) == 'dbca0df55e26fd88e8035c642556802c'\nTrue",
         "hidden": false,
         "locked": false,
         "points": 1
        }
       ],
       "scored": true,
       "setup": "",
       "teardown": "",
       "type": "doctest"
      }
     ]
    },
    "q2p4": {
     "name": "q2p4",
     "points": null,
     "suites": [
      {
       "cases": [
        {
         "code": ">>> Ts > 3 and Ts < 5\nTrue",
         "hidden": false,
         "locked": false,
         "points": 0
        },
        {
         "code": ">>> get_hash(Ts, 3) == '40ff40ede6bcd0489906033dd3cbb1f9'\nTrue",
         "hidden": false,
         "locked": false,
         "points": 1
        }
       ],
       "scored": true,
       "setup": "",
       "teardown": "",
       "type": "doctest"
      }
     ]
    }
   }
  }
 },
 "nbformat": 4,
 "nbformat_minor": 0
}
