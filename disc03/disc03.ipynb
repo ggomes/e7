{
 "cells": [
  {
   "cell_type": "markdown",
   "metadata": {},
   "source": [
    "---\n",
    "\n",
    "<h3><center>E7 -  Introduction to Programming for Scientists and Engineers</center></h3>\n",
    "\n",
    "<h2><center>Discussion session #03 <br></center></h2>\n",
    "\n",
    "<h1><center>Loops and comprehensions<br></center></h1>\n",
    "\n",
    "---\n"
   ]
  },
  {
   "cell_type": "code",
   "execution_count": 1,
   "metadata": {},
   "outputs": [],
   "source": [
    "paragraph = '''\n",
    "The snowy plover (Anarhynchus nivosus) is a small shorebird found in much of the \n",
    "Americas on both coasts and inland  Inland populations are migratory  whereas \n",
    "some coastal birds are resident  This plover is brown above and white below  \n",
    "with a white band on the neck  a slender black bill  and gray to black legs  \n",
    "Breeding males have black patches behind the eye and on the neck  The typical \n",
    "call is a repeated \"tu-wheet\"  The bird inhabits open areas with sparse \n",
    "vegetation  like sandy beaches and shores of salt or soda lakes  where it \n",
    "feeds on invertebrates  such as crustaceans  worms  beetles  and flies  Males \n",
    "excavate multiple nest scrapes that are advertised to females  who may be \n",
    "polygamous  The species is listed as near threatened by the IUCN  The main \n",
    "threats are habitat destruction due to invasive beach grasses  urban development  \n",
    "and disturbance due to recreational uses of beaches  While conservation measures \n",
    "have been successful locally  the global population is thought to be in decline \n",
    "'''\n",
    "words = paragraph.lower().split()"
   ]
  },
  {
   "cell_type": "markdown",
   "metadata": {},
   "source": [
    "### How many words does the paragraph contain?"
   ]
  },
  {
   "cell_type": "code",
   "execution_count": null,
   "metadata": {},
   "outputs": [],
   "source": []
  },
  {
   "cell_type": "markdown",
   "metadata": {},
   "source": [
    "### How many *unique* words does the paragraph contain?"
   ]
  },
  {
   "cell_type": "code",
   "execution_count": null,
   "metadata": {},
   "outputs": [],
   "source": []
  },
  {
   "cell_type": "markdown",
   "metadata": {},
   "source": [
    "### Which four-letter words can be found in the paragraph?"
   ]
  },
  {
   "cell_type": "code",
   "execution_count": null,
   "metadata": {},
   "outputs": [],
   "source": []
  },
  {
   "cell_type": "markdown",
   "metadata": {},
   "source": [
    "### What are the indexes all of the four-letter words in the paragraph?"
   ]
  },
  {
   "cell_type": "code",
   "execution_count": null,
   "metadata": {},
   "outputs": [],
   "source": []
  },
  {
   "cell_type": "markdown",
   "metadata": {},
   "source": [
    "### What is the total length of the words in the paragraph that are not four letter words"
   ]
  },
  {
   "cell_type": "code",
   "execution_count": null,
   "metadata": {},
   "outputs": [],
   "source": []
  },
  {
   "cell_type": "markdown",
   "metadata": {},
   "source": [
    "### Count the number of times that each 4-letter word appears in the paragraph"
   ]
  },
  {
   "cell_type": "code",
   "execution_count": null,
   "metadata": {},
   "outputs": [],
   "source": []
  },
  {
   "cell_type": "markdown",
   "metadata": {},
   "source": [
    "### Construct a list of powers of 2 from 0 to 4 inclusive"
   ]
  },
  {
   "cell_type": "code",
   "execution_count": null,
   "metadata": {},
   "outputs": [],
   "source": []
  },
  {
   "cell_type": "markdown",
   "metadata": {},
   "source": [
    "### How many numbers in the list below are multiples of 3?"
   ]
  },
  {
   "cell_type": "code",
   "execution_count": null,
   "metadata": {},
   "outputs": [],
   "source": []
  },
  {
   "cell_type": "markdown",
   "metadata": {},
   "source": [
    "### Find the first number for which there is no multiple in the list"
   ]
  },
  {
   "cell_type": "code",
   "execution_count": null,
   "metadata": {},
   "outputs": [],
   "source": []
  },
  {
   "cell_type": "markdown",
   "metadata": {},
   "source": [
    "### An event planner must choose a location for their event and is considering 4 locations. The width and depths of the four locations are provided (in feet) as a set of tuples. The main criteria is that the lot should measure at least 70,000 sqft. Do any of the lots meet the criteria?"
   ]
  },
  {
   "cell_type": "code",
   "execution_count": 2,
   "metadata": {},
   "outputs": [],
   "source": [
    "lot_dimensions = {\n",
    "    (120,530),\n",
    "    (450,150),\n",
    "    (120,500),\n",
    "    (540,140),\n",
    "    (800,100)\n",
    "}"
   ]
  },
  {
   "cell_type": "markdown",
   "metadata": {},
   "source": [
    "### In addition to area>70000, the ratio of perimeter to area must not exceed 0.02. Do any of the lots meet the criteria?"
   ]
  },
  {
   "cell_type": "code",
   "execution_count": null,
   "metadata": {},
   "outputs": [],
   "source": []
  }
 ],
 "metadata": {
  "kernelspec": {
   "display_name": "e7env",
   "language": "python",
   "name": "python3"
  },
  "language_info": {
   "codemirror_mode": {
    "name": "ipython",
    "version": 3
   },
   "file_extension": ".py",
   "mimetype": "text/x-python",
   "name": "python",
   "nbconvert_exporter": "python",
   "pygments_lexer": "ipython3",
   "version": "3.10.12"
  }
 },
 "nbformat": 4,
 "nbformat_minor": 2
}
