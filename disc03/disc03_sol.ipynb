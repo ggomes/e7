{
 "cells": [
  {
   "cell_type": "markdown",
   "metadata": {},
   "source": [
    "---\n",
    "\n",
    "<h3><center>E7 -  Introduction to Programming for Scientists and Engineers</center></h3>\n",
    "\n",
    "<h2><center>Discussion session #03 <br></center></h2>\n",
    "\n",
    "<h1><center>Loops and comprehensions<br></center></h1>\n",
    "\n",
    "---\n"
   ]
  },
  {
   "cell_type": "code",
   "execution_count": 1,
   "metadata": {},
   "outputs": [],
   "source": [
    "paragraph = '''\n",
    "The snowy plover (Anarhynchus nivosus) is a small shorebird found in much of the \n",
    "Americas on both coasts and inland  Inland populations are migratory  whereas \n",
    "some coastal birds are resident  This plover is brown above and white below  \n",
    "with a white band on the neck  a slender black bill  and gray to black legs  \n",
    "Breeding males have black patches behind the eye and on the neck  The typical \n",
    "call is a repeated \"tu-wheet\"  The bird inhabits open areas with sparse \n",
    "vegetation  like sandy beaches and shores of salt or soda lakes  where it \n",
    "feeds on invertebrates  such as crustaceans  worms  beetles  and flies  Males \n",
    "excavate multiple nest scrapes that are advertised to females  who may be \n",
    "polygamous  The species is listed as near threatened by the IUCN  The main \n",
    "threats are habitat destruction due to invasive beach grasses  urban development  \n",
    "and disturbance due to recreational uses of beaches  While conservation measures \n",
    "have been successful locally  the global population is thought to be in decline \n",
    "'''\n",
    "words = paragraph.lower().split()"
   ]
  },
  {
   "cell_type": "markdown",
   "metadata": {},
   "source": [
    "### How many words does the paragraph contain?"
   ]
  },
  {
   "cell_type": "code",
   "execution_count": 2,
   "metadata": {},
   "outputs": [],
   "source": [
    "len(words);"
   ]
  },
  {
   "cell_type": "markdown",
   "metadata": {},
   "source": [
    "### How many *unique* words does the paragraph contain?"
   ]
  },
  {
   "cell_type": "code",
   "execution_count": 3,
   "metadata": {},
   "outputs": [
    {
     "data": {
      "text/plain": [
       "115"
      ]
     },
     "execution_count": 3,
     "metadata": {},
     "output_type": "execute_result"
    }
   ],
   "source": [
    "len(set(words))"
   ]
  },
  {
   "cell_type": "markdown",
   "metadata": {},
   "source": [
    "### Which four-letter words can be found in the paragraph?"
   ]
  },
  {
   "cell_type": "code",
   "execution_count": 4,
   "metadata": {},
   "outputs": [],
   "source": [
    "fourletterwords = set()\n",
    "for word in words: \n",
    "    if len(word)==4:\n",
    "        fourletterwords.add(word)"
   ]
  },
  {
   "cell_type": "code",
   "execution_count": 5,
   "metadata": {},
   "outputs": [],
   "source": [
    "# As a list comprehension\n",
    "[word for word in words if len(word)==4];"
   ]
  },
  {
   "cell_type": "code",
   "execution_count": 6,
   "metadata": {},
   "outputs": [],
   "source": [
    "# As a set comprehension\n",
    "fourletterwords = {word for word in words if len(word)==4};"
   ]
  },
  {
   "cell_type": "markdown",
   "metadata": {},
   "source": [
    "### What are the indexes all of the four-letter words in the paragraph?"
   ]
  },
  {
   "cell_type": "code",
   "execution_count": 7,
   "metadata": {},
   "outputs": [],
   "source": [
    "indexes = []\n",
    "for i, word in enumerate(words):\n",
    "    if word in fourletterwords:\n",
    "        indexes.append(i)"
   ]
  },
  {
   "cell_type": "code",
   "execution_count": 8,
   "metadata": {},
   "outputs": [],
   "source": [
    "indexes = []\n",
    "for i in range(len(words)):\n",
    "    if words[i] in fourletterwords:\n",
    "        indexes.append(i)"
   ]
  },
  {
   "cell_type": "code",
   "execution_count": 9,
   "metadata": {},
   "outputs": [],
   "source": [
    "indexes = [i for i in range(len(words)) if words[i] in fourletterwords]"
   ]
  },
  {
   "cell_type": "markdown",
   "metadata": {},
   "source": [
    "### What is the total length of the words in the paragraph that are not four letter words"
   ]
  },
  {
   "cell_type": "code",
   "execution_count": 10,
   "metadata": {},
   "outputs": [],
   "source": [
    "totallength = 0\n",
    "for word in words:\n",
    "    if word not in fourletterwords:\n",
    "        totallength += len(word)"
   ]
  },
  {
   "cell_type": "code",
   "execution_count": 11,
   "metadata": {},
   "outputs": [
    {
     "data": {
      "text/plain": [
       "708"
      ]
     },
     "execution_count": 11,
     "metadata": {},
     "output_type": "execute_result"
    }
   ],
   "source": [
    "sum([len(word) for word in words if word not in fourletterwords])"
   ]
  },
  {
   "cell_type": "markdown",
   "metadata": {},
   "source": [
    "### Count the number of times that each 4-letter word appears in the paragraph"
   ]
  },
  {
   "cell_type": "code",
   "execution_count": 12,
   "metadata": {},
   "outputs": [],
   "source": [
    "word2frequency = dict.fromkeys(fourletterwords,0)\n",
    "for word in words:\n",
    "    if word in fourletterwords:\n",
    "        word2frequency[word] += 1"
   ]
  },
  {
   "cell_type": "code",
   "execution_count": 13,
   "metadata": {},
   "outputs": [],
   "source": [
    "# dictionary from 4-letter-word to frequency \n",
    "{word:words.count(word) for word in words if len(word)==4};"
   ]
  },
  {
   "cell_type": "markdown",
   "metadata": {},
   "source": [
    "### Construct a list of powers of 2 from 0 to 4 inclusive"
   ]
  },
  {
   "cell_type": "code",
   "execution_count": 22,
   "metadata": {},
   "outputs": [
    {
     "data": {
      "text/plain": [
       "[1, 2, 4, 8, 16]"
      ]
     },
     "execution_count": 22,
     "metadata": {},
     "output_type": "execute_result"
    }
   ],
   "source": [
    "[2**i for i in range(5)]"
   ]
  },
  {
   "cell_type": "markdown",
   "metadata": {},
   "source": [
    "### How many numbers in the list below are multiples of 3?"
   ]
  },
  {
   "cell_type": "code",
   "execution_count": 23,
   "metadata": {},
   "outputs": [],
   "source": [
    "A = [1,2,3,4,5,6,7,8,9,20,12,14,15,17,18]"
   ]
  },
  {
   "cell_type": "code",
   "execution_count": 24,
   "metadata": {},
   "outputs": [
    {
     "data": {
      "text/plain": [
       "6"
      ]
     },
     "execution_count": 24,
     "metadata": {},
     "output_type": "execute_result"
    }
   ],
   "source": [
    "len([a for a in A if a%3==0])"
   ]
  },
  {
   "cell_type": "code",
   "execution_count": 25,
   "metadata": {},
   "outputs": [
    {
     "data": {
      "text/plain": [
       "6"
      ]
     },
     "execution_count": 25,
     "metadata": {},
     "output_type": "execute_result"
    }
   ],
   "source": [
    "# another way with booleans\n",
    "sum([a%3==0 for a in A])"
   ]
  },
  {
   "cell_type": "markdown",
   "metadata": {},
   "source": [
    "### Find the first number for which there is no multiple in the list"
   ]
  },
  {
   "cell_type": "code",
   "execution_count": 26,
   "metadata": {},
   "outputs": [
    {
     "name": "stdout",
     "output_type": "stream",
     "text": [
      "11\n"
     ]
    }
   ],
   "source": [
    "k=1\n",
    "while True:\n",
    "    if not any([a%k==0 for a in A]):\n",
    "        break\n",
    "    k += 1\n",
    "print(k)"
   ]
  },
  {
   "cell_type": "markdown",
   "metadata": {},
   "source": [
    "### An event planner must choose a location for their event and is considering 4 locations. The width and depths of the four locations are provided (in feet) as a set of tuples. The main criteria is that the lot should measure at least 70,000 sqft. Do any of the lots meet the criteria?"
   ]
  },
  {
   "cell_type": "code",
   "execution_count": 18,
   "metadata": {},
   "outputs": [
    {
     "data": {
      "text/plain": [
       "[(800, 100), (540, 140)]"
      ]
     },
     "execution_count": 18,
     "metadata": {},
     "output_type": "execute_result"
    }
   ],
   "source": [
    "lot_dimensions = {\n",
    "    (120,530),\n",
    "    (450,150),\n",
    "    (120,500),\n",
    "    (540,140),\n",
    "    (800,100)\n",
    "}\n",
    "\n",
    "keeper = list()\n",
    "for lot in lot_dimensions:\n",
    "    area = lot[0]*lot[1]\n",
    "    if area>70000:\n",
    "        keeper.append(lot)\n",
    "keeper"
   ]
  },
  {
   "cell_type": "code",
   "execution_count": 19,
   "metadata": {},
   "outputs": [
    {
     "data": {
      "text/plain": [
       "[(800, 100), (540, 140)]"
      ]
     },
     "execution_count": 19,
     "metadata": {},
     "output_type": "execute_result"
    }
   ],
   "source": [
    "[lot for lot in lot_dimensions if lot[0]*lot[1]>70000]"
   ]
  },
  {
   "cell_type": "code",
   "execution_count": 20,
   "metadata": {},
   "outputs": [
    {
     "data": {
      "text/plain": [
       "[0, 4]"
      ]
     },
     "execution_count": 20,
     "metadata": {},
     "output_type": "execute_result"
    }
   ],
   "source": [
    "[i for i, lot in enumerate(lot_dimensions) if lot[0]*lot[1]>70000]"
   ]
  },
  {
   "cell_type": "markdown",
   "metadata": {},
   "source": [
    "### In addition to area>70000, the ratio of perimeter to area must not exceed 0.02. Do any of the lots meet the criteria?"
   ]
  },
  {
   "cell_type": "code",
   "execution_count": 21,
   "metadata": {},
   "outputs": [
    {
     "name": "stdout",
     "output_type": "stream",
     "text": [
      "80000 0.0225\n",
      "67500 0.017777777777777778\n",
      "60000 0.020666666666666667\n",
      "63600 0.020440251572327043\n",
      "75600 0.01798941798941799\n"
     ]
    },
    {
     "data": {
      "text/plain": [
       "[(540, 140)]"
      ]
     },
     "execution_count": 21,
     "metadata": {},
     "output_type": "execute_result"
    }
   ],
   "source": [
    "lot_dimensions = {\n",
    "    (120,530),\n",
    "    (450,150),\n",
    "    (120,500),\n",
    "    (540,140),\n",
    "    (800,100)\n",
    "}\n",
    "\n",
    "keeper = list()\n",
    "for lot in lot_dimensions:\n",
    "    area = lot[0]*lot[1]\n",
    "    perm = 2*(lot[0]+lot[1])\n",
    "    print(area,perm/area)\n",
    "    if area>70000 and perm/area<0.02:\n",
    "        keeper.append(lot)\n",
    "keeper"
   ]
  }
 ],
 "metadata": {
  "kernelspec": {
   "display_name": "e7env",
   "language": "python",
   "name": "python3"
  },
  "language_info": {
   "codemirror_mode": {
    "name": "ipython",
    "version": 3
   },
   "file_extension": ".py",
   "mimetype": "text/x-python",
   "name": "python",
   "nbconvert_exporter": "python",
   "pygments_lexer": "ipython3",
   "version": "3.10.12"
  }
 },
 "nbformat": 4,
 "nbformat_minor": 2
}
